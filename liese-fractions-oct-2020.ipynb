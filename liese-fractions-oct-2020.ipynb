{
 "cells": [
  {
   "cell_type": "code",
   "execution_count": null,
   "metadata": {},
   "outputs": [],
   "source": [
    "import pyfcctab\n",
    "import copy\n",
    "import matplotlib.pyplot as plt\n",
    "import astropy.units as units"
   ]
  },
  {
   "cell_type": "code",
   "execution_count": null,
   "metadata": {},
   "outputs": [],
   "source": [
    "%config InlineBackend.figure_format = 'retina'\n",
    "# from astropy.visualization import quantity_support\n",
    "# quantity_support()"
   ]
  },
  {
   "cell_type": "code",
   "execution_count": null,
   "metadata": {},
   "outputs": [],
   "source": [
    "tables = pyfcctab.read()"
   ]
  },
  {
   "cell_type": "code",
   "execution_count": null,
   "metadata": {},
   "outputs": [],
   "source": [
    "bands = tables.r2\n",
    "ranges = [\n",
    "    [0*units.GHz, 100*units.GHz],\n",
    "    [100*units.GHz, 275*units.GHz],\n",
    "]\n",
    "services = [\"Fixed\", \"Radio Astronomy\", \"Earth Exploration-Satellite (Passive)\"]\n",
    "footnotes = [\"5.340\"]"
   ]
  },
  {
   "cell_type": "code",
   "execution_count": null,
   "metadata": {},
   "outputs": [],
   "source": [
    "for range in ranges:\n",
    "    print (f\"----------------- For {range[0]} to {range[1]}\")\n",
    "    for selection in services + footnotes:\n",
    "        if selection in footnotes:\n",
    "            condition = lambda b: b.has_footnote(selection)\n",
    "        else:\n",
    "            condition = lambda b: b.has_allocation(selection+\"*\", primary=True)\n",
    "            \n",
    "        subset = bands.get_bands(range[0], range[1], condition=condition)                                 \n",
    "        total_bandwidth = range[1] - range[0]\n",
    "        allocated_bandwidth = sum([band.bandwidth for band in subset]).to(units.GHz)\n",
    "        print (f\"{selection} has {allocated_bandwidth:.1f} out of {total_bandwidth:.1f}\" +\n",
    "              f\" ({100.0*allocated_bandwidth/total_bandwidth:.1f}%)\")"
   ]
  },
  {
   "cell_type": "code",
   "execution_count": null,
   "metadata": {},
   "outputs": [],
   "source": []
  }
 ],
 "metadata": {
  "kernelspec": {
   "display_name": "Python 3",
   "language": "python",
   "name": "python3"
  },
  "language_info": {
   "codemirror_mode": {
    "name": "ipython",
    "version": 3
   },
   "file_extension": ".py",
   "mimetype": "text/x-python",
   "name": "python",
   "nbconvert_exporter": "python",
   "pygments_lexer": "ipython3",
   "version": "3.9.5"
  }
 },
 "nbformat": 4,
 "nbformat_minor": 4
}
