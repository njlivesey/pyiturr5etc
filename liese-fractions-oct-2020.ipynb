{
 "cells": [
  {
   "cell_type": "code",
   "execution_count": 1,
   "metadata": {},
   "outputs": [],
   "source": [
    "import pyfcctab\n",
    "import copy\n",
    "import matplotlib.pyplot as plt\n",
    "import astropy.units as units"
   ]
  },
  {
   "cell_type": "code",
   "execution_count": 2,
   "metadata": {},
   "outputs": [],
   "source": [
    "%config InlineBackend.figure_format = 'retina'\n",
    "# from astropy.visualization import quantity_support\n",
    "# quantity_support()"
   ]
  },
  {
   "cell_type": "code",
   "execution_count": 3,
   "metadata": {},
   "outputs": [
    {
     "name": "stdout",
     "output_type": "stream",
     "text": [
      "Reading tables: 0, 1, 2, 3, 4, 5, 6, 7, 8, 9, 10, 11, 12, 13, 14, 15, 16, 17, 18, 19, 20, 21, 22, 23, 24, 25, 26, 27, 28, 29, 30, 31, 32, 33, 34, 35, 36, 37, 38, 39, 40, 41, 42, 43, 44, 45, 46, 47, 48, 49, 50, 51, 52, 53, 54, 55, 56, 57, 58, 59, 60, 61, 62, 63, 64, done.\n",
      "Digesting: R1, R2, R3, F, NF, done.\n",
      "Injecting additions in: ITU-R1, ITU-R2, ITU-R3, F, NF, done.\n",
      "Merging: ITU, USA, all, done.\n",
      "Footnote definitions: reading, appending, done.\n"
     ]
    }
   ],
   "source": [
    "tables = pyfcctab.read()"
   ]
  },
  {
   "cell_type": "code",
   "execution_count": 37,
   "metadata": {},
   "outputs": [],
   "source": [
    "bands = tables.r2\n",
    "ranges = [\n",
    "    [0*units.GHz, 100*units.GHz],\n",
    "    [100*units.GHz, 275*units.GHz],\n",
    "]\n",
    "services = [\"Fixed\", \"Radio Astronomy\", \"Earth Exploration-Satellite (Passive)\"]\n",
    "footnotes = [\"5.340\"]"
   ]
  },
  {
   "cell_type": "code",
   "execution_count": 40,
   "metadata": {},
   "outputs": [
    {
     "name": "stdout",
     "output_type": "stream",
     "text": [
      "----------------- For 0.0 GHz to 100.0 GHz\n",
      "Fixed has 65.6 GHz out of 100.0 GHz (65.6%)\n",
      "Radio Astronomy has 29.6 GHz out of 100.0 GHz (29.6%)\n",
      "Earth Exploration-Satellite (Passive) has 15.7 GHz out of 100.0 GHz (15.7%)\n",
      "5.340 has 10.9 GHz out of 100.0 GHz (10.9%)\n",
      "----------------- For 100.0 GHz to 275.0 GHz\n",
      "Fixed has 107.2 GHz out of 175.0 GHz (61.3%)\n",
      "Radio Astronomy has 112.0 GHz out of 175.0 GHz (64.0%)\n",
      "Earth Exploration-Satellite (Passive) has 57.8 GHz out of 175.0 GHz (33.0%)\n",
      "5.340 has 33.4 GHz out of 175.0 GHz (19.1%)\n"
     ]
    }
   ],
   "source": [
    "for range in ranges:\n",
    "    print (f\"----------------- For {range[0]} to {range[1]}\")\n",
    "    for selection in services + footnotes:\n",
    "        if selection in footnotes:\n",
    "            condition = lambda b: b.has_footnote(selection)\n",
    "        else:\n",
    "            condition = lambda b: b.has_allocation(selection+\"*\", primary=True)\n",
    "            \n",
    "        subset = bands.get_bands(range[0], range[1], condition=condition)                                 \n",
    "        total_bandwidth = range[1] - range[0]\n",
    "        allocated_bandwidth = sum([band.bandwidth for band in subset]).to(units.GHz)\n",
    "        print (f\"{selection} has {allocated_bandwidth:.1f} out of {total_bandwidth:.1f}\" +\n",
    "              f\" ({100.0*allocated_bandwidth/total_bandwidth:.1f}%)\")"
   ]
  },
  {
   "cell_type": "code",
   "execution_count": null,
   "metadata": {},
   "outputs": [],
   "source": []
  }
 ],
 "metadata": {
  "kernelspec": {
   "display_name": "Python 3",
   "language": "python",
   "name": "python3"
  },
  "language_info": {
   "codemirror_mode": {
    "name": "ipython",
    "version": 3
   },
   "file_extension": ".py",
   "mimetype": "text/x-python",
   "name": "python",
   "nbconvert_exporter": "python",
   "pygments_lexer": "ipython3",
   "version": "3.7.6"
  }
 },
 "nbformat": 4,
 "nbformat_minor": 4
}
