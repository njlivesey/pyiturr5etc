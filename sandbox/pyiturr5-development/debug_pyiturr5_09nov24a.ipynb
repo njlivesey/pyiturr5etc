{
 "cells": [
  {
   "cell_type": "code",
   "execution_count": null,
   "id": "1158ddca-09a1-4437-85a5-4216b32d7f93",
   "metadata": {
    "tags": []
   },
   "outputs": [],
   "source": [
    "# fmt: off\n",
    "%matplotlib inline\n",
    "%config InlineBackend.figure_format = \"retina\"\n",
    "%load_ext autoreload\n",
    "%load_ext jupyter_black\n",
    "import numpy as np\n",
    "import matplotlib\n",
    "import matplotlib.pyplot as plt\n",
    "import pickle\n",
    "from njl_corf import ureg\n",
    "plt.style.use(\"mls_scf\")\n",
    "def vdir(obj):\n",
    "    return [x for x in dir(obj) if not x.startswith('__')]"
   ]
  },
  {
   "cell_type": "code",
   "execution_count": null,
   "id": "b0376436-e365-4a2f-b7a4-2318cecd4271",
   "metadata": {
    "tags": []
   },
   "outputs": [],
   "source": [
    "import pdfplumber\n",
    "import itertools"
   ]
  },
  {
   "cell_type": "code",
   "execution_count": null,
   "id": "87148732-e5ff-4975-9628-58613994796c",
   "metadata": {
    "tags": []
   },
   "outputs": [],
   "source": [
    "%autoreload 2"
   ]
  },
  {
   "cell_type": "code",
   "execution_count": null,
   "id": "c2c9b681-5418-4095-8c3c-d467f6dd6e3c",
   "metadata": {
    "tags": []
   },
   "outputs": [],
   "source": [
    "import njl_corf.pyiturr5 as rr"
   ]
  },
  {
   "cell_type": "code",
   "execution_count": null,
   "id": "a0c31e57-9bb1-4694-a52d-a05db588ee4f",
   "metadata": {
    "tags": []
   },
   "outputs": [],
   "source": [
    "data = rr.parse_rr_file()"
   ]
  },
  {
   "cell_type": "code",
   "execution_count": null,
   "id": "c1926b5e-1672-4141-8341-3a3efb1abcf6",
   "metadata": {
    "tags": []
   },
   "outputs": [],
   "source": [
    "data.collections[\"ITU\"][1.4 * ureg.GHz]"
   ]
  },
  {
   "cell_type": "code",
   "execution_count": null,
   "id": "60b625a6-1d7e-4638-bdf4-add1796ffd47",
   "metadata": {
    "tags": []
   },
   "outputs": [],
   "source": [
    "band"
   ]
  },
  {
   "cell_type": "code",
   "execution_count": null,
   "id": "5539b9eb-a508-4c44-861f-022b79fc8e69",
   "metadata": {
    "tags": []
   },
   "outputs": [],
   "source": [
    "data.footnote_definitions[\"5.341\"]"
   ]
  },
  {
   "cell_type": "code",
   "execution_count": null,
   "id": "b0edb97b-c787-4e26-83a0-8893656e3523",
   "metadata": {},
   "outputs": [],
   "source": []
  }
 ],
 "metadata": {
  "kernelspec": {
   "display_name": "njl-base-3.10-24may23",
   "language": "python",
   "name": "njl-base-3.10-24may23"
  },
  "language_info": {
   "codemirror_mode": {
    "name": "ipython",
    "version": 3
   },
   "file_extension": ".py",
   "mimetype": "text/x-python",
   "name": "python",
   "nbconvert_exporter": "python",
   "pygments_lexer": "ipython3",
   "version": "3.10.12"
  }
 },
 "nbformat": 4,
 "nbformat_minor": 5
}
