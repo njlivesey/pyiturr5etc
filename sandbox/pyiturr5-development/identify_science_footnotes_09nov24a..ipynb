{
 "cells": [
  {
   "cell_type": "code",
   "execution_count": null,
   "id": "a1e3875f-590f-472f-ab58-8c46d27007f7",
   "metadata": {
    "tags": []
   },
   "outputs": [],
   "source": [
    "# fmt: off\n",
    "%matplotlib inline\n",
    "%config InlineBackend.figure_format = \"retina\"\n",
    "%load_ext autoreload\n",
    "%load_ext jupyter_black\n",
    "import numpy as np\n",
    "import matplotlib\n",
    "import matplotlib.pyplot as plt\n",
    "import pickle\n",
    "from njl_corf import ureg\n",
    "plt.style.use(\"mls_scf\")\n",
    "def vdir(obj):\n",
    "    return [x for x in dir(obj) if not x.startswith('__')]\n"
   ]
  },
  {
   "cell_type": "code",
   "execution_count": null,
   "id": "40bded6d-6c55-48de-be24-0a3a446a81f8",
   "metadata": {
    "tags": []
   },
   "outputs": [],
   "source": [
    "%autoreload 2"
   ]
  },
  {
   "cell_type": "code",
   "execution_count": null,
   "id": "39e5c0e9-c6fc-4e46-8163-75487a7c2fbb",
   "metadata": {
    "tags": []
   },
   "outputs": [],
   "source": [
    "import njl_corf.pyiturr5 as rr"
   ]
  },
  {
   "cell_type": "code",
   "execution_count": null,
   "id": "eb91c9f2-0b86-407d-95e7-abdc51b05b61",
   "metadata": {
    "tags": []
   },
   "outputs": [],
   "source": [
    "database = rr.parse_rr_file()"
   ]
  },
  {
   "cell_type": "code",
   "execution_count": null,
   "id": "a73a487b-784f-4da9-8dfb-a5ebd5d683f1",
   "metadata": {
    "tags": []
   },
   "outputs": [],
   "source": [
    "for footnote, definition in database.footnote_definitions.items():\n",
    "    lower_definition = definition.lower()\n",
    "    flags = []\n",
    "    if \"astronomy\" in lower_definition:\n",
    "        flags.append(\"RAS\")\n",
    "    if \"exploration-satellite\" in lower_definition:\n",
    "        flags.append(\"EESS\")\n",
    "    if \"passive\" in lower_definition:\n",
    "        flags.append(\"passive\")\n",
    "    if flags:\n",
    "        print(\"-\" * 80)\n",
    "        print(f\"{'/'.join(flags)} - {footnote}: {definition}\")"
   ]
  },
  {
   "cell_type": "code",
   "execution_count": null,
   "id": "fe4baae4-167f-482e-aa76-fc208df65943",
   "metadata": {
    "tags": []
   },
   "outputs": [],
   "source": [
    "database.footnote_definitions[\"5.437\"]"
   ]
  },
  {
   "cell_type": "code",
   "execution_count": null,
   "id": "f09dc10a-31d5-47e4-8a49-c88ac417f01b",
   "metadata": {},
   "outputs": [],
   "source": []
  }
 ],
 "metadata": {
  "kernelspec": {
   "display_name": "njl-base-3.10-24may23",
   "language": "python",
   "name": "njl-base-3.10-24may23"
  },
  "language_info": {
   "codemirror_mode": {
    "name": "ipython",
    "version": 3
   },
   "file_extension": ".py",
   "mimetype": "text/x-python",
   "name": "python",
   "nbconvert_exporter": "python",
   "pygments_lexer": "ipython3",
   "version": "3.10.12"
  }
 },
 "nbformat": 4,
 "nbformat_minor": 5
}
