{
 "cells": [
  {
   "cell_type": "code",
   "execution_count": null,
   "id": "1158ddca-09a1-4437-85a5-4216b32d7f93",
   "metadata": {
    "tags": []
   },
   "outputs": [],
   "source": [
    "# fmt: off\n",
    "%matplotlib inline\n",
    "%config InlineBackend.figure_format = \"retina\"\n",
    "%load_ext autoreload\n",
    "%load_ext jupyter_black\n",
    "import numpy as np\n",
    "import matplotlib\n",
    "import matplotlib.pyplot as plt\n",
    "import pickle\n",
    "from njl_corf import ureg\n",
    "plt.style.use(\"mls_scf\")\n",
    "def vdir(obj):\n",
    "    return [x for x in dir(obj) if not x.startswith('__')]"
   ]
  },
  {
   "cell_type": "code",
   "execution_count": null,
   "id": "87148732-e5ff-4975-9628-58613994796c",
   "metadata": {
    "tags": []
   },
   "outputs": [],
   "source": [
    "%autoreload 2"
   ]
  },
  {
   "cell_type": "code",
   "execution_count": null,
   "id": "c2c9b681-5418-4095-8c3c-d467f6dd6e3c",
   "metadata": {
    "tags": []
   },
   "outputs": [],
   "source": [
    "import njl_corf.pyiturr5 as rr"
   ]
  },
  {
   "cell_type": "code",
   "execution_count": null,
   "id": "a4261cae-d8ba-49dd-b224-2ef105bb3416",
   "metadata": {
    "tags": []
   },
   "outputs": [],
   "source": [
    "vdir(rr)"
   ]
  },
  {
   "cell_type": "code",
   "execution_count": null,
   "id": "6c1ed8bc-2407-49fb-8067-0e669360aaf2",
   "metadata": {},
   "outputs": [],
   "source": []
  }
 ],
 "metadata": {
  "kernelspec": {
   "display_name": "njl-base-3.10-24may23",
   "language": "python",
   "name": "njl-base-3.10-24may23"
  },
  "language_info": {
   "codemirror_mode": {
    "name": "ipython",
    "version": 3
   },
   "file_extension": ".py",
   "mimetype": "text/x-python",
   "name": "python",
   "nbconvert_exporter": "python",
   "pygments_lexer": "ipython3",
   "version": "3.10.12"
  }
 },
 "nbformat": 4,
 "nbformat_minor": 5
}
