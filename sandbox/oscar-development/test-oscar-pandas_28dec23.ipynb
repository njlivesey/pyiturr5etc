{
 "cells": [
  {
   "cell_type": "code",
   "execution_count": null,
   "id": "a8259b8d-9e46-4468-80d4-228c6921e92e",
   "metadata": {
    "tags": []
   },
   "outputs": [],
   "source": [
    "# fmt: off\n",
    "%matplotlib inline\n",
    "%config InlineBackend.figure_format = \"retina\"\n",
    "%load_ext autoreload\n",
    "%load_ext jupyter_black\n",
    "import numpy as np\n",
    "import matplotlib\n",
    "import matplotlib.pyplot as plt\n",
    "import pickle\n",
    "# from mls_scf_tools.mls_pint import ureg\n",
    "plt.style.use(\"mls_scf\")\n",
    "def vdir(obj):\n",
    "    return [x for x in dir(obj) if not x.startswith('__')]\n"
   ]
  },
  {
   "cell_type": "code",
   "execution_count": null,
   "id": "562b8f0c-b4d8-4bd8-a90f-8f2e09a01d63",
   "metadata": {
    "tags": []
   },
   "outputs": [],
   "source": [
    "%autoreload 2\n",
    "from njl_corf import pyoscar, ureg"
   ]
  },
  {
   "cell_type": "code",
   "execution_count": null,
   "id": "aef8904b-bec6-4f77-9789-ac2a628583d8",
   "metadata": {
    "tags": []
   },
   "outputs": [],
   "source": [
    "data = pyoscar.read()"
   ]
  },
  {
   "cell_type": "code",
   "execution_count": null,
   "id": "8da06850-178b-4882-8422-805bb5c54bf3",
   "metadata": {
    "tags": []
   },
   "outputs": [],
   "source": [
    "data[1520 * ureg.MHz : 1540 * ureg.MHz]"
   ]
  },
  {
   "cell_type": "code",
   "execution_count": null,
   "id": "3aa5e5a4-b9a2-4ceb-8fda-5d2f04b2c581",
   "metadata": {},
   "outputs": [],
   "source": []
  }
 ],
 "metadata": {
  "kernelspec": {
   "display_name": "njl-base-3.10-24may23",
   "language": "python",
   "name": "njl-base-3.10-24may23"
  },
  "language_info": {
   "codemirror_mode": {
    "name": "ipython",
    "version": 3
   },
   "file_extension": ".py",
   "mimetype": "text/x-python",
   "name": "python",
   "nbconvert_exporter": "python",
   "pygments_lexer": "ipython3",
   "version": "3.10.12"
  }
 },
 "nbformat": 4,
 "nbformat_minor": 5
}
