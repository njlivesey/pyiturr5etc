{
 "cells": [
  {
   "cell_type": "code",
   "execution_count": null,
   "id": "2563304b-11ae-41e1-bb8d-a3ca334580d3",
   "metadata": {},
   "outputs": [],
   "source": [
    "# fmt: off\n",
    "%matplotlib inline\n",
    "%config InlineBackend.figure_format = \"retina\"\n",
    "%load_ext autoreload\n",
    "%load_ext jupyter_black\n",
    "import numpy as np\n",
    "import matplotlib\n",
    "import matplotlib.pyplot as plt\n",
    "import pickle\n",
    "from mls_scf_tools.mls_pint import ureg\n",
    "# plt.style.use(\"mls_scf\")\n",
    "def vdir(obj):\n",
    "    return [x for x in dir(obj) if not x.startswith('__')]\n",
    "# fmt: on"
   ]
  },
  {
   "cell_type": "code",
   "execution_count": null,
   "id": "036abf5f-6847-47f3-b33e-17b298d339f1",
   "metadata": {},
   "outputs": [],
   "source": [
    "import pandas as pd\n",
    "from dataclasses import dataclass\n",
    "import pint\n",
    "import intervaltree\n",
    "import math"
   ]
  },
  {
   "cell_type": "code",
   "execution_count": null,
   "id": "0cf24c7b-4869-42e2-8293-6fb43a64aa1f",
   "metadata": {
    "tags": []
   },
   "outputs": [],
   "source": [
    "ureg = pint.UnitRegistry()\n",
    "pint.set_application_registry(ureg)"
   ]
  },
  {
   "cell_type": "code",
   "execution_count": null,
   "id": "567538a5-959d-4b5e-b8f3-ecdcc612941d",
   "metadata": {},
   "outputs": [],
   "source": [
    "raw_data = pd.read_excel(\n",
    "    \"/users/livesey/corf/data/Oscar-Satellite-Frequencies-Earth-observation-MW-frequencies-2023-11-14.xlsx\"\n",
    ")"
   ]
  },
  {
   "cell_type": "code",
   "execution_count": null,
   "id": "594b4d17-36b9-4b92-9d7a-9255ccd4129b",
   "metadata": {},
   "outputs": [],
   "source": [
    "raw_data"
   ]
  },
  {
   "cell_type": "code",
   "execution_count": null,
   "id": "b68972b3-a36b-4260-84df-f15dac30151f",
   "metadata": {
    "tags": []
   },
   "outputs": [],
   "source": [
    "raw_data.loc[raw_data[\"Id\"] == 3956, \"Bandwidth (MHz)\"].astype(str)"
   ]
  },
  {
   "cell_type": "code",
   "execution_count": null,
   "id": "6648fda7-a850-4a0c-97ed-8511d824b5b0",
   "metadata": {},
   "outputs": [],
   "source": [
    "frequency_ranges = raw_data[\"Frequency (GHz)\"].str.split(\"-\", expand=True)\n",
    "lower_limit = (\n",
    "    frequency_ranges[0]\n",
    "    .str.strip()\n",
    "    .str.split(\" \", expand=True)[0]\n",
    "    .str.strip()\n",
    "    .astype(float)\n",
    ")\n",
    "upper_limit = (\n",
    "    frequency_ranges[1]\n",
    "    .str.strip()\n",
    "    .str.split(\" \", expand=True)[0]\n",
    "    .str.strip()\n",
    "    .astype(float)\n",
    ")\n",
    "range_based_bandwidth = np.abs(upper_limit - lower_limit)"
   ]
  },
  {
   "cell_type": "code",
   "execution_count": null,
   "id": "b7eb72a0-f1ef-4c36-8c2c-67e297d59c9a",
   "metadata": {},
   "outputs": [],
   "source": [
    "data = raw_data.copy()\n",
    "data[\"Frequency start\"] = lower_limit\n",
    "data[\"Frequency stop\"] = upper_limit\n",
    "data.loc[data[\"Frequency stop\"].isnull(), \"Frequency stop\"] = data[\"Frequency start\"]"
   ]
  },
  {
   "cell_type": "code",
   "execution_count": null,
   "id": "077ae19e-39fc-4cc6-bb31-e07bb2e19b39",
   "metadata": {
    "tags": []
   },
   "outputs": [],
   "source": [
    "raw_data.loc[raw_data[\"Bandwidth (MHz)\"] == \"-\"]"
   ]
  },
  {
   "cell_type": "code",
   "execution_count": null,
   "id": "c397c7ea-0be7-48b5-a4ec-432d53a473aa",
   "metadata": {},
   "outputs": [],
   "source": [
    "bandwidth = data[\"Bandwidth (MHz)\"].copy().astype(str).str.strip()\n",
    "# .loc[data[\"Bandwidth (MHz)\"] != \"N/R\", \"Bandwidth (MHz)\"].str.split(\n",
    "#    \" \", expand=True\n",
    "# )[0]\n",
    "bandwidth.loc[\n",
    "    (bandwidth == \"N/R\") | (bandwidth == \"-\") | (bandwidth == \"nan\")\n",
    "] = \"0 MHz\"\n",
    "bandwidth_value = (\n",
    "    bandwidth.str.split(\" \", expand=True)[0].str.strip().astype(float) / 1e3\n",
    ")\n",
    "# Check that there is no confusion\n",
    "questionable_row_flags = (bandwidth_value != 0) & (range_based_bandwidth > 1e-4)\n",
    "#\n",
    "display(\n",
    "    raw_data[questionable_row_flags]\n",
    ")  # , caption=\"Entries with redundant bandwidth inforamation\")\n",
    "# bandwidth_value[questionable_row_flags].to_list()\n",
    "data.loc[~questionable_row_flags, \"Frequency start\"] -= (\n",
    "    0.5 * bandwidth_value[~questionable_row_flags]\n",
    ")\n",
    "data.loc[~questionable_row_flags, \"Frequency stop\"] += (\n",
    "    0.5 * bandwidth_value[~questionable_row_flags]\n",
    ")"
   ]
  },
  {
   "cell_type": "code",
   "execution_count": null,
   "id": "809e5994-a4d6-4982-9e9f-d0a4fe4af4a8",
   "metadata": {
    "tags": []
   },
   "outputs": [],
   "source": [
    "subset = data.loc[(data[\"Frequency start\"] > 200) & (data[\"Frequency stop\"] < 220)]"
   ]
  },
  {
   "cell_type": "code",
   "execution_count": null,
   "id": "62171470-6106-4984-a8c6-34e7d04ef3fb",
   "metadata": {},
   "outputs": [],
   "source": [
    "@dataclass\n",
    "class OscarEntry:\n",
    "    bounds: slice\n",
    "    oscar_id: int\n",
    "    satellite: str\n",
    "    space_agency: str\n",
    "    launch: str\n",
    "    eol: str\n",
    "    service: str\n",
    "    sensing_mode: str\n",
    "    nominal_frequency: str\n",
    "    bandwidth: str\n",
    "    polarization: str\n",
    "    comment: str\n",
    "\n",
    "    def __post_init__(self):\n",
    "        \"\"\"Just some tidying up after definition\"\"\"\n",
    "        if self.bounds.stop == self.bounds.start:\n",
    "            delta = (\n",
    "                math.sqrt(math.ulp(self.bounds.stop.magnitude)) * self.bounds.stop.units\n",
    "            )\n",
    "            self.bounds = slice(self.bounds.start, self.bounds.stop + delta)\n",
    "\n",
    "\n",
    "database = intervaltree.IntervalTree()\n",
    "for row in data.to_dict(\"records\"):\n",
    "    entry = OscarEntry(\n",
    "        bounds=slice(\n",
    "            row[\"Frequency start\"] * ureg.GHz, row[\"Frequency stop\"] * ureg.GHz\n",
    "        ),\n",
    "        oscar_id=int(row[\"Id\"]),\n",
    "        satellite=row[\"Satellite\"],\n",
    "        space_agency=row[\"Space Agency\"],\n",
    "        launch=row[\"Launch \"],\n",
    "        eol=row[\"Eol\"],\n",
    "        service=row[\"Service\"],\n",
    "        sensing_mode=row[\"Sensing mode\"],\n",
    "        nominal_frequency=row[\"Frequency (GHz)\"],\n",
    "        bandwidth=row[\"Bandwidth (MHz)\"],\n",
    "        polarization=row[\"Polarisation\"],\n",
    "        comment=row[\"Comment\"],\n",
    "    )\n",
    "    database[entry.bounds] = entry"
   ]
  },
  {
   "cell_type": "code",
   "execution_count": null,
   "id": "7405ce78-67fa-4387-9493-680ec514bb5e",
   "metadata": {},
   "outputs": [],
   "source": [
    "services = sorted(list(set([entry.data.service for entry in database])))\n",
    "print(len(database))\n",
    "print(services)"
   ]
  },
  {
   "cell_type": "code",
   "execution_count": null,
   "id": "cb912ead-d852-48c5-93e8-05aaa7f7db8c",
   "metadata": {
    "tags": []
   },
   "outputs": [],
   "source": [
    "for service in services:\n",
    "    entries = [entry for entry in database if entry.data.service == service]\n",
    "    if service == \"MLS\":\n",
    "        print([entry.data.satellite for entry in entries])"
   ]
  },
  {
   "cell_type": "code",
   "execution_count": null,
   "id": "c9d9561c-c7e2-42bf-b08f-210f71d15de1",
   "metadata": {},
   "outputs": [],
   "source": []
  }
 ],
 "metadata": {
  "kernelspec": {
   "display_name": "njl-base-3.10-24may23",
   "language": "python",
   "name": "njl-base-3.10-24may23"
  },
  "language_info": {
   "codemirror_mode": {
    "name": "ipython",
    "version": 3
   },
   "file_extension": ".py",
   "mimetype": "text/x-python",
   "name": "python",
   "nbconvert_exporter": "python",
   "pygments_lexer": "ipython3",
   "version": "3.10.12"
  }
 },
 "nbformat": 4,
 "nbformat_minor": 5
}
