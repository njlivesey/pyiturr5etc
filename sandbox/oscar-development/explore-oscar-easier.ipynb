{
 "cells": [
  {
   "cell_type": "code",
   "execution_count": null,
   "id": "9a0c2cf1-7ecd-4107-8a98-06f60d7ca5f6",
   "metadata": {
    "tags": []
   },
   "outputs": [],
   "source": [
    "# fmt: off\n",
    "%matplotlib inline\n",
    "%config InlineBackend.figure_format = \"retina\"\n",
    "%load_ext autoreload\n",
    "%load_ext jupyter_black\n",
    "import numpy as np\n",
    "import matplotlib\n",
    "import matplotlib.pyplot as plt\n",
    "import pickle\n",
    "from mls_scf_tools.mls_pint import ureg\n",
    "plt.style.use(\"mls_scf\")\n",
    "def vdir(obj):\n",
    "    return [x for x in dir(obj) if not x.startswith('__')]\n"
   ]
  },
  {
   "cell_type": "code",
   "execution_count": null,
   "id": "c4e87b52-8633-4aed-b96e-a56a6f3aa627",
   "metadata": {
    "tags": []
   },
   "outputs": [],
   "source": [
    "import openpyxl"
   ]
  },
  {
   "cell_type": "code",
   "execution_count": null,
   "id": "187d39e3-e491-4a97-91d6-08a2db9fe709",
   "metadata": {
    "tags": []
   },
   "outputs": [],
   "source": [
    "# Open the workbook and get the first worksheet\n",
    "workbook = openpyxl.load_workbook(\n",
    "    \"/Users/livesey/corf/data/Oscar-Satellite-Frequencies-Earth-observation-MW-frequencies-2023-11-14.xlsx\"\n",
    ")\n",
    "raw_data = workbook[\"Worksheet\"]"
   ]
  },
  {
   "cell_type": "code",
   "execution_count": null,
   "id": "f4a18d8d-8e19-45a5-9b1c-0c3a94c5b19c",
   "metadata": {},
   "outputs": [],
   "source": [
    "class ColumnDetails:\n",
    "    \"\"\"Provides details for column names etc.\"\"\"\n",
    "    "
   ]
  },
  {
   "cell_type": "code",
   "execution_count": null,
   "id": "06db591a-3ff5-4089-aa25-182f37c6d7c1",
   "metadata": {
    "tags": []
   },
   "outputs": [],
   "source": [
    "expected_columns = [\n",
    "    \"Id\",\n",
    "    \"Satellite\",\n",
    "    \"Space Agency\",\n",
    "    \"Launch\",\n",
    "    \"Eol\",\n",
    "    \"Service\",\n",
    "    \"Sensing mode\",\n",
    "    \"Frequency (GHz)\",\n",
    "    \"Bandwidth (MHz)\",\n",
    "    \"Polarisation\",\n",
    "    \"Comment\",\n",
    "]\n",
    "# Check that these are the column titles\n",
    "for i_column, expectation in enumerate(expected_columns):\n",
    "    key = chr(ord(\"A\") + i_column) + \"1\"\n",
    "    value = raw_data[key].value.strip()\n",
    "    if value != expectation:\n",
    "        raise ValueError(f\"Mismatch, expected {expectation}, got {value}\")\n"
   ]
  },
  {
   "cell_type": "code",
   "execution_count": null,
   "id": "240c98a3-cc51-4600-9384-1a0d4c84e63e",
   "metadata": {},
   "outputs": [],
   "source": []
  }
 ],
 "metadata": {
  "kernelspec": {
   "display_name": "njl-base-3.10-24may23",
   "language": "python",
   "name": "njl-base-3.10-24may23"
  },
  "language_info": {
   "codemirror_mode": {
    "name": "ipython",
    "version": 3
   },
   "file_extension": ".py",
   "mimetype": "text/x-python",
   "name": "python",
   "nbconvert_exporter": "python",
   "pygments_lexer": "ipython3",
   "version": "3.10.12"
  }
 },
 "nbformat": 4,
 "nbformat_minor": 5
}
