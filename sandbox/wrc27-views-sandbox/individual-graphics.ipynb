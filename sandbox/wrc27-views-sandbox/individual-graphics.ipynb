{
    "cells": [
        {
            "cell_type": "code",
            "execution_count": null,
            "id": "0",
            "metadata": {
                "tags": []
            },
            "outputs": [],
            "source": [
                "# fmt: off\n",
                "%matplotlib inline\n",
                "%config InlineBackend.figure_format = \"retina\"\n",
                "%load_ext autoreload\n",
                "%load_ext jupyter_black\n",
                "import numpy as np\n",
                "import matplotlib\n",
                "import matplotlib.pyplot as plt\n",
                "from njl_corf import ureg\n",
                "plt.style.use(\"mls_scf\")\n",
                "def vdir(obj):\n",
                "    return [x for x in dir(obj) if not x.startswith('__')]"
            ]
        },
        {
            "cell_type": "code",
            "execution_count": null,
            "id": "1",
            "metadata": {
                "tags": []
            },
            "outputs": [],
            "source": [
                "import pint\n",
                "\n",
                "# from matplotlib.patches import Rectangle"
            ]
        },
        {
            "cell_type": "code",
            "execution_count": null,
            "id": "2",
            "metadata": {
                "tags": []
            },
            "outputs": [],
            "source": [
                "%autoreload 2"
            ]
        },
        {
            "cell_type": "code",
            "execution_count": null,
            "id": "3",
            "metadata": {
                "tags": []
            },
            "outputs": [],
            "source": [
                "from njl_corf import pyiturr5 as rr, wrc27_views\n",
                "from njl_corf.wrc27_individual_ai_figures import all_individual_figures, wrc27_ai_figure"
            ]
        },
        {
            "cell_type": "code",
            "execution_count": null,
            "id": "4",
            "metadata": {
                "tags": []
            },
            "outputs": [],
            "source": [
                "allocation_database = rr.parse_rr_file()"
            ]
        },
        {
            "cell_type": "code",
            "execution_count": null,
            "id": "5",
            "metadata": {
                "tags": []
            },
            "outputs": [],
            "source": [
                "all_individual_figures(\n",
                "    allocation_database=allocation_database,\n",
                "    # only=[\"WRC-31 AIs-2.10-2.11\"],\n",
                "    only=[\"WRC-27 AI-1.11\"],\n",
                "    # only=[\"WRC-27 AI-1.6\"],\n",
                "    # only=[\"WRC-27 AI-1.7\"],\n",
                "    color_scheme=\"new-b\",\n",
                "    skip_png=False,\n",
                "    selective_legend=True,\n",
                "    include_legend=True,\n",
                ")"
            ]
        },
        {
            "cell_type": "code",
            "execution_count": null,
            "id": "6",
            "metadata": {},
            "outputs": [],
            "source": [
                "allocation_database.itu[22.3 * ureg.GHz]"
            ]
        },
        {
            "cell_type": "code",
            "execution_count": null,
            "id": "7",
            "metadata": {},
            "outputs": [],
            "source": [
                "all_individual_figures(\n",
                "    allocation_database=allocation_database,\n",
                "    # only=[\"WRC-31 AIs-2.10-2.11\"],\n",
                "    # only=[\"WRC-27 AI-1.19\"],\n",
                "    # only=[\"WRC-27 AI-1.6\"],\n",
                "    # only=[\"WRC-27 AI-1.1\"],\n",
                "    color_scheme=\"new-b\",\n",
                "    skip_png=False,\n",
                "    selective_legend=True,\n",
                "    include_legend=False,\n",
                "    output_path=\"specific-ai-plots-no-legend\",\n",
                "    for_poster=True,\n",
                ")"
            ]
        },
        {
            "cell_type": "code",
            "execution_count": null,
            "id": "8",
            "metadata": {},
            "outputs": [],
            "source": [
                "import warnings"
            ]
        },
        {
            "cell_type": "code",
            "execution_count": null,
            "id": "9",
            "metadata": {},
            "outputs": [],
            "source": [
                "help(warnings.warn)"
            ]
        },
        {
            "cell_type": "code",
            "execution_count": null,
            "id": "10",
            "metadata": {},
            "outputs": [],
            "source": []
        }
    ],
    "metadata": {
        "kernelspec": {
            "display_name": "Python 3 (ipykernel)",
            "language": "python",
            "name": "python3"
        },
        "language_info": {
            "codemirror_mode": {
                "name": "ipython",
                "version": 3
            },
            "file_extension": ".py",
            "mimetype": "text/x-python",
            "name": "python",
            "nbconvert_exporter": "python",
            "pygments_lexer": "ipython3",
            "version": "3.12.9"
        }
    },
    "nbformat": 4,
    "nbformat_minor": 5
}