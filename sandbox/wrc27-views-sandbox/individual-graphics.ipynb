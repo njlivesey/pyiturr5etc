{
 "cells": [
  {
   "cell_type": "code",
   "execution_count": 1,
   "id": "0277a530-1583-4224-8e8b-ba1b814790d1",
   "metadata": {
    "tags": []
   },
   "outputs": [],
   "source": [
    "# fmt: off\n",
    "%matplotlib inline\n",
    "%config InlineBackend.figure_format = \"retina\"\n",
    "%load_ext autoreload\n",
    "%load_ext jupyter_black\n",
    "import numpy as np\n",
    "import matplotlib\n",
    "import matplotlib.pyplot as plt\n",
    "import pickle\n",
    "from njl_corf import ureg\n",
    "plt.style.use(\"mls_scf\")\n",
    "def vdir(obj):\n",
    "    return [x for x in dir(obj) if not x.startswith('__')]"
   ]
  },
  {
   "cell_type": "code",
   "execution_count": 2,
   "id": "e29f9127-806c-4c66-98af-4865f8dac221",
   "metadata": {
    "tags": []
   },
   "outputs": [],
   "source": [
    "import pint\n",
    "\n",
    "# from matplotlib.patches import Rectangle"
   ]
  },
  {
   "cell_type": "code",
   "execution_count": 3,
   "id": "4d9cf305-863b-4902-b1e5-ad326d8899fa",
   "metadata": {
    "tags": []
   },
   "outputs": [],
   "source": [
    "%autoreload 2"
   ]
  },
  {
   "cell_type": "code",
   "execution_count": 4,
   "id": "6c62dc48-266b-4c1e-8619-be65583c5bf2",
   "metadata": {
    "tags": []
   },
   "outputs": [],
   "source": [
    "from njl_corf import pyiturr5 as rr, wrc27_views\n",
    "from njl_corf.wrc27_individual_ai_figures import all_individual_figures, wrc27_ai_figure"
   ]
  },
  {
   "cell_type": "code",
   "execution_count": 5,
   "id": "5c9da70a-7395-411f-89ca-dc372a157238",
   "metadata": {
    "tags": []
   },
   "outputs": [
    {
     "name": "stdout",
     "output_type": "stream",
     "text": [
      "Reading from pdf file: RR5-6, RR5-7, RR5-8, RR5-9, RR5-10, RR5-11, "
     ]
    },
    {
     "name": "stderr",
     "output_type": "stream",
     "text": [
      "/Users/livesey/corf/njl-corf/njl_corf/pyiturr5/parse_rr_pdf.py:361: UserWarning: Unable to parse table row, missing band\n",
      "  warnings.warn(\"Unable to parse table row, missing band\")\n"
     ]
    },
    {
     "name": "stdout",
     "output_type": "stream",
     "text": [
      "RR5-12, RR5-13, RR5-14, RR5-15, RR5-16, RR5-17, RR5-18, RR5-19, RR5-20, RR5-21, RR5-22, RR5-23, RR5-24, RR5-25, RR5-26, RR5-27, RR5-28, RR5-29, RR5-30, RR5-31, RR5-32, RR5-33, RR5-34, RR5-35, RR5-36, RR5-37, RR5-38, RR5-39, RR5-40, RR5-41, RR5-42, RR5-43, RR5-44, RR5-45, RR5-46, RR5-47, RR5-48, RR5-49, RR5-50, RR5-51, RR5-52, RR5-53, RR5-54, RR5-55, RR5-56, RR5-57, RR5-58, RR5-59, RR5-60, RR5-61, RR5-62, RR5-63, RR5-64, RR5-65, RR5-66, RR5-67, RR5-68, RR5-69, RR5-70, RR5-71, RR5-72, RR5-73, RR5-74, RR5-75, RR5-76, RR5-77, RR5-78, RR5-79, RR5-80, RR5-81, RR5-82, RR5-83, RR5-84, RR5-85, RR5-86, RR5-87, RR5-88, RR5-89, RR5-90, RR5-91, RR5-92, RR5-93, RR5-94, RR5-95, RR5-96, RR5-97, RR5-98, RR5-99, RR5-100, RR5-101, RR5-102, RR5-103, RR5-104, RR5-105, RR5-106, RR5-107, RR5-108, RR5-109, RR5-110, RR5-111, RR5-112, RR5-113, RR5-114, RR5-115, RR5-116, RR5-117, RR5-118, RR5-119, RR5-120, RR5-121, RR5-122, RR5-123, RR5-124, RR5-125, RR5-126, RR5-127, RR5-128, RR5-129, RR5-130, RR5-131, RR5-132, RR5-133, RR5-134, RR5-135, RR5-136, RR5-137, RR5-138, RR5-139, RR5-140, RR5-141, RR5-142, RR5-143, RR5-144, RR5-145, RR5-146, RR5-147, RR5-148, RR5-149, RR5-150, RR5-151, RR5-152, RR5-153, RR5-154, RR5-155, RR5-156, RR5-157, RR5-158, RR5-159, RR5-160, RR5-161, RR5-162, RR5-163, RR5-164, RR5-165, RR5-166, organizing, footnote-allocations, merging, finalizing, done.\n"
     ]
    }
   ],
   "source": [
    "allocation_database = rr.parse_rr_file()"
   ]
  },
  {
   "cell_type": "code",
   "execution_count": 6,
   "id": "b16b5f92-8c0b-4d1d-8634-76d6ffa22b0b",
   "metadata": {
    "tags": []
   },
   "outputs": [
    {
     "name": "stdout",
     "output_type": "stream",
     "text": [
      "WRC-27 AI-1.1\n",
      "WRC-27 AI-1.2\n",
      "WRC-27 AI-1.3\n",
      "WRC-27 AI-1.4\n",
      "WRC-27 AI-1.5\n",
      "WRC-27 AI-1.6\n",
      "WRC-27 AI-1.7\n",
      "WRC-27 AI-1.8\n",
      "WRC-27 AI-1.9\n",
      "WRC-27 AI-1.10\n",
      "WRC-27 AI-1.11\n",
      "WRC-27 AI-1.12\n",
      "WRC-27 AI-1.13\n",
      "WRC-27 AI-1.14\n",
      "WRC-27 AI-1.15\n",
      "WRC-27 AI-1.16\n",
      "WRC-27 AI-1.17\n",
      "WRC-27 AI-1.18\n",
      "WRC-27 AI-1.19\n",
      "WRC-31 AI-2.2\n",
      "WRC-31 AI-2.3\n",
      "WRC-31 AI-2.4\n",
      "WRC-31 AI-2.5\n",
      "WRC-31 AI-2.7\n",
      "WRC-31 AI-2.8\n",
      "WRC-31 AI-2.9\n",
      "WRC-31 AI-2.14\n",
      "WRC-31 AIs-2.1-2.6\n",
      "WRC-31 AIs-2.10-2.11\n",
      "WRC-31 AIs-2.12-2.13\n"
     ]
    }
   ],
   "source": [
    "all_individual_figures(\n",
    "    allocation_database=allocation_database,\n",
    "    # only=[\"WRC-31 AIs-2.10-2.11\"],\n",
    "    # only=[\"WRC-27 AI-1.19\"],\n",
    "    # only=[\"WRC-27 AI-1.6\"],\n",
    "    # only=[\"WRC-27 AI-1.1\"],\n",
    "    color_scheme=\"new-b\",\n",
    "    skip_png=False,\n",
    "    selective_legend=True,\n",
    "    include_legend=True,\n",
    ")"
   ]
  },
  {
   "cell_type": "code",
   "execution_count": null,
   "id": "e1b531c3-8818-44a9-a842-cb0b764868dc",
   "metadata": {},
   "outputs": [],
   "source": []
  },
  {
   "cell_type": "code",
   "execution_count": 7,
   "id": "1080cd3b-5b22-41d4-b0fd-11164de7fda4",
   "metadata": {},
   "outputs": [
    {
     "data": {
      "text/plain": [
       "['OFFSETTEXTPAD',\n",
       " '_PROPERTIES_EXCLUDED_FROM_SET',\n",
       " '_agg_filter',\n",
       " '_alpha',\n",
       " '_animated',\n",
       " '_autolabelpos',\n",
       " '_autoscale_on',\n",
       " '_axes',\n",
       " '_callbacks',\n",
       " '_clipon',\n",
       " '_clippath',\n",
       " '_cm_set',\n",
       " '_converter',\n",
       " '_converter_is_explicit',\n",
       " '_copy_tick_props',\n",
       " '_different_canvas',\n",
       " '_format_with_dict',\n",
       " '_fully_clipped_to_axes',\n",
       " '_get_autoscale_on',\n",
       " '_get_axis_name',\n",
       " '_get_shared_axes',\n",
       " '_get_shared_axis',\n",
       " '_get_tick',\n",
       " '_get_tick_boxes_siblings',\n",
       " '_get_tick_label_size',\n",
       " '_get_ticklabel_bboxes',\n",
       " '_get_ticks_position',\n",
       " '_gid',\n",
       " '_in_layout',\n",
       " '_init',\n",
       " '_internal_update',\n",
       " '_label',\n",
       " '_major_tick_kw',\n",
       " '_minor_tick_kw',\n",
       " '_mouseover',\n",
       " '_parent_figure',\n",
       " '_path_effects',\n",
       " '_picker',\n",
       " '_pickradius',\n",
       " '_rasterized',\n",
       " '_remove_method',\n",
       " '_remove_overlapping_locs',\n",
       " '_reset_major_tick_kw',\n",
       " '_reset_minor_tick_kw',\n",
       " '_scale',\n",
       " '_set_alpha_for_array',\n",
       " '_set_artist_props',\n",
       " '_set_autoscale_on',\n",
       " '_set_axes_scale',\n",
       " '_set_converter',\n",
       " '_set_formatter',\n",
       " '_set_gc_clip',\n",
       " '_set_lim',\n",
       " '_set_scale',\n",
       " '_set_tick_locations',\n",
       " '_sketch',\n",
       " '_snap',\n",
       " '_stale',\n",
       " '_sticky_edges',\n",
       " '_tick_class',\n",
       " '_transform',\n",
       " '_transformSet',\n",
       " '_translate_tick_params',\n",
       " '_update_axisinfo',\n",
       " '_update_label_position',\n",
       " '_update_offset_text_position',\n",
       " '_update_props',\n",
       " '_update_set_signature_and_docstring',\n",
       " '_update_ticks',\n",
       " '_url',\n",
       " '_visible',\n",
       " 'add_callback',\n",
       " 'axes',\n",
       " 'axis_date',\n",
       " 'axis_name',\n",
       " 'callbacks',\n",
       " 'clear',\n",
       " 'clipbox',\n",
       " 'contains',\n",
       " 'convert_units',\n",
       " 'convert_xunits',\n",
       " 'convert_yunits',\n",
       " 'converter',\n",
       " 'draw',\n",
       " 'figure',\n",
       " 'findobj',\n",
       " 'format_cursor_data',\n",
       " 'get_agg_filter',\n",
       " 'get_alpha',\n",
       " 'get_animated',\n",
       " 'get_children',\n",
       " 'get_clip_box',\n",
       " 'get_clip_on',\n",
       " 'get_clip_path',\n",
       " 'get_converter',\n",
       " 'get_cursor_data',\n",
       " 'get_data_interval',\n",
       " 'get_figure',\n",
       " 'get_gid',\n",
       " 'get_gridlines',\n",
       " 'get_in_layout',\n",
       " 'get_inverted',\n",
       " 'get_label',\n",
       " 'get_label_position',\n",
       " 'get_label_text',\n",
       " 'get_major_formatter',\n",
       " 'get_major_locator',\n",
       " 'get_major_ticks',\n",
       " 'get_majorticklabels',\n",
       " 'get_majorticklines',\n",
       " 'get_majorticklocs',\n",
       " 'get_minor_formatter',\n",
       " 'get_minor_locator',\n",
       " 'get_minor_ticks',\n",
       " 'get_minorticklabels',\n",
       " 'get_minorticklines',\n",
       " 'get_minorticklocs',\n",
       " 'get_minpos',\n",
       " 'get_mouseover',\n",
       " 'get_offset_text',\n",
       " 'get_path_effects',\n",
       " 'get_picker',\n",
       " 'get_pickradius',\n",
       " 'get_rasterized',\n",
       " 'get_remove_overlapping_locs',\n",
       " 'get_scale',\n",
       " 'get_sketch_params',\n",
       " 'get_snap',\n",
       " 'get_tick_padding',\n",
       " 'get_tick_params',\n",
       " 'get_tick_space',\n",
       " 'get_ticklabels',\n",
       " 'get_ticklines',\n",
       " 'get_ticklocs',\n",
       " 'get_ticks_direction',\n",
       " 'get_ticks_position',\n",
       " 'get_tightbbox',\n",
       " 'get_transform',\n",
       " 'get_transformed_clip_path_and_affine',\n",
       " 'get_units',\n",
       " 'get_url',\n",
       " 'get_view_interval',\n",
       " 'get_visible',\n",
       " 'get_window_extent',\n",
       " 'get_zorder',\n",
       " 'grid',\n",
       " 'have_units',\n",
       " 'isDefault_label',\n",
       " 'isDefault_majfmt',\n",
       " 'isDefault_majloc',\n",
       " 'isDefault_minfmt',\n",
       " 'isDefault_minloc',\n",
       " 'is_transform_set',\n",
       " 'label',\n",
       " 'label_position',\n",
       " 'labelpad',\n",
       " 'limit_range_for_scale',\n",
       " 'major',\n",
       " 'majorTicks',\n",
       " 'minor',\n",
       " 'minorTicks',\n",
       " 'minorticks_off',\n",
       " 'minorticks_on',\n",
       " 'mouseover',\n",
       " 'offsetText',\n",
       " 'offset_text_position',\n",
       " 'pchanged',\n",
       " 'pick',\n",
       " 'pickable',\n",
       " 'pickradius',\n",
       " 'properties',\n",
       " 'remove',\n",
       " 'remove_callback',\n",
       " 'remove_overlapping_locs',\n",
       " 'reset_ticks',\n",
       " 'set',\n",
       " 'set_agg_filter',\n",
       " 'set_alpha',\n",
       " 'set_animated',\n",
       " 'set_clip_box',\n",
       " 'set_clip_on',\n",
       " 'set_clip_path',\n",
       " 'set_converter',\n",
       " 'set_data_interval',\n",
       " 'set_default_intervals',\n",
       " 'set_figure',\n",
       " 'set_gid',\n",
       " 'set_in_layout',\n",
       " 'set_inverted',\n",
       " 'set_label',\n",
       " 'set_label_coords',\n",
       " 'set_label_position',\n",
       " 'set_label_text',\n",
       " 'set_major_formatter',\n",
       " 'set_major_locator',\n",
       " 'set_minor_formatter',\n",
       " 'set_minor_locator',\n",
       " 'set_mouseover',\n",
       " 'set_path_effects',\n",
       " 'set_picker',\n",
       " 'set_pickradius',\n",
       " 'set_rasterized',\n",
       " 'set_remove_overlapping_locs',\n",
       " 'set_sketch_params',\n",
       " 'set_snap',\n",
       " 'set_tick_params',\n",
       " 'set_ticklabels',\n",
       " 'set_ticks',\n",
       " 'set_ticks_position',\n",
       " 'set_transform',\n",
       " 'set_units',\n",
       " 'set_url',\n",
       " 'set_view_interval',\n",
       " 'set_visible',\n",
       " 'set_zorder',\n",
       " 'stale',\n",
       " 'stale_callback',\n",
       " 'sticky_edges',\n",
       " 'tick_bottom',\n",
       " 'tick_top',\n",
       " 'units',\n",
       " 'update',\n",
       " 'update_from',\n",
       " 'update_units',\n",
       " 'zorder']"
      ]
     },
     "execution_count": 7,
     "metadata": {},
     "output_type": "execute_result"
    },
    {
     "data": {
      "image/png": "[encoded data removed]",
      "text/plain": [
       "<Figure size 640x480 with 1 Axes>"
      ]
     },
     "metadata": {
      "image/png": {
       "height": 411,
       "width": 544
      }
     },
     "output_type": "display_data"
    }
   ],
   "source": [
    "ax = plt.gca()\n",
    "vdir(ax.xaxis)"
   ]
  },
  {
   "cell_type": "code",
   "execution_count": null,
   "id": "30c6f4ae-3e4f-48d5-a153-ab1e54318b29",
   "metadata": {},
   "outputs": [],
   "source": []
  }
 ],
 "metadata": {
  "kernelspec": {
   "display_name": "Python 3 (ipykernel)",
   "language": "python",
   "name": "python3"
  },
  "language_info": {
   "codemirror_mode": {
    "name": "ipython",
    "version": 3
   },
   "file_extension": ".py",
   "mimetype": "text/x-python",
   "name": "python",
   "nbconvert_exporter": "python",
   "pygments_lexer": "ipython3",
   "version": "3.12.8"
  }
 },
 "nbformat": 4,
 "nbformat_minor": 5
}
