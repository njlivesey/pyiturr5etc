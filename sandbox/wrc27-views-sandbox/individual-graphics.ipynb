{
 "cells": [
  {
   "cell_type": "code",
   "execution_count": 1,
   "id": "0277a530-1583-4224-8e8b-ba1b814790d1",
   "metadata": {
    "tags": []
   },
   "outputs": [],
   "source": [
    "# fmt: off\n",
    "%matplotlib inline\n",
    "%config InlineBackend.figure_format = \"retina\"\n",
    "%load_ext autoreload\n",
    "%load_ext jupyter_black\n",
    "import numpy as np\n",
    "import matplotlib\n",
    "import matplotlib.pyplot as plt\n",
    "import pickle\n",
    "from njl_corf import ureg\n",
    "plt.style.use(\"mls_scf\")\n",
    "def vdir(obj):\n",
    "    return [x for x in dir(obj) if not x.startswith('__')]"
   ]
  },
  {
   "cell_type": "code",
   "execution_count": 2,
   "id": "e29f9127-806c-4c66-98af-4865f8dac221",
   "metadata": {
    "tags": []
   },
   "outputs": [],
   "source": [
    "import pint\n",
    "\n",
    "# from matplotlib.patches import Rectangle"
   ]
  },
  {
   "cell_type": "code",
   "execution_count": 3,
   "id": "4d9cf305-863b-4902-b1e5-ad326d8899fa",
   "metadata": {
    "tags": []
   },
   "outputs": [],
   "source": [
    "%autoreload 2"
   ]
  },
  {
   "cell_type": "code",
   "execution_count": 4,
   "id": "6c62dc48-266b-4c1e-8619-be65583c5bf2",
   "metadata": {
    "tags": []
   },
   "outputs": [],
   "source": [
    "from njl_corf import pyiturr5 as rr, wrc27_views\n",
    "from njl_corf.wrc27_individual_ai_figures import all_individual_figures, wrc27_ai_figure"
   ]
  },
  {
   "cell_type": "code",
   "execution_count": 5,
   "id": "5c9da70a-7395-411f-89ca-dc372a157238",
   "metadata": {
    "tags": []
   },
   "outputs": [
    {
     "name": "stdout",
     "output_type": "stream",
     "text": [
      "Reading from pdf file: RR5-6, RR5-7, RR5-8, RR5-9, RR5-10, RR5-11, RR5-12, "
     ]
    },
    {
     "name": "stderr",
     "output_type": "stream",
     "text": [
      "/Users/livesey/corf/njl-corf/njl_corf/pyiturr5/parse_rr_pdf.py:361: UserWarning: Unable to parse table row, missing band\n",
      "  warnings.warn(\"Unable to parse table row, missing band\")\n"
     ]
    },
    {
     "name": "stdout",
     "output_type": "stream",
     "text": [
      "RR5-13, RR5-14, RR5-15, RR5-16, RR5-17, RR5-18, RR5-19, RR5-20, RR5-21, RR5-22, RR5-23, RR5-24, RR5-25, RR5-26, RR5-27, RR5-28, RR5-29, RR5-30, RR5-31, RR5-32, RR5-33, RR5-34, RR5-35, RR5-36, RR5-37, RR5-38, RR5-39, RR5-40, RR5-41, RR5-42, RR5-43, RR5-44, RR5-45, RR5-46, RR5-47, RR5-48, RR5-49, RR5-50, RR5-51, RR5-52, RR5-53, RR5-54, RR5-55, RR5-56, RR5-57, RR5-58, RR5-59, RR5-60, RR5-61, RR5-62, RR5-63, RR5-64, RR5-65, RR5-66, RR5-67, RR5-68, RR5-69, RR5-70, RR5-71, RR5-72, RR5-73, RR5-74, RR5-75, RR5-76, RR5-77, RR5-78, RR5-79, RR5-80, RR5-81, RR5-82, RR5-83, RR5-84, RR5-85, RR5-86, RR5-87, RR5-88, RR5-89, RR5-90, RR5-91, RR5-92, RR5-93, RR5-94, RR5-95, RR5-96, RR5-97, RR5-98, RR5-99, RR5-100, RR5-101, RR5-102, RR5-103, RR5-104, RR5-105, RR5-106, RR5-107, RR5-108, RR5-109, RR5-110, RR5-111, RR5-112, RR5-113, RR5-114, RR5-115, RR5-116, RR5-117, RR5-118, RR5-119, RR5-120, RR5-121, RR5-122, RR5-123, RR5-124, RR5-125, RR5-126, RR5-127, RR5-128, RR5-129, RR5-130, RR5-131, RR5-132, RR5-133, RR5-134, RR5-135, RR5-136, RR5-137, RR5-138, RR5-139, RR5-140, RR5-141, RR5-142, RR5-143, RR5-144, RR5-145, RR5-146, RR5-147, RR5-148, RR5-149, RR5-150, RR5-151, RR5-152, RR5-153, RR5-154, RR5-155, RR5-156, RR5-157, RR5-158, RR5-159, RR5-160, RR5-161, RR5-162, RR5-163, RR5-164, RR5-165, RR5-166, organizing, footnote-allocations, merging, finalizing, done.\n"
     ]
    }
   ],
   "source": [
    "allocation_database = rr.parse_rr_file()"
   ]
  },
  {
   "cell_type": "code",
   "execution_count": null,
   "id": "b16b5f92-8c0b-4d1d-8634-76d6ffa22b0b",
   "metadata": {
    "tags": []
   },
   "outputs": [],
   "source": [
    "all_individual_figures(\n",
    "    allocation_database=allocation_database,\n",
    "    # only=[\"WRC-31 AIs-2.10-2.11\"],\n",
    "    only=[\"WRC-27 AI-1.11\"],\n",
    "    # only=[\"WRC-27 AI-1.6\"],\n",
    "    # only=[\"WRC-27 AI-1.7\"],\n",
    "    color_scheme=\"new-b\",\n",
    "    skip_png=False,\n",
    "    selective_legend=True,\n",
    "    include_legend=True,\n",
    ")"
   ]
  },
  {
   "cell_type": "code",
   "execution_count": null,
   "id": "7950ca28-e922-4265-b357-8be4fa6fadc1",
   "metadata": {},
   "outputs": [],
   "source": [
    "allocation_database.itu[22.3 * ureg.GHz]"
   ]
  },
  {
   "cell_type": "code",
   "execution_count": 6,
   "id": "30c6f4ae-3e4f-48d5-a153-ab1e54318b29",
   "metadata": {},
   "outputs": [
    {
     "name": "stdout",
     "output_type": "stream",
     "text": [
      "WRC-27 AI-1.1\n",
      "WRC-27 AI-1.2\n",
      "WRC-27 AI-1.3\n",
      "WRC-27 AI-1.4\n",
      "WRC-27 AI-1.5\n",
      "WRC-27 AI-1.6\n",
      "WRC-27 AI-1.7\n",
      "WRC-27 AI-1.8\n",
      "WRC-27 AI-1.9\n",
      "WRC-27 AI-1.10\n",
      "WRC-27 AI-1.11\n",
      "WRC-27 AI-1.12\n",
      "WRC-27 AI-1.13\n",
      "WRC-27 AI-1.14\n",
      "WRC-27 AI-1.15\n",
      "WRC-27 AI-1.16\n",
      "WRC-27 AI-1.17\n",
      "WRC-27 AI-1.18\n",
      "WRC-27 AI-1.19\n",
      "WRC-31 AI-2.2\n",
      "WRC-31 AI-2.3\n",
      "WRC-31 AI-2.4\n",
      "WRC-31 AI-2.5\n",
      "WRC-31 AI-2.7\n",
      "WRC-31 AI-2.8\n",
      "WRC-31 AI-2.9\n",
      "WRC-31 AI-2.14\n",
      "WRC-31 AIs-2.1-2.6\n",
      "WRC-31 AIs-2.10-2.11\n",
      "WRC-31 AIs-2.12-2.13\n"
     ]
    }
   ],
   "source": [
    "all_individual_figures(\n",
    "    allocation_database=allocation_database,\n",
    "    # only=[\"WRC-31 AIs-2.10-2.11\"],\n",
    "    # only=[\"WRC-27 AI-1.19\"],\n",
    "    # only=[\"WRC-27 AI-1.6\"],\n",
    "    # only=[\"WRC-27 AI-1.1\"],\n",
    "    color_scheme=\"new-b\",\n",
    "    skip_png=False,\n",
    "    selective_legend=True,\n",
    "    include_legend=False,\n",
    "    output_path=\"specific-ai-plots-no-legend\",\n",
    "    for_poster=True,\n",
    ")"
   ]
  },
  {
   "cell_type": "code",
   "execution_count": null,
   "id": "ce2bb2de-6501-4e22-9a5f-1ae1de14f9be",
   "metadata": {},
   "outputs": [],
   "source": [
    "import warnings"
   ]
  },
  {
   "cell_type": "code",
   "execution_count": null,
   "id": "a040bb06-3c0b-495d-b8dc-0be29f043452",
   "metadata": {},
   "outputs": [],
   "source": [
    "help(warnings.warn)"
   ]
  },
  {
   "cell_type": "code",
   "execution_count": null,
   "id": "e573e588-7705-43c6-b081-b471847fcd1e",
   "metadata": {},
   "outputs": [],
   "source": []
  }
 ],
 "metadata": {
  "kernelspec": {
   "display_name": "Python 3 (ipykernel)",
   "language": "python",
   "name": "python3"
  },
  "language_info": {
   "codemirror_mode": {
    "name": "ipython",
    "version": 3
   },
   "file_extension": ".py",
   "mimetype": "text/x-python",
   "name": "python",
   "nbconvert_exporter": "python",
   "pygments_lexer": "ipython3",
   "version": "3.12.9"
  }
 },
 "nbformat": 4,
 "nbformat_minor": 5
}
