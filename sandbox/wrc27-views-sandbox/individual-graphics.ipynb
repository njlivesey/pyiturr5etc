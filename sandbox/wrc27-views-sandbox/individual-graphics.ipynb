{
 "cells": [
  {
   "cell_type": "code",
   "execution_count": null,
   "id": "0277a530-1583-4224-8e8b-ba1b814790d1",
   "metadata": {
    "tags": []
   },
   "outputs": [],
   "source": [
    "# fmt: off\n",
    "%matplotlib inline\n",
    "%config InlineBackend.figure_format = \"retina\"\n",
    "%load_ext autoreload\n",
    "%load_ext jupyter_black\n",
    "import numpy as np\n",
    "import matplotlib\n",
    "import matplotlib.pyplot as plt\n",
    "import pickle\n",
    "from njl_corf import ureg\n",
    "plt.style.use(\"mls_scf\")\n",
    "def vdir(obj):\n",
    "    return [x for x in dir(obj) if not x.startswith('__')]"
   ]
  },
  {
   "cell_type": "code",
   "execution_count": null,
   "id": "e29f9127-806c-4c66-98af-4865f8dac221",
   "metadata": {
    "tags": []
   },
   "outputs": [],
   "source": [
    "# import pint\n",
    "# from matplotlib.patches import Rectangle"
   ]
  },
  {
   "cell_type": "code",
   "execution_count": null,
   "id": "4d9cf305-863b-4902-b1e5-ad326d8899fa",
   "metadata": {},
   "outputs": [],
   "source": [
    "%autoreload 2"
   ]
  },
  {
   "cell_type": "code",
   "execution_count": null,
   "id": "6c62dc48-266b-4c1e-8619-be65583c5bf2",
   "metadata": {
    "tags": []
   },
   "outputs": [],
   "source": [
    "from njl_corf import pyfcctab, wrc27_views\n",
    "from njl_corf.wrc27_figures import all_individual_figures, wrc27_ai_figure"
   ]
  },
  {
   "cell_type": "code",
   "execution_count": null,
   "id": "5c9da70a-7395-411f-89ca-dc372a157238",
   "metadata": {
    "tags": []
   },
   "outputs": [],
   "source": [
    "allocation_tables = pyfcctab.read()"
   ]
  },
  {
   "cell_type": "code",
   "execution_count": null,
   "id": "7df10bd3-6bd0-4692-8147-5f4c05539482",
   "metadata": {
    "tags": []
   },
   "outputs": [],
   "source": [
    "# import warnings\n",
    "\n",
    "# warnings.filterwarnings(\"error\")"
   ]
  },
  {
   "cell_type": "code",
   "execution_count": null,
   "id": "8ce5263e-0ebe-4c85-91bc-a041c079c3c1",
   "metadata": {},
   "outputs": [],
   "source": [
    "label = wrc27_ai_figure(\n",
    "    allocation_tables=allocation_tables,\n",
    "    ai=[\n",
    "        \"WRC-31 AI-2.12\",\n",
    "        \"WRC-31 AI-2.13\",\n",
    "    ],\n",
    "    no_show=True,\n",
    ")\n",
    "# print(vdir(label))\n",
    "plt.show();"
   ]
  },
  {
   "cell_type": "code",
   "execution_count": null,
   "id": "35bbd646-1fd5-4a3e-9ae0-09e71ee4e550",
   "metadata": {
    "tags": []
   },
   "outputs": [],
   "source": [
    "for key in vdir(label):\n",
    "    if key.startswith(\"set_\"):\n",
    "        print(key)"
   ]
  },
  {
   "cell_type": "code",
   "execution_count": null,
   "id": "fcc99afc-4367-4ef3-ba57-21a938c8677a",
   "metadata": {
    "tags": []
   },
   "outputs": [],
   "source": [
    "matplotlib.rcParams.keys()"
   ]
  },
  {
   "cell_type": "code",
   "execution_count": null,
   "id": "b16b5f92-8c0b-4d1d-8634-76d6ffa22b0b",
   "metadata": {
    "tags": []
   },
   "outputs": [],
   "source": [
    "all_individual_figures(\n",
    "    allocation_tables=allocation_tables,\n",
    ")"
   ]
  },
  {
   "cell_type": "code",
   "execution_count": null,
   "id": "ebccdef2-da73-4453-b93e-c952801120c5",
   "metadata": {
    "tags": []
   },
   "outputs": [],
   "source": [
    "print([f.name for f in matplotlib.font_manager.fontManager.ttflist])"
   ]
  },
  {
   "cell_type": "code",
   "execution_count": null,
   "id": "1d5d664b-17d3-4264-b10f-36f26aa32310",
   "metadata": {
    "tags": []
   },
   "outputs": [],
   "source": [
    "import matplotlib.font_manager as fm\n",
    "from fontTools.ttLib import TTFont, TTLibError\n",
    "\n",
    "# Create a font properties object for Palatino\n",
    "palatino_prop = fm.FontProperties(family=\"serif\", fname=None, style=\"normal\")\n",
    "\n",
    "# Find the actual font file path\n",
    "palatino_path = fm.findfont(palatino_prop)\n",
    "print(f\"Palatino font file path: {palatino_path}\")\n",
    "\n",
    "\n",
    "# Function to check available font subfamilies in a font file\n",
    "def check_font_subfamilies(font_path, font_number=0):\n",
    "    try:\n",
    "        # Load the font file with the specified font number\n",
    "        font = TTFont(font_path, fontNumber=font_number)\n",
    "\n",
    "        # Print the names of available styles\n",
    "        print(\"Available Font Subfamilies:\")\n",
    "        for record in font[\"name\"].names:\n",
    "            if (\n",
    "                record.nameID == 2\n",
    "            ):  # NameID 2 corresponds to font subfamily (e.g., Regular, Bold)\n",
    "                print(f\"  - {record.string.decode('utf-8')}\")\n",
    "\n",
    "        # Check if the font has a bold version\n",
    "        has_bold = any(\n",
    "            record.string.decode(\"utf-8\").lower() == \"bold\"\n",
    "            for record in font[\"name\"].names\n",
    "            if record.nameID == 2\n",
    "        )\n",
    "        print(f\"\\nBold available: {has_bold}\")\n",
    "\n",
    "    except TTLibError as e:\n",
    "        print(f\"Error: {e}\")\n",
    "    except FileNotFoundError as e:\n",
    "        print(f\"File not found: {e}\")\n",
    "\n",
    "\n",
    "# Check subfamilies for the primary font face (font number 0)\n",
    "check_font_subfamilies(palatino_path, font_number=0)\n",
    "\n",
    "# If the font has multiple faces, you can check them as well\n",
    "for font_number in range(1, 4):\n",
    "    print(f\"\\nChecking font number {font_number}:\")\n",
    "    try:\n",
    "        check_font_subfamilies(palatino_path, font_number=font_number)\n",
    "    except TTLibError:\n",
    "        break"
   ]
  },
  {
   "cell_type": "code",
   "execution_count": null,
   "id": "502c2771-edd0-4d7d-8af7-a8bffd434575",
   "metadata": {},
   "outputs": [],
   "source": []
  }
 ],
 "metadata": {
  "kernelspec": {
   "display_name": "njl-base-3.10-24may23",
   "language": "python",
   "name": "njl-base-3.10-24may23"
  },
  "language_info": {
   "codemirror_mode": {
    "name": "ipython",
    "version": 3
   },
   "file_extension": ".py",
   "mimetype": "text/x-python",
   "name": "python",
   "nbconvert_exporter": "python",
   "pygments_lexer": "ipython3",
   "version": "3.10.12"
  }
 },
 "nbformat": 4,
 "nbformat_minor": 5
}
