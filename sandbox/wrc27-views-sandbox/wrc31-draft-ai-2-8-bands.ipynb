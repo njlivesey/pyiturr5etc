{
 "cells": [
  {
   "cell_type": "code",
   "execution_count": null,
   "id": "de85cbda-8104-4637-9aa2-6740a79fbf4d",
   "metadata": {
    "tags": []
   },
   "outputs": [],
   "source": [
    "# fmt: off\n",
    "%matplotlib inline\n",
    "%config InlineBackend.figure_format = \"retina\"\n",
    "%load_ext autoreload\n",
    "%load_ext jupyter_black\n",
    "import numpy as np\n",
    "import matplotlib\n",
    "import matplotlib.pyplot as plt\n",
    "import pickle\n",
    "from njl_corf import ureg\n",
    "plt.style.use(\"mls_scf\")\n",
    "def vdir(obj):\n",
    "    return [x for x in dir(obj) if not x.startswith('__')]"
   ]
  },
  {
   "cell_type": "code",
   "execution_count": null,
   "id": "e73921c8-dfcf-4d76-abc7-fa7c54e992a6",
   "metadata": {
    "tags": []
   },
   "outputs": [],
   "source": [
    "import intervaltree\n",
    "from IPython.core.display import HTML"
   ]
  },
  {
   "cell_type": "code",
   "execution_count": null,
   "id": "252e710f-c185-4132-9066-6bf0f7c49447",
   "metadata": {
    "tags": []
   },
   "outputs": [],
   "source": [
    "%autoreload 2"
   ]
  },
  {
   "cell_type": "code",
   "execution_count": null,
   "id": "4586c34a-5084-4f83-a6ba-7912a64b84d2",
   "metadata": {
    "tags": []
   },
   "outputs": [],
   "source": [
    "import njl_corf.wrc27_views as wrc27_views\n",
    "import njl_corf.pyfcctab as pyfcctab"
   ]
  },
  {
   "cell_type": "code",
   "execution_count": null,
   "id": "432eba85-6f39-472a-980a-2c52d0f334f8",
   "metadata": {
    "tags": []
   },
   "outputs": [],
   "source": [
    "tables = pyfcctab.read()"
   ]
  },
  {
   "cell_type": "code",
   "execution_count": null,
   "id": "fc6430b9-5ab0-486b-903d-28d60de7d1c2",
   "metadata": {
    "tags": []
   },
   "outputs": [],
   "source": [
    "mf_range = slice(300.0 * ureg.kHz, 3.0 * ureg.MHz)\n",
    "hf_range = slice(3.0 * ureg.MHz, 30.0 * ureg.MHz)\n",
    "\n",
    "bands = []\n",
    "for this_range in [mf_range, hf_range]:\n",
    "    these_bands = tables.itu.get_bands(\n",
    "        this_range, condition=lambda band: band.has_allocation(\"Maritime Mobile*\")\n",
    "    )\n",
    "    bands += these_bands\n",
    "bands = list(set(bands))"
   ]
  },
  {
   "cell_type": "code",
   "execution_count": null,
   "id": "21cc0d1c-4a55-4ebf-aaa6-b3e64f2e1ded",
   "metadata": {
    "tags": []
   },
   "outputs": [],
   "source": [
    "html = pyfcctab.htmltable(bands=bands)"
   ]
  },
  {
   "cell_type": "code",
   "execution_count": null,
   "id": "235c6e9a-4b41-4e11-bf8c-46ee220d3cb5",
   "metadata": {
    "tags": []
   },
   "outputs": [],
   "source": [
    "HTML(\"\".join(html))"
   ]
  },
  {
   "cell_type": "code",
   "execution_count": null,
   "id": "15fd0006-e176-48dd-ad77-4ce4d1d594bf",
   "metadata": {},
   "outputs": [],
   "source": []
  }
 ],
 "metadata": {
  "kernelspec": {
   "display_name": "njl-base-3.10-24may23",
   "language": "python",
   "name": "njl-base-3.10-24may23"
  },
  "language_info": {
   "codemirror_mode": {
    "name": "ipython",
    "version": 3
   },
   "file_extension": ".py",
   "mimetype": "text/x-python",
   "name": "python",
   "nbconvert_exporter": "python",
   "pygments_lexer": "ipython3",
   "version": "3.10.12"
  }
 },
 "nbformat": 4,
 "nbformat_minor": 5
}
