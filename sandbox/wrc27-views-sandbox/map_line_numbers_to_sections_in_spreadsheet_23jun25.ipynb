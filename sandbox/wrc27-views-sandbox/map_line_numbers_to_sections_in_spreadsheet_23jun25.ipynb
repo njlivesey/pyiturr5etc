{
    "cells": [
        {
            "cell_type": "code",
            "execution_count": null,
            "id": "0",
            "metadata": {},
            "outputs": [],
            "source": [
                "# fmt: off\n",
                "%matplotlib inline\n",
                "%config InlineBackend.figure_format = \"retina\"\n",
                "%load_ext autoreload\n",
                "%load_ext jupyter_black\n",
                "import numpy as np\n",
                "import matplotlib\n",
                "import matplotlib.pyplot as plt\n",
                "from mls_scf_tools.mls_pint import ureg\n",
                "plt.style.use(\"mls_scf\")\n",
                "def vdir(obj):\n",
                "    return [x for x in dir(obj) if not x.startswith('__')]\n"
            ]
        },
        {
            "cell_type": "code",
            "execution_count": null,
            "id": "1",
            "metadata": {},
            "outputs": [],
            "source": [
                "import openpyxl"
            ]
        },
        {
            "cell_type": "code",
            "execution_count": null,
            "id": "2",
            "metadata": {},
            "outputs": [],
            "source": [
                "# filename = (\n",
                "#     \"/Users/livesey/Library/CloudStorage/\"\n",
                "#     \"OneDrive-SharedLibraries-TheNationalAcademies/\"\n",
                "#     \"Jones, Christopher - Views WRC-27/\"\n",
                "#     \"Views_response to review/Views WRC-27 - Report Comments.xlsx\"\n",
                "# )\n",
                "filename = \"~/Desktop/text.xlsx\""
            ]
        },
        {
            "cell_type": "code",
            "execution_count": null,
            "id": "3",
            "metadata": {},
            "outputs": [],
            "source": [
                "section_map = {\n",
                "    0: \"Front matter\",\n",
                "    239: \"Preface\",\n",
                "    308: \"Executive summary\",\n",
                "    342: \"Introduction\",\n",
                "    700: \"WRC-27 opening\",\n",
                "    750: \"AI-1.1\",\n",
                "    914: \"AI-1.2\",\n",
                "    1000: \"AI-1.3\",\n",
                "    1118: \"AI-1.4\",\n",
                "    1179: \"AI-1.5\",\n",
                "    1190: \"AI-1.6\",\n",
                "    1224: \"AI-1.7\",\n",
                "    1364: \"AI-1.8\",\n",
                "    1591: \"AI-1.10\",\n",
                "    1713: \"AI-1.11\",\n",
                "    1798: \"AI-1.12\",\n",
                "    1927: \"AI-1.13\",\n",
                "    2165: \"AI-1.14\",\n",
                "    2170: \"AI-1.15\",\n",
                "    2353: \"AI-1.16\",\n",
                "    2562: \"AI-1.17\",\n",
                "    2658: \"AI-1.18\",\n",
                "    2853: \"AI-1.19\",\n",
                "    2900: \"WRC-31 opening\",\n",
                "    2921: \"PAI-2.1 & 2.6\",\n",
                "    3045: \"PAI-2.2\",\n",
                "    3110: \"PAI-2.3\",\n",
                "    3212: \"PAI-2.4\",\n",
                "    3291: \"PAI-2.9\",\n",
                "    3431: \"PAI-2.10 & 2.11\",\n",
                "    3678: \"PAI-2.12 & 2.13\",\n",
                "    3822: \"PAU-2.14\",\n",
                "    3879: \"Conclusions\",\n",
                "    3916: \"Appendix A\",\n",
                "    3944: \"Appendix B\",\n",
                "    4351: \"Appendix C\",\n",
                "    4485: \"Appendix D\",\n",
                "}\n",
                "line_number_transitions = np.array(list(section_map.keys()), dtype=int) - 1"
            ]
        },
        {
            "cell_type": "code",
            "execution_count": null,
            "id": "4",
            "metadata": {},
            "outputs": [],
            "source": [
                "def get_section(line_number: int) -> str:\n",
                "    \"\"\"Workout which section a line is in\"\"\"\n",
                "    i_section = np.searchsorted(line_number_transitions, line_number)\n",
                "    key = int(line_number_transitions[max(i_section - 1, 0)]) + 1\n",
                "    return section_map[key]"
            ]
        },
        {
            "cell_type": "code",
            "execution_count": null,
            "id": "5",
            "metadata": {},
            "outputs": [],
            "source": [
                "workbook = openpyxl.load_workbook(filename=filename)\n",
                "worksheet = workbook.worksheets[0]"
            ]
        },
        {
            "cell_type": "code",
            "execution_count": null,
            "id": "6",
            "metadata": {},
            "outputs": [],
            "source": [
                "column = worksheet[\"D5\":\"D235\"]\n",
                "results = list()\n",
                "for cell_tuple in column:\n",
                "    reference = str(cell_tuple[0].value)\n",
                "    clauses = [clause.strip() for clause in reference.split(\",\")]\n",
                "    result = set()\n",
                "    for clause in clauses:\n",
                "        # Skip clauses that start with certain prefixes\n",
                "        if any(clause.startswith(prefix) for prefix in [\"Figure\", \"Table\", \"Pg\"]):\n",
                "            continue\n",
                "        # Strip off any leading \"Line \"s\n",
                "        if clause.startswith(\"Line \"):\n",
                "            clause = clause[5:]\n",
                "        if clause == \"General\":\n",
                "            result.add(clause)\n",
                "        elif clause == \"None\":\n",
                "            result.add(\"\")\n",
                "        else:\n",
                "            line_numbers = [int(word) for word in clause.split(\"-\")]\n",
                "            result |= set([get_section(line_number) for line_number in line_numbers])\n",
                "    results.append(\", \".join(list(result)))"
            ]
        },
        {
            "cell_type": "code",
            "execution_count": null,
            "id": "7",
            "metadata": {},
            "outputs": [],
            "source": [
                "# Now insert the results into the spreadsheet\n",
                "for row, entry in zip(range(5, 236), results):\n",
                "    worksheet[f\"I{row}\"] = entry"
            ]
        },
        {
            "cell_type": "code",
            "execution_count": null,
            "id": "8",
            "metadata": {},
            "outputs": [],
            "source": [
                "# help(workbook.save)\n",
                "workbook.save(\"/Users/livesey/Desktop/test.xlsx\")"
            ]
        },
        {
            "cell_type": "code",
            "execution_count": null,
            "id": "9",
            "metadata": {},
            "outputs": [],
            "source": []
        }
    ],
    "metadata": {
        "kernelspec": {
            "display_name": "Python 3 (ipykernel)",
            "language": "python",
            "name": "python3"
        },
        "language_info": {
            "codemirror_mode": {
                "name": "ipython",
                "version": 3
            },
            "file_extension": ".py",
            "mimetype": "text/x-python",
            "name": "python",
            "nbconvert_exporter": "python",
            "pygments_lexer": "ipython3",
            "version": "3.12.8"
        }
    },
    "nbformat": 4,
    "nbformat_minor": 5
}