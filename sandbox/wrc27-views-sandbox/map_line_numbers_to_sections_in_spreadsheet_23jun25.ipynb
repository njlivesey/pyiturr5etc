{
 "cells": [
  {
   "cell_type": "code",
   "execution_count": 1,
   "id": "aa667fc5-1ea1-46a9-b418-b4b34302e493",
   "metadata": {},
   "outputs": [],
   "source": [
    "# fmt: off\n",
    "%matplotlib inline\n",
    "%config InlineBackend.figure_format = \"retina\"\n",
    "%load_ext autoreload\n",
    "%load_ext jupyter_black\n",
    "import numpy as np\n",
    "import matplotlib\n",
    "import matplotlib.pyplot as plt\n",
    "import pickle\n",
    "from mls_scf_tools.mls_pint import ureg\n",
    "plt.style.use(\"mls_scf\")\n",
    "def vdir(obj):\n",
    "    return [x for x in dir(obj) if not x.startswith('__')]\n"
   ]
  },
  {
   "cell_type": "code",
   "execution_count": 2,
   "id": "0b8d746c-8cc9-4727-b381-d3aca38427d9",
   "metadata": {},
   "outputs": [],
   "source": [
    "import openpyxl"
   ]
  },
  {
   "cell_type": "code",
   "execution_count": 26,
   "id": "076a9b90-337d-4b4b-9ea7-e74ca151f57c",
   "metadata": {},
   "outputs": [],
   "source": [
    "# filename = (\n",
    "#     \"/Users/livesey/Library/CloudStorage/\"\n",
    "#     \"OneDrive-SharedLibraries-TheNationalAcademies/\"\n",
    "#     \"Jones, Christopher - Views WRC-27/\"\n",
    "#     \"Views_response to review/Views WRC-27 - Report Comments.xlsx\"\n",
    "# )\n",
    "filename = \"~/Desktop/text.xlsx\""
   ]
  },
  {
   "cell_type": "code",
   "execution_count": 27,
   "id": "876f0171-bfb6-42f4-9c91-b52e73cfc635",
   "metadata": {},
   "outputs": [],
   "source": [
    "section_map = {\n",
    "    0: \"Front matter\",\n",
    "    239: \"Preface\",\n",
    "    308: \"Executive summary\",\n",
    "    342: \"Introduction\",\n",
    "    700: \"WRC-27 opening\",\n",
    "    750: \"AI-1.1\",\n",
    "    914: \"AI-1.2\",\n",
    "    1000: \"AI-1.3\",\n",
    "    1118: \"AI-1.4\",\n",
    "    1179: \"AI-1.5\",\n",
    "    1190: \"AI-1.6\",\n",
    "    1224: \"AI-1.7\",\n",
    "    1364: \"AI-1.8\",\n",
    "    1591: \"AI-1.10\",\n",
    "    1713: \"AI-1.11\",\n",
    "    1798: \"AI-1.12\",\n",
    "    1927: \"AI-1.13\",\n",
    "    2165: \"AI-1.14\",\n",
    "    2170: \"AI-1.15\",\n",
    "    2353: \"AI-1.16\",\n",
    "    2562: \"AI-1.17\",\n",
    "    2658: \"AI-1.18\",\n",
    "    2853: \"AI-1.19\",\n",
    "    2900: \"WRC-31 opening\",\n",
    "    2921: \"PAI-2.1 & 2.6\",\n",
    "    3045: \"PAI-2.2\",\n",
    "    3110: \"PAI-2.3\",\n",
    "    3212: \"PAI-2.4\",\n",
    "    3291: \"PAI-2.9\",\n",
    "    3431: \"PAI-2.10 & 2.11\",\n",
    "    3678: \"PAI-2.12 & 2.13\",\n",
    "    3822: \"PAU-2.14\",\n",
    "    3879: \"Conclusions\",\n",
    "    3916: \"Appendix A\",\n",
    "    3944: \"Appendix B\",\n",
    "    4351: \"Appendix C\",\n",
    "    4485: \"Appendix D\",\n",
    "}\n",
    "line_number_transitions = np.array(list(section_map.keys()), dtype=int) - 1"
   ]
  },
  {
   "cell_type": "code",
   "execution_count": 28,
   "id": "1616d154-6426-46aa-87c6-5309ace67f1c",
   "metadata": {},
   "outputs": [],
   "source": [
    "def get_section(line_number: int) -> str:\n",
    "    \"\"\"Workout which section a line is in\"\"\"\n",
    "    i_section = np.searchsorted(line_number_transitions, line_number)\n",
    "    key = int(line_number_transitions[max(i_section - 1, 0)]) + 1\n",
    "    return section_map[key]"
   ]
  },
  {
   "cell_type": "code",
   "execution_count": 29,
   "id": "14aa0af4-6b0e-420e-8c06-cb97a4e4970a",
   "metadata": {},
   "outputs": [
    {
     "ename": "FileNotFoundError",
     "evalue": "[Errno 2] No such file or directory: '~/Desktop/text.xlsx'",
     "output_type": "error",
     "traceback": [
      "\u001b[0;31m---------------------------------------------------------------------------\u001b[0m",
      "\u001b[0;31mFileNotFoundError\u001b[0m                         Traceback (most recent call last)",
      "Cell \u001b[0;32mIn[29], line 1\u001b[0m\n\u001b[0;32m----> 1\u001b[0m workbook \u001b[38;5;241m=\u001b[39m \u001b[43mopenpyxl\u001b[49m\u001b[38;5;241;43m.\u001b[39;49m\u001b[43mload_workbook\u001b[49m\u001b[43m(\u001b[49m\u001b[43mfilename\u001b[49m\u001b[38;5;241;43m=\u001b[39;49m\u001b[43mfilename\u001b[49m\u001b[43m)\u001b[49m\n\u001b[1;32m      2\u001b[0m worksheet \u001b[38;5;241m=\u001b[39m workbook\u001b[38;5;241m.\u001b[39mworksheets[\u001b[38;5;241m0\u001b[39m]\n",
      "File \u001b[0;32m~/miniforge3/envs/njl-base-3.12-02jan25/lib/python3.12/site-packages/openpyxl/reader/excel.py:346\u001b[0m, in \u001b[0;36mload_workbook\u001b[0;34m(filename, read_only, keep_vba, data_only, keep_links, rich_text)\u001b[0m\n\u001b[1;32m    316\u001b[0m \u001b[38;5;28;01mdef\u001b[39;00m \u001b[38;5;21mload_workbook\u001b[39m(filename, read_only\u001b[38;5;241m=\u001b[39m\u001b[38;5;28;01mFalse\u001b[39;00m, keep_vba\u001b[38;5;241m=\u001b[39mKEEP_VBA,\n\u001b[1;32m    317\u001b[0m                   data_only\u001b[38;5;241m=\u001b[39m\u001b[38;5;28;01mFalse\u001b[39;00m, keep_links\u001b[38;5;241m=\u001b[39m\u001b[38;5;28;01mTrue\u001b[39;00m, rich_text\u001b[38;5;241m=\u001b[39m\u001b[38;5;28;01mFalse\u001b[39;00m):\n\u001b[1;32m    318\u001b[0m \u001b[38;5;250m    \u001b[39m\u001b[38;5;124;03m\"\"\"Open the given filename and return the workbook\u001b[39;00m\n\u001b[1;32m    319\u001b[0m \n\u001b[1;32m    320\u001b[0m \u001b[38;5;124;03m    :param filename: the path to open or a file-like object\u001b[39;00m\n\u001b[0;32m   (...)\u001b[0m\n\u001b[1;32m    344\u001b[0m \n\u001b[1;32m    345\u001b[0m \u001b[38;5;124;03m    \"\"\"\u001b[39;00m\n\u001b[0;32m--> 346\u001b[0m     reader \u001b[38;5;241m=\u001b[39m \u001b[43mExcelReader\u001b[49m\u001b[43m(\u001b[49m\u001b[43mfilename\u001b[49m\u001b[43m,\u001b[49m\u001b[43m \u001b[49m\u001b[43mread_only\u001b[49m\u001b[43m,\u001b[49m\u001b[43m \u001b[49m\u001b[43mkeep_vba\u001b[49m\u001b[43m,\u001b[49m\n\u001b[1;32m    347\u001b[0m \u001b[43m                         \u001b[49m\u001b[43mdata_only\u001b[49m\u001b[43m,\u001b[49m\u001b[43m \u001b[49m\u001b[43mkeep_links\u001b[49m\u001b[43m,\u001b[49m\u001b[43m \u001b[49m\u001b[43mrich_text\u001b[49m\u001b[43m)\u001b[49m\n\u001b[1;32m    348\u001b[0m     reader\u001b[38;5;241m.\u001b[39mread()\n\u001b[1;32m    349\u001b[0m     \u001b[38;5;28;01mreturn\u001b[39;00m reader\u001b[38;5;241m.\u001b[39mwb\n",
      "File \u001b[0;32m~/miniforge3/envs/njl-base-3.12-02jan25/lib/python3.12/site-packages/openpyxl/reader/excel.py:123\u001b[0m, in \u001b[0;36mExcelReader.__init__\u001b[0;34m(self, fn, read_only, keep_vba, data_only, keep_links, rich_text)\u001b[0m\n\u001b[1;32m    121\u001b[0m \u001b[38;5;28;01mdef\u001b[39;00m \u001b[38;5;21m__init__\u001b[39m(\u001b[38;5;28mself\u001b[39m, fn, read_only\u001b[38;5;241m=\u001b[39m\u001b[38;5;28;01mFalse\u001b[39;00m, keep_vba\u001b[38;5;241m=\u001b[39mKEEP_VBA,\n\u001b[1;32m    122\u001b[0m              data_only\u001b[38;5;241m=\u001b[39m\u001b[38;5;28;01mFalse\u001b[39;00m, keep_links\u001b[38;5;241m=\u001b[39m\u001b[38;5;28;01mTrue\u001b[39;00m, rich_text\u001b[38;5;241m=\u001b[39m\u001b[38;5;28;01mFalse\u001b[39;00m):\n\u001b[0;32m--> 123\u001b[0m     \u001b[38;5;28mself\u001b[39m\u001b[38;5;241m.\u001b[39marchive \u001b[38;5;241m=\u001b[39m \u001b[43m_validate_archive\u001b[49m\u001b[43m(\u001b[49m\u001b[43mfn\u001b[49m\u001b[43m)\u001b[49m\n\u001b[1;32m    124\u001b[0m     \u001b[38;5;28mself\u001b[39m\u001b[38;5;241m.\u001b[39mvalid_files \u001b[38;5;241m=\u001b[39m \u001b[38;5;28mself\u001b[39m\u001b[38;5;241m.\u001b[39marchive\u001b[38;5;241m.\u001b[39mnamelist()\n\u001b[1;32m    125\u001b[0m     \u001b[38;5;28mself\u001b[39m\u001b[38;5;241m.\u001b[39mread_only \u001b[38;5;241m=\u001b[39m read_only\n",
      "File \u001b[0;32m~/miniforge3/envs/njl-base-3.12-02jan25/lib/python3.12/site-packages/openpyxl/reader/excel.py:95\u001b[0m, in \u001b[0;36m_validate_archive\u001b[0;34m(filename)\u001b[0m\n\u001b[1;32m     88\u001b[0m             msg \u001b[38;5;241m=\u001b[39m (\u001b[38;5;124m'\u001b[39m\u001b[38;5;124mopenpyxl does not support \u001b[39m\u001b[38;5;132;01m%s\u001b[39;00m\u001b[38;5;124m file format, \u001b[39m\u001b[38;5;124m'\u001b[39m\n\u001b[1;32m     89\u001b[0m                    \u001b[38;5;124m'\u001b[39m\u001b[38;5;124mplease check you can open \u001b[39m\u001b[38;5;124m'\u001b[39m\n\u001b[1;32m     90\u001b[0m                    \u001b[38;5;124m'\u001b[39m\u001b[38;5;124mit with Excel first. \u001b[39m\u001b[38;5;124m'\u001b[39m\n\u001b[1;32m     91\u001b[0m                    \u001b[38;5;124m'\u001b[39m\u001b[38;5;124mSupported formats are: \u001b[39m\u001b[38;5;132;01m%s\u001b[39;00m\u001b[38;5;124m'\u001b[39m) \u001b[38;5;241m%\u001b[39m (file_format,\n\u001b[1;32m     92\u001b[0m                                                    \u001b[38;5;124m'\u001b[39m\u001b[38;5;124m,\u001b[39m\u001b[38;5;124m'\u001b[39m\u001b[38;5;241m.\u001b[39mjoin(SUPPORTED_FORMATS))\n\u001b[1;32m     93\u001b[0m         \u001b[38;5;28;01mraise\u001b[39;00m InvalidFileException(msg)\n\u001b[0;32m---> 95\u001b[0m archive \u001b[38;5;241m=\u001b[39m \u001b[43mZipFile\u001b[49m\u001b[43m(\u001b[49m\u001b[43mfilename\u001b[49m\u001b[43m,\u001b[49m\u001b[43m \u001b[49m\u001b[38;5;124;43m'\u001b[39;49m\u001b[38;5;124;43mr\u001b[39;49m\u001b[38;5;124;43m'\u001b[39;49m\u001b[43m)\u001b[49m\n\u001b[1;32m     96\u001b[0m \u001b[38;5;28;01mreturn\u001b[39;00m archive\n",
      "File \u001b[0;32m~/miniforge3/envs/njl-base-3.12-02jan25/lib/python3.12/zipfile/__init__.py:1331\u001b[0m, in \u001b[0;36mZipFile.__init__\u001b[0;34m(self, file, mode, compression, allowZip64, compresslevel, strict_timestamps, metadata_encoding)\u001b[0m\n\u001b[1;32m   1329\u001b[0m \u001b[38;5;28;01mwhile\u001b[39;00m \u001b[38;5;28;01mTrue\u001b[39;00m:\n\u001b[1;32m   1330\u001b[0m     \u001b[38;5;28;01mtry\u001b[39;00m:\n\u001b[0;32m-> 1331\u001b[0m         \u001b[38;5;28mself\u001b[39m\u001b[38;5;241m.\u001b[39mfp \u001b[38;5;241m=\u001b[39m \u001b[43mio\u001b[49m\u001b[38;5;241;43m.\u001b[39;49m\u001b[43mopen\u001b[49m\u001b[43m(\u001b[49m\u001b[43mfile\u001b[49m\u001b[43m,\u001b[49m\u001b[43m \u001b[49m\u001b[43mfilemode\u001b[49m\u001b[43m)\u001b[49m\n\u001b[1;32m   1332\u001b[0m     \u001b[38;5;28;01mexcept\u001b[39;00m \u001b[38;5;167;01mOSError\u001b[39;00m:\n\u001b[1;32m   1333\u001b[0m         \u001b[38;5;28;01mif\u001b[39;00m filemode \u001b[38;5;129;01min\u001b[39;00m modeDict:\n",
      "\u001b[0;31mFileNotFoundError\u001b[0m: [Errno 2] No such file or directory: '~/Desktop/text.xlsx'"
     ]
    }
   ],
   "source": [
    "workbook = openpyxl.load_workbook(filename=filename)\n",
    "worksheet = workbook.worksheets[0]"
   ]
  },
  {
   "cell_type": "code",
   "execution_count": 30,
   "id": "3f7d1db8-e125-493c-a5a2-5a93c922f7ad",
   "metadata": {},
   "outputs": [],
   "source": [
    "column = worksheet[\"D5\":\"D235\"]\n",
    "results = list()\n",
    "for cell_tuple in column:\n",
    "    reference = str(cell_tuple[0].value)\n",
    "    clauses = [clause.strip() for clause in reference.split(\",\")]\n",
    "    result = set()\n",
    "    for clause in clauses:\n",
    "        # Skip clauses that start with certain prefixes\n",
    "        if any(clause.startswith(prefix) for prefix in [\"Figure\", \"Table\", \"Pg\"]):\n",
    "            continue\n",
    "        # Strip off any leading \"Line \"s\n",
    "        if clause.startswith(\"Line \"):\n",
    "            clause = clause[5:]\n",
    "        if clause == \"General\":\n",
    "            result.add(clause)\n",
    "        elif clause == \"None\":\n",
    "            result.add(\"\")\n",
    "        else:\n",
    "            line_numbers = [int(word) for word in clause.split(\"-\")]\n",
    "            result |= set([get_section(line_number) for line_number in line_numbers])\n",
    "    results.append(\", \".join(list(result)))"
   ]
  },
  {
   "cell_type": "code",
   "execution_count": 31,
   "id": "09d2cf8e-3491-4939-a5d9-de6f3d99d43b",
   "metadata": {},
   "outputs": [],
   "source": [
    "# Now insert the results into the spreadsheet\n",
    "for row, entry in zip(range(5, 236), results):\n",
    "    worksheet[f\"I{row}\"] = entry"
   ]
  },
  {
   "cell_type": "code",
   "execution_count": 36,
   "id": "47ab5d1d-125b-4735-afef-c68019e44b58",
   "metadata": {},
   "outputs": [],
   "source": [
    "# help(workbook.save)\n",
    "workbook.save(\"/Users/livesey/Desktop/test.xlsx\")"
   ]
  },
  {
   "cell_type": "code",
   "execution_count": null,
   "id": "b71e9017-7f87-457e-9ee0-11c236c90f0c",
   "metadata": {},
   "outputs": [],
   "source": []
  }
 ],
 "metadata": {
  "kernelspec": {
   "display_name": "Python 3 (ipykernel)",
   "language": "python",
   "name": "python3"
  },
  "language_info": {
   "codemirror_mode": {
    "name": "ipython",
    "version": 3
   },
   "file_extension": ".py",
   "mimetype": "text/x-python",
   "name": "python",
   "nbconvert_exporter": "python",
   "pygments_lexer": "ipython3",
   "version": "3.12.8"
  }
 },
 "nbformat": 4,
 "nbformat_minor": 5
}
