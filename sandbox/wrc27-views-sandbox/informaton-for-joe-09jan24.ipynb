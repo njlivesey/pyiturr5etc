{
 "cells": [
  {
   "cell_type": "code",
   "execution_count": null,
   "id": "95b4fea6-93d6-428f-9dd7-fe7c5edda405",
   "metadata": {
    "tags": []
   },
   "outputs": [],
   "source": [
    "# fmt: off\n",
    "%matplotlib inline\n",
    "%config InlineBackend.figure_format = \"retina\"\n",
    "%load_ext autoreload\n",
    "%load_ext jupyter_black\n",
    "import numpy as np\n",
    "import matplotlib\n",
    "import matplotlib.pyplot as plt\n",
    "import pickle\n",
    "from mls_scf_tools.mls_pint import ureg\n",
    "plt.style.use(\"mls_scf\")\n",
    "def vdir(obj):\n",
    "    return [x for x in dir(obj) if not x.startswith('__')]"
   ]
  },
  {
   "cell_type": "code",
   "execution_count": null,
   "id": "28c242e1-e48e-430d-8b32-00f48d61d59f",
   "metadata": {},
   "outputs": [],
   "source": [
    "import intervaltree\n",
    "import itertools\n",
    "import pint\n",
    "from matplotlib import colormaps\n",
    "import warnings\n",
    "import json\n",
    "import pathlib\n",
    "from matplotlib.backends.backend_pdf import PdfPages"
   ]
  },
  {
   "cell_type": "code",
   "execution_count": null,
   "id": "9e077685-9721-4447-8109-794e0a45b983",
   "metadata": {
    "tags": []
   },
   "outputs": [],
   "source": [
    "%autoreload 2\n",
    "import njl_corf\n",
    "from njl_corf.pyfcctab import ureg\n",
    "import njl_corf.pyfcctab as pyfcctab\n",
    "import njl_corf.pyoscar as pyoscar\n",
    "import njl_corf.band_figure as band_figure\n",
    "import njl_corf.wrc27_views as wrc27_views"
   ]
  },
  {
   "cell_type": "code",
   "execution_count": null,
   "id": "6f1d705f-ff9a-40ff-9685-1227508d92a4",
   "metadata": {
    "tags": []
   },
   "outputs": [],
   "source": [
    "allocation_database = pyfcctab.read(skip_additionals=True)"
   ]
  },
  {
   "cell_type": "code",
   "execution_count": null,
   "id": "bc161ce9-9ee3-4ac3-88de-2c14a047e440",
   "metadata": {
    "tags": []
   },
   "outputs": [],
   "source": [
    "bands = [\n",
    "    band\n",
    "    for band in allocation_database.itu\n",
    "    if band.has_allocation(\n",
    "        \"Earth Exploration-Satellite (active)*\", case_sensitive=False\n",
    "    )\n",
    "]"
   ]
  },
  {
   "cell_type": "code",
   "execution_count": null,
   "id": "f493e083-d0ba-44fc-b7cb-27df6cc36e37",
   "metadata": {
    "tags": []
   },
   "outputs": [],
   "source": [
    "text = pyfcctab.htmltable(\n",
    "    bands,\n",
    "    append_footnotes=True,\n",
    "    filename=\"for-joe.html\",\n",
    "    omit_css=False,\n",
    ")"
   ]
  },
  {
   "cell_type": "code",
   "execution_count": null,
   "id": "8e70608a-577a-4082-b097-3b3363fedb9a",
   "metadata": {
    "tags": []
   },
   "outputs": [],
   "source": []
  },
  {
   "cell_type": "code",
   "execution_count": null,
   "id": "ac1e60b7-0f9a-4743-9314-9c79ff31a0d7",
   "metadata": {},
   "outputs": [],
   "source": []
  }
 ],
 "metadata": {
  "kernelspec": {
   "display_name": "njl-base-3.10-24may23",
   "language": "python",
   "name": "njl-base-3.10-24may23"
  },
  "language_info": {
   "codemirror_mode": {
    "name": "ipython",
    "version": 3
   },
   "file_extension": ".py",
   "mimetype": "text/x-python",
   "name": "python",
   "nbconvert_exporter": "python",
   "pygments_lexer": "ipython3",
   "version": "3.10.12"
  }
 },
 "nbformat": 4,
 "nbformat_minor": 5
}
