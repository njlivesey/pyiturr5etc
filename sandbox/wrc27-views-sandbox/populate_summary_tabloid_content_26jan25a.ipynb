{
    "cells": [
        {
            "cell_type": "code",
            "execution_count": null,
            "id": "0",
            "metadata": {},
            "outputs": [],
            "source": [
                "# fmt: off\n",
                "%matplotlib inline\n",
                "%config InlineBackend.figure_format = \"retina\"\n",
                "%load_ext autoreload\n",
                "%load_ext jupyter_black\n",
                "import numpy as np\n",
                "import matplotlib\n",
                "import matplotlib.pyplot as plt\n",
                "from njl_corf import ureg\n",
                "plt.style.use(\"mls_scf\")\n",
                "def vdir(obj):\n",
                "    return [x for x in dir(obj) if not x.startswith('__')]\n"
            ]
        },
        {
            "cell_type": "code",
            "execution_count": null,
            "id": "1",
            "metadata": {},
            "outputs": [],
            "source": [
                "import json\n",
                "from typing import TextIO\n",
                "import re"
            ]
        },
        {
            "cell_type": "code",
            "execution_count": null,
            "id": "2",
            "metadata": {},
            "outputs": [],
            "source": [
                "%autoreload 2"
            ]
        },
        {
            "cell_type": "code",
            "execution_count": null,
            "id": "3",
            "metadata": {},
            "outputs": [],
            "source": [
                "from njl_corf import wrc27_views"
            ]
        },
        {
            "cell_type": "code",
            "execution_count": null,
            "id": "4",
            "metadata": {},
            "outputs": [],
            "source": [
                "def wrap_frequency_ranges(input_text: str) -> str:\n",
                "    \"\"\"\n",
                "    Finds frequency ranges in the input text and wraps them in LaTeX \\mbox{}.\n",
                "    A frequency range is defined as \"<f-low>-<f-high> <units>\" where:\n",
                "    - <f-low> and <f-high> use white spaces as thousands separators and may contain decimals.\n",
                "    - <units> is one of kHz, MHz, or GHz.\n",
                "    \"\"\"\n",
                "    # Regex to match the frequency range, allowing for decimals\n",
                "    freq_range_pattern = r\"\\b(\\d{1,3}(?: \\d{3})*(?:\\.\\d+)?)-(\\d{1,3}(?: \\d{3})*(?:\\.\\d+)?)\\s*(kHz|MHz|GHz)\\b\"\n",
                "\n",
                "    # Substitute the matched frequency range with the LaTeX \\mbox{}\n",
                "    def replacer(match):\n",
                "        f_low, f_high, units = match.groups()\n",
                "        return f\"\\\\mbox{{{f_low}-{f_high} {units}}}\"\n",
                "\n",
                "    # Apply the substitution to the input text\n",
                "    return re.sub(freq_range_pattern, replacer, input_text)"
            ]
        },
        {
            "cell_type": "code",
            "execution_count": null,
            "id": "5",
            "metadata": {},
            "outputs": [],
            "source": [
                "def format_frequency_ranges(input_text: str) -> str:\n",
                "    \"\"\"\n",
                "    Finds frequency ranges in the input text where the separator is an en-dash (\\u2013),\n",
                "    and reformats them for LaTeX:\n",
                "    - Wraps the frequency range in \\mbox{}.\n",
                "    - Replaces the en-dash (\\u2013) with \"--\".\n",
                "    - Replaces the space before the unit with a LaTeX half-space (\"\\,\"), preserving units.\n",
                "    \"\"\"\n",
                "    # Regex to match the frequency range with an en-dash (\\u2013)\n",
                "    freq_range_pattern = r\"\\b(\\d+(?:\\.\\d+)?)\\u2013(\\d+(?:\\.\\d+)?)\\s*(kHz|MHz|GHz)\\b\"\n",
                "\n",
                "    # Substitute the matched frequency range with the formatted version\n",
                "    def replacer(match):\n",
                "        f_low, f_high, units = match.groups()\n",
                "        return f\"\\\\mbox{{{f_low}--{f_high}\\,{units}}}\"\n",
                "\n",
                "    # Apply the substitution to the input text\n",
                "    return re.sub(freq_range_pattern, replacer, input_text)"
            ]
        },
        {
            "cell_type": "code",
            "execution_count": null,
            "id": "6",
            "metadata": {},
            "outputs": [],
            "source": [
                "def clean_ai_text(text: str) -> str:\n",
                "    \"\"\"Do things to clean up the text and make it LaTeX ready\"\"\"\n",
                "    return wrap_frequency_ranges(text)"
            ]
        },
        {
            "cell_type": "code",
            "execution_count": null,
            "id": "7",
            "metadata": {},
            "outputs": [],
            "source": [
                "def clean_ai_title(text: str) -> str:\n",
                "    \"\"\"Do things to clean up the text and make it LaTeX ready\"\"\"\n",
                "    return format_frequency_ranges(text)\n",
                "    nbs = \"\\u00A0\"\n",
                "    dash = \"\\u2013\"\n",
                "    for unit in [\"kHz\", \" MHz\", \" GHz\"]:\n",
                "        text = text.replace(f\"{nbs}{unit}\", f\"~{unit}\")\n",
                "    text = text.replace(dash, \"--\")\n",
                "    return text"
            ]
        },
        {
            "cell_type": "code",
            "execution_count": null,
            "id": "8",
            "metadata": {},
            "outputs": [],
            "source": [
                "agenda_items = wrc27_views.get_ai_info()"
            ]
        },
        {
            "cell_type": "code",
            "execution_count": null,
            "id": "9",
            "metadata": {},
            "outputs": [],
            "source": [
                "with open(\"agenda_items.json\") as json_file:\n",
                "    references = json.load(json_file)"
            ]
        },
        {
            "cell_type": "code",
            "execution_count": null,
            "id": "10",
            "metadata": {},
            "outputs": [],
            "source": [
                "print(references.keys())"
            ]
        },
        {
            "cell_type": "code",
            "execution_count": null,
            "id": "11",
            "metadata": {},
            "outputs": [],
            "source": [
                "def dump_wrc27_ai(number: int, output_file: TextIO):\n",
                "    \"\"\"Write information into the file\"\"\"\n",
                "    details = references[f\"27_1.{number}\"]\n",
                "    code = \"AI\" + chr(number - 1 + ord(\"a\"))\n",
                "    lines = []\n",
                "    # Do the section title\n",
                "    lines.append(\n",
                "        r\"\\newcommand{\"\n",
                "        + \"\\\\\"\n",
                "        + code\n",
                "        + r\"Title}{AI-1.\"\n",
                "        + str(number)\n",
                "        + \": \"\n",
                "        + clean_ai_title(details[\"Short title\"])\n",
                "        + r\"}\"\n",
                "    )\n",
                "    # Now the figure\n",
                "    lines.append(\n",
                "        r\"\\newcommand{\"\n",
                "        + \"\\\\\"\n",
                "        + code\n",
                "        + r\"Figure}{/users/livesey/corf/njl-corf/sandbox/wrc27-views-sandbox/\"\n",
                "        r\"specific-ai-plots-no-legend/SpecificAI-WRC-\"\n",
                "        + \"27 AI-1.\"\n",
                "        + str(number)\n",
                "        + r\".pdf}\"\n",
                "    )\n",
                "    lines.append(\n",
                "        r\"\\newcommand{\"\n",
                "        + \"\\\\\"\n",
                "        + code\n",
                "        + r\"Text}{\"\n",
                "        + clean_ai_text(details[\"Title\"])\n",
                "        + r\"}\"\n",
                "    )\n",
                "    # Save it\n",
                "    output_file.writelines(line + \"\\n\" for line in lines)"
            ]
        },
        {
            "cell_type": "code",
            "execution_count": null,
            "id": "12",
            "metadata": {},
            "outputs": [],
            "source": [
                "with open(\n",
                "    \"summary-tabloids/summary-tabloid-content-wrc-27.tex\", \"w\", encoding=\"utf-8\"\n",
                ") as output_file:\n",
                "    for number in range(1, 20):\n",
                "        dump_wrc27_ai(number, output_file=output_file)"
            ]
        },
        {
            "cell_type": "code",
            "execution_count": null,
            "id": "13",
            "metadata": {},
            "outputs": [],
            "source": []
        },
        {
            "cell_type": "code",
            "execution_count": null,
            "id": "14",
            "metadata": {},
            "outputs": [],
            "source": []
        }
    ],
    "metadata": {
        "kernelspec": {
            "display_name": "Python 3 (ipykernel)",
            "language": "python",
            "name": "python3"
        },
        "language_info": {
            "codemirror_mode": {
                "name": "ipython",
                "version": 3
            },
            "file_extension": ".py",
            "mimetype": "text/x-python",
            "name": "python",
            "nbconvert_exporter": "python",
            "pygments_lexer": "ipython3",
            "version": "3.12.8"
        }
    },
    "nbformat": 4,
    "nbformat_minor": 5
}