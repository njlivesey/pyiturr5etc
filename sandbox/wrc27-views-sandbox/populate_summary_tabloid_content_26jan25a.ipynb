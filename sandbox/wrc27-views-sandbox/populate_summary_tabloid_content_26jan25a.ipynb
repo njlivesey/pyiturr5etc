{
 "cells": [
  {
   "cell_type": "code",
   "execution_count": 1,
   "id": "7411fafd-24b0-4f12-b90c-f2f42c27f95c",
   "metadata": {},
   "outputs": [],
   "source": [
    "# fmt: off\n",
    "%matplotlib inline\n",
    "%config InlineBackend.figure_format = \"retina\"\n",
    "%load_ext autoreload\n",
    "%load_ext jupyter_black\n",
    "import numpy as np\n",
    "import matplotlib\n",
    "import matplotlib.pyplot as plt\n",
    "import pickle\n",
    "from njl_corf import ureg\n",
    "plt.style.use(\"mls_scf\")\n",
    "def vdir(obj):\n",
    "    return [x for x in dir(obj) if not x.startswith('__')]\n"
   ]
  },
  {
   "cell_type": "code",
   "execution_count": 2,
   "id": "48fec2f9-4fa7-4c8b-97a8-b54bdab17e73",
   "metadata": {},
   "outputs": [],
   "source": [
    "import json\n",
    "from typing import TextIO\n",
    "import re"
   ]
  },
  {
   "cell_type": "code",
   "execution_count": 3,
   "id": "e13a9c96-2704-440e-a7b5-56a65021bf2f",
   "metadata": {},
   "outputs": [],
   "source": [
    "%autoreload 2"
   ]
  },
  {
   "cell_type": "code",
   "execution_count": 4,
   "id": "69de4219-cc10-4001-9458-7e47298ce94e",
   "metadata": {},
   "outputs": [],
   "source": [
    "from njl_corf import wrc27_views"
   ]
  },
  {
   "cell_type": "code",
   "execution_count": 25,
   "id": "bbee5827-d4bc-4e75-8ff5-59340bec84d5",
   "metadata": {},
   "outputs": [],
   "source": [
    "def wrap_frequency_ranges(input_text: str) -> str:\n",
    "    \"\"\"\n",
    "    Finds frequency ranges in the input text and wraps them in LaTeX \\mbox{}.\n",
    "    A frequency range is defined as \"<f-low>-<f-high> <units>\" where:\n",
    "    - <f-low> and <f-high> use white spaces as thousands separators and may contain decimals.\n",
    "    - <units> is one of kHz, MHz, or GHz.\n",
    "    \"\"\"\n",
    "    # Regex to match the frequency range, allowing for decimals\n",
    "    freq_range_pattern = r\"\\b(\\d{1,3}(?: \\d{3})*(?:\\.\\d+)?)-(\\d{1,3}(?: \\d{3})*(?:\\.\\d+)?)\\s*(kHz|MHz|GHz)\\b\"\n",
    "\n",
    "    # Substitute the matched frequency range with the LaTeX \\mbox{}\n",
    "    def replacer(match):\n",
    "        f_low, f_high, units = match.groups()\n",
    "        return f\"\\\\mbox{{{f_low}-{f_high} {units}}}\"\n",
    "\n",
    "    # Apply the substitution to the input text\n",
    "    return re.sub(freq_range_pattern, replacer, input_text)"
   ]
  },
  {
   "cell_type": "code",
   "execution_count": 34,
   "id": "4fdf3a0d-a97b-4e8c-9fc6-e1a1b2339f0d",
   "metadata": {},
   "outputs": [],
   "source": [
    "def format_frequency_ranges(input_text: str) -> str:\n",
    "    \"\"\"\n",
    "    Finds frequency ranges in the input text where the separator is an en-dash (\\u2013),\n",
    "    and reformats them for LaTeX:\n",
    "    - Wraps the frequency range in \\mbox{}.\n",
    "    - Replaces the en-dash (\\u2013) with \"--\".\n",
    "    - Replaces the space before the unit with a LaTeX half-space (\"\\,\"), preserving units.\n",
    "    \"\"\"\n",
    "    # Regex to match the frequency range with an en-dash (\\u2013)\n",
    "    freq_range_pattern = r\"\\b(\\d+(?:\\.\\d+)?)\\u2013(\\d+(?:\\.\\d+)?)\\s*(kHz|MHz|GHz)\\b\"\n",
    "\n",
    "    # Substitute the matched frequency range with the formatted version\n",
    "    def replacer(match):\n",
    "        f_low, f_high, units = match.groups()\n",
    "        return f\"\\\\mbox{{{f_low}--{f_high}\\,{units}}}\"\n",
    "\n",
    "    # Apply the substitution to the input text\n",
    "    return re.sub(freq_range_pattern, replacer, input_text)"
   ]
  },
  {
   "cell_type": "code",
   "execution_count": 35,
   "id": "c45cef5c-04a9-40cc-a06a-90914408da9b",
   "metadata": {},
   "outputs": [],
   "source": [
    "def clean_ai_text(text: str) -> str:\n",
    "    \"\"\"Do things to clean up the text and make it LaTeX ready\"\"\"\n",
    "    return wrap_frequency_ranges(text)"
   ]
  },
  {
   "cell_type": "code",
   "execution_count": 36,
   "id": "619e1cc9-3474-4858-9eb9-d0ecd312f4a8",
   "metadata": {},
   "outputs": [],
   "source": [
    "def clean_ai_title(text: str) -> str:\n",
    "    \"\"\"Do things to clean up the text and make it LaTeX ready\"\"\"\n",
    "    return format_frequency_ranges(text)\n",
    "    nbs = \"\\u00A0\"\n",
    "    dash = \"\\u2013\"\n",
    "    for unit in [\"kHz\", \" MHz\", \" GHz\"]:\n",
    "        text = text.replace(f\"{nbs}{unit}\", f\"~{unit}\")\n",
    "    text = text.replace(dash, \"--\")\n",
    "    return text"
   ]
  },
  {
   "cell_type": "code",
   "execution_count": 37,
   "id": "c642fb9d-d4d5-4c98-bea1-3970b96fd0eb",
   "metadata": {},
   "outputs": [],
   "source": [
    "agenda_items = wrc27_views.get_ai_info()"
   ]
  },
  {
   "cell_type": "code",
   "execution_count": 38,
   "id": "8a0fe6f3-7998-490c-a02b-8c05eea43627",
   "metadata": {},
   "outputs": [],
   "source": [
    "with open(\"agenda_items.json\") as json_file:\n",
    "    references = json.load(json_file)"
   ]
  },
  {
   "cell_type": "code",
   "execution_count": 39,
   "id": "247958e9-550d-49d5-bd5a-ded61e8d5d67",
   "metadata": {},
   "outputs": [
    {
     "name": "stdout",
     "output_type": "stream",
     "text": [
      "dict_keys(['27_1.1', '27_1.10', '27_1.11', '27_1.12', '27_1.13', '27_1.14', '27_1.15', '27_1.16', '27_1.17', '27_1.18', '27_1.19', '27_1.2', '27_1.3', '27_1.4', '27_1.5', '27_1.6', '27_1.7', '27_1.8', '27_1.9', '31_2.1', '31_2.10', '31_2.11', '31_2.12', '31_2.13', '31_2.14', '31_2.2', '31_2.3', '31_2.4', '31_2.5', '31_2.6', '31_2.7', '31_2.8', '31_2.9'])\n"
     ]
    }
   ],
   "source": [
    "print(references.keys())"
   ]
  },
  {
   "cell_type": "code",
   "execution_count": 42,
   "id": "e76be1e9-e1d0-4d5a-af1b-3649dd60fb44",
   "metadata": {},
   "outputs": [],
   "source": [
    "def dump_wrc27_ai(number: int, output_file: TextIO):\n",
    "    \"\"\"Write information into the file\"\"\"\n",
    "    details = references[f\"27_1.{number}\"]\n",
    "    code = \"AI\" + chr(number - 1 + ord(\"a\"))\n",
    "    lines = []\n",
    "    # Do the section title\n",
    "    lines.append(\n",
    "        r\"\\newcommand{\"\n",
    "        + \"\\\\\"\n",
    "        + code\n",
    "        + r\"Title}{AI-1.\"\n",
    "        + str(number)\n",
    "        + \": \"\n",
    "        + clean_ai_title(details[\"Short title\"])\n",
    "        + r\"}\"\n",
    "    )\n",
    "    # Now the figure\n",
    "    lines.append(\n",
    "        r\"\\newcommand{\"\n",
    "        + \"\\\\\"\n",
    "        + code\n",
    "        + r\"Figure}{/users/livesey/corf/njl-corf/sandbox/wrc27-views-sandbox/\"\n",
    "        r\"specific-ai-plots-no-legend/SpecificAI-WRC-\"\n",
    "        + \"27 AI-1.\"\n",
    "        + str(number)\n",
    "        + r\".pdf}\"\n",
    "    )\n",
    "    lines.append(\n",
    "        r\"\\newcommand{\"\n",
    "        + \"\\\\\"\n",
    "        + code\n",
    "        + r\"Text}{\"\n",
    "        + clean_ai_text(details[\"Title\"])\n",
    "        + r\"}\"\n",
    "    )\n",
    "    # Save it\n",
    "    output_file.writelines(line + \"\\n\" for line in lines)"
   ]
  },
  {
   "cell_type": "code",
   "execution_count": 43,
   "id": "5494ed0a-3f6e-4152-a0a2-49569b371e14",
   "metadata": {},
   "outputs": [],
   "source": [
    "with open(\n",
    "    \"summary-tabloids/summary-tabloid-content-wrc-27.tex\", \"w\", encoding=\"utf-8\"\n",
    ") as output_file:\n",
    "    for number in range(1, 20):\n",
    "        dump_wrc27_ai(number, output_file=output_file)"
   ]
  },
  {
   "cell_type": "code",
   "execution_count": null,
   "id": "2efd6e7c-41fc-4f2d-a5ce-6b98d09782c4",
   "metadata": {},
   "outputs": [],
   "source": []
  },
  {
   "cell_type": "code",
   "execution_count": null,
   "id": "f4d05ab9-6800-42b9-af58-51663349d93e",
   "metadata": {},
   "outputs": [],
   "source": []
  }
 ],
 "metadata": {
  "kernelspec": {
   "display_name": "Python 3 (ipykernel)",
   "language": "python",
   "name": "python3"
  },
  "language_info": {
   "codemirror_mode": {
    "name": "ipython",
    "version": 3
   },
   "file_extension": ".py",
   "mimetype": "text/x-python",
   "name": "python",
   "nbconvert_exporter": "python",
   "pygments_lexer": "ipython3",
   "version": "3.12.8"
  }
 },
 "nbformat": 4,
 "nbformat_minor": 5
}
