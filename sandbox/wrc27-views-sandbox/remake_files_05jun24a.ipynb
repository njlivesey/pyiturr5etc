{
 "cells": [
  {
   "cell_type": "code",
   "execution_count": null,
   "id": "bef2e3cf-4f9d-4557-9e30-3a7d05a2b564",
   "metadata": {
    "tags": []
   },
   "outputs": [],
   "source": [
    "# fmt: off\n",
    "%matplotlib inline\n",
    "%config InlineBackend.figure_format = \"retina\"\n",
    "%load_ext autoreload\n",
    "%load_ext jupyter_black\n",
    "import numpy as np\n",
    "import matplotlib\n",
    "import matplotlib.pyplot as plt\n",
    "import pickle\n",
    "from mls_scf_tools.mls_pint import ureg\n",
    "plt.style.use(\"mls_scf\")\n",
    "def vdir(obj):\n",
    "    return [x for x in dir(obj) if not x.startswith('__')]\n"
   ]
  },
  {
   "cell_type": "code",
   "execution_count": null,
   "id": "81264299-a7a7-475c-8d3f-318ab9a9b1b9",
   "metadata": {
    "tags": []
   },
   "outputs": [],
   "source": [
    "import intervaltree\n",
    "import itertools\n",
    "import pint\n",
    "from matplotlib import colormaps\n",
    "import warnings\n",
    "import json\n",
    "import pathlib\n",
    "from matplotlib.backends.backend_pdf import PdfPages\n",
    "import re"
   ]
  },
  {
   "cell_type": "code",
   "execution_count": null,
   "id": "a0fe285c-7936-4491-b301-30261a06a6a7",
   "metadata": {
    "tags": []
   },
   "outputs": [],
   "source": [
    "%autoreload 2\n",
    "import njl_corf\n",
    "from njl_corf.pyfcctab import ureg\n",
    "import njl_corf.pyfcctab as pyfcctab\n",
    "import njl_corf.pyoscar as pyoscar\n",
    "import njl_corf.band_figure as band_figure\n",
    "import njl_corf.wrc27_views as wrc27_views"
   ]
  },
  {
   "cell_type": "code",
   "execution_count": null,
   "id": "d7ce2425-f8b6-496c-9793-d9eb83ab1f75",
   "metadata": {
    "tags": []
   },
   "outputs": [],
   "source": [
    "allocation_database = pyfcctab.read(skip_additionals=False)"
   ]
  },
  {
   "cell_type": "code",
   "execution_count": null,
   "id": "53caefb5-b65c-497d-a051-e6f0f8455350",
   "metadata": {
    "tags": []
   },
   "outputs": [],
   "source": [
    "print(allocation_database.r1[35.51 * ureg.GHz][0].bounds)"
   ]
  },
  {
   "cell_type": "code",
   "execution_count": null,
   "id": "2f455db1-14fa-4cf5-b8b7-018819032b12",
   "metadata": {
    "tags": []
   },
   "outputs": [],
   "source": [
    "oscar_database = pyoscar.read()\n",
    "oscar_database = pyoscar.merge_sensors(\n",
    "    oscar_database,\n",
    "    {\n",
    "        \"AMSR\": \"AMSR*\",\n",
    "        \"ATMS\": \"ATMS*\",\n",
    "        \"AWS\": \"AWS*\",\n",
    "        \"MWTS\": \"MWTS*\",\n",
    "        \"SSMIS\": \"SSMIS*\",\n",
    "        \"AMSU\": \"AMSU*\",\n",
    "        #        \"MWRI\": \"MWRI*\",\n",
    "        \"MWS\": \"MWS*\",\n",
    "        \"MTVZA\": \"MTVZA*\",\n",
    "        \"MWI\": \"MWI*\",\n",
    "        \"SRAL\": \"SRAL*\",\n",
    "        \"OSCAT\": \"OSCAT*\",\n",
    "        \"Altimetry\": [\"ALT*\", \"RA*\", \"Altimeter*\"],\n",
    "        \"Precipitation\": [\"PR*\", \"DPR*\", \"Rainradar\"],\n",
    "        \"Poseidon\": \"Poseidon*\",\n",
    "        \"SWIM\": \"SWIM*\",\n",
    "        \"MWR\": \"MWR*\",\n",
    "        \"WSF\": \"WSF*\",\n",
    "        \"MLS\": \"MLS*\",\n",
    "        \"ICI\": \"ICI*\",\n",
    "    },\n",
    ")"
   ]
  },
  {
   "cell_type": "code",
   "execution_count": null,
   "id": "0b9c64a3-928e-49bc-9908-ec4ee055d872",
   "metadata": {
    "tags": []
   },
   "outputs": [],
   "source": [
    "config = band_figure.FigureConfiguration.load()"
   ]
  },
  {
   "cell_type": "code",
   "execution_count": null,
   "id": "6cfe3f30-87a8-4675-a3e8-944308328028",
   "metadata": {
    "tags": []
   },
   "outputs": [],
   "source": [
    "ai_ranges = wrc27_views.get_ai_info()"
   ]
  },
  {
   "cell_type": "code",
   "execution_count": null,
   "id": "6593afbd-06d9-4271-af60-66c1e285fea4",
   "metadata": {
    "tags": []
   },
   "outputs": [],
   "source": [
    "def make_html():\n",
    "    for ai in ai_ranges.keys():\n",
    "        wrc27_views.ai_html_summary(\n",
    "            ai,\n",
    "            allocation_database=allocation_database,\n",
    "            oscar_database=oscar_database,\n",
    "        )\n",
    "\n",
    "\n",
    "make_html()"
   ]
  },
  {
   "cell_type": "code",
   "execution_count": null,
   "id": "5b8016fd-7769-467c-999d-70f5fbbdf82b",
   "metadata": {},
   "outputs": [],
   "source": [
    "wrc27_views.generate_index_html()"
   ]
  },
  {
   "cell_type": "code",
   "execution_count": null,
   "id": "dff929b7-f8d4-42de-816f-607b6ab06bdb",
   "metadata": {
    "tags": []
   },
   "outputs": [],
   "source": [
    "import pathlib\n",
    "import shutil"
   ]
  },
  {
   "cell_type": "code",
   "execution_count": null,
   "id": "24bc1ca8-591a-476c-955c-1d4090682366",
   "metadata": {
    "tags": []
   },
   "outputs": [],
   "source": [
    "# wrc27_views.push_information()"
   ]
  },
  {
   "cell_type": "code",
   "execution_count": null,
   "id": "a38bca40-73ae-4ec9-a9a9-d837c5ac9c74",
   "metadata": {},
   "outputs": [],
   "source": []
  }
 ],
 "metadata": {
  "kernelspec": {
   "display_name": "njl-base-3.10-24may23",
   "language": "python",
   "name": "njl-base-3.10-24may23"
  },
  "language_info": {
   "codemirror_mode": {
    "name": "ipython",
    "version": 3
   },
   "file_extension": ".py",
   "mimetype": "text/x-python",
   "name": "python",
   "nbconvert_exporter": "python",
   "pygments_lexer": "ipython3",
   "version": "3.10.12"
  }
 },
 "nbformat": 4,
 "nbformat_minor": 5
}
