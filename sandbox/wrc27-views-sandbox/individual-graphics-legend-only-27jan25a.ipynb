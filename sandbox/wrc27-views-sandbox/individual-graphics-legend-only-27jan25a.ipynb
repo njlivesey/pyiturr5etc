{
 "cells": [
  {
   "cell_type": "code",
   "execution_count": null,
   "id": "0",
   "metadata": {},
   "outputs": [],
   "source": [
    "# fmt: off\n",
    "%matplotlib inline\n",
    "%config InlineBackend.figure_format = \"retina\"\n",
    "%load_ext autoreload\n",
    "%load_ext jupyter_black\n",
    "import numpy as np\n",
    "import matplotlib\n",
    "import matplotlib.pyplot as plt\n",
    "from njl_corf import ureg\n",
    "plt.style.use(\"mls_scf\")\n",
    "def vdir(obj):\n",
    "    return [x for x in dir(obj) if not x.startswith('__')]\n"
   ]
  },
  {
   "cell_type": "code",
   "execution_count": null,
   "id": "1",
   "metadata": {},
   "outputs": [],
   "source": [
    "pass"
   ]
  },
  {
   "cell_type": "code",
   "execution_count": null,
   "id": "2",
   "metadata": {},
   "outputs": [],
   "source": [
    "%autoreload 2"
   ]
  },
  {
   "cell_type": "code",
   "execution_count": null,
   "id": "3",
   "metadata": {},
   "outputs": [],
   "source": [
    "from njl_corf.wrc27_individual_ai_figures import wrc_ai_figure_legend\n",
    "from njl_corf.wrc27_figure_support import get_wrc_color_scheme, set_nas_graphic_style"
   ]
  },
  {
   "cell_type": "code",
   "execution_count": null,
   "id": "4",
   "metadata": {},
   "outputs": [],
   "source": [
    "figure_colors = get_wrc_color_scheme(\"new-b\")\n",
    "set_nas_graphic_style()"
   ]
  },
  {
   "cell_type": "code",
   "execution_count": null,
   "id": "5",
   "metadata": {},
   "outputs": [],
   "source": [
    "row_height_inches = 0.15\n",
    "figure_height_inches = 3 * row_height_inches\n",
    "figure_width_inches = 10.6 / 2.54\n",
    "\n",
    "fig, ax = plt.subplots(\n",
    "    figsize=[figure_width_inches, figure_height_inches],\n",
    "    layout=\"constrained\",\n",
    ")\n",
    "ax.set_ylim(2.5, 0)\n",
    "wrc_ai_figure_legend(\n",
    "    fig=fig,\n",
    "    ax=ax,\n",
    "    n_rows=0,\n",
    "    figure_colors=figure_colors,\n",
    "    selective_legend=False,\n",
    ")\n",
    "ax.set_axis_off()\n",
    "fig.patch.set_alpha(0.0)  # Fully transparent figure background\n",
    "fig.savefig(\"specific-ai-plots-no-legend/stand-alone-legend.pdf\", bbox_inches=\"tight\")"
   ]
  },
  {
   "cell_type": "code",
   "execution_count": null,
   "id": "6",
   "metadata": {},
   "outputs": [],
   "source": []
  },
  {
   "cell_type": "code",
   "execution_count": null,
   "id": "7",
   "metadata": {},
   "outputs": [],
   "source": []
  }
 ],
 "metadata": {
  "kernelspec": {
   "display_name": "Python 3 (ipykernel)",
   "language": "python",
   "name": "python3"
  },
  "language_info": {
   "codemirror_mode": {
    "name": "ipython",
    "version": 3
   },
   "file_extension": ".py",
   "mimetype": "text/x-python",
   "name": "python",
   "nbconvert_exporter": "python",
   "pygments_lexer": "ipython3",
   "version": "3.12.8"
  }
 },
 "nbformat": 4,
 "nbformat_minor": 5
}
