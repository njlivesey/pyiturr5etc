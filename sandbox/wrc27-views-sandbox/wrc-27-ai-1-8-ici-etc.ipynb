{
 "cells": [
  {
   "cell_type": "code",
   "execution_count": null,
   "id": "0",
   "metadata": {
    "tags": []
   },
   "outputs": [],
   "source": [
    "# fmt: off\n",
    "%matplotlib inline\n",
    "%config InlineBackend.figure_format = \"retina\"\n",
    "%load_ext autoreload\n",
    "%load_ext jupyter_black\n",
    "import numpy as np\n",
    "import matplotlib\n",
    "import matplotlib.pyplot as plt\n",
    "from njl_corf import ureg\n",
    "plt.style.use(\"mls_scf\")\n",
    "def vdir(obj):\n",
    "    return [x for x in dir(obj) if not x.startswith('__')]"
   ]
  },
  {
   "cell_type": "code",
   "execution_count": null,
   "id": "1",
   "metadata": {
    "tags": []
   },
   "outputs": [],
   "source": [
    "from njl_corf import pyoscar\n",
    "from intervaltree import IntervalTree"
   ]
  },
  {
   "cell_type": "code",
   "execution_count": null,
   "id": "2",
   "metadata": {
    "tags": []
   },
   "outputs": [],
   "source": [
    "oscar_data = pyoscar.read()"
   ]
  },
  {
   "cell_type": "code",
   "execution_count": null,
   "id": "3",
   "metadata": {
    "tags": []
   },
   "outputs": [],
   "source": [
    "# Get the ICI bands listed in OSCAR.\n",
    "bands = IntervalTree(\n",
    "    [\n",
    "        band\n",
    "        for band in oscar_data[231.5 * ureg.GHz : 700 * ureg.GHz]\n",
    "        if band.data.service == \"ICI\" and band.data.satellite.endswith(\"B1\")\n",
    "    ]\n",
    ")"
   ]
  },
  {
   "cell_type": "code",
   "execution_count": null,
   "id": "4",
   "metadata": {
    "tags": []
   },
   "outputs": [],
   "source": [
    "# Show the ranges\n",
    "for b in sorted(bands):\n",
    "    print(b.begin, b.end)"
   ]
  },
  {
   "cell_type": "code",
   "execution_count": null,
   "id": "5",
   "metadata": {
    "tags": []
   },
   "outputs": [],
   "source": [
    "# Get the entries from RR 5.565\n",
    "text = (\n",
    "    \"275-286 GHz, 296-306 GHz, 313-356 GHz, 361-365 GHz, \"\n",
    "    \"369-392 GHz, 397-399 GHz, 409-411 GHz, 416-434 GHz, \"\n",
    "    \"439-467 GHz, 477-502 GHz, 523-527 GHz, 538-581 GHz, \"\n",
    "    \"611-630 GHz, 634-654 GHz, 657-692 GHz, 713-718 GHz, \"\n",
    "    \"729-733 GHz, 750-754 GHz, 771-776 GHz, 823-846 GHz, \"\n",
    "    \"850-854 GHz, 857-862 GHz, 866-882 GHz, 905-928 GHz, \"\n",
    "    \"951-956 GHz, 968-973 GHz and 985-990 GHz\"\n",
    ")\n",
    "clauses = text.split(\",\")\n",
    "clauses += clauses.pop(-1).split(\"and\")\n",
    "rr_bands = IntervalTree()\n",
    "for c in clauses:\n",
    "    prefix = c[:-4]\n",
    "    begin, end = prefix.split(\"-\")\n",
    "    begin = float(begin) * ureg.GHz\n",
    "    end = float(end) * ureg.GHz\n",
    "    rr_bands[begin:end] = None"
   ]
  },
  {
   "cell_type": "code",
   "execution_count": null,
   "id": "6",
   "metadata": {
    "tags": []
   },
   "outputs": [],
   "source": [
    "for b in sorted(rr_bands):\n",
    "    print(b.begin, b.end)"
   ]
  },
  {
   "cell_type": "code",
   "execution_count": null,
   "id": "7",
   "metadata": {},
   "outputs": [],
   "source": []
  }
 ],
 "metadata": {
  "kernelspec": {
   "display_name": "njl-base-3.10-24may23",
   "language": "python",
   "name": "njl-base-3.10-24may23"
  },
  "language_info": {
   "codemirror_mode": {
    "name": "ipython",
    "version": 3
   },
   "file_extension": ".py",
   "mimetype": "text/x-python",
   "name": "python",
   "nbconvert_exporter": "python",
   "pygments_lexer": "ipython3",
   "version": "3.10.12"
  }
 },
 "nbformat": 4,
 "nbformat_minor": 5
}
