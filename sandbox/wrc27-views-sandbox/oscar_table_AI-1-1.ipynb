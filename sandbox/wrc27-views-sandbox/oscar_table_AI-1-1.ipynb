{
 "cells": [
  {
   "cell_type": "code",
   "execution_count": null,
   "id": "6975e3e3-250d-46c3-9622-bbf75daa34a4",
   "metadata": {
    "tags": []
   },
   "outputs": [],
   "source": [
    "# fmt: off\n",
    "%matplotlib inline\n",
    "%config InlineBackend.figure_format = \"retina\"\n",
    "%load_ext autoreload\n",
    "%load_ext jupyter_black\n",
    "import numpy as np\n",
    "import matplotlib\n",
    "import matplotlib.pyplot as plt\n",
    "import pickle\n",
    "from njl_corf import ureg\n",
    "plt.style.use(\"mls_scf\")\n",
    "def vdir(obj):\n",
    "    return [x for x in dir(obj) if not x.startswith('__')]"
   ]
  },
  {
   "cell_type": "code",
   "execution_count": null,
   "id": "539f7611-4278-43a7-8eed-d60b373ffedc",
   "metadata": {
    "tags": []
   },
   "outputs": [],
   "source": [
    "%autoreload 2\n",
    "from njl_corf import pyoscar"
   ]
  },
  {
   "cell_type": "code",
   "execution_count": null,
   "id": "5803ad45-6ff2-42a9-aa32-d26c2f25066d",
   "metadata": {
    "tags": []
   },
   "outputs": [],
   "source": [
    "oscar_data = pyoscar.read()"
   ]
  },
  {
   "cell_type": "code",
   "execution_count": null,
   "id": "c3a78bb8-4a34-4c19-95fb-7f2b269cd504",
   "metadata": {
    "tags": []
   },
   "outputs": [],
   "source": [
    "bands = oscar_data[9.2 * ureg.GHz : 10.4 * ureg.GHz]"
   ]
  },
  {
   "cell_type": "code",
   "execution_count": null,
   "id": "24684b93-5330-4328-8b60-fd5e21fe6c1a",
   "metadata": {
    "tags": []
   },
   "outputs": [],
   "source": [
    "for b in bands:\n",
    "    print(b.data.satellite, b.data.service)"
   ]
  },
  {
   "cell_type": "code",
   "execution_count": null,
   "id": "ecb4a808-8f26-4a51-8029-d4740b0a15b7",
   "metadata": {},
   "outputs": [],
   "source": []
  }
 ],
 "metadata": {
  "kernelspec": {
   "display_name": "njl-base-3.10-24may23",
   "language": "python",
   "name": "njl-base-3.10-24may23"
  },
  "language_info": {
   "codemirror_mode": {
    "name": "ipython",
    "version": 3
   },
   "file_extension": ".py",
   "mimetype": "text/x-python",
   "name": "python",
   "nbconvert_exporter": "python",
   "pygments_lexer": "ipython3",
   "version": "3.10.12"
  }
 },
 "nbformat": 4,
 "nbformat_minor": 5
}
