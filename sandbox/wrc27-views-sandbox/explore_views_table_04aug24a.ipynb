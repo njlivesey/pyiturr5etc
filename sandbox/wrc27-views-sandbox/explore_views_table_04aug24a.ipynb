{
 "cells": [
  {
   "cell_type": "code",
   "execution_count": null,
   "id": "813b16a3-6b26-4f87-aac0-028bbf455a3c",
   "metadata": {
    "tags": []
   },
   "outputs": [],
   "source": [
    "# fmt: off\n",
    "%matplotlib inline\n",
    "%config InlineBackend.figure_format = \"retina\"\n",
    "%load_ext autoreload\n",
    "%load_ext jupyter_black\n",
    "import numpy as np\n",
    "import matplotlib\n",
    "import matplotlib.pyplot as plt\n",
    "import pickle\n",
    "from njl_corf import ureg\n",
    "plt.style.use(\"mls_scf\")\n",
    "def vdir(obj):\n",
    "    return [x for x in dir(obj) if not x.startswith('__')]\n"
   ]
  },
  {
   "cell_type": "code",
   "execution_count": null,
   "id": "62bd4d19-787d-4248-92ac-1bff1821e09a",
   "metadata": {
    "tags": []
   },
   "outputs": [],
   "source": [
    "%autoreload 2"
   ]
  },
  {
   "cell_type": "code",
   "execution_count": null,
   "id": "f5a958b6-a17b-4fa5-a082-8c9411b0aa4c",
   "metadata": {
    "tags": []
   },
   "outputs": [],
   "source": [
    "from njl_corf import pyoscar, wrc27_tables"
   ]
  },
  {
   "cell_type": "code",
   "execution_count": null,
   "id": "0a721ae1-d51a-4511-9d45-a7f11ca490eb",
   "metadata": {
    "tags": []
   },
   "outputs": [],
   "source": [
    "data = pyoscar.read()"
   ]
  },
  {
   "cell_type": "code",
   "execution_count": null,
   "id": "37095cbd-a4cb-44ab-b858-d1831a61e67b",
   "metadata": {
    "tags": []
   },
   "outputs": [],
   "source": [
    "list(data[84 * ureg.GHz])[0].data"
   ]
  },
  {
   "cell_type": "code",
   "execution_count": null,
   "id": "47beb576-7e50-4a22-abf2-b7f831ca1b4f",
   "metadata": {
    "tags": []
   },
   "outputs": [],
   "source": [
    "wrc27_tables.make_table(slice(83.0 * ureg.GHz, 87.0 * ureg.GHz), \"test.docx\")"
   ]
  },
  {
   "cell_type": "code",
   "execution_count": null,
   "id": "349f7409-0f8c-4780-b643-d784648ea88b",
   "metadata": {
    "tags": []
   },
   "outputs": [],
   "source": [
    "\"A-B-C\".split(\"-\", 1)"
   ]
  },
  {
   "cell_type": "code",
   "execution_count": null,
   "id": "b025c101-cc2c-4257-96e6-ea2991d9620a",
   "metadata": {},
   "outputs": [],
   "source": []
  }
 ],
 "metadata": {
  "kernelspec": {
   "display_name": "njl-base-3.10-24may23",
   "language": "python",
   "name": "njl-base-3.10-24may23"
  },
  "language_info": {
   "codemirror_mode": {
    "name": "ipython",
    "version": 3
   },
   "file_extension": ".py",
   "mimetype": "text/x-python",
   "name": "python",
   "nbconvert_exporter": "python",
   "pygments_lexer": "ipython3",
   "version": "3.10.12"
  }
 },
 "nbformat": 4,
 "nbformat_minor": 5
}
