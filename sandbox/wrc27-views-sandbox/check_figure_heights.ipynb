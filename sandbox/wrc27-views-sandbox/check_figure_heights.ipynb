{
    "cells": [
        {
            "cell_type": "code",
            "execution_count": null,
            "id": "0",
            "metadata": {
                "tags": []
            },
            "outputs": [],
            "source": [
                "# fmt: off\n",
                "%matplotlib inline\n",
                "%config InlineBackend.figure_format = \"retina\"\n",
                "%load_ext autoreload\n",
                "%load_ext jupyter_black\n",
                "import numpy as np\n",
                "import matplotlib\n",
                "import matplotlib.pyplot as plt\n",
                "from mls_scf_tools.mls_pint import ureg\n",
                "plt.style.use(\"mls_scf\")\n",
                "def vdir(obj):\n",
                "    return [x for x in dir(obj) if not x.startswith('__')]\n"
            ]
        },
        {
            "cell_type": "code",
            "execution_count": null,
            "id": "1",
            "metadata": {
                "tags": []
            },
            "outputs": [],
            "source": [
                "import glob\n",
                "from PIL import Image"
            ]
        },
        {
            "cell_type": "code",
            "execution_count": null,
            "id": "2",
            "metadata": {
                "tags": []
            },
            "outputs": [],
            "source": [
                "def get_image_heights(filenames):\n",
                "    y_pixels_list = []\n",
                "    for filename in filenames:\n",
                "        with Image.open(filename) as img:\n",
                "            width, height = img.size\n",
                "            y_pixels_list.append(height)\n",
                "    return y_pixels_list"
            ]
        },
        {
            "cell_type": "code",
            "execution_count": null,
            "id": "3",
            "metadata": {
                "tags": []
            },
            "outputs": [],
            "source": [
                "# Example usage\n",
                "heights = get_image_heights(glob.glob(\"specific-ai-plots/*.png\"))\n",
                "heights = np.array(sorted(list(set(heights))))\n",
                "print(heights)\n",
                "delta = np.diff(heights)\n",
                "print(delta)"
            ]
        },
        {
            "cell_type": "code",
            "execution_count": null,
            "id": "4",
            "metadata": {},
            "outputs": [],
            "source": []
        },
        {
            "cell_type": "code",
            "execution_count": null,
            "id": "5",
            "metadata": {},
            "outputs": [],
            "source": []
        }
    ],
    "metadata": {
        "kernelspec": {
            "display_name": "njl-base-3.10-24may23",
            "language": "python",
            "name": "njl-base-3.10-24may23"
        },
        "language_info": {
            "codemirror_mode": {
                "name": "ipython",
                "version": 3
            },
            "file_extension": ".py",
            "mimetype": "text/x-python",
            "name": "python",
            "nbconvert_exporter": "python",
            "pygments_lexer": "ipython3",
            "version": "3.10.12"
        }
    },
    "nbformat": 4,
    "nbformat_minor": 5
}