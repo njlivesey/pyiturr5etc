{
 "cells": [
  {
   "cell_type": "code",
   "execution_count": null,
   "id": "58dd70f4-36ed-48b5-bc12-ed4c985b3945",
   "metadata": {
    "tags": []
   },
   "outputs": [],
   "source": [
    "# fmt: off\n",
    "%matplotlib inline\n",
    "%config InlineBackend.figure_format = \"retina\"\n",
    "%load_ext autoreload\n",
    "%load_ext jupyter_black\n",
    "import numpy as np\n",
    "import matplotlib\n",
    "import matplotlib.pyplot as plt\n",
    "import pickle\n",
    "from mls_scf_tools.mls_pint import ureg\n",
    "plt.style.use(\"mls_scf\")\n",
    "def vdir(obj):\n",
    "    return [x for x in dir(obj) if not x.startswith('__')]\n"
   ]
  },
  {
   "cell_type": "code",
   "execution_count": null,
   "id": "c7bba220-bd9e-4751-bbf2-e88e08f70379",
   "metadata": {
    "tags": []
   },
   "outputs": [],
   "source": [
    "import glob\n",
    "from PIL import Image"
   ]
  },
  {
   "cell_type": "code",
   "execution_count": null,
   "id": "986e9fca-aca7-4835-84cb-3a38ed0803ae",
   "metadata": {
    "tags": []
   },
   "outputs": [],
   "source": [
    "def get_image_heights(filenames):\n",
    "    y_pixels_list = []\n",
    "    for filename in filenames:\n",
    "        with Image.open(filename) as img:\n",
    "            width, height = img.size\n",
    "            y_pixels_list.append(height)\n",
    "    return y_pixels_list"
   ]
  },
  {
   "cell_type": "code",
   "execution_count": null,
   "id": "504cc8b2-d4e1-4a94-bc19-3aebbfba5da1",
   "metadata": {
    "tags": []
   },
   "outputs": [],
   "source": [
    "# Example usage\n",
    "heights = get_image_heights(glob.glob(\"specific-ai-plots/*.png\"))\n",
    "heights = np.array(sorted(list(set(heights))))\n",
    "print(heights)\n",
    "delta = np.diff(heights)\n",
    "print(delta)"
   ]
  },
  {
   "cell_type": "code",
   "execution_count": null,
   "id": "61185750-920b-4d0a-9139-61e44d4be24d",
   "metadata": {},
   "outputs": [],
   "source": []
  },
  {
   "cell_type": "code",
   "execution_count": null,
   "id": "cf6c6276-1fa7-4b2d-842d-239d47a01188",
   "metadata": {},
   "outputs": [],
   "source": []
  }
 ],
 "metadata": {
  "kernelspec": {
   "display_name": "njl-base-3.10-24may23",
   "language": "python",
   "name": "njl-base-3.10-24may23"
  },
  "language_info": {
   "codemirror_mode": {
    "name": "ipython",
    "version": 3
   },
   "file_extension": ".py",
   "mimetype": "text/x-python",
   "name": "python",
   "nbconvert_exporter": "python",
   "pygments_lexer": "ipython3",
   "version": "3.10.12"
  }
 },
 "nbformat": 4,
 "nbformat_minor": 5
}
