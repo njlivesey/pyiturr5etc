{
 "cells": [
  {
   "cell_type": "code",
   "execution_count": null,
   "id": "bef2e3cf-4f9d-4557-9e30-3a7d05a2b564",
   "metadata": {
    "tags": []
   },
   "outputs": [],
   "source": [
    "# fmt: off\n",
    "%matplotlib inline\n",
    "%config InlineBackend.figure_format = \"retina\"\n",
    "%load_ext autoreload\n",
    "%load_ext jupyter_black\n",
    "import numpy as np\n",
    "import matplotlib\n",
    "import matplotlib.pyplot as plt\n",
    "import pickle\n",
    "from mls_scf_tools.mls_pint import ureg\n",
    "plt.style.use(\"mls_scf\")\n",
    "def vdir(obj):\n",
    "    return [x for x in dir(obj) if not x.startswith('__')]\n"
   ]
  },
  {
   "cell_type": "code",
   "execution_count": null,
   "id": "81264299-a7a7-475c-8d3f-318ab9a9b1b9",
   "metadata": {
    "tags": []
   },
   "outputs": [],
   "source": [
    "import intervaltree\n",
    "import itertools\n",
    "import pint\n",
    "from matplotlib import colormaps\n",
    "import warnings\n",
    "import json\n",
    "import pathlib"
   ]
  },
  {
   "cell_type": "code",
   "execution_count": null,
   "id": "a0fe285c-7936-4491-b301-30261a06a6a7",
   "metadata": {
    "tags": []
   },
   "outputs": [],
   "source": [
    "%autoreload 2\n",
    "import njl_corf\n",
    "from njl_corf.pyfcctab import ureg\n",
    "import njl_corf.pyfcctab as pyfcctab\n",
    "import njl_corf.pyoscar as pyoscar\n",
    "import njl_corf.band_figure as band_figure\n",
    "import njl_corf.wrc27_views as wrc27_views"
   ]
  },
  {
   "cell_type": "code",
   "execution_count": null,
   "id": "f85b520a-7531-4409-9788-fda0c46490f0",
   "metadata": {
    "tags": []
   },
   "outputs": [],
   "source": []
  },
  {
   "cell_type": "code",
   "execution_count": null,
   "id": "d7ce2425-f8b6-496c-9793-d9eb83ab1f75",
   "metadata": {
    "tags": []
   },
   "outputs": [],
   "source": [
    "allocation_database = pyfcctab.read(skip_additionals=False)"
   ]
  },
  {
   "cell_type": "code",
   "execution_count": null,
   "id": "2f455db1-14fa-4cf5-b8b7-018819032b12",
   "metadata": {
    "tags": []
   },
   "outputs": [],
   "source": [
    "oscar_database = pyoscar.read()\n",
    "oscar_database = pyoscar.merge_sensors(\n",
    "    oscar_database,\n",
    "    {\n",
    "        \"AMSR\": \"AMSR*\",\n",
    "        \"ATMS\": \"ATMS*\",\n",
    "        \"AWS\": \"AWS*\",\n",
    "        \"MWTS\": \"MWTS*\",\n",
    "        \"SSMIS\": \"SSMIS*\",\n",
    "        \"AMSU\": \"AMSU*\",\n",
    "        #        \"MWRI\": \"MWRI*\",\n",
    "        \"MWS\": \"MWS*\",\n",
    "        \"MTVZA\": \"MTVZA*\",\n",
    "        \"MWI\": \"MWI*\",\n",
    "        \"SRAL\": \"SRAL*\",\n",
    "        \"OSCAT\": \"OSCAT*\",\n",
    "        \"Altimetry\": [\"ALT*\", \"RA*\", \"Altimeter*\"],\n",
    "        \"Precipitation\": [\"PR*\", \"DPR*\", \"Rainradar\"],\n",
    "        \"Poseidon\": \"Poseidon*\",\n",
    "        \"SWIM\": \"SWIM*\",\n",
    "        \"MWR\": \"MWR*\",\n",
    "        \"WSF\": \"WSF*\",\n",
    "        \"MLS\": \"MLS*\",\n",
    "        \"ICI\": \"ICI*\",\n",
    "    },\n",
    ")"
   ]
  },
  {
   "cell_type": "code",
   "execution_count": null,
   "id": "0b9c64a3-928e-49bc-9908-ec4ee055d872",
   "metadata": {
    "tags": []
   },
   "outputs": [],
   "source": []
  },
  {
   "cell_type": "code",
   "execution_count": null,
   "id": "53ea6f5d-8390-4e55-b421-7b516070bda1",
   "metadata": {
    "tags": []
   },
   "outputs": [],
   "source": [
    "# help(matplotlib.patches.Polygon)"
   ]
  },
  {
   "cell_type": "code",
   "execution_count": null,
   "id": "d08ba4ab-1dc7-4880-b505-c6eae23d86f6",
   "metadata": {
    "tags": []
   },
   "outputs": [],
   "source": [
    "ai_ranges = wrc27_views.get_ai_info()"
   ]
  },
  {
   "cell_type": "code",
   "execution_count": null,
   "id": "7a41b95a-e5fe-465f-afb5-2d8743b314f1",
   "metadata": {
    "tags": []
   },
   "outputs": [],
   "source": [
    "collation_rules = {\n",
    "    \"Space research\": [\"Space research*\"],\n",
    "    \"Mobile\": [\"Mobile\", \"Mobile*\"],\n",
    "    \"Fixed\": [\"Fixed\", \"Fixed*\"],\n",
    "    \"Aeronautical\": [\"Aeronautical*\"],\n",
    "    \"EESS (passive)\": [\"Earth exploration-satellite (passive)\"],\n",
    "    \"EESS (active)\": [\"Earth exploration-satellite (active)\"],\n",
    "    \"EESS (comms)\": [\"Earth exploration-satellite (*to*)\"],\n",
    "    \"Amateur\": [\"Amateur*\"],\n",
    "    \"Radionavigation\": [\"Radionavigation*\"],\n",
    "}"
   ]
  },
  {
   "cell_type": "code",
   "execution_count": null,
   "id": "02724b72-614e-401d-b0fe-099a76bbbea4",
   "metadata": {
    "tags": []
   },
   "outputs": [],
   "source": [
    "config = band_figure.FigureConfiguration.load()\n",
    "ureg.setup_matplotlib()\n",
    "fig, ax = plt.subplots(figsize=[4, 8])  # , layout=\"constrained\")\n",
    "band_figure.views_plot(\n",
    "    frequency_range=ai_ranges[\"1.12c\"],\n",
    "    allocation_database=allocation_database,\n",
    "    oscar_database=oscar_database,\n",
    "    ax=ax,\n",
    "    figure_configuration=config,\n",
    "    collation_rules=collation_rules,\n",
    ")\n",
    "# plt.savefig(\"test.pdf\")"
   ]
  },
  {
   "cell_type": "code",
   "execution_count": null,
   "id": "4686c185-a4b8-4617-b4f9-ad3d616ed49e",
   "metadata": {
    "tags": []
   },
   "outputs": [],
   "source": [
    "bands = allocation_database.itu[183 * ureg.GHz]\n",
    "print([band.allocations[0].modifiers for band in bands])"
   ]
  },
  {
   "cell_type": "code",
   "execution_count": null,
   "id": "b1e30f90-e540-4ebd-9660-e2b5982b3aec",
   "metadata": {
    "tags": []
   },
   "outputs": [],
   "source": [
    "??allocation_database.itu.data.split_overlaps"
   ]
  },
  {
   "cell_type": "code",
   "execution_count": null,
   "id": "ba85083a-c603-42ef-b97e-eb1c7c23451d",
   "metadata": {},
   "outputs": [],
   "source": [
    "x = slice(1, 2)\n",
    "help(x)"
   ]
  },
  {
   "cell_type": "code",
   "execution_count": null,
   "id": "c0487d2c-b9db-46fd-bf36-cc3adb185d9c",
   "metadata": {
    "tags": []
   },
   "outputs": [],
   "source": [
    "import json"
   ]
  },
  {
   "cell_type": "code",
   "execution_count": null,
   "id": "93246e43-4275-41ef-be89-b18f2e4c8542",
   "metadata": {
    "tags": []
   },
   "outputs": [],
   "source": [
    "json.dumps({\"colors_scheme\": SERVICE_COLORS})"
   ]
  },
  {
   "cell_type": "code",
   "execution_count": null,
   "id": "8fd0bdf8-9575-4ab9-a197-565f607d8104",
   "metadata": {},
   "outputs": [],
   "source": []
  }
 ],
 "metadata": {
  "kernelspec": {
   "display_name": "njl-base-3.10-24may23",
   "language": "python",
   "name": "njl-base-3.10-24may23"
  },
  "language_info": {
   "codemirror_mode": {
    "name": "ipython",
    "version": 3
   },
   "file_extension": ".py",
   "mimetype": "text/x-python",
   "name": "python",
   "nbconvert_exporter": "python",
   "pygments_lexer": "ipython3",
   "version": "3.10.12"
  }
 },
 "nbformat": 4,
 "nbformat_minor": 5
}
