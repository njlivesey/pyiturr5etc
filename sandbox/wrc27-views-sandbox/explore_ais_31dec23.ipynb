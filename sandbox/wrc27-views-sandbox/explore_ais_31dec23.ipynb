{
    "cells": [
        {
            "cell_type": "code",
            "execution_count": 1,
            "id": "bef2e3cf-4f9d-4557-9e30-3a7d05a2b564",
            "metadata": {
                "tags": []
            },
            "outputs": [
                {
                    "data": {
                        "text/html": [
                            "\n",
                            "                <script type=\"application/javascript\" id=\"jupyter_black\">\n",
                            "                (function() {\n",
                            "                    if (window.IPython === undefined) {\n",
                            "                        return\n",
                            "                    }\n",
                            "                    var msg = \"WARNING: it looks like you might have loaded \" +\n",
                            "                        \"jupyter_black in a non-lab notebook with \" +\n",
                            "                        \"`is_lab=True`. Please double check, and if \" +\n",
                            "                        \"loading with `%load_ext` please review the README!\"\n",
                            "                    console.log(msg)\n",
                            "                    alert(msg)\n",
                            "                })()\n",
                            "                </script>\n",
                            "                "
                        ],
                        "text/plain": [
                            "<IPython.core.display.HTML object>"
                        ]
                    },
                    "metadata": {},
                    "output_type": "display_data"
                }
            ],
            "source": [
                "# fmt: off\n",
                "%matplotlib inline\n",
                "%config InlineBackend.figure_format = \"retina\"\n",
                "%load_ext autoreload\n",
                "%load_ext jupyter_black\n",
                "import numpy as np\n",
                "import matplotlib\n",
                "import matplotlib.pyplot as plt\n",
                "import pickle\n",
                "from mls_scf_tools.mls_pint import ureg\n",
                "plt.style.use(\"mls_scf\")\n",
                "def vdir(obj):\n",
                "    return [x for x in dir(obj) if not x.startswith('__')]\n"
            ]
        },
        {
            "cell_type": "code",
            "execution_count": 2,
            "id": "81264299-a7a7-475c-8d3f-318ab9a9b1b9",
            "metadata": {
                "tags": []
            },
            "outputs": [],
            "source": [
                "import intervaltree\n",
                "import itertools\n",
                "import pint\n",
                "from matplotlib import colormaps\n",
                "import warnings\n",
                "import json\n",
                "import pathlib\n",
                "from matplotlib.backends.backend_pdf import PdfPages\n",
                "import re"
            ]
        },
        {
            "cell_type": "code",
            "execution_count": 3,
            "id": "a0fe285c-7936-4491-b301-30261a06a6a7",
            "metadata": {
                "tags": []
            },
            "outputs": [],
            "source": [
                "%autoreload 2\n",
                "import njl_corf\n",
                "from njl_corf.pyfcctab import ureg\n",
                "import njl_corf.pyfcctab as pyfcctab\n",
                "import njl_corf.pyoscar as pyoscar\n",
                "import njl_corf.band_figure as band_figure\n",
                "import njl_corf.wrc27_views as wrc27_views"
            ]
        },
        {
            "cell_type": "code",
            "execution_count": 4,
            "id": "d7ce2425-f8b6-496c-9793-d9eb83ab1f75",
            "metadata": {
                "tags": []
            },
            "outputs": [
                {
                    "name": "stdout",
                    "output_type": "stream",
                    "text": [
                        "Reading tables: 0, 1, 2, 3, 4, 5, 6, 7, 8, 9, 10, 11, 12, 13, 14, 15, 16, 17, 18, 19, 20, 21, 22, 23, 24, 25, 26, 27, 28, 29, 30, 31, 32, 33, 34, 35, 36, 37, 38, 39, 40, 41, 42, 43, 44, 45, 46, 47, 48, 49, 50, 51, 52, 53, 54, 55, 56, 57, 58, 59, 60, 61, 62, 63, 64, done.\n",
                        "Digesting: R1, R2, R3, F, NF, done.\n",
                        "Injecting additions in: R1, R2, R3, F, NF, done.\n",
                        "Merging: ITU, USA, all, done.\n",
                        "Footnote definitions: reading, appending, done.\n"
                    ]
                }
            ],
            "source": [
                "allocation_database = pyfcctab.read(skip_additionals=False)"
            ]
        },
        {
            "cell_type": "code",
            "execution_count": 5,
            "id": "53caefb5-b65c-497d-a051-e6f0f8455350",
            "metadata": {
                "tags": []
            },
            "outputs": [
                {
                    "name": "stdout",
                    "output_type": "stream",
                    "text": [
                        "[<Quantity(35.5, 'gigahertz')>, <Quantity(36.0, 'gigahertz')>]\n"
                    ]
                }
            ],
            "source": [
                "print(allocation_database.r1[35.51 * ureg.GHz][0].bounds)"
            ]
        },
        {
            "cell_type": "code",
            "execution_count": 6,
            "id": "2f455db1-14fa-4cf5-b8b7-018819032b12",
            "metadata": {
                "tags": []
            },
            "outputs": [],
            "source": [
                "oscar_database = pyoscar.read()\n",
                "oscar_database = pyoscar.merge_sensors(\n",
                "    oscar_database,\n",
                "    {\n",
                "        \"AMSR\": \"AMSR*\",\n",
                "        \"ATMS\": \"ATMS*\",\n",
                "        \"AWS\": \"AWS*\",\n",
                "        \"MWTS\": \"MWTS*\",\n",
                "        \"SSMIS\": \"SSMIS*\",\n",
                "        \"AMSU\": \"AMSU*\",\n",
                "        #        \"MWRI\": \"MWRI*\",\n",
                "        \"MWS\": \"MWS*\",\n",
                "        \"MTVZA\": \"MTVZA*\",\n",
                "        \"MWI\": \"MWI*\",\n",
                "        \"SRAL\": \"SRAL*\",\n",
                "        \"OSCAT\": \"OSCAT*\",\n",
                "        \"Altimetry\": [\"ALT*\", \"RA*\", \"Altimeter*\"],\n",
                "        \"Precipitation\": [\"PR*\", \"DPR*\", \"Rainradar\"],\n",
                "        \"Poseidon\": \"Poseidon*\",\n",
                "        \"SWIM\": \"SWIM*\",\n",
                "        \"MWR\": \"MWR*\",\n",
                "        \"WSF\": \"WSF*\",\n",
                "        \"MLS\": \"MLS*\",\n",
                "        \"ICI\": \"ICI*\",\n",
                "    },\n",
                ")"
            ]
        },
        {
            "cell_type": "code",
            "execution_count": 7,
            "id": "0b9c64a3-928e-49bc-9908-ec4ee055d872",
            "metadata": {
                "tags": []
            },
            "outputs": [],
            "source": [
                "config = band_figure.FigureConfiguration.load()"
            ]
        },
        {
            "cell_type": "code",
            "execution_count": 8,
            "id": "7a41b95a-e5fe-465f-afb5-2d8743b314f1",
            "metadata": {
                "tags": []
            },
            "outputs": [],
            "source": [
                "collation_rules = {\n",
                "    \"Space research\": [\"Space research*\"],\n",
                "    \"Mobile\": [\"Mobile\", \"Mobile*\"],\n",
                "    \"Fixed\": [\"Fixed\", \"Fixed*\"],\n",
                "    \"Aeronautical\": [\"Aeronautical*\"],\n",
                "    \"EESS (passive)\": [\"Earth exploration-satellite *(passive)\"],\n",
                "    \"EESS (active)\": [\"Earth exploration-satellite *(active)\"],\n",
                "    \"EESS (comms)\": [\"Earth exploration-satellite *(*to*)\"],\n",
                "    \"Amateur\": [\"Amateur*\"],\n",
                "    \"Radionavigation\": [\"Radionavigation*\"],\n",
                "    \"Meteorological\": [\"Meteorological*\"],\n",
                "    \"Space operation\": [\"Space operation*\"],\n",
                "    \"Radiodetermination\": [\"Radiodetermination*\"],\n",
                "    \"Radio astronomy\": [\"Radio Astronomy*\"],\n",
                "}"
            ]
        },
        {
            "cell_type": "code",
            "execution_count": 9,
            "id": "6cfe3f30-87a8-4675-a3e8-944308328028",
            "metadata": {
                "tags": []
            },
            "outputs": [],
            "source": [
                "ai_ranges = wrc27_views.get_ai_info()"
            ]
        },
        {
            "cell_type": "code",
            "execution_count": 16,
            "id": "02724b72-614e-401d-b0fe-099a76bbbea4",
            "metadata": {
                "tags": []
            },
            "outputs": [
                {
                    "name": "stdout",
                    "output_type": "stream",
                    "text": [
                        "WRC-27 AI-1.1a: AgendaItemSubBand(name='AI-1.1', wrc='WRC-27', text=None, soundbyte='ESIMs (aero/marine)', frequency_band=slice(<Quantity(47.2, 'gigahertz')>, <Quantity(50.2, 'gigahertz')>, None), i_band=0, n_bands=2)\n",
                        "WRC-27 AI-1.1b: AgendaItemSubBand(name='AI-1.1', wrc='WRC-27', text=None, soundbyte='ESIMs (aero/marine)', frequency_band=slice(<Quantity(50.4, 'gigahertz')>, <Quantity(51.4, 'gigahertz')>, None), i_band=1, n_bands=2)\n",
                        "WRC-27 AI-1.2a: AgendaItemSubBand(name='AI-1.2', wrc='WRC-27', text=None, soundbyte='FSS uplinks', frequency_band=slice(<Quantity(13.75, 'gigahertz')>, <Quantity(14.0, 'gigahertz')>, None), i_band=0, n_bands=1)\n",
                        "WRC-27 AI-1.3a: AgendaItemSubBand(name='AI-1.3', wrc='WRC-27', text=None, soundbyte='FSS NGSO uplinks', frequency_band=slice(<Quantity(51.4, 'gigahertz')>, <Quantity(52.4, 'gigahertz')>, None), i_band=0, n_bands=1)\n",
                        "WRC-27 AI-1.4a: AgendaItemSubBand(name='AI-1.4', wrc='WRC-27', text=None, soundbyte='FSS NGSO downlinks', frequency_band=slice(<Quantity(17.3, 'gigahertz')>, <Quantity(17.8, 'gigahertz')>, None), i_band=0, n_bands=1)\n",
                        "WRC-27 AI-1.6a: AgendaItemSubBand(name='AI-1.6', wrc='WRC-27', text=None, soundbyte='FSS up/down', frequency_band=slice(<Quantity(37.5, 'gigahertz')>, <Quantity(42.5, 'gigahertz')>, None), i_band=0, n_bands=4)\n",
                        "WRC-27 AI-1.6ab: AgendaItemSubBand(name='AI-1.6', wrc='WRC-27', text=None, soundbyte='FSS up/down', frequency_band=slice(<Quantity(37.5, 'gigahertz')>, <Quantity(43.5, 'gigahertz')>, None), i_band=-1, n_bands=-1)\n",
                        "WRC-27 AI-1.6b: AgendaItemSubBand(name='AI-1.6', wrc='WRC-27', text=None, soundbyte='FSS up/down', frequency_band=slice(<Quantity(42.5, 'gigahertz')>, <Quantity(43.5, 'gigahertz')>, None), i_band=1, n_bands=4)\n",
                        "WRC-27 AI-1.6c: AgendaItemSubBand(name='AI-1.6', wrc='WRC-27', text=None, soundbyte='FSS up/down', frequency_band=slice(<Quantity(47.2, 'gigahertz')>, <Quantity(50.2, 'gigahertz')>, None), i_band=2, n_bands=4)\n",
                        "WRC-27 AI-1.6cd: AgendaItemSubBand(name='AI-1.6', wrc='WRC-27', text=None, soundbyte='FSS up/down', frequency_band=slice(<Quantity(47.2, 'gigahertz')>, <Quantity(51.4, 'gigahertz')>, None), i_band=-1, n_bands=-1)\n",
                        "WRC-27 AI-1.6d: AgendaItemSubBand(name='AI-1.6', wrc='WRC-27', text=None, soundbyte='FSS up/down', frequency_band=slice(<Quantity(50.4, 'gigahertz')>, <Quantity(51.4, 'gigahertz')>, None), i_band=3, n_bands=4)\n",
                        "WRC-27 AI-1.7a: AgendaItemSubBand(name='AI-1.7', wrc='WRC-27', text=None, soundbyte='IMT', frequency_band=slice(<Quantity(4400, 'megahertz')>, <Quantity(4800, 'megahertz')>, None), i_band=0, n_bands=3)\n",
                        "WRC-27 AI-1.7b: AgendaItemSubBand(name='AI-1.7', wrc='WRC-27', text=None, soundbyte='IMT', frequency_band=slice(<Quantity(7125, 'megahertz')>, <Quantity(8400, 'megahertz')>, None), i_band=1, n_bands=3)\n",
                        "WRC-27 AI-1.7c: AgendaItemSubBand(name='AI-1.7', wrc='WRC-27', text=None, soundbyte='IMT', frequency_band=slice(<Quantity(14.8, 'gigahertz')>, <Quantity(15.35, 'gigahertz')>, None), i_band=2, n_bands=3)\n",
                        "WRC-27 AI-1.8a: AgendaItemSubBand(name='AI-1.8', wrc='WRC-27', text=None, soundbyte='Radiolocation', frequency_band=slice(<Quantity(231.5, 'gigahertz')>, <Quantity(275, 'gigahertz')>, None), i_band=0, n_bands=2)\n",
                        "WRC-27 AI-1.8b: AgendaItemSubBand(name='AI-1.8', wrc='WRC-27', text=None, soundbyte='Radiolocation', frequency_band=slice(<Quantity(275, 'gigahertz')>, <Quantity(700, 'gigahertz')>, None), i_band=1, n_bands=2)\n",
                        "WRC-27 AI-1.9a: AgendaItemSubBand(name='AI-1.9', wrc='WRC-27', text=None, soundbyte='Aeronautical mobile', frequency_band=slice(<Quantity(3025, 'kilohertz')>, <Quantity(3155, 'kilohertz')>, None), i_band=0, n_bands=10)\n",
                        "WRC-27 AI-1.9b: AgendaItemSubBand(name='AI-1.9', wrc='WRC-27', text=None, soundbyte='Aeronautical mobile', frequency_band=slice(<Quantity(3900, 'kilohertz')>, <Quantity(3950, 'kilohertz')>, None), i_band=1, n_bands=10)\n",
                        "WRC-27 AI-1.9c: AgendaItemSubBand(name='AI-1.9', wrc='WRC-27', text=None, soundbyte='Aeronautical mobile', frequency_band=slice(<Quantity(4700, 'kilohertz')>, <Quantity(4750, 'kilohertz')>, None), i_band=2, n_bands=10)\n",
                        "WRC-27 AI-1.9d: AgendaItemSubBand(name='AI-1.9', wrc='WRC-27', text=None, soundbyte='Aeronautical mobile', frequency_band=slice(<Quantity(5680, 'kilohertz')>, <Quantity(5730, 'kilohertz')>, None), i_band=3, n_bands=10)\n",
                        "WRC-27 AI-1.9e: AgendaItemSubBand(name='AI-1.9', wrc='WRC-27', text=None, soundbyte='Aeronautical mobile', frequency_band=slice(<Quantity(6685, 'kilohertz')>, <Quantity(6765, 'kilohertz')>, None), i_band=4, n_bands=10)\n",
                        "WRC-27 AI-1.9f: AgendaItemSubBand(name='AI-1.9', wrc='WRC-27', text=None, soundbyte='Aeronautical mobile', frequency_band=slice(<Quantity(8965, 'kilohertz')>, <Quantity(9040, 'kilohertz')>, None), i_band=5, n_bands=10)\n",
                        "WRC-27 AI-1.9g: AgendaItemSubBand(name='AI-1.9', wrc='WRC-27', text=None, soundbyte='Aeronautical mobile', frequency_band=slice(<Quantity(11175, 'kilohertz')>, <Quantity(11275, 'kilohertz')>, None), i_band=6, n_bands=10)\n",
                        "WRC-27 AI-1.9h: AgendaItemSubBand(name='AI-1.9', wrc='WRC-27', text=None, soundbyte='Aeronautical mobile', frequency_band=slice(<Quantity(13200, 'kilohertz')>, <Quantity(13260, 'kilohertz')>, None), i_band=7, n_bands=10)\n",
                        "WRC-27 AI-1.9i: AgendaItemSubBand(name='AI-1.9', wrc='WRC-27', text=None, soundbyte='Aeronautical mobile', frequency_band=slice(<Quantity(15010, 'kilohertz')>, <Quantity(15100, 'kilohertz')>, None), i_band=8, n_bands=10)\n",
                        "WRC-27 AI-1.9j: AgendaItemSubBand(name='AI-1.9', wrc='WRC-27', text=None, soundbyte='Aeronautical mobile', frequency_band=slice(<Quantity(17970, 'kilohertz')>, <Quantity(18030, 'kilohertz')>, None), i_band=9, n_bands=10)\n",
                        "WRC-27 AI-1.10a: AgendaItemSubBand(name='AI-1.10', wrc='WRC-27', text=None, soundbyte='Satellite PFD/EIRP', frequency_band=slice(<Quantity(71, 'gigahertz')>, <Quantity(76, 'gigahertz')>, None), i_band=0, n_bands=2)\n",
                        "WRC-27 AI-1.10b: AgendaItemSubBand(name='AI-1.10', wrc='WRC-27', text=None, soundbyte='Satellite PFD/EIRP', frequency_band=slice(<Quantity(81, 'gigahertz')>, <Quantity(86, 'gigahertz')>, None), i_band=1, n_bands=2)\n",
                        "WRC-27 AI-1.11a: AgendaItemSubBand(name='AI-1.11', wrc='WRC-27', text=None, soundbyte='space-to-space', frequency_band=slice(<Quantity(1518, 'megahertz')>, <Quantity(1544, 'megahertz')>, None), i_band=0, n_bands=6)\n",
                        "WRC-27 AI-1.11ab: AgendaItemSubBand(name='AI-1.11', wrc='WRC-27', text=None, soundbyte='space-to-space', frequency_band=slice(<Quantity(1518, 'megahertz')>, <Quantity(1559, 'megahertz')>, None), i_band=-1, n_bands=-1)\n",
                        "WRC-27 AI-1.11b: AgendaItemSubBand(name='AI-1.11', wrc='WRC-27', text=None, soundbyte='space-to-space', frequency_band=slice(<Quantity(1545, 'megahertz')>, <Quantity(1559, 'megahertz')>, None), i_band=1, n_bands=6)\n",
                        "WRC-27 AI-1.11c: AgendaItemSubBand(name='AI-1.11', wrc='WRC-27', text=None, soundbyte='space-to-space', frequency_band=slice(<Quantity(1610, 'megahertz')>, <Quantity(1645.5, 'megahertz')>, None), i_band=2, n_bands=6)\n",
                        "WRC-27 AI-1.11cde: AgendaItemSubBand(name='AI-1.11', wrc='WRC-27', text=None, soundbyte='space-to-space', frequency_band=slice(<Quantity(1610, 'megahertz')>, <Quantity(1675, 'megahertz')>, None), i_band=-1, n_bands=-1)\n",
                        "WRC-27 AI-1.11d: AgendaItemSubBand(name='AI-1.11', wrc='WRC-27', text=None, soundbyte='space-to-space', frequency_band=slice(<Quantity(1645, 'megahertz')>, <Quantity(1660, 'megahertz')>, None), i_band=3, n_bands=6)\n",
                        "WRC-27 AI-1.11e: AgendaItemSubBand(name='AI-1.11', wrc='WRC-27', text=None, soundbyte='space-to-space', frequency_band=slice(<Quantity(1670, 'megahertz')>, <Quantity(1675, 'megahertz')>, None), i_band=4, n_bands=6)\n",
                        "WRC-27 AI-1.11f: AgendaItemSubBand(name='AI-1.11', wrc='WRC-27', text=None, soundbyte='space-to-space', frequency_band=slice(<Quantity(2485.5, 'megahertz')>, <Quantity(2500, 'megahertz')>, None), i_band=-1, n_bands=-1)\n",
                        "WRC-27 AI-1.12a: AgendaItemSubBand(name='AI-1.12', wrc='WRC-27', text=None, soundbyte='MSS', frequency_band=slice(<Quantity(1427, 'megahertz')>, <Quantity(1432, 'megahertz')>, None), i_band=0, n_bands=4)\n",
                        "WRC-27 AI-1.12b: AgendaItemSubBand(name='AI-1.12', wrc='WRC-27', text=None, soundbyte='MSS', frequency_band=slice(<Quantity(1645.5, 'megahertz')>, <Quantity(1646.5, 'megahertz')>, None), i_band=1, n_bands=4)\n",
                        "WRC-27 AI-1.12c: AgendaItemSubBand(name='AI-1.12', wrc='WRC-27', text=None, soundbyte='MSS', frequency_band=slice(<Quantity(1880, 'megahertz')>, <Quantity(1920, 'megahertz')>, None), i_band=2, n_bands=4)\n",
                        "WRC-27 AI-1.12d: AgendaItemSubBand(name='AI-1.12', wrc='WRC-27', text=None, soundbyte='MSS', frequency_band=slice(<Quantity(2010, 'megahertz')>, <Quantity(2025, 'megahertz')>, None), i_band=3, n_bands=4)\n",
                        "WRC-27 AI-1.13a: AgendaItemSubBand(name='AI-1.13', wrc='WRC-27', text=None, soundbyte='MSS/IMT', frequency_band=slice(<Quantity(694, 'megahertz')>, <Quantity(2.7, 'gigahertz')>, None), i_band=0, n_bands=1)\n",
                        "WRC-27 AI-1.14a: AgendaItemSubBand(name='AI-1.14', wrc='WRC-27', text=None, soundbyte='MSS', frequency_band=slice(<Quantity(2010, 'megahertz')>, <Quantity(2025, 'megahertz')>, None), i_band=0, n_bands=2)\n",
                        "WRC-27 AI-1.14b: AgendaItemSubBand(name='AI-1.14', wrc='WRC-27', text=None, soundbyte='MSS', frequency_band=slice(<Quantity(2160, 'megahertz')>, <Quantity(2170, 'megahertz')>, None), i_band=1, n_bands=2)\n",
                        "WRC-27 AI-1.15a: AgendaItemSubBand(name='AI-1.15', wrc='WRC-27', text=None, soundbyte='Lunar', frequency_band=slice(<Quantity(390, 'megahertz')>, <Quantity(406.1, 'megahertz')>, None), i_band=0, n_bands=11)\n",
                        "WRC-27 AI-1.15b: AgendaItemSubBand(name='AI-1.15', wrc='WRC-27', text=None, soundbyte='Lunar', frequency_band=slice(<Quantity(420, 'megahertz')>, <Quantity(430, 'megahertz')>, None), i_band=1, n_bands=11)\n",
                        "WRC-27 AI-1.15c: AgendaItemSubBand(name='AI-1.15', wrc='WRC-27', text=None, soundbyte='Lunar', frequency_band=slice(<Quantity(440, 'megahertz')>, <Quantity(450, 'megahertz')>, None), i_band=2, n_bands=11)\n",
                        "WRC-27 AI-1.15d: AgendaItemSubBand(name='AI-1.15', wrc='WRC-27', text=None, soundbyte='Lunar', frequency_band=slice(<Quantity(2.4, 'gigahertz')>, <Quantity(2.69, 'gigahertz')>, None), i_band=3, n_bands=11)\n",
                        "WRC-27 AI-1.15e: AgendaItemSubBand(name='AI-1.15', wrc='WRC-27', text=None, soundbyte='Lunar', frequency_band=slice(<Quantity(3.5, 'gigahertz')>, <Quantity(3.8, 'gigahertz')>, None), i_band=4, n_bands=11)\n",
                        "WRC-27 AI-1.15f: AgendaItemSubBand(name='AI-1.15', wrc='WRC-27', text=None, soundbyte='Lunar', frequency_band=slice(<Quantity(5.15, 'gigahertz')>, <Quantity(5.57, 'gigahertz')>, None), i_band=5, n_bands=11)\n",
                        "WRC-27 AI-1.15g: AgendaItemSubBand(name='AI-1.15', wrc='WRC-27', text=None, soundbyte='Lunar', frequency_band=slice(<Quantity(5.57, 'gigahertz')>, <Quantity(5.725, 'gigahertz')>, None), i_band=6, n_bands=11)\n",
                        "WRC-27 AI-1.15h: AgendaItemSubBand(name='AI-1.15', wrc='WRC-27', text=None, soundbyte='Lunar', frequency_band=slice(<Quantity(5.775, 'gigahertz')>, <Quantity(5.925, 'gigahertz')>, None), i_band=7, n_bands=11)\n",
                        "WRC-27 AI-1.15i: AgendaItemSubBand(name='AI-1.15', wrc='WRC-27', text=None, soundbyte='Lunar', frequency_band=slice(<Quantity(7.19, 'gigahertz')>, <Quantity(7.235, 'gigahertz')>, None), i_band=8, n_bands=11)\n",
                        "WRC-27 AI-1.15j: AgendaItemSubBand(name='AI-1.15', wrc='WRC-27', text=None, soundbyte='Lunar', frequency_band=slice(<Quantity(8.45, 'gigahertz')>, <Quantity(8.5, 'gigahertz')>, None), i_band=9, n_bands=11)\n",
                        "WRC-27 AI-1.15k: AgendaItemSubBand(name='AI-1.15', wrc='WRC-27', text=None, soundbyte='Lunar', frequency_band=slice(<Quantity(25.25, 'gigahertz')>, <Quantity(28.35, 'gigahertz')>, None), i_band=10, n_bands=11)\n",
                        "WRC-27 AI-1.16a: AgendaItemSubBand(name='AI-1.16', wrc='WRC-27', text=None, soundbyte='Quiet_zones', frequency_band=slice(<Quantity(10.7, 'gigahertz')>, <Quantity(10.95, 'gigahertz')>, None), i_band=0, n_bands=6)\n",
                        "WRC-27 AI-1.16b: AgendaItemSubBand(name='AI-1.16', wrc='WRC-27', text=None, soundbyte='Quiet_zones', frequency_band=slice(<Quantity(42.0, 'gigahertz')>, <Quantity(42.5, 'gigahertz')>, None), i_band=1, n_bands=6)\n",
                        "WRC-27 AI-1.16c: AgendaItemSubBand(name='AI-1.16', wrc='WRC-27', text=None, soundbyte='Quiet_zones', frequency_band=slice(<Quantity(74.0, 'gigahertz')>, <Quantity(76.0, 'gigahertz')>, None), i_band=2, n_bands=6)\n",
                        "WRC-27 AI-1.16d: AgendaItemSubBand(name='AI-1.16', wrc='WRC-27', text=None, soundbyte='Quiet_zones', frequency_band=slice(<Quantity(95.0, 'gigahertz')>, <Quantity(100.0, 'gigahertz')>, None), i_band=3, n_bands=6)\n",
                        "WRC-27 AI-1.16e: AgendaItemSubBand(name='AI-1.16', wrc='WRC-27', text=None, soundbyte='Quiet_zones', frequency_band=slice(<Quantity(116, 'gigahertz')>, <Quantity(119.98, 'gigahertz')>, None), i_band=4, n_bands=6)\n",
                        "WRC-27 AI-1.16f: AgendaItemSubBand(name='AI-1.16', wrc='WRC-27', text=None, soundbyte='Quiet_zones', frequency_band=slice(<Quantity(123, 'gigahertz')>, <Quantity(130.0, 'gigahertz')>, None), i_band=5, n_bands=6)\n",
                        "WRC-27 AI-1.17a: AgendaItemSubBand(name='AI-1.17', wrc='WRC-27', text=None, soundbyte='Space_weather', frequency_band=slice(<Quantity(27.5, 'megahertz')>, <Quantity(28.0, 'megahertz')>, None), i_band=0, n_bands=6)\n",
                        "WRC-27 AI-1.17b: AgendaItemSubBand(name='AI-1.17', wrc='WRC-27', text=None, soundbyte='Space_weather', frequency_band=slice(<Quantity(29.7, 'megahertz')>, <Quantity(30.2, 'megahertz')>, None), i_band=1, n_bands=6)\n",
                        "WRC-27 AI-1.17c: AgendaItemSubBand(name='AI-1.17', wrc='WRC-27', text=None, soundbyte='Space_weather', frequency_band=slice(<Quantity(32.2, 'megahertz')>, <Quantity(32.6, 'megahertz')>, None), i_band=2, n_bands=6)\n",
                        "WRC-27 AI-1.17d: AgendaItemSubBand(name='AI-1.17', wrc='WRC-27', text=None, soundbyte='Space_weather', frequency_band=slice(<Quantity(37.5, 'megahertz')>, <Quantity(38.325, 'megahertz')>, None), i_band=3, n_bands=6)\n",
                        "WRC-27 AI-1.17e: AgendaItemSubBand(name='AI-1.17', wrc='WRC-27', text=None, soundbyte='Space_weather', frequency_band=slice(<Quantity(73.0, 'megahertz')>, <Quantity(74.6, 'megahertz')>, None), i_band=4, n_bands=6)\n",
                        "WRC-27 AI-1.17f: AgendaItemSubBand(name='AI-1.17', wrc='WRC-27', text=None, soundbyte='Space_weather', frequency_band=slice(<Quantity(608, 'megahertz')>, <Quantity(614, 'megahertz')>, None), i_band=5, n_bands=6)\n",
                        "WRC-27 AI-1.18a: AgendaItemSubBand(name='AI-1.18', wrc='WRC-27', text=None, soundbyte='EESS/RAS protection', frequency_band=slice(<Quantity(71.0, 'gigahertz')>, <Quantity(76.0, 'gigahertz')>, None), i_band=0, n_bands=10)\n",
                        "WRC-27 AI-1.18b: AgendaItemSubBand(name='AI-1.18', wrc='WRC-27', text=None, soundbyte='EESS/RAS protection', frequency_band=slice(<Quantity(81.0, 'gigahertz')>, <Quantity(86.0, 'gigahertz')>, None), i_band=1, n_bands=10)\n",
                        "WRC-27 AI-1.18c: AgendaItemSubBand(name='AI-1.18', wrc='WRC-27', text=None, soundbyte='EESS/RAS protection', frequency_band=slice(<Quantity(92.0, 'gigahertz')>, <Quantity(94.0, 'gigahertz')>, None), i_band=2, n_bands=10)\n",
                        "WRC-27 AI-1.18d: AgendaItemSubBand(name='AI-1.18', wrc='WRC-27', text=None, soundbyte='EESS/RAS protection', frequency_band=slice(<Quantity(111.8, 'gigahertz')>, <Quantity(114.25, 'gigahertz')>, None), i_band=3, n_bands=10)\n",
                        "WRC-27 AI-1.18e: AgendaItemSubBand(name='AI-1.18', wrc='WRC-27', text=None, soundbyte='EESS/RAS protection', frequency_band=slice(<Quantity(123.0, 'gigahertz')>, <Quantity(130.0, 'gigahertz')>, None), i_band=4, n_bands=10)\n",
                        "WRC-27 AI-1.18f: AgendaItemSubBand(name='AI-1.18', wrc='WRC-27', text=None, soundbyte='EESS/RAS protection', frequency_band=slice(<Quantity(158.5, 'gigahertz')>, <Quantity(164, 'gigahertz')>, None), i_band=5, n_bands=10)\n",
                        "WRC-27 AI-1.18g: AgendaItemSubBand(name='AI-1.18', wrc='WRC-27', text=None, soundbyte='EESS/RAS protection', frequency_band=slice(<Quantity(167.0, 'gigahertz')>, <Quantity(174.5, 'gigahertz')>, None), i_band=6, n_bands=10)\n",
                        "WRC-27 AI-1.18h: AgendaItemSubBand(name='AI-1.18', wrc='WRC-27', text=None, soundbyte='EESS/RAS protection', frequency_band=slice(<Quantity(191.8, 'gigahertz')>, <Quantity(200.0, 'gigahertz')>, None), i_band=7, n_bands=10)\n",
                        "WRC-27 AI-1.18i: AgendaItemSubBand(name='AI-1.18', wrc='WRC-27', text=None, soundbyte='EESS/RAS protection', frequency_band=slice(<Quantity(209.0, 'gigahertz')>, <Quantity(217.0, 'gigahertz')>, None), i_band=8, n_bands=10)\n",
                        "WRC-27 AI-1.18j: AgendaItemSubBand(name='AI-1.18', wrc='WRC-27', text=None, soundbyte='EESS/RAS protection', frequency_band=slice(<Quantity(232.0, 'gigahertz')>, <Quantity(235.0, 'gigahertz')>, None), i_band=9, n_bands=10)\n",
                        "WRC-27 AI-1.19a: AgendaItemSubBand(name='AI-1.19', wrc='WRC-27', text=None, soundbyte='EESS_(passive)', frequency_band=slice(<Quantity(4200, 'megahertz')>, <Quantity(4400, 'megahertz')>, None), i_band=0, n_bands=2)\n",
                        "WRC-27 AI-1.19b: AgendaItemSubBand(name='AI-1.19', wrc='WRC-27', text=None, soundbyte='EESS_(passive)', frequency_band=slice(<Quantity(8400, 'megahertz')>, <Quantity(8500, 'megahertz')>, None), i_band=1, n_bands=2)\n",
                        "WRC-31 AI-2.1a: AgendaItemSubBand(name='AI-2.1', wrc='WRC-31', text=None, soundbyte='>275 GHz', frequency_band=slice(<Quantity(275.0, 'gigahertz')>, <Quantity(325.0, 'gigahertz')>, None), i_band=0, n_bands=1)\n",
                        "WRC-31 AI-2.3a: AgendaItemSubBand(name='AI-2.3', wrc='WRC-31', text=None, soundbyte='ESIMs (aero/marine)', frequency_band=slice(<Quantity(12.75, 'gigahertz')>, <Quantity(13.25, 'gigahertz')>, None), i_band=0, n_bands=1)\n",
                        "WRC-31 AI-2.4a: AgendaItemSubBand(name='AI-2.4', wrc='WRC-31', text=None, soundbyte='space-to-space', frequency_band=slice(<Quantity(3700, 'megahertz')>, <Quantity(4200, 'megahertz')>, None), i_band=0, n_bands=2)\n",
                        "WRC-31 AI-2.4b: AgendaItemSubBand(name='AI-2.4', wrc='WRC-31', text=None, soundbyte='space-to-space', frequency_band=slice(<Quantity(5925, 'megahertz')>, <Quantity(6425, 'megahertz')>, None), i_band=1, n_bands=2)\n",
                        "WRC-31 AI-2.5a: AgendaItemSubBand(name='AI-2.5', wrc='WRC-31', text=None, soundbyte='Aeronautical_IMT', frequency_band=slice(<Quantity(694, 'megahertz')>, <Quantity(960, 'megahertz')>, None), i_band=0, n_bands=3)\n",
                        "WRC-31 AI-2.5b: AgendaItemSubBand(name='AI-2.5', wrc='WRC-31', text=None, soundbyte='Aeronautical_IMT', frequency_band=slice(<Quantity(890, 'megahertz')>, <Quantity(942, 'megahertz')>, None), i_band=1, n_bands=3)\n",
                        "WRC-31 AI-2.5c: AgendaItemSubBand(name='AI-2.5', wrc='WRC-31', text=None, soundbyte='Aeronautical_IMT', frequency_band=slice(<Quantity(3400, 'megahertz')>, <Quantity(3700, 'megahertz')>, None), i_band=2, n_bands=3)\n",
                        "WRC-31 AI-2.6a: AgendaItemSubBand(name='AI-2.6', wrc='WRC-31', text=None, soundbyte='IMT', frequency_band=slice(<Quantity(102, 'gigahertz')>, <Quantity(109.5, 'gigahertz')>, None), i_band=0, n_bands=5)\n",
                        "WRC-31 AI-2.6b: AgendaItemSubBand(name='AI-2.6', wrc='WRC-31', text=None, soundbyte='IMT', frequency_band=slice(<Quantity(151.5, 'gigahertz')>, <Quantity(164, 'gigahertz')>, None), i_band=1, n_bands=5)\n",
                        "WRC-31 AI-2.6c: AgendaItemSubBand(name='AI-2.6', wrc='WRC-31', text=None, soundbyte='IMT', frequency_band=slice(<Quantity(167, 'gigahertz')>, <Quantity(174.8, 'gigahertz')>, None), i_band=2, n_bands=5)\n",
                        "WRC-31 AI-2.6d: AgendaItemSubBand(name='AI-2.6', wrc='WRC-31', text=None, soundbyte='IMT', frequency_band=slice(<Quantity(209, 'gigahertz')>, <Quantity(226, 'gigahertz')>, None), i_band=3, n_bands=5)\n",
                        "WRC-31 AI-2.6e: AgendaItemSubBand(name='AI-2.6', wrc='WRC-31', text=None, soundbyte='IMT', frequency_band=slice(<Quantity(252, 'gigahertz')>, <Quantity(275, 'gigahertz')>, None), i_band=4, n_bands=5)\n",
                        "WRC-31 AI-2.7a: AgendaItemSubBand(name='AI-2.7', wrc='WRC-31', text=None, soundbyte='Marine', frequency_band=slice(<Quantity(157.1875, 'megahertz')>, <Quantity(157.3375, 'megahertz')>, None), i_band=0, n_bands=2)\n",
                        "WRC-31 AI-2.7b: AgendaItemSubBand(name='AI-2.7', wrc='WRC-31', text=None, soundbyte='Marine', frequency_band=slice(<Quantity(161.7875, 'megahertz')>, <Quantity(161.9375, 'megahertz')>, None), i_band=1, n_bands=2)\n",
                        "WRC-31 AI-2.8a: AgendaItemSubBand(name='AI-2.8', wrc='WRC-31', text=None, soundbyte='Marine', frequency_band=slice(<Quantity(415, 'kilohertz')>, <Quantity(26.175, 'megahertz')>, None), i_band=0, n_bands=1)\n",
                        "WRC-31 AI-2.9a: AgendaItemSubBand(name='AI-2.9', wrc='WRC-31', text=None, soundbyte='RNSS', frequency_band=slice(<Quantity(5030, 'megahertz')>, <Quantity(5150, 'megahertz')>, None), i_band=0, n_bands=2)\n",
                        "WRC-31 AI-2.9b: AgendaItemSubBand(name='AI-2.9', wrc='WRC-31', text=None, soundbyte='RNSS', frequency_band=slice(<Quantity(5150, 'megahertz')>, <Quantity(5250, 'megahertz')>, None), i_band=1, n_bands=2)\n",
                        "WRC-31 AI-2.10a: AgendaItemSubBand(name='AI-2.10', wrc='WRC-31', text=None, soundbyte='EESS (Earth-to-Space)', frequency_band=slice(<Quantity(22.55, 'gigahertz')>, <Quantity(23.15, 'gigahertz')>, None), i_band=0, n_bands=1)\n",
                        "WRC-31 AI-2.11a: AgendaItemSubBand(name='AI-2.11', wrc='WRC-31', text=None, soundbyte='EESS (space-to-Earth)', frequency_band=slice(<Quantity(37.5, 'gigahertz')>, <Quantity(40.5, 'gigahertz')>, None), i_band=0, n_bands=2)\n",
                        "WRC-31 AI-2.11b: AgendaItemSubBand(name='AI-2.11', wrc='WRC-31', text=None, soundbyte='EESS (space-to-Earth)', frequency_band=slice(<Quantity(40.5, 'gigahertz')>, <Quantity(52.4, 'gigahertz')>, None), i_band=1, n_bands=2)\n",
                        "WRC-31 AI-2.12a: AgendaItemSubBand(name='AI-2.12', wrc='WRC-31', text=None, soundbyte='EESS (active)', frequency_band=slice(<Quantity(3000, 'megahertz')>, <Quantity(3100, 'megahertz')>, None), i_band=0, n_bands=2)\n",
                        "WRC-31 AI-2.12b: AgendaItemSubBand(name='AI-2.12', wrc='WRC-31', text=None, soundbyte='EESS (active)', frequency_band=slice(<Quantity(3300, 'megahertz')>, <Quantity(3400, 'megahertz')>, None), i_band=1, n_bands=2)\n",
                        "WRC-31 AI-2.13a: AgendaItemSubBand(name='AI-2.13', wrc='WRC-31', text=None, soundbyte='EESS (active)', frequency_band=slice(<Quantity(9200, 'megahertz')>, <Quantity(10400, 'megahertz')>, None), i_band=0, n_bands=1)\n",
                        "WRC-31 AI-2.14a: AgendaItemSubBand(name='AI-2.14', wrc='WRC-31', text=None, soundbyte='Broadcast/Mobile', frequency_band=slice(<Quantity(470, 'megahertz')>, <Quantity(694, 'megahertz')>, None), i_band=0, n_bands=1)\n"
                    ]
                }
            ],
            "source": [
                "def all_wrc27_figures():\n",
                "    config = band_figure.FigureConfiguration.load()\n",
                "    ureg.setup_matplotlib()\n",
                "    with PdfPages(\"example-ai-figures.pdf\") as pdf:\n",
                "        for range_name, range_details in ai_ranges.items():\n",
                "            print(f\"{range_name}: {range_details}\")\n",
                "            if range_details.frequency_band.start is None:\n",
                "                continue\n",
                "            fig, ax = plt.subplots(figsize=[8.5, 11], layout=\"constrained\")\n",
                "            band_figure.views_plot(\n",
                "                frequency_range=range_details,\n",
                "                allocation_database=allocation_database,\n",
                "                oscar_database=oscar_database,\n",
                "                ax=ax,\n",
                "                figure_configuration=config,\n",
                "                collation_rules={},  # collation_rules,\n",
                "                omit_band_borders=True,\n",
                "            )\n",
                "            ax.set_title(range_name)\n",
                "            pdf.savefig(fig)\n",
                "            plt.close()\n",
                "\n",
                "\n",
                "all_wrc27_figures()"
            ]
        },
        {
            "cell_type": "code",
            "execution_count": null,
            "id": "87cd61ae-e9a6-4ed7-bfd1-3a2dc4d0c2cd",
            "metadata": {
                "tags": []
            },
            "outputs": [],
            "source": [
                "test = band_figure.views_plot(\n",
                "    frequency_range=slice(1300 * ureg.MHz, 1450 * ureg.MHz),\n",
                "    allocation_database=allocation_database,\n",
                "    oscar_database=oscar_database,\n",
                "    figure_configuration=config,\n",
                "    collation_rules=collation_rules,\n",
                "    frequency_margin=200 * ureg.MHz,\n",
                ")"
            ]
        },
        {
            "cell_type": "code",
            "execution_count": null,
            "id": "495804d3-ea0c-403c-ba39-67f9fb6e1dae",
            "metadata": {},
            "outputs": [],
            "source": [
                "allocation_database.itu.find_closest_matching_band(\n",
                "    frequency=1475 * ureg.MHz,\n",
                "    direction=1,\n",
                "    condition=lambda band: band.has_allocation(\"Radio Astronomy\"),\n",
                ")"
            ]
        },
        {
            "cell_type": "code",
            "execution_count": null,
            "id": "6593afbd-06d9-4271-af60-66c1e285fea4",
            "metadata": {
                "tags": []
            },
            "outputs": [],
            "source": [
                "def make_html():\n",
                "    for ai in ai_ranges.keys():\n",
                "        wrc27_views.ai_html_summary(\n",
                "            ai,\n",
                "            allocation_database=allocation_database,\n",
                "            oscar_database=oscar_database,\n",
                "        )\n",
                "\n",
                "\n",
                "make_html()"
            ]
        },
        {
            "cell_type": "code",
            "execution_count": null,
            "id": "5b8016fd-7769-467c-999d-70f5fbbdf82b",
            "metadata": {},
            "outputs": [],
            "source": [
                "wrc27_views.generate_index_html()"
            ]
        },
        {
            "cell_type": "code",
            "execution_count": null,
            "id": "dff929b7-f8d4-42de-816f-607b6ab06bdb",
            "metadata": {
                "tags": []
            },
            "outputs": [],
            "source": [
                "import pathlib\n",
                "import shutil"
            ]
        },
        {
            "cell_type": "code",
            "execution_count": null,
            "id": "24bc1ca8-591a-476c-955c-1d4090682366",
            "metadata": {
                "tags": []
            },
            "outputs": [],
            "source": [
                "# wrc27_views.push_information()"
            ]
        },
        {
            "cell_type": "code",
            "execution_count": null,
            "id": "a38bca40-73ae-4ec9-a9a9-d837c5ac9c74",
            "metadata": {},
            "outputs": [],
            "source": []
        }
    ],
    "metadata": {
        "kernelspec": {
            "display_name": "njl-base-3.10-24may23",
            "language": "python",
            "name": "njl-base-3.10-24may23"
        },
        "language_info": {
            "codemirror_mode": {
                "name": "ipython",
                "version": 3
            },
            "file_extension": ".py",
            "mimetype": "text/x-python",
            "name": "python",
            "nbconvert_exporter": "python",
            "pygments_lexer": "ipython3",
            "version": "3.10.12"
        }
    },
    "nbformat": 4,
    "nbformat_minor": 5
}