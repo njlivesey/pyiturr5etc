{
 "cells": [
  {
   "cell_type": "code",
   "execution_count": null,
   "id": "0",
   "metadata": {
    "tags": []
   },
   "outputs": [],
   "source": [
    "# fmt: off\n",
    "%matplotlib inline\n",
    "%config InlineBackend.figure_format = \"retina\"\n",
    "%load_ext autoreload\n",
    "%load_ext jupyter_black\n",
    "import numpy as np\n",
    "import matplotlib\n",
    "import matplotlib.pyplot as plt\n",
    "from mls_scf_tools.mls_pint import ureg\n",
    "plt.style.use(\"mls_scf\")\n",
    "def vdir(obj):\n",
    "    return [x for x in dir(obj) if not x.startswith('__')]\n"
   ]
  },
  {
   "cell_type": "code",
   "execution_count": null,
   "id": "1",
   "metadata": {
    "tags": []
   },
   "outputs": [],
   "source": [
    "import intervaltree\n",
    "import itertools\n",
    "import pint\n",
    "from matplotlib import colormaps\n",
    "import warnings\n",
    "import json\n",
    "import pathlib\n",
    "from matplotlib.backends.backend_pdf import PdfPages\n",
    "import re"
   ]
  },
  {
   "cell_type": "code",
   "execution_count": null,
   "id": "2",
   "metadata": {
    "tags": []
   },
   "outputs": [],
   "source": [
    "%autoreload 2\n",
    "import njl_corf\n",
    "from njl_corf.pyfcctab import ureg\n",
    "import njl_corf.pyfcctab as pyfcctab\n",
    "import njl_corf.pyoscar as pyoscar\n",
    "import njl_corf.band_figure as band_figure\n",
    "import njl_corf.wrc27_views as wrc27_views"
   ]
  },
  {
   "cell_type": "code",
   "execution_count": null,
   "id": "3",
   "metadata": {
    "tags": []
   },
   "outputs": [],
   "source": [
    "allocation_database = pyfcctab.read(skip_additionals=False)"
   ]
  },
  {
   "cell_type": "code",
   "execution_count": null,
   "id": "4",
   "metadata": {
    "tags": []
   },
   "outputs": [],
   "source": [
    "print(allocation_database.r1[35.51 * ureg.GHz][0].bounds)"
   ]
  },
  {
   "cell_type": "code",
   "execution_count": null,
   "id": "5",
   "metadata": {
    "tags": []
   },
   "outputs": [],
   "source": [
    "oscar_database = pyoscar.read()\n",
    "oscar_database = pyoscar.merge_sensors(\n",
    "    oscar_database,\n",
    "    {\n",
    "        \"AMSR\": \"AMSR*\",\n",
    "        \"ATMS\": \"ATMS*\",\n",
    "        \"AWS\": \"AWS*\",\n",
    "        \"MWTS\": \"MWTS*\",\n",
    "        \"SSMIS\": \"SSMIS*\",\n",
    "        \"AMSU\": \"AMSU*\",\n",
    "        #        \"MWRI\": \"MWRI*\",\n",
    "        \"MWS\": \"MWS*\",\n",
    "        \"MTVZA\": \"MTVZA*\",\n",
    "        \"MWI\": \"MWI*\",\n",
    "        \"SRAL\": \"SRAL*\",\n",
    "        \"OSCAT\": \"OSCAT*\",\n",
    "        \"Altimetry\": [\"ALT*\", \"RA*\", \"Altimeter*\"],\n",
    "        \"Precipitation\": [\"PR*\", \"DPR*\", \"Rainradar\"],\n",
    "        \"Poseidon\": \"Poseidon*\",\n",
    "        \"SWIM\": \"SWIM*\",\n",
    "        \"MWR\": \"MWR*\",\n",
    "        \"WSF\": \"WSF*\",\n",
    "        \"MLS\": \"MLS*\",\n",
    "        \"ICI\": \"ICI*\",\n",
    "    },\n",
    ")"
   ]
  },
  {
   "cell_type": "code",
   "execution_count": null,
   "id": "6",
   "metadata": {
    "tags": []
   },
   "outputs": [],
   "source": [
    "config = band_figure.FigureConfiguration.load()"
   ]
  },
  {
   "cell_type": "code",
   "execution_count": null,
   "id": "7",
   "metadata": {
    "tags": []
   },
   "outputs": [],
   "source": [
    "collation_rules = {\n",
    "    \"Space research\": [\"Space research*\"],\n",
    "    \"Mobile\": [\"Mobile\", \"Mobile*\"],\n",
    "    \"Fixed\": [\"Fixed\", \"Fixed*\"],\n",
    "    \"Aeronautical\": [\"Aeronautical*\"],\n",
    "    \"EESS (passive)\": [\"Earth exploration-satellite *(passive)\"],\n",
    "    \"EESS (active)\": [\"Earth exploration-satellite *(active)\"],\n",
    "    \"EESS (comms)\": [\"Earth exploration-satellite *(*to*)\"],\n",
    "    \"Amateur\": [\"Amateur*\"],\n",
    "    \"Radionavigation\": [\"Radionavigation*\"],\n",
    "    \"Meteorological\": [\"Meteorological*\"],\n",
    "    \"Space operation\": [\"Space operation*\"],\n",
    "    \"Radiodetermination\": [\"Radiodetermination*\"],\n",
    "    \"Radio astronomy\": [\"Radio Astronomy*\"],\n",
    "}"
   ]
  },
  {
   "cell_type": "code",
   "execution_count": null,
   "id": "8",
   "metadata": {
    "tags": []
   },
   "outputs": [],
   "source": [
    "ai_ranges = wrc27_views.get_ai_info()"
   ]
  },
  {
   "cell_type": "code",
   "execution_count": null,
   "id": "9",
   "metadata": {
    "tags": []
   },
   "outputs": [],
   "source": [
    "def all_wrc27_figures():\n",
    "    config = band_figure.FigureConfiguration.load()\n",
    "    ureg.setup_matplotlib()\n",
    "    with PdfPages(\"example-ai-figures.pdf\") as pdf:\n",
    "        for range_name, range_details in ai_ranges.items():\n",
    "            print(f\"{range_name}: {range_details}\")\n",
    "            if range_details.frequency_band.start is None:\n",
    "                continue\n",
    "            fig, ax = plt.subplots(figsize=[8.5, 11], layout=\"constrained\")\n",
    "            band_figure.views_plot(\n",
    "                frequency_range=range_details,\n",
    "                allocation_database=allocation_database,\n",
    "                oscar_database=oscar_database,\n",
    "                ax=ax,\n",
    "                figure_configuration=config,\n",
    "                collation_rules={},  # collation_rules,\n",
    "                omit_band_borders=True,\n",
    "            )\n",
    "            ax.set_title(range_name)\n",
    "            pdf.savefig(fig)\n",
    "            plt.close()\n",
    "\n",
    "\n",
    "all_wrc27_figures()"
   ]
  },
  {
   "cell_type": "code",
   "execution_count": null,
   "id": "10",
   "metadata": {
    "tags": []
   },
   "outputs": [],
   "source": [
    "test = band_figure.views_plot(\n",
    "    frequency_range=slice(1300 * ureg.MHz, 1450 * ureg.MHz),\n",
    "    allocation_database=allocation_database,\n",
    "    oscar_database=oscar_database,\n",
    "    figure_configuration=config,\n",
    "    collation_rules=collation_rules,\n",
    "    frequency_margin=200 * ureg.MHz,\n",
    ")"
   ]
  },
  {
   "cell_type": "code",
   "execution_count": null,
   "id": "11",
   "metadata": {},
   "outputs": [],
   "source": [
    "allocation_database.itu.find_closest_matching_band(\n",
    "    frequency=1475 * ureg.MHz,\n",
    "    direction=1,\n",
    "    condition=lambda band: band.has_allocation(\"Radio Astronomy\"),\n",
    ")"
   ]
  },
  {
   "cell_type": "code",
   "execution_count": null,
   "id": "12",
   "metadata": {
    "tags": []
   },
   "outputs": [],
   "source": [
    "def make_html():\n",
    "    for ai in ai_ranges.keys():\n",
    "        wrc27_views.ai_html_summary(\n",
    "            ai,\n",
    "            allocation_database=allocation_database,\n",
    "            oscar_database=oscar_database,\n",
    "        )\n",
    "\n",
    "\n",
    "make_html()"
   ]
  },
  {
   "cell_type": "code",
   "execution_count": null,
   "id": "13",
   "metadata": {},
   "outputs": [],
   "source": [
    "wrc27_views.generate_index_html()"
   ]
  },
  {
   "cell_type": "code",
   "execution_count": null,
   "id": "14",
   "metadata": {
    "tags": []
   },
   "outputs": [],
   "source": [
    "import pathlib\n",
    "import shutil"
   ]
  },
  {
   "cell_type": "code",
   "execution_count": null,
   "id": "15",
   "metadata": {
    "tags": []
   },
   "outputs": [],
   "source": [
    "# wrc27_views.push_information()"
   ]
  },
  {
   "cell_type": "code",
   "execution_count": null,
   "id": "16",
   "metadata": {},
   "outputs": [],
   "source": []
  }
 ],
 "metadata": {
  "kernelspec": {
   "display_name": "njl-base-3.10-24may23",
   "language": "python",
   "name": "njl-base-3.10-24may23"
  },
  "language_info": {
   "codemirror_mode": {
    "name": "ipython",
    "version": 3
   },
   "file_extension": ".py",
   "mimetype": "text/x-python",
   "name": "python",
   "nbconvert_exporter": "python",
   "pygments_lexer": "ipython3",
   "version": "3.10.12"
  }
 },
 "nbformat": 4,
 "nbformat_minor": 5
}
