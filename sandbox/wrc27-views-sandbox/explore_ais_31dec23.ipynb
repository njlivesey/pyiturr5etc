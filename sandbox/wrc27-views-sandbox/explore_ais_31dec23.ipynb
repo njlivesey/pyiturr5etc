{
 "cells": [
  {
   "cell_type": "code",
   "execution_count": null,
   "id": "bef2e3cf-4f9d-4557-9e30-3a7d05a2b564",
   "metadata": {
    "tags": []
   },
   "outputs": [],
   "source": [
    "# fmt: off\n",
    "%matplotlib inline\n",
    "%config InlineBackend.figure_format = \"retina\"\n",
    "%load_ext autoreload\n",
    "%load_ext jupyter_black\n",
    "import numpy as np\n",
    "import matplotlib\n",
    "import matplotlib.pyplot as plt\n",
    "import pickle\n",
    "from mls_scf_tools.mls_pint import ureg\n",
    "plt.style.use(\"mls_scf\")\n",
    "def vdir(obj):\n",
    "    return [x for x in dir(obj) if not x.startswith('__')]\n"
   ]
  },
  {
   "cell_type": "code",
   "execution_count": null,
   "id": "81264299-a7a7-475c-8d3f-318ab9a9b1b9",
   "metadata": {
    "tags": []
   },
   "outputs": [],
   "source": [
    "import intervaltree\n",
    "import itertools\n",
    "import pint\n",
    "from matplotlib import colormaps\n",
    "import warnings\n",
    "import json\n",
    "import pathlib"
   ]
  },
  {
   "cell_type": "code",
   "execution_count": null,
   "id": "a0fe285c-7936-4491-b301-30261a06a6a7",
   "metadata": {
    "tags": []
   },
   "outputs": [],
   "source": [
    "%autoreload 2\n",
    "import njl_corf\n",
    "from njl_corf.pyfcctab import ureg\n",
    "import njl_corf.pyfcctab as pyfcctab\n",
    "import njl_corf.pyoscar as pyoscar\n",
    "import njl_corf.band_figure as band_figure"
   ]
  },
  {
   "cell_type": "code",
   "execution_count": null,
   "id": "69967e7f-90fe-406a-a178-a690307dd03d",
   "metadata": {
    "tags": []
   },
   "outputs": [],
   "source": [
    "defaults_filename = (\n",
    "    pathlib.Path(band_figure.__file__).parent / \"default-band-figure-style.json\"\n",
    ")\n",
    "with open(str(defaults_filename), \"r\", encoding=\"utf-8\") as defaults_file:\n",
    "    plot_defaults = json.load(defaults_file)\n",
    "plot_defaults"
   ]
  },
  {
   "cell_type": "code",
   "execution_count": null,
   "id": "d7ce2425-f8b6-496c-9793-d9eb83ab1f75",
   "metadata": {
    "tags": []
   },
   "outputs": [],
   "source": [
    "allocation_database = pyfcctab.read()"
   ]
  },
  {
   "cell_type": "code",
   "execution_count": null,
   "id": "2f455db1-14fa-4cf5-b8b7-018819032b12",
   "metadata": {
    "tags": []
   },
   "outputs": [],
   "source": [
    "oscar_database = pyoscar.read()\n",
    "oscar_database = pyoscar.merge_sensors(\n",
    "    oscar_database,\n",
    "    {\n",
    "        \"AMSR\": \"AMSR*\",\n",
    "        \"ATMS\": \"ATMS*\",\n",
    "        \"AWS\": \"AWS*\",\n",
    "        \"MWTS\": \"MWTS*\",\n",
    "        \"SSMIS\": \"SSMIS*\",\n",
    "        \"AMSU\": \"AMSU*\",\n",
    "        #        \"MWRI\": \"MWRI*\",\n",
    "        \"MWS\": \"MWS*\",\n",
    "        \"MTVZA\": \"MTVZA*\",\n",
    "        \"MWI\": \"MWI*\",\n",
    "        \"SRAL\": \"SRAL*\",\n",
    "        \"OSCAT\": \"OSCAT*\",\n",
    "        \"Altimetry\": [\"ALT*\", \"RA*\", \"Altimeter*\"],\n",
    "        \"Precipitation\": [\"PR*\", \"DPR*\", \"Rainradar\"],\n",
    "        \"Poseidon\": \"Poseidon*\",\n",
    "        \"SWIM\": \"SWIM*\",\n",
    "        \"MWR\": \"MWR*\",\n",
    "        \"WSF\": \"WSF*\",\n",
    "        \"MLS\": \"MLS*\",\n",
    "        \"ICI\": \"ICI*\",\n",
    "    },\n",
    ")"
   ]
  },
  {
   "cell_type": "code",
   "execution_count": null,
   "id": "0b9c64a3-928e-49bc-9908-ec4ee055d872",
   "metadata": {
    "tags": []
   },
   "outputs": [],
   "source": []
  },
  {
   "cell_type": "code",
   "execution_count": null,
   "id": "53ea6f5d-8390-4e55-b421-7b516070bda1",
   "metadata": {
    "tags": []
   },
   "outputs": [],
   "source": [
    "# help(matplotlib.patches.Polygon)"
   ]
  },
  {
   "cell_type": "code",
   "execution_count": null,
   "id": "d08ba4ab-1dc7-4880-b505-c6eae23d86f6",
   "metadata": {
    "tags": []
   },
   "outputs": [],
   "source": [
    "ranges = {\n",
    "    \"1.1\": slice(47.2 * ureg.GHz, 51.4 * ureg.GHz),\n",
    "    \"1.2\": slice(13.5 * ureg.GHz, 14.6 * ureg.GHz),\n",
    "    \"1.3\": slice(51.4 * ureg.GHz, 52.4 * ureg.GHz),\n",
    "    \"1.4\": slice(17.3 * ureg.GHz, 17.7 * ureg.GHz),\n",
    "    \"1.5\": None,\n",
    "    \"1.6ab\": slice(37.5 * ureg.GHz, 43.5 * ureg.GHz),\n",
    "    \"1.6cd\": slice(47.2 * ureg.GHz, 51.4 * ureg.GHz),\n",
    "    \"1.7a\": slice(4_400 * ureg.MHz, 4_800 * ureg.MHz),\n",
    "    \"1.7b\": slice(7_125 * ureg.MHz, 8_400 * ureg.MHz),\n",
    "    \"1.7c\": slice(14.8 * ureg.GHz, 15.35 * ureg.GHz),\n",
    "    \"1.8\": slice(231.5 * ureg.GHz, 275 * ureg.GHz),\n",
    "    \"1.9\": None,\n",
    "    \"1.10a\": slice(71 * ureg.GHz, 76 * ureg.GHz),\n",
    "    \"1.10b\": slice(81 * ureg.GHz, 86 * ureg.GHz),\n",
    "    \"1.11abcde\": slice(1_518 * ureg.MHz, 1_675 * ureg.MHz),\n",
    "    \"1.11f\": slice(2_483.5 * ureg.MHz, 2_500 * ureg.MHz),\n",
    "    \"1.12a\": slice(1_427 * ureg.MHz, 1_432 * ureg.MHz),\n",
    "    \"1.12b\": slice(1_645.5 * ureg.MHz, 1_646.5 * ureg.MHz),\n",
    "    \"1.12c\": slice(1_880 * ureg.MHz, 1_920 * ureg.MHz),\n",
    "    \"1.12d\": slice(2_010 * ureg.MHz, 2_025 * ureg.MHz),\n",
    "    \"1.13\": None,\n",
    "    \"1.14\": None,\n",
    "    \"1.15\": None,\n",
    "    \"1.16\": None,\n",
    "    \"1.17\": None,\n",
    "    \"1.18\": None,\n",
    "    \"1.19a\": slice(4_200 * ureg.MHz, 4_400 * ureg.MHz),\n",
    "    \"1.19b\": slice(8_400 * ureg.MHz, 8_500 * ureg.MHz),\n",
    "}"
   ]
  },
  {
   "cell_type": "code",
   "execution_count": null,
   "id": "7a41b95a-e5fe-465f-afb5-2d8743b314f1",
   "metadata": {
    "tags": []
   },
   "outputs": [],
   "source": [
    "# allocation_database.footenote_definitions[0][\"5.340\"]"
   ]
  },
  {
   "cell_type": "code",
   "execution_count": null,
   "id": "02724b72-614e-401d-b0fe-099a76bbbea4",
   "metadata": {
    "tags": []
   },
   "outputs": [],
   "source": [
    "ureg.setup_matplotlib()\n",
    "fig, ax = plt.subplots(figsize=[4, 8])  # , layout=\"constrained\")\n",
    "test = band_figure.views_plot(\n",
    "    frequency_range=ranges[\"1.2\"],\n",
    "    allocation_database=allocation_database,\n",
    "    oscar_database=oscar_database,\n",
    "    ax=ax,\n",
    ")\n",
    "# plt.savefig(\"test.pdf\")"
   ]
  },
  {
   "cell_type": "code",
   "execution_count": null,
   "id": "ff0e6ef1-b2a7-4c37-a6a6-82746827508e",
   "metadata": {},
   "outputs": [],
   "source": []
  },
  {
   "cell_type": "code",
   "execution_count": null,
   "id": "4686c185-a4b8-4617-b4f9-ad3d616ed49e",
   "metadata": {
    "tags": []
   },
   "outputs": [],
   "source": [
    "bands = allocation_database.itu[183 * ureg.GHz]\n",
    "print([band.allocations[0].modifiers for band in bands])"
   ]
  },
  {
   "cell_type": "code",
   "execution_count": null,
   "id": "b1e30f90-e540-4ebd-9660-e2b5982b3aec",
   "metadata": {
    "tags": []
   },
   "outputs": [],
   "source": [
    "??allocation_database.itu.data.split_overlaps"
   ]
  },
  {
   "cell_type": "code",
   "execution_count": null,
   "id": "ba85083a-c603-42ef-b97e-eb1c7c23451d",
   "metadata": {},
   "outputs": [],
   "source": [
    "x = slice(1, 2)\n",
    "help(x)"
   ]
  },
  {
   "cell_type": "code",
   "execution_count": null,
   "id": "c0487d2c-b9db-46fd-bf36-cc3adb185d9c",
   "metadata": {
    "tags": []
   },
   "outputs": [],
   "source": [
    "import json"
   ]
  },
  {
   "cell_type": "code",
   "execution_count": null,
   "id": "93246e43-4275-41ef-be89-b18f2e4c8542",
   "metadata": {
    "tags": []
   },
   "outputs": [],
   "source": [
    "json.dumps({\"colors_scheme\": SERVICE_COLORS})"
   ]
  },
  {
   "cell_type": "code",
   "execution_count": null,
   "id": "8fd0bdf8-9575-4ab9-a197-565f607d8104",
   "metadata": {},
   "outputs": [],
   "source": []
  }
 ],
 "metadata": {
  "kernelspec": {
   "display_name": "njl-base-3.10-24may23",
   "language": "python",
   "name": "njl-base-3.10-24may23"
  },
  "language_info": {
   "codemirror_mode": {
    "name": "ipython",
    "version": 3
   },
   "file_extension": ".py",
   "mimetype": "text/x-python",
   "name": "python",
   "nbconvert_exporter": "python",
   "pygments_lexer": "ipython3",
   "version": "3.10.12"
  }
 },
 "nbformat": 4,
 "nbformat_minor": 5
}
