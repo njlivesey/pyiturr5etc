{
 "cells": [
  {
   "cell_type": "code",
   "execution_count": null,
   "id": "bef2e3cf-4f9d-4557-9e30-3a7d05a2b564",
   "metadata": {
    "tags": []
   },
   "outputs": [],
   "source": [
    "# fmt: off\n",
    "%matplotlib inline\n",
    "%config InlineBackend.figure_format = \"retina\"\n",
    "%load_ext autoreload\n",
    "%load_ext jupyter_black\n",
    "import numpy as np\n",
    "import matplotlib\n",
    "import matplotlib.pyplot as plt\n",
    "import pickle\n",
    "from mls_scf_tools.mls_pint import ureg\n",
    "plt.style.use(\"mls_scf\")\n",
    "def vdir(obj):\n",
    "    return [x for x in dir(obj) if not x.startswith('__')]\n"
   ]
  },
  {
   "cell_type": "code",
   "execution_count": null,
   "id": "81264299-a7a7-475c-8d3f-318ab9a9b1b9",
   "metadata": {
    "tags": []
   },
   "outputs": [],
   "source": [
    "import intervaltree\n",
    "import itertools\n",
    "import pint\n",
    "from matplotlib import colormaps\n",
    "import warnings"
   ]
  },
  {
   "cell_type": "code",
   "execution_count": null,
   "id": "a0fe285c-7936-4491-b301-30261a06a6a7",
   "metadata": {
    "tags": []
   },
   "outputs": [],
   "source": [
    "%autoreload 2\n",
    "from njl_corf.pyfcctab import ureg\n",
    "import njl_corf.pyfcctab as pyfcctab\n",
    "import njl_corf.pyoscar as pyoscar"
   ]
  },
  {
   "cell_type": "code",
   "execution_count": null,
   "id": "d7ce2425-f8b6-496c-9793-d9eb83ab1f75",
   "metadata": {
    "tags": []
   },
   "outputs": [],
   "source": [
    "allocation_database = pyfcctab.read()"
   ]
  },
  {
   "cell_type": "code",
   "execution_count": null,
   "id": "2f455db1-14fa-4cf5-b8b7-018819032b12",
   "metadata": {
    "tags": []
   },
   "outputs": [],
   "source": [
    "oscar_database = pyoscar.read()\n",
    "oscar_database = pyoscar.merge_sensors(\n",
    "    oscar_database,\n",
    "    {\n",
    "        \"AMSR\": \"AMSR*\",\n",
    "        \"ATMS\": \"ATMS*\",\n",
    "        \"AWS\": \"AWS*\",\n",
    "        \"MWTS\": \"MWTS*\",\n",
    "        \"SSMIS\": \"SSMIS*\",\n",
    "        \"AMSU\": \"AMSU*\",\n",
    "        #        \"MWRI\": \"MWRI*\",\n",
    "        \"MWS\": \"MWS*\",\n",
    "        \"MTVZA\": \"MTVZA*\",\n",
    "        \"MWI\": \"MWI*\",\n",
    "        \"SRAL\": \"SRAL*\",\n",
    "        \"OSCAT\": \"OSCAT*\",\n",
    "        \"Altimetry\": [\"ALT*\", \"RA*\", \"Altimeter*\"],\n",
    "        \"Precipitation\": [\"PR*\", \"DPR*\", \"Rainradar\"],\n",
    "        \"Poseidon\": \"Poseidon*\",\n",
    "        \"SWIM\": \"SWIM*\",\n",
    "        \"MWR\": \"MWR*\",\n",
    "        \"WSF\": \"WSF*\",\n",
    "        \"MLS\": \"MLS*\",\n",
    "        \"ICI\": \"ICI*\",\n",
    "    },\n",
    ")"
   ]
  },
  {
   "cell_type": "code",
   "execution_count": null,
   "id": "0b9c64a3-928e-49bc-9908-ec4ee055d872",
   "metadata": {
    "tags": []
   },
   "outputs": [],
   "source": [
    "def views_plot(\n",
    "    frequency_range: slice,\n",
    "    allocation_database: pyfcctab.FCCTables,\n",
    "    oscar_database: intervaltree.IntervalTree,\n",
    "    ax: matplotlib.pyplot.Axes,\n",
    "    frequency_margin: float = None,\n",
    "):\n",
    "    \"\"\"Does one views report plot\"\"\"\n",
    "    # Increate the range if/as needed\n",
    "    if frequency_margin is None:\n",
    "        frequency_margin = 0.20\n",
    "    formal_bandwidth = frequency_range.stop - frequency_range.start\n",
    "    examined_frequency_range = slice(\n",
    "        frequency_range.start - formal_bandwidth * frequency_margin,\n",
    "        frequency_range.stop + formal_bandwidth * frequency_margin,\n",
    "    )\n",
    "    # ------ Allocations\n",
    "    bands = allocation_database.itu[examined_frequency_range]\n",
    "    # Work out how many services are in use\n",
    "    primary_allocations = itertools.chain.from_iterable(\n",
    "        [band.primary_allocations for band in bands]\n",
    "    )\n",
    "    secondary_allocations = itertools.chain.from_iterable(\n",
    "        [band.secondary_allocations for band in bands]\n",
    "    )\n",
    "    allocations = list(primary_allocations) + list(secondary_allocations)\n",
    "    services = sorted(list(set(allocation.service.name for allocation in allocations)))\n",
    "    n_services = len(services)\n",
    "    # Loop over the services we found and include them in the plot\n",
    "    y_labels = {}\n",
    "    colors = colormaps[\"tab10\"].colors\n",
    "    band_bounds = []\n",
    "    for i_service, service in enumerate(services):\n",
    "        y_labels[i_service] = service\n",
    "        for band in bands:\n",
    "            band_bounds += [band.bounds[0], band.bounds[1]]\n",
    "            if band.has_allocation(service + \"*\"):\n",
    "                x_bounds = (\n",
    "                    pint.Quantity.from_sequence(band.bounds)\n",
    "                    .to(frequency_range.start.units)\n",
    "                    .magnitude\n",
    "                )\n",
    "                thickness = 0.2\n",
    "                y_bounds = np.array([i_service - thickness, i_service + thickness])\n",
    "                xy = [x_bounds[[0, 1, 1, 0]], y_bounds[[0, 0, 1, 1]]]\n",
    "                this_patch = matplotlib.patches.Polygon(\n",
    "                    np.stack(xy, axis=1),\n",
    "                    color=colors[i_service % len(colors)],\n",
    "                    linewidth=0,\n",
    "                )\n",
    "                ax.add_patch(this_patch)\n",
    "                if band.has_allocation(service + \"*\", secondary=True):\n",
    "                    this_hatch_patch = matplotlib.patches.Polygon(\n",
    "                        np.stack(xy, axis=1),\n",
    "                        color=\"white\",\n",
    "                        fill=None,\n",
    "                        hatch=\"/////\",\n",
    "                        linewidth=0,\n",
    "                    )\n",
    "                    ax.add_patch(this_hatch_patch)\n",
    "    # ------- Oscar\n",
    "    # Now do all the things found in OSCAR\n",
    "    eess_usage = oscar_database[examined_frequency_range]\n",
    "    # Draw bars for each band usage\n",
    "    for i, eess_user in enumerate(eess_usage):\n",
    "        y_value = i + n_services\n",
    "        y_labels[y_value] = eess_user.data.service\n",
    "        x_bounds = (\n",
    "            pint.Quantity.from_sequence(\n",
    "                [eess_user.data.bounds.start, eess_user.data.bounds.stop]\n",
    "            )\n",
    "            .to(frequency_range.start.units)\n",
    "            .magnitude\n",
    "        )\n",
    "        if x_bounds[1] > x_bounds[0] + 1e-6:\n",
    "            ax.plot(\n",
    "                x_bounds,\n",
    "                [y_value] * 2,\n",
    "                color=\"black\",\n",
    "                linewidth=2.0,\n",
    "            )\n",
    "        else:\n",
    "            ax.plot(x_bounds[0], y_value, color=\"black\", marker=\"*\")\n",
    "    # ------- Remainder\n",
    "    # Now set up the rest of the plot information\n",
    "    n_bars = n_services + len(eess_usage)\n",
    "    ax.set_xlim(examined_frequency_range.start, examined_frequency_range.stop)\n",
    "    ax.set_ylim(-0.5, n_bars - 0.5)\n",
    "    ax.set_yticks(np.array(list(y_labels.keys())), y_labels.values())\n",
    "    band_bounds = list(set(band_bounds))\n",
    "    for b in band_bounds:\n",
    "        ax.axvline(b, color=\"darkgrey\", zorder=-10, linewidth=0.5)\n",
    "    # ------- 5.340\n",
    "    # Hatch out all the areas that are 5.340\n",
    "    for band in bands:\n",
    "        if band.has_footnote(\"5.340\"):\n",
    "            x_bounds = (\n",
    "                pint.Quantity.from_sequence(band.bounds)\n",
    "                .to(frequency_range.start.units)\n",
    "                .magnitude\n",
    "            )\n",
    "            y_bounds = np.array(ax.get_ylim())\n",
    "            xy = [x_bounds[[0, 1, 1, 0]], y_bounds[[0, 0, 1, 1]]]\n",
    "            this_patch = matplotlib.patches.Polygon(\n",
    "                np.stack(xy, axis=1),\n",
    "                linewidth=0,\n",
    "                facecolor=\"lightgrey\",\n",
    "                zorder=-10,\n",
    "            )\n",
    "            ax.add_patch(this_patch)"
   ]
  },
  {
   "cell_type": "code",
   "execution_count": null,
   "id": "53ea6f5d-8390-4e55-b421-7b516070bda1",
   "metadata": {
    "tags": []
   },
   "outputs": [],
   "source": [
    "# help(matplotlib.patches.Polygon)"
   ]
  },
  {
   "cell_type": "code",
   "execution_count": null,
   "id": "d08ba4ab-1dc7-4880-b505-c6eae23d86f6",
   "metadata": {
    "tags": []
   },
   "outputs": [],
   "source": [
    "ranges = {\n",
    "    \"1.1\": slice(47.2 * ureg.GHz, 51.4 * ureg.GHz),\n",
    "    \"1.2\": slice(13.5 * ureg.GHz, 14.6 * ureg.GHz),\n",
    "    \"1.3\": slice(51.4 * ureg.GHz, 52.4 * ureg.GHz),\n",
    "    \"1.4\": slice(17.3 * ureg.GHz, 17.7 * ureg.GHz),\n",
    "    \"1.5\": None,\n",
    "    \"1.6ab\": slice(37.5 * ureg.GHz, 43.5 * ureg.GHz),\n",
    "    \"1.6cd\": slice(47.2 * ureg.GHz, 51.4 * ureg.GHz),\n",
    "    \"1.7a\": slice(4_400 * ureg.MHz, 4_800 * ureg.MHz),\n",
    "    \"1.7b\": slice(7_125 * ureg.MHz, 8_400 * ureg.MHz),\n",
    "    \"1.7c\": slice(14.8 * ureg.GHz, 15.35 * ureg.GHz),\n",
    "    \"1.8\": slice(231.5 * ureg.GHz, 275 * ureg.GHz),\n",
    "    \"1.9\": None,\n",
    "    \"1.10a\": slice(71 * ureg.GHz, 76 * ureg.GHz),\n",
    "    \"1.10b\": slice(81 * ureg.GHz, 86 * ureg.GHz),\n",
    "    \"1.11abcde\": slice(1_518 * ureg.MHz, 1_675 * ureg.MHz),\n",
    "    \"1.11f\": slice(2_483.5 * ureg.MHz, 2_500 * ureg.MHz),\n",
    "    \"1.12a\": slice(1_427 * ureg.MHz, 1_432 * ureg.MHz),\n",
    "    \"1.12b\": slice(1_645.5 * ureg.MHz, 1_646.5 * ureg.MHz),\n",
    "    \"1.12c\": slice(1_880 * ureg.MHz, 1_920 * ureg.MHz),\n",
    "    \"1.12d\": slice(2_010 * ureg.MHz, 2_025 * ureg.MHz),\n",
    "    \"1.13\": None,\n",
    "    \"1.14\": None,\n",
    "    \"1.15\": None,\n",
    "    \"1.16\": None,\n",
    "    \"1.17\": None,\n",
    "    \"1.18\": None,\n",
    "    \"1.19a\": slice(4_200 * ureg.MHz, 4_400 * ureg.MHz),\n",
    "    \"1.19b\": slice(8_400 * ureg.MHz, 8_500 * ureg.MHz),\n",
    "}"
   ]
  },
  {
   "cell_type": "code",
   "execution_count": null,
   "id": "7a41b95a-e5fe-465f-afb5-2d8743b314f1",
   "metadata": {
    "tags": []
   },
   "outputs": [],
   "source": [
    "# allocation_database.footenote_definitions[0][\"5.340\"]"
   ]
  },
  {
   "cell_type": "code",
   "execution_count": null,
   "id": "02724b72-614e-401d-b0fe-099a76bbbea4",
   "metadata": {
    "tags": []
   },
   "outputs": [],
   "source": [
    "ureg.setup_matplotlib()\n",
    "fig, ax = plt.subplots(figsize=[4, 8])  # , layout=\"constrained\")\n",
    "test = views_plot(\n",
    "    frequency_range=ranges[\"1.1\"],\n",
    "    allocation_database=allocation_database,\n",
    "    oscar_database=oscar_database,\n",
    "    ax=ax,\n",
    ")\n",
    "# plt.savefig(\"test.pdf\")"
   ]
  },
  {
   "cell_type": "code",
   "execution_count": null,
   "id": "4686c185-a4b8-4617-b4f9-ad3d616ed49e",
   "metadata": {
    "tags": []
   },
   "outputs": [],
   "source": [
    "bands = allocation_database.itu[183 * ureg.GHz]\n",
    "print([band.allocations[0].modifiers for band in bands])"
   ]
  },
  {
   "cell_type": "code",
   "execution_count": null,
   "id": "b1e30f90-e540-4ebd-9660-e2b5982b3aec",
   "metadata": {
    "tags": []
   },
   "outputs": [],
   "source": [
    "??allocation_database.itu.data.split_overlaps"
   ]
  },
  {
   "cell_type": "code",
   "execution_count": null,
   "id": "ba85083a-c603-42ef-b97e-eb1c7c23451d",
   "metadata": {},
   "outputs": [],
   "source": [
    "x = slice(1, 2)\n",
    "help(x)"
   ]
  },
  {
   "cell_type": "code",
   "execution_count": null,
   "id": "ea34b6d6-6388-411f-9b6b-c5d1a796a5e0",
   "metadata": {},
   "outputs": [],
   "source": []
  }
 ],
 "metadata": {
  "kernelspec": {
   "display_name": "njl-base-3.10-24may23",
   "language": "python",
   "name": "njl-base-3.10-24may23"
  },
  "language_info": {
   "codemirror_mode": {
    "name": "ipython",
    "version": 3
   },
   "file_extension": ".py",
   "mimetype": "text/x-python",
   "name": "python",
   "nbconvert_exporter": "python",
   "pygments_lexer": "ipython3",
   "version": "3.10.12"
  }
 },
 "nbformat": 4,
 "nbformat_minor": 5
}
