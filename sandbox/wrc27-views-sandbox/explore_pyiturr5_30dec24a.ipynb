{
 "cells": [
  {
   "cell_type": "code",
   "execution_count": null,
   "id": "f1389590-7d06-4bad-ab03-5a7b6729443e",
   "metadata": {
    "tags": []
   },
   "outputs": [],
   "source": [
    "# fmt: off\n",
    "%matplotlib inline\n",
    "%config InlineBackend.figure_format = \"retina\"\n",
    "%load_ext autoreload\n",
    "%load_ext jupyter_black\n",
    "import numpy as np\n",
    "import matplotlib\n",
    "import matplotlib.pyplot as plt\n",
    "import pickle\n",
    "from njl_corf import ureg\n",
    "plt.style.use(\"mls_scf\")\n",
    "def vdir(obj):\n",
    "    return [x for x in dir(obj) if not x.startswith('__')]"
   ]
  },
  {
   "cell_type": "code",
   "execution_count": null,
   "id": "9cdfbef1-357d-41dc-b0b4-83db35d9feb8",
   "metadata": {
    "tags": []
   },
   "outputs": [],
   "source": [
    "import pint\n",
    "\n",
    "# from matplotlib.patches import Rectangle"
   ]
  },
  {
   "cell_type": "code",
   "execution_count": null,
   "id": "2e3214af-3633-49f3-aa57-c026fac05bac",
   "metadata": {
    "tags": []
   },
   "outputs": [],
   "source": [
    "%autoreload 2"
   ]
  },
  {
   "cell_type": "code",
   "execution_count": null,
   "id": "9dbad869-ba38-4454-bd9d-3ad7e410aa6a",
   "metadata": {
    "tags": []
   },
   "outputs": [],
   "source": [
    "from njl_corf import pyiturr5 as rr, wrc27_views\n",
    "from njl_corf.wrc27_figures import all_individual_figures, wrc27_ai_figure"
   ]
  },
  {
   "cell_type": "code",
   "execution_count": null,
   "id": "3d548017-cd6b-42bd-b931-055329a46d32",
   "metadata": {
    "tags": []
   },
   "outputs": [],
   "source": [
    "allocation_database = rr.parse_rr_file()"
   ]
  },
  {
   "cell_type": "code",
   "execution_count": null,
   "id": "625070a9-9ea0-4348-9784-c7320880401e",
   "metadata": {
    "tags": []
   },
   "outputs": [],
   "source": [
    "allocation_database.itu[4.3 * ureg.GHz]\n",
    "# allocation_database.itu[1720 * ureg.MHz]"
   ]
  },
  {
   "cell_type": "code",
   "execution_count": null,
   "id": "c03c603a-84a6-4379-9990-58b3be9751e4",
   "metadata": {
    "tags": []
   },
   "outputs": [],
   "source": [
    "rr.footnote_5_458()"
   ]
  },
  {
   "cell_type": "code",
   "execution_count": null,
   "id": "655f6120-5fdd-4786-947d-d46bd0ac70e5",
   "metadata": {
    "tags": []
   },
   "outputs": [],
   "source": [
    "rr.footnote_5_555()"
   ]
  },
  {
   "cell_type": "code",
   "execution_count": null,
   "id": "6e302ea7-2469-4661-a672-09e16579ad14",
   "metadata": {},
   "outputs": [],
   "source": []
  }
 ],
 "metadata": {
  "kernelspec": {
   "display_name": "njl-base-3.10-24may23",
   "language": "python",
   "name": "njl-base-3.10-24may23"
  },
  "language_info": {
   "codemirror_mode": {
    "name": "ipython",
    "version": 3
   },
   "file_extension": ".py",
   "mimetype": "text/x-python",
   "name": "python",
   "nbconvert_exporter": "python",
   "pygments_lexer": "ipython3",
   "version": "3.10.12"
  }
 },
 "nbformat": 4,
 "nbformat_minor": 5
}
