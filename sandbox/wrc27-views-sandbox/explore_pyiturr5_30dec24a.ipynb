{
    "cells": [
        {
            "cell_type": "code",
            "execution_count": null,
            "id": "0",
            "metadata": {
                "tags": []
            },
            "outputs": [],
            "source": [
                "# fmt: off\n",
                "%matplotlib inline\n",
                "%config InlineBackend.figure_format = \"retina\"\n",
                "%load_ext autoreload\n",
                "%load_ext jupyter_black\n",
                "import numpy as np\n",
                "import matplotlib\n",
                "import matplotlib.pyplot as plt\n",
                "from njl_corf import ureg\n",
                "plt.style.use(\"mls_scf\")\n",
                "def vdir(obj):\n",
                "    return [x for x in dir(obj) if not x.startswith('__')]"
            ]
        },
        {
            "cell_type": "code",
            "execution_count": null,
            "id": "1",
            "metadata": {
                "tags": []
            },
            "outputs": [],
            "source": [
                "import pint\n",
                "\n",
                "# from matplotlib.patches import Rectangle"
            ]
        },
        {
            "cell_type": "code",
            "execution_count": null,
            "id": "2",
            "metadata": {
                "tags": []
            },
            "outputs": [],
            "source": [
                "%autoreload 2"
            ]
        },
        {
            "cell_type": "code",
            "execution_count": null,
            "id": "3",
            "metadata": {
                "tags": []
            },
            "outputs": [],
            "source": [
                "from njl_corf import pyiturr5 as rr, wrc27_views\n",
                "from njl_corf.wrc27_figures import all_individual_figures, wrc27_ai_figure"
            ]
        },
        {
            "cell_type": "code",
            "execution_count": null,
            "id": "4",
            "metadata": {
                "tags": []
            },
            "outputs": [],
            "source": [
                "allocation_database = rr.parse_rr_file()"
            ]
        },
        {
            "cell_type": "code",
            "execution_count": null,
            "id": "5",
            "metadata": {
                "tags": []
            },
            "outputs": [],
            "source": [
                "allocation_database.itu[4.3 * ureg.GHz]\n",
                "# allocation_database.itu[1720 * ureg.MHz]"
            ]
        },
        {
            "cell_type": "code",
            "execution_count": null,
            "id": "6",
            "metadata": {
                "tags": []
            },
            "outputs": [],
            "source": [
                "rr.footnote_5_458()"
            ]
        },
        {
            "cell_type": "code",
            "execution_count": null,
            "id": "7",
            "metadata": {
                "tags": []
            },
            "outputs": [],
            "source": [
                "rr.footnote_5_555()"
            ]
        },
        {
            "cell_type": "code",
            "execution_count": null,
            "id": "8",
            "metadata": {},
            "outputs": [],
            "source": []
        }
    ],
    "metadata": {
        "kernelspec": {
            "display_name": "njl-base-3.10-24may23",
            "language": "python",
            "name": "njl-base-3.10-24may23"
        },
        "language_info": {
            "codemirror_mode": {
                "name": "ipython",
                "version": 3
            },
            "file_extension": ".py",
            "mimetype": "text/x-python",
            "name": "python",
            "nbconvert_exporter": "python",
            "pygments_lexer": "ipython3",
            "version": "3.10.12"
        }
    },
    "nbformat": 4,
    "nbformat_minor": 5
}