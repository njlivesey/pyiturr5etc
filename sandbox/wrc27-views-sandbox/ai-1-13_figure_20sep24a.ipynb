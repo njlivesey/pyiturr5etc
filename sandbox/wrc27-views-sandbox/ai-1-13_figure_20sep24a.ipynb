{
 "cells": [
  {
   "cell_type": "code",
   "execution_count": null,
   "id": "90e17c6c-a2f3-4a45-88e0-b98fbbc65a71",
   "metadata": {
    "tags": []
   },
   "outputs": [],
   "source": [
    "# fmt: off\n",
    "%matplotlib inline\n",
    "%config InlineBackend.figure_format = \"retina\"\n",
    "%load_ext autoreload\n",
    "%load_ext jupyter_black\n",
    "import numpy as np\n",
    "import matplotlib\n",
    "import matplotlib.pyplot as plt\n",
    "import pickle\n",
    "from njl_corf import ureg\n",
    "plt.style.use(\"mls_scf\")\n",
    "def vdir(obj):\n",
    "    return [x for x in dir(obj) if not x.startswith('__')]\n"
   ]
  },
  {
   "cell_type": "code",
   "execution_count": null,
   "id": "b1af1a38-6e3f-47f1-b317-06c0201042fa",
   "metadata": {},
   "outputs": [],
   "source": [
    "%autoreload 2"
   ]
  },
  {
   "cell_type": "code",
   "execution_count": null,
   "id": "058457df-ea07-481a-ba9d-fd33a87824bc",
   "metadata": {
    "tags": []
   },
   "outputs": [],
   "source": [
    "from ai_1_13_figure import ai_1_13"
   ]
  },
  {
   "cell_type": "code",
   "execution_count": null,
   "id": "c403e31c-9a00-4d0b-8e1c-4333cfe9adc7",
   "metadata": {
    "tags": []
   },
   "outputs": [],
   "source": [
    "ai_1_13()"
   ]
  },
  {
   "cell_type": "code",
   "execution_count": null,
   "id": "cb751d75-8637-4f91-aac6-e772d903e855",
   "metadata": {},
   "outputs": [],
   "source": []
  }
 ],
 "metadata": {
  "kernelspec": {
   "display_name": "njl-base-3.10-24may23",
   "language": "python",
   "name": "njl-base-3.10-24may23"
  },
  "language_info": {
   "codemirror_mode": {
    "name": "ipython",
    "version": 3
   },
   "file_extension": ".py",
   "mimetype": "text/x-python",
   "name": "python",
   "nbconvert_exporter": "python",
   "pygments_lexer": "ipython3",
   "version": "3.10.12"
  }
 },
 "nbformat": 4,
 "nbformat_minor": 5
}
