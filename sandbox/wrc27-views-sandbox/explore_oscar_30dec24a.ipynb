{
 "cells": [
  {
   "cell_type": "code",
   "execution_count": null,
   "id": "2da2ee3d-0d34-44bf-9a94-58a23a617e90",
   "metadata": {
    "tags": []
   },
   "outputs": [],
   "source": [
    "# fmt: off\n",
    "%matplotlib inline\n",
    "%config InlineBackend.figure_format = \"retina\"\n",
    "%load_ext autoreload\n",
    "%load_ext jupyter_black\n",
    "import numpy as np\n",
    "import matplotlib\n",
    "import matplotlib.pyplot as plt\n",
    "import pickle\n",
    "from njl_corf import ureg\n",
    "plt.style.use(\"mls_scf\")\n",
    "def vdir(obj):\n",
    "    return [x for x in dir(obj) if not x.startswith('__')]"
   ]
  },
  {
   "cell_type": "code",
   "execution_count": null,
   "id": "c822b3d4-2d8d-4bac-bc33-8e3588cbd5c9",
   "metadata": {
    "tags": []
   },
   "outputs": [],
   "source": [
    "%autoreload 2\n",
    "from njl_corf import pyoscar"
   ]
  },
  {
   "cell_type": "code",
   "execution_count": null,
   "id": "5b009068-9b4d-4979-8267-784724e2e5d7",
   "metadata": {
    "tags": []
   },
   "outputs": [],
   "source": [
    "oscar_data = pyoscar.read()"
   ]
  },
  {
   "cell_type": "code",
   "execution_count": null,
   "id": "12b332be-2605-4668-8bb4-90b49245c0f2",
   "metadata": {
    "tags": []
   },
   "outputs": [],
   "source": [
    "bands = oscar_data[13.5 * ureg.GHz]"
   ]
  },
  {
   "cell_type": "code",
   "execution_count": null,
   "id": "6e70a176-c157-44d1-8936-973bef3c2601",
   "metadata": {
    "tags": []
   },
   "outputs": [],
   "source": [
    "for band in bands:\n",
    "    data = band.data\n",
    "    print(f\"{data.satellite}: {data.bandwidth} ({data.launch})\")"
   ]
  },
  {
   "cell_type": "code",
   "execution_count": null,
   "id": "10f14f83-7b27-4576-9d4e-d86181082136",
   "metadata": {
    "tags": []
   },
   "outputs": [],
   "source": [
    "vdir(list(bands)[0].data)"
   ]
  },
  {
   "cell_type": "code",
   "execution_count": null,
   "id": "fa3b1747-bff5-4cb9-9c87-0f1efee6a3e4",
   "metadata": {},
   "outputs": [],
   "source": []
  }
 ],
 "metadata": {
  "kernelspec": {
   "display_name": "njl-base-3.10-24may23",
   "language": "python",
   "name": "njl-base-3.10-24may23"
  },
  "language_info": {
   "codemirror_mode": {
    "name": "ipython",
    "version": 3
   },
   "file_extension": ".py",
   "mimetype": "text/x-python",
   "name": "python",
   "nbconvert_exporter": "python",
   "pygments_lexer": "ipython3",
   "version": "3.10.12"
  }
 },
 "nbformat": 4,
 "nbformat_minor": 5
}
