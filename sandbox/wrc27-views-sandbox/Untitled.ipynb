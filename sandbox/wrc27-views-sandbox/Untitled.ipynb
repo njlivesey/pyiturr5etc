{
 "cells": [
  {
   "cell_type": "code",
   "execution_count": null,
   "id": "e9b65de5-7b87-478f-b986-a9eaf9680f66",
   "metadata": {
    "tags": []
   },
   "outputs": [],
   "source": [
    "# fmt: off\n",
    "%matplotlib inline\n",
    "%config InlineBackend.figure_format = \"retina\"\n",
    "%load_ext autoreload\n",
    "%load_ext jupyter_black\n",
    "import numpy as np\n",
    "import matplotlib\n",
    "import matplotlib.pyplot as plt\n",
    "import pickle\n",
    "from njl_corf import ureg\n",
    "plt.style.use(\"mls_scf\")\n",
    "def vdir(obj):\n",
    "    return [x for x in dir(obj) if not x.startswith('__')]\n"
   ]
  },
  {
   "cell_type": "code",
   "execution_count": null,
   "id": "385cc1d6-91a1-4085-9cd5-ef8b004e1f3a",
   "metadata": {
    "tags": []
   },
   "outputs": [],
   "source": [
    "%autoreload 2"
   ]
  },
  {
   "cell_type": "code",
   "execution_count": null,
   "id": "dd0af2ca-4f2e-45a5-bac1-1cae230c4a2b",
   "metadata": {},
   "outputs": [],
   "source": [
    "from njl_corf import wrc27_views"
   ]
  },
  {
   "cell_type": "code",
   "execution_count": null,
   "id": "2bacd3d4-d405-4328-80bb-42bee4f15cf8",
   "metadata": {
    "tags": []
   },
   "outputs": [],
   "source": [
    "ai_info = wrc27_views.get_ai_info()"
   ]
  },
  {
   "cell_type": "code",
   "execution_count": null,
   "id": "40684619-9ba4-4bc0-8681-33300992b097",
   "metadata": {
    "tags": []
   },
   "outputs": [],
   "source": [
    "ai_info[\"WRC-27 AI-1.6\"].split()"
   ]
  },
  {
   "cell_type": "code",
   "execution_count": null,
   "id": "1d42e924-c9e1-4e1d-85f7-2624c4a6ea66",
   "metadata": {},
   "outputs": [],
   "source": []
  }
 ],
 "metadata": {
  "kernelspec": {
   "display_name": "njl-base-3.10-24may23",
   "language": "python",
   "name": "njl-base-3.10-24may23"
  },
  "language_info": {
   "codemirror_mode": {
    "name": "ipython",
    "version": 3
   },
   "file_extension": ".py",
   "mimetype": "text/x-python",
   "name": "python",
   "nbconvert_exporter": "python",
   "pygments_lexer": "ipython3",
   "version": "3.10.12"
  }
 },
 "nbformat": 4,
 "nbformat_minor": 5
}
