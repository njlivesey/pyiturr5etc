{
 "cells": [
  {
   "cell_type": "code",
   "execution_count": null,
   "id": "e9b65de5-7b87-478f-b986-a9eaf9680f66",
   "metadata": {
    "tags": []
   },
   "outputs": [],
   "source": [
    "# fmt: off\n",
    "%matplotlib inline\n",
    "%config InlineBackend.figure_format = \"retina\"\n",
    "%load_ext autoreload\n",
    "%load_ext jupyter_black\n",
    "import numpy as np\n",
    "import matplotlib\n",
    "import matplotlib.pyplot as plt\n",
    "import pickle\n",
    "from mls_scf_tools.mls_pint import ureg\n",
    "plt.style.use(\"mls_scf\")\n",
    "def vdir(obj):\n",
    "    return [x for x in dir(obj) if not x.startswith('__')]\n"
   ]
  },
  {
   "cell_type": "code",
   "execution_count": null,
   "id": "26c9fc15-be2c-4e50-8ed0-587b5ef2c84b",
   "metadata": {
    "tags": []
   },
   "outputs": [],
   "source": [
    "import re"
   ]
  },
  {
   "cell_type": "code",
   "execution_count": null,
   "id": "a53b85c6-dcc0-427b-863b-3650bec0637c",
   "metadata": {},
   "outputs": [],
   "source": [
    "re_float = r\"[0-9_]+(?:\\.[0-9_]+)?\"\n",
    "re_bounds = (\n",
    "    f\"^({re_float})-({re_float})\" r\"[\\s]*([kMG]Hz)?\" r\"[\\s]*(\\(Not allocated\\))?\" r\"$\"\n",
    ")"
   ]
  },
  {
   "cell_type": "code",
   "execution_count": null,
   "id": "efd830e0-19a4-4ffe-b901-a715a076d5d2",
   "metadata": {
    "tags": []
   },
   "outputs": [],
   "source": [
    "print(re_bounds)"
   ]
  },
  {
   "cell_type": "code",
   "execution_count": null,
   "id": "045d0769-4e54-4f99-93e0-32553d6073dd",
   "metadata": {
    "tags": []
   },
   "outputs": [],
   "source": [
    "a = re.match(re_bounds, \"1400-1427 MHz\")\n",
    "b = re.match(re_bounds, \"1400-1427\")"
   ]
  },
  {
   "cell_type": "code",
   "execution_count": null,
   "id": "f726009f-b712-4184-af64-26fd68105e58",
   "metadata": {
    "tags": []
   },
   "outputs": [],
   "source": [
    "a"
   ]
  },
  {
   "cell_type": "code",
   "execution_count": null,
   "id": "b9f81189-bae2-447c-a9d7-22ee4ddef97b",
   "metadata": {
    "tags": []
   },
   "outputs": [],
   "source": [
    "b"
   ]
  },
  {
   "cell_type": "code",
   "execution_count": null,
   "id": "379be4e0-644c-4f19-b36f-18bb7d26859e",
   "metadata": {},
   "outputs": [],
   "source": []
  },
  {
   "cell_type": "code",
   "execution_count": null,
   "id": "86c28b69-7756-4d39-b137-53923f9555ca",
   "metadata": {},
   "outputs": [],
   "source": []
  }
 ],
 "metadata": {
  "kernelspec": {
   "display_name": "njl-base-3.10-24may23",
   "language": "python",
   "name": "njl-base-3.10-24may23"
  },
  "language_info": {
   "codemirror_mode": {
    "name": "ipython",
    "version": 3
   },
   "file_extension": ".py",
   "mimetype": "text/x-python",
   "name": "python",
   "nbconvert_exporter": "python",
   "pygments_lexer": "ipython3",
   "version": "3.10.12"
  }
 },
 "nbformat": 4,
 "nbformat_minor": 5
}
