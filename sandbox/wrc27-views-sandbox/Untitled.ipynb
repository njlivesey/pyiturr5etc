{
 "cells": [
  {
   "cell_type": "code",
   "execution_count": null,
   "id": "e9b65de5-7b87-478f-b986-a9eaf9680f66",
   "metadata": {
    "tags": []
   },
   "outputs": [],
   "source": [
    "# fmt: off\n",
    "%matplotlib inline\n",
    "%config InlineBackend.figure_format = \"retina\"\n",
    "%load_ext autoreload\n",
    "%load_ext jupyter_black\n",
    "import numpy as np\n",
    "import matplotlib\n",
    "import matplotlib.pyplot as plt\n",
    "import pickle\n",
    "from mls_scf_tools.mls_pint import ureg\n",
    "plt.style.use(\"mls_scf\")\n",
    "def vdir(obj):\n",
    "    return [x for x in dir(obj) if not x.startswith('__')]\n"
   ]
  },
  {
   "cell_type": "code",
   "execution_count": null,
   "id": "d2fb0ce2-8963-42f3-8115-8fbfd608af42",
   "metadata": {
    "tags": []
   },
   "outputs": [],
   "source": [
    "from intervaltree import IntervalTree, Interval"
   ]
  },
  {
   "cell_type": "code",
   "execution_count": null,
   "id": "10c10721-43c2-46c5-a3af-dbdcb53f16c2",
   "metadata": {
    "tags": []
   },
   "outputs": [],
   "source": [
    "data = IntervalTree()\n",
    "data[0:1] = \"Wide\"\n",
    "data[0.45:0.55] = \"Narrow\""
   ]
  },
  {
   "cell_type": "code",
   "execution_count": null,
   "id": "d3622ec2-39ff-4fea-9ed1-687609c271b0",
   "metadata": {
    "tags": []
   },
   "outputs": [],
   "source": [
    "data.split_overlaps()"
   ]
  },
  {
   "cell_type": "code",
   "execution_count": null,
   "id": "50a69a0c-03ac-444e-a92f-8d178031e0c1",
   "metadata": {
    "tags": []
   },
   "outputs": [],
   "source": [
    "data"
   ]
  },
  {
   "cell_type": "code",
   "execution_count": null,
   "id": "a53b85c6-dcc0-427b-863b-3650bec0637c",
   "metadata": {},
   "outputs": [],
   "source": []
  }
 ],
 "metadata": {
  "kernelspec": {
   "display_name": "njl-base-3.10-24may23",
   "language": "python",
   "name": "njl-base-3.10-24may23"
  },
  "language_info": {
   "codemirror_mode": {
    "name": "ipython",
    "version": 3
   },
   "file_extension": ".py",
   "mimetype": "text/x-python",
   "name": "python",
   "nbconvert_exporter": "python",
   "pygments_lexer": "ipython3",
   "version": "3.10.12"
  }
 },
 "nbformat": 4,
 "nbformat_minor": 5
}
