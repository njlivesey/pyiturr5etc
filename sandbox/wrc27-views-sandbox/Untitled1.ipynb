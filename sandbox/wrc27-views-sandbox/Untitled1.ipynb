{
 "cells": [
  {
   "cell_type": "code",
   "execution_count": null,
   "id": "1c48cc07-15c2-4dc9-948e-6e098082c3d1",
   "metadata": {
    "tags": []
   },
   "outputs": [],
   "source": [
    "# fmt: off\n",
    "%matplotlib inline\n",
    "%config InlineBackend.figure_format = \"retina\"\n",
    "%load_ext autoreload\n",
    "%load_ext jupyter_black\n",
    "import numpy as np\n",
    "import matplotlib\n",
    "import matplotlib.pyplot as plt\n",
    "import pickle\n",
    "from njl_corf import ureg\n",
    "plt.style.use(\"mls_scf\")\n",
    "def vdir(obj):\n",
    "    return [x for x in dir(obj) if not x.startswith('__')]\n"
   ]
  },
  {
   "cell_type": "code",
   "execution_count": null,
   "id": "7af7e2ad-939a-4e4f-8b28-b57e423ebd08",
   "metadata": {
    "tags": []
   },
   "outputs": [],
   "source": [
    "%autoreload 2\n",
    "from njl_corf import pyfcctab"
   ]
  },
  {
   "cell_type": "code",
   "execution_count": null,
   "id": "e3092115-dc40-40f2-9123-2dec71a3a93e",
   "metadata": {
    "tags": []
   },
   "outputs": [],
   "source": [
    "tables = pyfcctab.read()"
   ]
  },
  {
   "cell_type": "code",
   "execution_count": null,
   "id": "d5398fc4-0023-4c3f-a7a3-d0380107db6b",
   "metadata": {
    "tags": []
   },
   "outputs": [],
   "source": [
    "for footnote, text in tables.footenote_definitions.items():\n",
    "    if \"(active)\" in text and footnote.startswith(\"5\"):\n",
    "        print(\"-\" * 60)\n",
    "        print(f\"RR {footnote}: {text}\")"
   ]
  },
  {
   "cell_type": "code",
   "execution_count": null,
   "id": "ff085b22-d2d6-4eb5-8554-ca42beca8d2f",
   "metadata": {},
   "outputs": [],
   "source": []
  }
 ],
 "metadata": {
  "kernelspec": {
   "display_name": "njl-base-3.10-24may23",
   "language": "python",
   "name": "njl-base-3.10-24may23"
  },
  "language_info": {
   "codemirror_mode": {
    "name": "ipython",
    "version": 3
   },
   "file_extension": ".py",
   "mimetype": "text/x-python",
   "name": "python",
   "nbconvert_exporter": "python",
   "pygments_lexer": "ipython3",
   "version": "3.10.12"
  }
 },
 "nbformat": 4,
 "nbformat_minor": 5
}
