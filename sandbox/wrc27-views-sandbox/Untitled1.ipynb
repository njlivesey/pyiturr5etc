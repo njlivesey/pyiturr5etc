{
 "cells": [
  {
   "cell_type": "code",
   "execution_count": null,
   "id": "6f10d6b3-c6d9-497b-b568-74b5a258dbdb",
   "metadata": {
    "tags": []
   },
   "outputs": [],
   "source": [
    "import matplotlib.pyplot as plt\n",
    "from matplotlib.ticker import FuncFormatter\n",
    "import numpy as np\n",
    "\n",
    "# Custom formatter to show plain numbers (no scientific notation)\n",
    "def log_formatter(x, pos):\n",
    "    return f'{int(x)}'\n",
    "\n",
    "x = np.logspace(0.1, 3, 100)\n",
    "y = np.log10(x)\n",
    "\n",
    "fig, ax = plt.subplots()\n",
    "\n",
    "# Plot with a log x-axis\n",
    "ax.plot(x, y)\n",
    "ax.set_xscale('log')\n",
    "\n",
    "# Set custom tick formatter for the log axis\n",
    "ax.xaxis.set_major_formatter(FuncFormatter(log_formatter))\n",
    "\n",
    "plt.show()"
   ]
  },
  {
   "cell_type": "code",
   "execution_count": null,
   "id": "c8286bcd-b748-4a90-a990-c0a909e6e476",
   "metadata": {},
   "outputs": [],
   "source": []
  },
  {
   "cell_type": "code",
   "execution_count": null,
   "id": "fec5d0e5-1f4c-49ef-bc90-dd8e5c0c2422",
   "metadata": {},
   "outputs": [],
   "source": []
  }
 ],
 "metadata": {
  "kernelspec": {
   "display_name": "njl-base-3.10-24may23",
   "language": "python",
   "name": "njl-base-3.10-24may23"
  },
  "language_info": {
   "codemirror_mode": {
    "name": "ipython",
    "version": 3
   },
   "file_extension": ".py",
   "mimetype": "text/x-python",
   "name": "python",
   "nbconvert_exporter": "python",
   "pygments_lexer": "ipython3",
   "version": "3.10.12"
  }
 },
 "nbformat": 4,
 "nbformat_minor": 5
}
