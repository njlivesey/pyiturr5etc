{
 "cells": [
  {
   "cell_type": "code",
   "execution_count": 1,
   "id": "2da2ee3d-0d34-44bf-9a94-58a23a617e90",
   "metadata": {
    "tags": []
   },
   "outputs": [],
   "source": [
    "# fmt: off\n",
    "%matplotlib inline\n",
    "%config InlineBackend.figure_format = \"retina\"\n",
    "%load_ext autoreload\n",
    "%load_ext jupyter_black\n",
    "import numpy as np\n",
    "import matplotlib\n",
    "import matplotlib.pyplot as plt\n",
    "import pickle\n",
    "from njl_corf import ureg\n",
    "plt.style.use(\"mls_scf\")\n",
    "def vdir(obj):\n",
    "    return [x for x in dir(obj) if not x.startswith('__')]"
   ]
  },
  {
   "cell_type": "code",
   "execution_count": 7,
   "id": "6d34dba5-cd53-406f-89fd-d85670c681f5",
   "metadata": {},
   "outputs": [],
   "source": [
    "import pint\n",
    "import pandas as pd"
   ]
  },
  {
   "cell_type": "code",
   "execution_count": 3,
   "id": "c822b3d4-2d8d-4bac-bc33-8e3588cbd5c9",
   "metadata": {
    "tags": []
   },
   "outputs": [],
   "source": [
    "%autoreload 2\n",
    "from njl_corf import pyoscar"
   ]
  },
  {
   "cell_type": "code",
   "execution_count": 4,
   "id": "5b009068-9b4d-4979-8267-784724e2e5d7",
   "metadata": {
    "tags": []
   },
   "outputs": [],
   "source": [
    "oscar_data = pyoscar.read()"
   ]
  },
  {
   "cell_type": "code",
   "execution_count": 5,
   "id": "12b332be-2605-4668-8bb4-90b49245c0f2",
   "metadata": {
    "tags": []
   },
   "outputs": [],
   "source": [
    "bands = oscar_data[50.3 * ureg.GHz]"
   ]
  },
  {
   "cell_type": "code",
   "execution_count": 19,
   "id": "efa3b206-53fc-4d47-a7a1-9e064c0bd7c9",
   "metadata": {},
   "outputs": [],
   "source": [
    "df = pd.DataFrame([entry.data for entry in bands])"
   ]
  },
  {
   "cell_type": "code",
   "execution_count": 20,
   "id": "f61372f2-2c5f-4040-bbae-fab2124a7f0f",
   "metadata": {},
   "outputs": [],
   "source": [
    "rows = df[df.satellite == \"DMSP-F16\"]"
   ]
  },
  {
   "cell_type": "code",
   "execution_count": 36,
   "id": "10f14f83-7b27-4576-9d4e-d86181082136",
   "metadata": {
    "tags": []
   },
   "outputs": [
    {
     "data": {
      "text/plain": [
       "slice(<Quantity(50.11, 'gigahertz')>, <Quantity(63.569, 'gigahertz')>, None)"
      ]
     },
     "execution_count": 36,
     "metadata": {},
     "output_type": "execute_result"
    }
   ],
   "source": [
    "rows.loc[32, \"bounds\"]"
   ]
  },
  {
   "cell_type": "code",
   "execution_count": 37,
   "id": "fa3b1747-bff5-4cb9-9c87-0f1efee6a3e4",
   "metadata": {},
   "outputs": [
    {
     "data": {
      "text/plain": [
       "13.485999999999997"
      ]
     },
     "execution_count": 37,
     "metadata": {},
     "output_type": "execute_result"
    }
   ],
   "source": [
    "63.596 - 50.11"
   ]
  },
  {
   "cell_type": "code",
   "execution_count": null,
   "id": "2648d626-4983-4618-881a-4b0dc23e1ece",
   "metadata": {},
   "outputs": [],
   "source": []
  }
 ],
 "metadata": {
  "kernelspec": {
   "display_name": "Python 3 (ipykernel)",
   "language": "python",
   "name": "python3"
  },
  "language_info": {
   "codemirror_mode": {
    "name": "ipython",
    "version": 3
   },
   "file_extension": ".py",
   "mimetype": "text/x-python",
   "name": "python",
   "nbconvert_exporter": "python",
   "pygments_lexer": "ipython3",
   "version": "3.12.8"
  }
 },
 "nbformat": 4,
 "nbformat_minor": 5
}
