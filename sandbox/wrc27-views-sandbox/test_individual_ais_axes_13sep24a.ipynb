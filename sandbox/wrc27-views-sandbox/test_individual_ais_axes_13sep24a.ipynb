{
 "cells": [
  {
   "cell_type": "code",
   "execution_count": null,
   "id": "0",
   "metadata": {
    "tags": []
   },
   "outputs": [],
   "source": [
    "# fmt: off\n",
    "%matplotlib inline\n",
    "%config InlineBackend.figure_format = \"retina\"\n",
    "%load_ext autoreload\n",
    "%load_ext jupyter_black\n",
    "import numpy as np\n",
    "import matplotlib\n",
    "import matplotlib.pyplot as plt\n",
    "from njl_corf import ureg\n",
    "plt.style.use(\"mls_scf\")\n",
    "def vdir(obj):\n",
    "    return [x for x in dir(obj) if not x.startswith('__')]"
   ]
  },
  {
   "cell_type": "code",
   "execution_count": null,
   "id": "1",
   "metadata": {
    "tags": []
   },
   "outputs": [],
   "source": [
    "import pint\n",
    "import itertools"
   ]
  },
  {
   "cell_type": "code",
   "execution_count": null,
   "id": "2",
   "metadata": {
    "tags": []
   },
   "outputs": [],
   "source": [
    "%autoreload 2"
   ]
  },
  {
   "cell_type": "code",
   "execution_count": null,
   "id": "3",
   "metadata": {
    "tags": []
   },
   "outputs": [],
   "source": [
    "from njl_corf import pyfcctab, wrc27_views\n",
    "from njl_corf.wrc27_figures import (\n",
    "    all_individual_figures,\n",
    "    wrc27_ai_figure,\n",
    "    set_nas_graphic_style,\n",
    ")"
   ]
  },
  {
   "cell_type": "code",
   "execution_count": null,
   "id": "4",
   "metadata": {
    "tags": []
   },
   "outputs": [],
   "source": [
    "allocation_tables = pyfcctab.read()"
   ]
  },
  {
   "cell_type": "code",
   "execution_count": null,
   "id": "5",
   "metadata": {
    "tags": []
   },
   "outputs": [],
   "source": [
    "set_nas_graphic_style()\n",
    "fig, axes = plt.subplots(4, 2, figsize=[6, 5], layout=\"constrained\")\n",
    "for ax, (log_axis, put_units_on_labels, xticks) in zip(\n",
    "    axes.ravel(),\n",
    "    itertools.product(\n",
    "        [False, True],\n",
    "        [False, True],\n",
    "        [None, pint.Quantity.from_list([3 * ureg.GHz, 10 * ureg.GHz, 20 * ureg.GHz])],\n",
    "    ),\n",
    "):\n",
    "    title = (\n",
    "        f\"Log: {log_axis}, Units: {put_units_on_labels}, Ticks: {xticks is not None}\"\n",
    "    )\n",
    "    ax.set_title(title)\n",
    "    if True:\n",
    "        pass\n",
    "        # continue\n",
    "    wrc27_ai_figure(\n",
    "        allocation_tables=allocation_tables,\n",
    "        ai=\"WRC-27 AI-1.7\",\n",
    "        log_axis=log_axis,\n",
    "        put_units_on_labels=put_units_on_labels,\n",
    "        xticks=xticks,\n",
    "        no_show=True,\n",
    "        ax=ax,\n",
    "    )"
   ]
  },
  {
   "cell_type": "code",
   "execution_count": null,
   "id": "6",
   "metadata": {},
   "outputs": [],
   "source": []
  },
  {
   "cell_type": "code",
   "execution_count": null,
   "id": "7",
   "metadata": {},
   "outputs": [],
   "source": []
  },
  {
   "cell_type": "code",
   "execution_count": null,
   "id": "8",
   "metadata": {},
   "outputs": [],
   "source": []
  }
 ],
 "metadata": {
  "kernelspec": {
   "display_name": "njl-base-3.10-24may23",
   "language": "python",
   "name": "njl-base-3.10-24may23"
  },
  "language_info": {
   "codemirror_mode": {
    "name": "ipython",
    "version": 3
   },
   "file_extension": ".py",
   "mimetype": "text/x-python",
   "name": "python",
   "nbconvert_exporter": "python",
   "pygments_lexer": "ipython3",
   "version": "3.10.12"
  }
 },
 "nbformat": 4,
 "nbformat_minor": 5
}
