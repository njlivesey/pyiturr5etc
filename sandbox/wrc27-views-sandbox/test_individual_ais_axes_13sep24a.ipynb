{
 "cells": [
  {
   "cell_type": "code",
   "execution_count": null,
   "id": "0583a217-ad39-4085-bf78-089a2ac8c874",
   "metadata": {
    "tags": []
   },
   "outputs": [],
   "source": [
    "# fmt: off\n",
    "%matplotlib inline\n",
    "%config InlineBackend.figure_format = \"retina\"\n",
    "%load_ext autoreload\n",
    "%load_ext jupyter_black\n",
    "import numpy as np\n",
    "import matplotlib\n",
    "import matplotlib.pyplot as plt\n",
    "import pickle\n",
    "from njl_corf import ureg\n",
    "plt.style.use(\"mls_scf\")\n",
    "def vdir(obj):\n",
    "    return [x for x in dir(obj) if not x.startswith('__')]"
   ]
  },
  {
   "cell_type": "code",
   "execution_count": null,
   "id": "817b21a2-110c-4b8c-bd7f-e382141f203d",
   "metadata": {
    "tags": []
   },
   "outputs": [],
   "source": [
    "import pint\n",
    "import itertools"
   ]
  },
  {
   "cell_type": "code",
   "execution_count": null,
   "id": "10185c59-59cf-4b58-8668-9d7bb2252cb3",
   "metadata": {
    "tags": []
   },
   "outputs": [],
   "source": [
    "%autoreload 2"
   ]
  },
  {
   "cell_type": "code",
   "execution_count": null,
   "id": "67453b28-018a-43cc-b4a2-d6364988e748",
   "metadata": {
    "tags": []
   },
   "outputs": [],
   "source": [
    "from njl_corf import pyfcctab, wrc27_views\n",
    "from njl_corf.wrc27_figures import (\n",
    "    all_individual_figures,\n",
    "    wrc27_ai_figure,\n",
    "    set_nas_graphic_style,\n",
    ")"
   ]
  },
  {
   "cell_type": "code",
   "execution_count": null,
   "id": "74dbe544-1d53-4af1-8d9c-496fb248e84e",
   "metadata": {
    "tags": []
   },
   "outputs": [],
   "source": [
    "allocation_tables = pyfcctab.read()"
   ]
  },
  {
   "cell_type": "code",
   "execution_count": null,
   "id": "3457ab19-2805-44b2-a362-7e77ecb3367b",
   "metadata": {
    "tags": []
   },
   "outputs": [],
   "source": [
    "set_nas_graphic_style()\n",
    "fig, axes = plt.subplots(4, 2, figsize=[6, 5], layout=\"constrained\")\n",
    "for ax, (log_axis, put_units_on_labels, xticks) in zip(\n",
    "    axes.ravel(),\n",
    "    itertools.product(\n",
    "        [False, True],\n",
    "        [False, True],\n",
    "        [None, pint.Quantity.from_list([3 * ureg.GHz, 10 * ureg.GHz, 20 * ureg.GHz])],\n",
    "    ),\n",
    "):\n",
    "    title = (\n",
    "        f\"Log: {log_axis}, Units: {put_units_on_labels}, Ticks: {xticks is not None}\"\n",
    "    )\n",
    "    ax.set_title(title)\n",
    "    if log_axis or not put_units_on_labels or xticks is not None:\n",
    "        pass\n",
    "        # continue\n",
    "    wrc27_ai_figure(\n",
    "        allocation_tables=allocation_tables,\n",
    "        ai=\"WRC-27 AI-1.7\",\n",
    "        log_axis=log_axis,\n",
    "        put_units_on_labels=put_units_on_labels,\n",
    "        xticks=xticks,\n",
    "        no_show=True,\n",
    "        ax=ax,\n",
    "    )"
   ]
  },
  {
   "cell_type": "code",
   "execution_count": null,
   "id": "e7677222-8fcb-4912-8948-b19943c6b642",
   "metadata": {},
   "outputs": [],
   "source": []
  },
  {
   "cell_type": "code",
   "execution_count": null,
   "id": "ed290db6-11a4-474c-acd2-4e334434fe51",
   "metadata": {},
   "outputs": [],
   "source": []
  },
  {
   "cell_type": "code",
   "execution_count": null,
   "id": "e7446b34-1b80-4d08-b6c4-c9f59e726216",
   "metadata": {},
   "outputs": [],
   "source": []
  }
 ],
 "metadata": {
  "kernelspec": {
   "display_name": "njl-base-3.10-24may23",
   "language": "python",
   "name": "njl-base-3.10-24may23"
  },
  "language_info": {
   "codemirror_mode": {
    "name": "ipython",
    "version": 3
   },
   "file_extension": ".py",
   "mimetype": "text/x-python",
   "name": "python",
   "nbconvert_exporter": "python",
   "pygments_lexer": "ipython3",
   "version": "3.10.12"
  }
 },
 "nbformat": 4,
 "nbformat_minor": 5
}
