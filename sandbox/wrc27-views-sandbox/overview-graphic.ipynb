{
 "cells": [
  {
   "cell_type": "code",
   "execution_count": null,
   "id": "0277a530-1583-4224-8e8b-ba1b814790d1",
   "metadata": {
    "tags": []
   },
   "outputs": [],
   "source": [
    "# fmt: off\n",
    "%matplotlib inline\n",
    "%config InlineBackend.figure_format = \"retina\"\n",
    "%load_ext autoreload\n",
    "%load_ext jupyter_black\n",
    "import numpy as np\n",
    "import matplotlib\n",
    "import matplotlib.pyplot as plt\n",
    "import pickle\n",
    "from njl_corf import ureg\n",
    "plt.style.use(\"mls_scf\")\n",
    "def vdir(obj):\n",
    "    return [x for x in dir(obj) if not x.startswith('__')]"
   ]
  },
  {
   "cell_type": "code",
   "execution_count": null,
   "id": "e29f9127-806c-4c66-98af-4865f8dac221",
   "metadata": {
    "tags": []
   },
   "outputs": [],
   "source": [
    "import pint\n",
    "from matplotlib.patches import Rectangle"
   ]
  },
  {
   "cell_type": "code",
   "execution_count": null,
   "id": "4d9cf305-863b-4902-b1e5-ad326d8899fa",
   "metadata": {},
   "outputs": [],
   "source": [
    "%autoreload 2"
   ]
  },
  {
   "cell_type": "code",
   "execution_count": null,
   "id": "6c62dc48-266b-4c1e-8619-be65583c5bf2",
   "metadata": {
    "tags": []
   },
   "outputs": [],
   "source": [
    "from njl_corf import pyfcctab, wrc27_views\n",
    "from njl_corf.wrc27_overview_figure import wrc27_overview_figure"
   ]
  },
  {
   "cell_type": "code",
   "execution_count": null,
   "id": "5c9da70a-7395-411f-89ca-dc372a157238",
   "metadata": {
    "tags": []
   },
   "outputs": [],
   "source": [
    "allocation_tables = pyfcctab.read()"
   ]
  },
  {
   "cell_type": "code",
   "execution_count": null,
   "id": "b16b5f92-8c0b-4d1d-8634-76d6ffa22b0b",
   "metadata": {
    "tags": []
   },
   "outputs": [],
   "source": [
    "wrc27_overview_figure(\n",
    "    allocation_tables=allocation_tables,\n",
    "    include_soundbytes=True,\n",
    "    first_word_only=False,\n",
    "    multi_line=False,\n",
    ")"
   ]
  },
  {
   "cell_type": "code",
   "execution_count": null,
   "id": "142f8581-cfee-41b0-9742-efb6b0bf130f",
   "metadata": {
    "tags": []
   },
   "outputs": [],
   "source": [
    "# ? plt.annotate"
   ]
  },
  {
   "cell_type": "code",
   "execution_count": null,
   "id": "8b62b8ce-4630-4155-81c8-61e3bf120786",
   "metadata": {
    "tags": []
   },
   "outputs": [],
   "source": [
    "for wrc in [None, \"WRC-27\", \"WRC-31\"]:\n",
    "    wrc27_overview_figure(\n",
    "        allocation_tables,\n",
    "        wrc=wrc,\n",
    "        no_show=True,\n",
    "        include_soundbytes=True,\n",
    "    )\n",
    "    file_word = f\"-{wrc}\" if wrc is not None else \"\"\n",
    "    filename = f\"wrc-summary-figure{file_word}\"\n",
    "    plt.savefig(filename + \".png\", dpi=600)\n",
    "    plt.savefig(filename + \".pdf\")\n",
    "    plt.close()"
   ]
  },
  {
   "cell_type": "code",
   "execution_count": null,
   "id": "9120f664-e279-4433-8fe9-5d4ca9fcf3ae",
   "metadata": {},
   "outputs": [],
   "source": [
    "bands = allocation_tables.itu.get_bands(\n",
    "    92 * ureg.GHz,\n",
    "    96 * ureg.GHz,\n",
    "    adjacent=True,\n",
    "    # condition=lambda band: band.has_allocation(\"Earth*\"),\n",
    "    condition=lambda band: band.has_allocation(\"Radio Astronomy*\"),\n",
    ")"
   ]
  },
  {
   "cell_type": "code",
   "execution_count": null,
   "id": "18f82104-b963-4cdf-8a15-bc2ca30e7b97",
   "metadata": {
    "tags": []
   },
   "outputs": [],
   "source": [
    "for band in bands[:1]:\n",
    "    print(\"------ \" + band.to_str() + \"\\n\")"
   ]
  },
  {
   "cell_type": "code",
   "execution_count": null,
   "id": "40061f91-e7fb-4512-aa25-254e446dfdd3",
   "metadata": {
    "tags": []
   },
   "outputs": [],
   "source": [
    "b = bands[0]\n",
    "print(b.to_str())"
   ]
  },
  {
   "cell_type": "code",
   "execution_count": null,
   "id": "da152991-2d59-4c3d-9983-503b3faf2730",
   "metadata": {
    "tags": []
   },
   "outputs": [],
   "source": [
    "print(b.has_allocation(\"Earth Exploration-Satellite (passive)*\"))"
   ]
  },
  {
   "cell_type": "code",
   "execution_count": null,
   "id": "c8f07fc4-1c4d-4903-9591-01bfdefb8cab",
   "metadata": {},
   "outputs": [],
   "source": []
  }
 ],
 "metadata": {
  "kernelspec": {
   "display_name": "njl-base-3.10-24may23",
   "language": "python",
   "name": "njl-base-3.10-24may23"
  },
  "language_info": {
   "codemirror_mode": {
    "name": "ipython",
    "version": 3
   },
   "file_extension": ".py",
   "mimetype": "text/x-python",
   "name": "python",
   "nbconvert_exporter": "python",
   "pygments_lexer": "ipython3",
   "version": "3.10.12"
  }
 },
 "nbformat": 4,
 "nbformat_minor": 5
}
