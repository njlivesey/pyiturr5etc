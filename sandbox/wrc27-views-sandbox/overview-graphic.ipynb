{
    "cells": [
        {
            "cell_type": "code",
            "execution_count": null,
            "id": "0",
            "metadata": {
                "tags": []
            },
            "outputs": [],
            "source": [
                "# fmt: off\n",
                "%matplotlib inline\n",
                "%config InlineBackend.figure_format = \"retina\"\n",
                "%load_ext autoreload\n",
                "%load_ext jupyter_black\n",
                "import numpy as np\n",
                "import matplotlib\n",
                "import matplotlib.pyplot as plt\n",
                "from njl_corf import ureg\n",
                "plt.style.use(\"mls_scf\")\n",
                "def vdir(obj):\n",
                "    return [x for x in dir(obj) if not x.startswith('__')]"
            ]
        },
        {
            "cell_type": "code",
            "execution_count": null,
            "id": "1",
            "metadata": {
                "tags": []
            },
            "outputs": [],
            "source": [
                "import pint\n",
                "from matplotlib.patches import Rectangle"
            ]
        },
        {
            "cell_type": "code",
            "execution_count": null,
            "id": "2",
            "metadata": {},
            "outputs": [],
            "source": [
                "%autoreload 2"
            ]
        },
        {
            "cell_type": "code",
            "execution_count": null,
            "id": "3",
            "metadata": {
                "tags": []
            },
            "outputs": [],
            "source": [
                "from njl_corf import pyiturr5 as rr, wrc27_views\n",
                "from njl_corf.wrc27_overview_figures import wrc27_overview_figure"
            ]
        },
        {
            "cell_type": "code",
            "execution_count": null,
            "id": "4",
            "metadata": {
                "tags": []
            },
            "outputs": [],
            "source": [
                "allocation_database = rr.parse_rr_file()"
            ]
        },
        {
            "cell_type": "code",
            "execution_count": null,
            "id": "5",
            "metadata": {
                "tags": []
            },
            "outputs": [],
            "source": [
                "wrc27_overview_figure(\n",
                "    allocation_database=allocation_database,\n",
                "    include_soundbytes=True,\n",
                "    first_word_only=False,\n",
                "    multi_line=False,\n",
                "    minimum_bandwidth_points=1.0,\n",
                "    color_scheme=\"new-b\",\n",
                ")\n",
                "plt.show()"
            ]
        },
        {
            "cell_type": "code",
            "execution_count": null,
            "id": "6",
            "metadata": {
                "tags": []
            },
            "outputs": [],
            "source": [
                "# ? plt.annotate"
            ]
        },
        {
            "cell_type": "code",
            "execution_count": null,
            "id": "7",
            "metadata": {
                "tags": []
            },
            "outputs": [],
            "source": [
                "for wrc in [None, \"WRC-27\", \"WRC-31\"]:\n",
                "    wrc27_overview_figure(\n",
                "        allocation_database,\n",
                "        wrc=wrc,\n",
                "        no_show=True,\n",
                "        include_soundbytes=True,\n",
                "        minimum_bandwidth_points=1.0,\n",
                "        color_scheme=\"new-b\",\n",
                "    )\n",
                "    file_word = f\"-{wrc}\" if wrc is not None else \"\"\n",
                "    filename = f\"wrc-summary-figure{file_word}\"\n",
                "    plt.savefig(filename + \".png\", dpi=600)\n",
                "    plt.savefig(filename + \".pdf\")\n",
                "    plt.close()"
            ]
        },
        {
            "cell_type": "code",
            "execution_count": null,
            "id": "8",
            "metadata": {},
            "outputs": [],
            "source": []
        },
        {
            "cell_type": "code",
            "execution_count": null,
            "id": "9",
            "metadata": {},
            "outputs": [],
            "source": [
                "help(allocation_database.itu.data.merge_overlaps)"
            ]
        },
        {
            "cell_type": "code",
            "execution_count": null,
            "id": "10",
            "metadata": {},
            "outputs": [],
            "source": []
        }
    ],
    "metadata": {
        "kernelspec": {
            "display_name": "Python 3 (ipykernel)",
            "language": "python",
            "name": "python3"
        },
        "language_info": {
            "codemirror_mode": {
                "name": "ipython",
                "version": 3
            },
            "file_extension": ".py",
            "mimetype": "text/x-python",
            "name": "python",
            "nbconvert_exporter": "python",
            "pygments_lexer": "ipython3",
            "version": "3.12.9"
        }
    },
    "nbformat": 4,
    "nbformat_minor": 5
}