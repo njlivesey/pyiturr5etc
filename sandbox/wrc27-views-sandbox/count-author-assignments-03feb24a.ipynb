{
 "cells": [
  {
   "cell_type": "code",
   "execution_count": null,
   "id": "0",
   "metadata": {
    "tags": []
   },
   "outputs": [],
   "source": [
    "# fmt: off\n",
    "%matplotlib inline\n",
    "%config InlineBackend.figure_format = \"retina\"\n",
    "%load_ext autoreload\n",
    "%load_ext jupyter_black\n",
    "import numpy as np\n",
    "import matplotlib\n",
    "import matplotlib.pyplot as plt\n",
    "from mls_scf_tools.mls_pint import ureg\n",
    "plt.style.use(\"mls_scf\")\n",
    "def vdir(obj):\n",
    "    return [x for x in dir(obj) if not x.startswith('__')]\n"
   ]
  },
  {
   "cell_type": "code",
   "execution_count": null,
   "id": "1",
   "metadata": {
    "tags": []
   },
   "outputs": [],
   "source": [
    "import csv\n",
    "import re"
   ]
  },
  {
   "cell_type": "code",
   "execution_count": null,
   "id": "2",
   "metadata": {
    "tags": []
   },
   "outputs": [],
   "source": [
    "with open(\"/Users/livesey/Downloads/Agenda-item-summary.csv\", \"r\") as csv_file:\n",
    "    reader = csv.reader(\n",
    "        csv_file,\n",
    "        delimiter=\",\",\n",
    "        quotechar='\"',\n",
    "    )\n",
    "    keys = next(reader)\n",
    "    table = []\n",
    "    for row in reader:\n",
    "        table.append({key: value for key, value in zip(keys, row)})"
   ]
  },
  {
   "cell_type": "code",
   "execution_count": null,
   "id": "3",
   "metadata": {
    "tags": []
   },
   "outputs": [],
   "source": [
    "assignments = [row[\"Writing assignments\"] for row in table]"
   ]
  },
  {
   "cell_type": "code",
   "execution_count": null,
   "id": "4",
   "metadata": {
    "tags": []
   },
   "outputs": [],
   "source": [
    "all_lines = \" \".join(assignments).replace(\",\", \" \")\n",
    "all_lines = re.sub(\"[\\(\\[].*?[\\)\\]]\", \"\", all_lines)\n",
    "words = all_lines.split(\" \")\n",
    "words = [word.strip() for word in words]\n",
    "unique_words = list(set(words))\n",
    "unique_words.remove(\"\")\n",
    "unique_words.remove(\"and\")\n",
    "unique_words.remove(\"Skip?\")\n",
    "# unique_words.remove(\"Burns\")"
   ]
  },
  {
   "cell_type": "code",
   "execution_count": null,
   "id": "5",
   "metadata": {
    "tags": []
   },
   "outputs": [],
   "source": [
    "summary = {word: sum(w == word for w in words) for word in unique_words}\n",
    "summary = dict(sorted(summary.items(), key=lambda item: -item[1]))"
   ]
  },
  {
   "cell_type": "code",
   "execution_count": null,
   "id": "6",
   "metadata": {
    "tags": []
   },
   "outputs": [],
   "source": [
    "plt.barh(list(summary.keys()), list(summary.values()))"
   ]
  },
  {
   "cell_type": "code",
   "execution_count": null,
   "id": "7",
   "metadata": {},
   "outputs": [],
   "source": []
  }
 ],
 "metadata": {
  "kernelspec": {
   "display_name": "njl-base-3.10-24may23",
   "language": "python",
   "name": "njl-base-3.10-24may23"
  },
  "language_info": {
   "codemirror_mode": {
    "name": "ipython",
    "version": 3
   },
   "file_extension": ".py",
   "mimetype": "text/x-python",
   "name": "python",
   "nbconvert_exporter": "python",
   "pygments_lexer": "ipython3",
   "version": "3.10.12"
  }
 },
 "nbformat": 4,
 "nbformat_minor": 5
}
