{
 "cells": [
  {
   "cell_type": "code",
   "execution_count": null,
   "id": "1ebca7ff-bbfe-4030-a78d-9eee882927c2",
   "metadata": {
    "tags": []
   },
   "outputs": [],
   "source": [
    "# fmt: off\n",
    "%matplotlib inline\n",
    "%config InlineBackend.figure_format = \"retina\"\n",
    "%load_ext autoreload\n",
    "%load_ext jupyter_black\n",
    "import numpy as np\n",
    "import matplotlib\n",
    "import matplotlib.pyplot as plt\n",
    "import pickle\n",
    "from mls_scf_tools.mls_pint import ureg\n",
    "plt.style.use(\"mls_scf\")\n",
    "def vdir(obj):\n",
    "    return [x for x in dir(obj) if not x.startswith('__')]\n"
   ]
  },
  {
   "cell_type": "code",
   "execution_count": null,
   "id": "004cf6f8-0c63-4faf-af95-6dc1df0f0b1e",
   "metadata": {
    "tags": []
   },
   "outputs": [],
   "source": [
    "import openpyxl\n",
    "from IPython.display import Markdown, display"
   ]
  },
  {
   "cell_type": "code",
   "execution_count": null,
   "id": "11531953-c619-468b-941e-80da86554200",
   "metadata": {
    "tags": []
   },
   "outputs": [],
   "source": [
    "worksheet = openpyxl.load_workbook(\n",
    "    \"/users/livesey/corf/wrc-27-views-google-drive/Agenda-item-summary.xlsx\",\n",
    "    read_only=True,\n",
    ").worksheets[0]"
   ]
  },
  {
   "cell_type": "code",
   "execution_count": null,
   "id": "46362e9e-7745-4a8e-a9d9-dca53df60778",
   "metadata": {
    "tags": []
   },
   "outputs": [],
   "source": [
    "# Define the expected layout\n",
    "column_map = {\n",
    "    \"A\": \"Agenda Item\",\n",
    "    \"J\": \"Writing assignments\",\n",
    "    \"K\": \"Status\",\n",
    "}\n",
    "# Check that the worksheet matches that\n",
    "for column, contents in column_map.items():\n",
    "    cell = column + \"1\"\n",
    "    if worksheet[cell].value != contents:\n",
    "        raise ValueError(f\"Unexpected contents in cell {cell}: {worksheet[cell].value}\")\n",
    "# Get indices into the column\n",
    "column_indices = (\n",
    "    openpyxl.utils.column_index_from_string(key) - 1 for key in column_map\n",
    ")\n",
    "ai_column, assignment_column, status_column = column_indices"
   ]
  },
  {
   "cell_type": "code",
   "execution_count": null,
   "id": "f8693af1-e452-42b7-ac9c-8b3cc6d13ad4",
   "metadata": {
    "tags": []
   },
   "outputs": [],
   "source": [
    "agenda_items = []\n",
    "assignments = []\n",
    "statuses = []\n",
    "for row in worksheet.iter_rows(min_row=2):\n",
    "    agenda_items.append(row[ai_column].value)\n",
    "    assignments.append(row[assignment_column].value)\n",
    "    statuses.append(row[status_column].value)"
   ]
  },
  {
   "cell_type": "code",
   "execution_count": null,
   "id": "d93f5b08-b13f-4068-a4c0-8d0c81819990",
   "metadata": {
    "tags": []
   },
   "outputs": [],
   "source": [
    "buffer = \"\"\n",
    "for agenda_item, assignment, status in zip(agenda_items, assignments, statuses):\n",
    "    if agenda_item is None:\n",
    "        continue\n",
    "    if agenda_item.startswith(\"31\"):\n",
    "        continue\n",
    "    status_str = \" \".join(status.split(\"\\n\"))\n",
    "    buffer += f\"**AI-{agenda_item.split('_')[1]}** [{assignment}]: {status_str}  \\n\""
   ]
  },
  {
   "cell_type": "code",
   "execution_count": null,
   "id": "9abcedeb-e1f0-4ee5-93b6-b0b2e2a55345",
   "metadata": {
    "tags": []
   },
   "outputs": [],
   "source": [
    "display(Markdown(buffer))"
   ]
  },
  {
   "cell_type": "code",
   "execution_count": null,
   "id": "97dd9b56-4bd2-45aa-8454-25f9883f2f88",
   "metadata": {
    "tags": []
   },
   "outputs": [],
   "source": [
    "html_text = markdown2.markdown(buffer, extras=[\"tables\"])\n",
    "print(html_text)"
   ]
  },
  {
   "cell_type": "code",
   "execution_count": null,
   "id": "03e111eb-f60b-43f1-b146-5991040140f7",
   "metadata": {
    "tags": []
   },
   "outputs": [],
   "source": [
    "display(HTML(html_text))"
   ]
  },
  {
   "cell_type": "code",
   "execution_count": null,
   "id": "51f06abb-9e3c-489d-b18a-dd3184d45dac",
   "metadata": {},
   "outputs": [],
   "source": []
  }
 ],
 "metadata": {
  "kernelspec": {
   "display_name": "njl-base-3.10-24may23",
   "language": "python",
   "name": "njl-base-3.10-24may23"
  },
  "language_info": {
   "codemirror_mode": {
    "name": "ipython",
    "version": 3
   },
   "file_extension": ".py",
   "mimetype": "text/x-python",
   "name": "python",
   "nbconvert_exporter": "python",
   "pygments_lexer": "ipython3",
   "version": "3.10.12"
  }
 },
 "nbformat": 4,
 "nbformat_minor": 5
}
