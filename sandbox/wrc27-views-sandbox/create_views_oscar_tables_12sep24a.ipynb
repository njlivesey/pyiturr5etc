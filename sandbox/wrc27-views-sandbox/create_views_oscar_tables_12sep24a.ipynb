{
 "cells": [
  {
   "cell_type": "code",
   "execution_count": 1,
   "id": "6975e3e3-250d-46c3-9622-bbf75daa34a4",
   "metadata": {
    "tags": []
   },
   "outputs": [],
   "source": [
    "# fmt: off\n",
    "%matplotlib inline\n",
    "%config InlineBackend.figure_format = \"retina\"\n",
    "%load_ext autoreload\n",
    "%load_ext jupyter_black\n",
    "import numpy as np\n",
    "import matplotlib\n",
    "import matplotlib.pyplot as plt\n",
    "import pickle\n",
    "from njl_corf import ureg\n",
    "plt.style.use(\"mls_scf\")\n",
    "def vdir(obj):\n",
    "    return [x for x in dir(obj) if not x.startswith('__')]"
   ]
  },
  {
   "cell_type": "code",
   "execution_count": 2,
   "id": "55143e18-fea6-4ec2-951f-db2dbf3ff874",
   "metadata": {
    "tags": []
   },
   "outputs": [],
   "source": [
    "import datetime\n",
    "import pandas as pd\n",
    "from typing import Sequence"
   ]
  },
  {
   "cell_type": "code",
   "execution_count": 3,
   "id": "539f7611-4278-43a7-8eed-d60b373ffedc",
   "metadata": {
    "tags": []
   },
   "outputs": [],
   "source": [
    "%autoreload 2\n",
    "from njl_corf import pyoscar"
   ]
  },
  {
   "cell_type": "code",
   "execution_count": 4,
   "id": "5803ad45-6ff2-42a9-aa32-d26c2f25066d",
   "metadata": {
    "tags": []
   },
   "outputs": [],
   "source": [
    "oscar_data = pyoscar.read()"
   ]
  },
  {
   "cell_type": "code",
   "execution_count": 5,
   "id": "a1a0f494-961b-4c0d-afb9-7933d46bbbc4",
   "metadata": {
    "tags": []
   },
   "outputs": [
    {
     "name": "stdout",
     "output_type": "stream",
     "text": [
      "['Commissioning', 'Considered', 'Inactive', 'Lost at launch', 'Operational', 'Planned', 'Presumably inactive', 'Unclear']\n"
     ]
    }
   ],
   "source": [
    "statuses = sorted(list(set([b.data.status for b in oscar_data])))\n",
    "print(statuses)"
   ]
  },
  {
   "cell_type": "code",
   "execution_count": 6,
   "id": "6363002c-7bd5-421e-8110-bc45b0ef6633",
   "metadata": {
    "tags": []
   },
   "outputs": [],
   "source": [
    "def table_type_a(\n",
    "    entries: Sequence[pyoscar.OscarEntry],\n",
    ") -> pd.DataFrame:\n",
    "    \"\"\"\n",
    "    Convert a sequence of OscarEntry objects into a Pandas DataFrame.\n",
    "    \"\"\"\n",
    "    data = {\n",
    "        \"Satellite\": [entry.satellite for entry in entries],\n",
    "        \"Space Agency\": [entry.space_agency for entry in entries],\n",
    "        \"EOL\": [entry.eol for entry in entries],\n",
    "        \"Service\": [entry.service for entry in entries],\n",
    "        \"Bandwidth\": [entry.bandwidth for entry in entries],\n",
    "        \"Polarization\": [entry.polarization for entry in entries],\n",
    "        \"Launch\": [entry.launch for entry in entries],\n",
    "        \"Service (aka Sensor)\": [entry.service for entry in entries],\n",
    "    }\n",
    "    return pd.DataFrame(data)\n",
    "\n",
    "\n",
    "def table_type_b(\n",
    "    entries: Sequence[pyoscar.OscarEntry],\n",
    ") -> pd.DataFrame:\n",
    "    \"\"\"\n",
    "    Convert a sequence of OscarEntry objects into a Pandas DataFrame.\n",
    "    \"\"\"\n",
    "    data = {\n",
    "        \"Satellite\": [entry.satellite for entry in entries],\n",
    "        \"Sensor\": [entry.service for entry in entries],\n",
    "        \"Launch\": [entry.launch for entry in entries],\n",
    "        \"EOL\": [entry.eol for entry in entries],\n",
    "        \"Center Frequency\": [entry.nominal_frequency for entry in entries],\n",
    "        \"Bandwidth\": [entry.bandwidth for entry in entries],\n",
    "    }\n",
    "    return pd.DataFrame(data)"
   ]
  },
  {
   "cell_type": "code",
   "execution_count": 7,
   "id": "aaf7d0ee-b2a7-4e0f-a220-a17285fb359b",
   "metadata": {
    "tags": []
   },
   "outputs": [],
   "source": [
    "groups = {\n",
    "    \"Previous\": [\"Inacative\", \"Lost at Launch\", \"Presumably inactive\", \"Unclear\"],\n",
    "    \"Current\": [\"Operational\"],\n",
    "    \"Planned\": [\"Planned\", \"Commissioning\", \"Considered\"],\n",
    "}"
   ]
  },
  {
   "cell_type": "code",
   "execution_count": 8,
   "id": "14e9dadb-a030-44a7-a36d-0a7d18b88917",
   "metadata": {
    "tags": []
   },
   "outputs": [],
   "source": [
    "agenda_items = {\n",
    "    \"AI-1.1\": (slice(50.2 * ureg.GHz, 50.4 * ureg.GHz), table_type_a),\n",
    "    \"AI-1.3a\": (51.76 * ureg.GHz, table_type_a),\n",
    "    \"AI-1.3b\": (slice(52.61 * ureg.GHz, 54.25 * ureg.GHz), table_type_a),\n",
    "    \"AI-2.3\": (slice(10.6 * ureg.GHz, 10.7 * ureg.GHz), table_type_a),\n",
    "    \"AI-2.4\": (slice(6425 * ureg.MHz, 7075 * ureg.MHz), table_type_b),\n",
    "}"
   ]
  },
  {
   "cell_type": "code",
   "execution_count": 9,
   "id": "c3a78bb8-4a34-4c19-95fb-7f2b269cd504",
   "metadata": {
    "tags": []
   },
   "outputs": [],
   "source": [
    "for agenda_item, (frequency_range, table_function) in agenda_items.items():\n",
    "    entries = oscar_data[frequency_range]\n",
    "    tables = {\n",
    "        key: table_function(\n",
    "            [b.data for b in entries if b.data.status in item]\n",
    "        ).sort_values(by=\"Satellite\")\n",
    "        for key, item in groups.items()\n",
    "    }\n",
    "    for key, table in tables.items():\n",
    "        table.to_csv(\n",
    "            f\"wrc27-tables/{agenda_item.replace('.', '-')}_{key}.csv\",\n",
    "            encoding=\"utf-16\",\n",
    "            index=False,\n",
    "            sep=\"\\t\",\n",
    "        )"
   ]
  },
  {
   "cell_type": "code",
   "execution_count": null,
   "id": "f9ca3e7a-43c2-4c49-97cc-6c6035a7c6c5",
   "metadata": {},
   "outputs": [],
   "source": []
  }
 ],
 "metadata": {
  "kernelspec": {
   "display_name": "Python 3 (ipykernel)",
   "language": "python",
   "name": "python3"
  },
  "language_info": {
   "codemirror_mode": {
    "name": "ipython",
    "version": 3
   },
   "file_extension": ".py",
   "mimetype": "text/x-python",
   "name": "python",
   "nbconvert_exporter": "python",
   "pygments_lexer": "ipython3",
   "version": "3.12.8"
  }
 },
 "nbformat": 4,
 "nbformat_minor": 5
}
