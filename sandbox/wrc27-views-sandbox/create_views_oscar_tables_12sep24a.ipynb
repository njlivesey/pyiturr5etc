{
 "cells": [
  {
   "cell_type": "code",
   "execution_count": null,
   "id": "0",
   "metadata": {
    "tags": []
   },
   "outputs": [],
   "source": [
    "# fmt: off\n",
    "%matplotlib inline\n",
    "%config InlineBackend.figure_format = \"retina\"\n",
    "%load_ext autoreload\n",
    "%load_ext jupyter_black\n",
    "import numpy as np\n",
    "import matplotlib\n",
    "import matplotlib.pyplot as plt\n",
    "import pickle\n",
    "from njl_corf import ureg\n",
    "plt.style.use(\"mls_scf\")\n",
    "def vdir(obj):\n",
    "    return [x for x in dir(obj) if not x.startswith('__')]"
   ]
  },
  {
   "cell_type": "code",
   "execution_count": null,
   "id": "1",
   "metadata": {
    "tags": []
   },
   "outputs": [],
   "source": [
    "import datetime\n",
    "import pandas as pd\n",
    "from typing import Sequence"
   ]
  },
  {
   "cell_type": "code",
   "execution_count": null,
   "id": "2",
   "metadata": {
    "tags": []
   },
   "outputs": [],
   "source": [
    "%autoreload 2\n",
    "from njl_corf import pyoscar"
   ]
  },
  {
   "cell_type": "code",
   "execution_count": null,
   "id": "3",
   "metadata": {
    "tags": []
   },
   "outputs": [],
   "source": [
    "oscar_data = pyoscar.read()"
   ]
  },
  {
   "cell_type": "code",
   "execution_count": null,
   "id": "4",
   "metadata": {
    "tags": []
   },
   "outputs": [],
   "source": [
    "statuses = sorted(list(set([b.data.status for b in oscar_data])))\n",
    "print(statuses)"
   ]
  },
  {
   "cell_type": "code",
   "execution_count": null,
   "id": "5",
   "metadata": {
    "tags": []
   },
   "outputs": [],
   "source": [
    "def table_type_a(\n",
    "    entries: Sequence[pyoscar.OscarEntry],\n",
    ") -> pd.DataFrame:\n",
    "    \"\"\"\n",
    "    Convert a sequence of OscarEntry objects into a Pandas DataFrame.\n",
    "    \"\"\"\n",
    "    data = {\n",
    "        \"Satellite\": [entry.satellite for entry in entries],\n",
    "        \"Space Agency\": [entry.space_agency for entry in entries],\n",
    "        \"EOL\": [entry.eol for entry in entries],\n",
    "        \"Service\": [entry.service for entry in entries],\n",
    "        \"Bandwidth\": [entry.bandwidth for entry in entries],\n",
    "        \"Polarization\": [entry.polarization for entry in entries],\n",
    "        \"Launch\": [entry.launch for entry in entries],\n",
    "        \"Service (aka Sensor)\": [entry.service for entry in entries],\n",
    "    }\n",
    "    return pd.DataFrame(data)\n",
    "\n",
    "\n",
    "def table_type_b(\n",
    "    entries: Sequence[pyoscar.OscarEntry],\n",
    ") -> pd.DataFrame:\n",
    "    \"\"\"\n",
    "    Convert a sequence of OscarEntry objects into a Pandas DataFrame.\n",
    "    \"\"\"\n",
    "    data = {\n",
    "        \"Satellite\": [entry.satellite for entry in entries],\n",
    "        \"Sensor\": [entry.service for entry in entries],\n",
    "        \"Launch\": [entry.launch for entry in entries],\n",
    "        \"EOL\": [entry.eol for entry in entries],\n",
    "        \"Center Frequency\": [entry.nominal_frequency for entry in entries],\n",
    "        \"Bandwidth\": [entry.bandwidth for entry in entries],\n",
    "    }\n",
    "    return pd.DataFrame(data)"
   ]
  },
  {
   "cell_type": "code",
   "execution_count": null,
   "id": "6",
   "metadata": {
    "tags": []
   },
   "outputs": [],
   "source": [
    "groups = {\n",
    "    \"Previous\": [\"Inacative\", \"Lost at Launch\", \"Presumably inactive\", \"Unclear\"],\n",
    "    \"Current\": [\"Operational\"],\n",
    "    \"Planned\": [\"Planned\", \"Commissioning\", \"Considered\"],\n",
    "}"
   ]
  },
  {
   "cell_type": "code",
   "execution_count": null,
   "id": "7",
   "metadata": {
    "tags": []
   },
   "outputs": [],
   "source": [
    "agenda_items = {\n",
    "    \"AI-1.1\": (slice(50.2 * ureg.GHz, 50.4 * ureg.GHz), table_type_a),\n",
    "    \"AI-1.3a\": (51.76 * ureg.GHz, table_type_a),\n",
    "    \"AI-1.3b\": (slice(52.61 * ureg.GHz, 54.25 * ureg.GHz), table_type_a),\n",
    "    \"AI-2.3\": (slice(10.6 * ureg.GHz, 10.7 * ureg.GHz), table_type_a),\n",
    "    \"AI-2.4\": (slice(6425 * ureg.MHz, 7075 * ureg.MHz), table_type_b),\n",
    "}"
   ]
  },
  {
   "cell_type": "code",
   "execution_count": null,
   "id": "8",
   "metadata": {
    "tags": []
   },
   "outputs": [],
   "source": [
    "for agenda_item, (frequency_range, table_function) in agenda_items.items():\n",
    "    entries = oscar_data[frequency_range]\n",
    "    tables = {\n",
    "        key: table_function(\n",
    "            [b.data for b in entries if b.data.status in item]\n",
    "        ).sort_values(by=\"Satellite\")\n",
    "        for key, item in groups.items()\n",
    "    }\n",
    "    for key, table in tables.items():\n",
    "        table.to_csv(\n",
    "            f\"wrc27-tables/{agenda_item.replace('.', '-')}_{key}.csv\",\n",
    "            encoding=\"utf-16\",\n",
    "            index=False,\n",
    "            sep=\"\\t\",\n",
    "        )"
   ]
  },
  {
   "cell_type": "code",
   "execution_count": null,
   "id": "9",
   "metadata": {},
   "outputs": [],
   "source": []
  }
 ],
 "metadata": {
  "kernelspec": {
   "display_name": "Python 3 (ipykernel)",
   "language": "python",
   "name": "python3"
  },
  "language_info": {
   "codemirror_mode": {
    "name": "ipython",
    "version": 3
   },
   "file_extension": ".py",
   "mimetype": "text/x-python",
   "name": "python",
   "nbconvert_exporter": "python",
   "pygments_lexer": "ipython3",
   "version": "3.12.8"
  }
 },
 "nbformat": 4,
 "nbformat_minor": 5
}
