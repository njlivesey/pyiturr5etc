{
    "cells": [
        {
            "cell_type": "code",
            "execution_count": null,
            "id": "0",
            "metadata": {
                "tags": []
            },
            "outputs": [],
            "source": [
                "# fmt: off\n",
                "%matplotlib inline\n",
                "%config InlineBackend.figure_format = \"retina\"\n",
                "%load_ext autoreload\n",
                "%load_ext jupyter_black\n",
                "import numpy as np\n",
                "import matplotlib\n",
                "import matplotlib.pyplot as plt\n",
                "from mls_scf_tools.mls_pint import ureg\n",
                "plt.style.use(\"mls_scf\")\n",
                "def vdir(obj):\n",
                "    return [x for x in dir(obj) if not x.startswith('__')]"
            ]
        },
        {
            "cell_type": "code",
            "execution_count": null,
            "id": "1",
            "metadata": {
                "tags": []
            },
            "outputs": [],
            "source": [
                "from pathlib import Path\n",
                "import shutil\n",
                "import warnings"
            ]
        },
        {
            "cell_type": "code",
            "execution_count": null,
            "id": "2",
            "metadata": {
                "tags": []
            },
            "outputs": [],
            "source": [
                "%autoreload 2"
            ]
        },
        {
            "cell_type": "code",
            "execution_count": null,
            "id": "3",
            "metadata": {
                "tags": []
            },
            "outputs": [],
            "source": [
                "import njl_corf.wrc27_views as wrc27_views"
            ]
        },
        {
            "cell_type": "code",
            "execution_count": null,
            "id": "4",
            "metadata": {
                "tags": []
            },
            "outputs": [],
            "source": [
                "ai_info = wrc27_views.get_ai_info()"
            ]
        },
        {
            "cell_type": "code",
            "execution_count": null,
            "id": "5",
            "metadata": {
                "tags": []
            },
            "outputs": [],
            "source": [
                "print(ai_info.keys())"
            ]
        },
        {
            "cell_type": "code",
            "execution_count": null,
            "id": "6",
            "metadata": {
                "tags": []
            },
            "outputs": [],
            "source": [
                "root = Path(r\"/Users/livesey/corf/wrc-27-views-google-drive/\")\n",
                "# root = Path(f\"/Users/livesey/temp/\")\n",
                "python_root = Path(r\"/Users/livesey/corf/njl-corf/sandbox/wrc27-views-sandbox/outputs/\")\n",
                "for title in ai_info.keys():\n",
                "    if title.startswith(\"WRC-27\"):\n",
                "        # print(f\"Skipping: {title}\")\n",
                "        continue\n",
                "    print(\"=\" * 30 + \" \" + title)\n",
                "    wrc, ai = title.split(\" \")\n",
                "    # Only consider the \"a\" cases\n",
                "    if not ai.endswith(\"a\"):\n",
                "        continue\n",
                "    ai = ai[:-1]\n",
                "    # Create the new directory if needed\n",
                "    path = root / wrc / ai\n",
                "    path.mkdir(parents=True, exist_ok=True)\n",
                "    # Copy the relevant resolution into it\n",
                "    wildcard = \"*ai\" + \"-\".join(ai[2:].split(\".\")) + \".pdf\"\n",
                "    resolution_candidates = list((root / \"initial-triage\").glob(wildcard))\n",
                "    if not resolution_candidates:\n",
                "        raise ValueError(f\"Unable to find match for {wildcard}\")\n",
                "    if len(resolution_candidates) > 1:\n",
                "        print(resolution_candidates)\n",
                "        raise ValueError(\"Too many matches for {wildcard}.\")\n",
                "    resolution = Path(resolution_candidates[0])\n",
                "    destination = path / resolution.name\n",
                "    print(f\"Destination is {destination}\")\n",
                "    if not destination.exists():\n",
                "        # shutil.copy(resolution, destination)\n",
                "        pass\n",
                "    else:\n",
                "        print(f\"Skipping {resolution}, file exists.\")\n",
                "    # Copy the html file(s) and figures into a data subdirectory therein\n",
                "    data_path = path / \"data\"\n",
                "    data_path.mkdir(exist_ok=True)\n",
                "    wildcard = f\"{wrc}_AI{ai[2:]}[abcdefg]*.*\"\n",
                "    files = list(python_root.glob(wildcard))\n",
                "    for file in files:\n",
                "        filename = Path(file).name\n",
                "        destination = data_path / filename\n",
                "        if not destination.exists():\n",
                "            shutil.copy(file, destination)\n",
                "            pass\n",
                "        else:\n",
                "            print(f\"Skipping {filename}, file exists.\")\n",
                "    # Copy the template document to that directory\n",
                "    template = root / \"resources\" / \"AI-Template.docx\"\n",
                "    filename = wrc + \"_\" + \"-\".join(ai.split(\".\")) + \"_views.docx\"\n",
                "    destination = path / filename\n",
                "    if not destination.exists():\n",
                "        # shutil.copy(template, destination)\n",
                "        warnings.warn(\n",
                "            f\"Skipped copying to {destination}, no updates to documents allowed.\"\n",
                "        )\n",
                "        pass\n",
                "    else:\n",
                "        print(f\"Skipping {filename}, file exists.\")"
            ]
        },
        {
            "cell_type": "code",
            "execution_count": null,
            "id": "7",
            "metadata": {},
            "outputs": [],
            "source": []
        }
    ],
    "metadata": {
        "kernelspec": {
            "display_name": "njl-base-3.10-24may23",
            "language": "python",
            "name": "njl-base-3.10-24may23"
        },
        "language_info": {
            "codemirror_mode": {
                "name": "ipython",
                "version": 3
            },
            "file_extension": ".py",
            "mimetype": "text/x-python",
            "name": "python",
            "nbconvert_exporter": "python",
            "pygments_lexer": "ipython3",
            "version": "3.10.12"
        }
    },
    "nbformat": 4,
    "nbformat_minor": 5
}