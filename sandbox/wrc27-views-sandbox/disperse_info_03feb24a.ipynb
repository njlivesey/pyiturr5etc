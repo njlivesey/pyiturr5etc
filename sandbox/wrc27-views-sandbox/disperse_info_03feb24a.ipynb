{
 "cells": [
  {
   "cell_type": "code",
   "execution_count": null,
   "id": "4a181b36-574c-4f4f-96cc-ef65f52d6fab",
   "metadata": {
    "tags": []
   },
   "outputs": [],
   "source": [
    "# fmt: off\n",
    "%matplotlib inline\n",
    "%config InlineBackend.figure_format = \"retina\"\n",
    "%load_ext autoreload\n",
    "%load_ext jupyter_black\n",
    "import numpy as np\n",
    "import matplotlib\n",
    "import matplotlib.pyplot as plt\n",
    "import pickle\n",
    "from mls_scf_tools.mls_pint import ureg\n",
    "plt.style.use(\"mls_scf\")\n",
    "def vdir(obj):\n",
    "    return [x for x in dir(obj) if not x.startswith('__')]"
   ]
  },
  {
   "cell_type": "code",
   "execution_count": null,
   "id": "02c46bac-5844-47d2-91b9-70c5e6b952e7",
   "metadata": {
    "tags": []
   },
   "outputs": [],
   "source": [
    "from pathlib import Path\n",
    "import shutil\n",
    "import warnings"
   ]
  },
  {
   "cell_type": "code",
   "execution_count": null,
   "id": "8f9e2577-26f4-4e43-a980-670532741a4b",
   "metadata": {
    "tags": []
   },
   "outputs": [],
   "source": [
    "%autoreload 2"
   ]
  },
  {
   "cell_type": "code",
   "execution_count": null,
   "id": "902017f9-9f38-4ddb-8567-87045762e5d8",
   "metadata": {
    "tags": []
   },
   "outputs": [],
   "source": [
    "import njl_corf.wrc27_views as wrc27_views"
   ]
  },
  {
   "cell_type": "code",
   "execution_count": null,
   "id": "56f52f56-565f-43a8-ae9e-28c75bd904e4",
   "metadata": {
    "tags": []
   },
   "outputs": [],
   "source": [
    "ai_info = wrc27_views.get_ai_info()"
   ]
  },
  {
   "cell_type": "code",
   "execution_count": null,
   "id": "2e49c5f2-58fb-4037-841c-07c1907b4397",
   "metadata": {
    "tags": []
   },
   "outputs": [],
   "source": [
    "print(ai_info.keys())"
   ]
  },
  {
   "cell_type": "code",
   "execution_count": null,
   "id": "3881ea36-32e4-4984-8190-d562d2c7f006",
   "metadata": {
    "tags": []
   },
   "outputs": [],
   "source": [
    "root = Path(r\"/Users/livesey/corf/wrc-27-views-google-drive/\")\n",
    "python_root = Path(r\"/Users/livesey/corf/njl-corf/sandbox/wrc27-views-sandbox/outputs/\")\n",
    "for title in ai_info.keys():\n",
    "    print(\"=\" * 30 + \" \" + title)\n",
    "    wrc, ai = title.split(\" \")\n",
    "    # Only consider the \"a\" cases\n",
    "    if not ai.endswith(\"a\"):\n",
    "        continue\n",
    "    ai = ai[:-1]\n",
    "    # Create the new directory if needed\n",
    "    path = root / wrc / ai\n",
    "    path.mkdir(parents=True, exist_ok=True)\n",
    "    # Copy the relevant resolution into it\n",
    "    wildcard = \"*ai\" + \"-\".join(ai[2:].split(\".\")) + \".pdf\"\n",
    "    resolution_candidates = list((root / \"initial-triage\").glob(wildcard))\n",
    "    if not resolution_candidates:\n",
    "        raise ValueError(f\"Unable to find match for {wildcard}\")\n",
    "    if len(resolution_candidates) > 1:\n",
    "        print(resolution_candidates)\n",
    "        raise ValueError(\"Too many matches for {wildcard}.\")\n",
    "    resolution = Path(resolution_candidates[0])\n",
    "    destination = path / resolution.name\n",
    "    print(f\"Destination is {destination}\")\n",
    "    if not destination.exists():\n",
    "        shutil.copy(resolution, destination)\n",
    "        pass\n",
    "    else:\n",
    "        print(f\"Skipping {resolution}, file exists.\")\n",
    "    # Copy the html file(s) and figures into a data subdirectory therein\n",
    "    data_path = path / \"data\"\n",
    "    data_path.mkdir(exist_ok=True)\n",
    "    wildcard = f\"{wrc}_AI{ai[2:]}[abcdefg]*.*\"\n",
    "    files = list(python_root.glob(wildcard))\n",
    "    for file in files:\n",
    "        filename = Path(file).name\n",
    "        destination = data_path / filename\n",
    "        if not destination.exists():\n",
    "            shutil.copy(file, destination)\n",
    "            pass\n",
    "        else:\n",
    "            print(f\"Skipping {filename}, file exists.\")\n",
    "    # Copy the template document to that directory\n",
    "    template = root / \"resources\" / \"AI-Template.docx\"\n",
    "    filename = wrc + \"_\" + \"-\".join(ai.split(\".\")) + \"_views.docx\"\n",
    "    destination = path / filename\n",
    "    if not destination.exists():\n",
    "        # shutil.copy(template, destination)\n",
    "        warnings.warn(\n",
    "            f\"Skipped copying to {destination}, no updates to documents allowed.\"\n",
    "        )\n",
    "        pass\n",
    "    else:\n",
    "        print(f\"Skipping {filename}, file exists.\")"
   ]
  },
  {
   "cell_type": "code",
   "execution_count": null,
   "id": "cca4184a-81c1-414d-b060-c4b0ad2656bf",
   "metadata": {},
   "outputs": [],
   "source": []
  }
 ],
 "metadata": {
  "kernelspec": {
   "display_name": "njl-base-3.10-24may23",
   "language": "python",
   "name": "njl-base-3.10-24may23"
  },
  "language_info": {
   "codemirror_mode": {
    "name": "ipython",
    "version": 3
   },
   "file_extension": ".py",
   "mimetype": "text/x-python",
   "name": "python",
   "nbconvert_exporter": "python",
   "pygments_lexer": "ipython3",
   "version": "3.10.12"
  }
 },
 "nbformat": 4,
 "nbformat_minor": 5
}
