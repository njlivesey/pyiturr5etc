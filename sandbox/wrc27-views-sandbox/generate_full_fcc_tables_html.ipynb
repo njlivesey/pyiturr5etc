{
 "cells": [
  {
   "cell_type": "code",
   "execution_count": null,
   "id": "4085c1b1-cdba-4530-a513-02175f788cee",
   "metadata": {
    "tags": []
   },
   "outputs": [],
   "source": [
    "# fmt: off\n",
    "%matplotlib inline\n",
    "%config InlineBackend.figure_format = \"retina\"\n",
    "%load_ext autoreload\n",
    "%load_ext jupyter_black\n",
    "import numpy as np\n",
    "import matplotlib\n",
    "import matplotlib.pyplot as plt\n",
    "import pickle\n",
    "from mls_scf_tools.mls_pint import ureg\n",
    "plt.style.use(\"mls_scf\")\n",
    "def vdir(obj):\n",
    "    return [x for x in dir(obj) if not x.startswith('__')]\n"
   ]
  },
  {
   "cell_type": "code",
   "execution_count": null,
   "id": "aae2b823-126b-421b-bf01-9d231c81fc84",
   "metadata": {
    "tags": []
   },
   "outputs": [],
   "source": [
    "from njl_corf import pyfcctab\n",
    "from IPython.core.display import display, HTML"
   ]
  },
  {
   "cell_type": "code",
   "execution_count": null,
   "id": "fe9bd2e4-27d5-4173-8202-a5ccea75be68",
   "metadata": {
    "tags": []
   },
   "outputs": [],
   "source": [
    "allocation_database = pyfcctab.read(skip_additionals=False)"
   ]
  },
  {
   "cell_type": "code",
   "execution_count": null,
   "id": "f79fb55f-a072-422d-8a3e-696ae4d066fc",
   "metadata": {
    "tags": []
   },
   "outputs": [],
   "source": [
    "bands = allocation_database.all"
   ]
  },
  {
   "cell_type": "code",
   "execution_count": null,
   "id": "b8d32122-4eaa-4832-93f9-9483d9027243",
   "metadata": {
    "tags": []
   },
   "outputs": [],
   "source": [
    "html = pyfcctab.htmltable(\n",
    "    bands=bands,\n",
    "    append_footnotes=True,\n",
    "    tooltips=True,\n",
    "    omit_css=False,\n",
    ")\n",
    "with open(\"fcc-tables.html\", \"w\") as html_file:\n",
    "    html_file.writelines(html)"
   ]
  },
  {
   "cell_type": "code",
   "execution_count": null,
   "id": "5473e558-518a-440e-af89-2b3c1eadf030",
   "metadata": {
    "tags": []
   },
   "outputs": [],
   "source": []
  },
  {
   "cell_type": "code",
   "execution_count": null,
   "id": "a9bb1a77-573f-44de-abe3-36826b101b89",
   "metadata": {},
   "outputs": [],
   "source": []
  }
 ],
 "metadata": {
  "kernelspec": {
   "display_name": "njl-base-3.10-24may23",
   "language": "python",
   "name": "njl-base-3.10-24may23"
  },
  "language_info": {
   "codemirror_mode": {
    "name": "ipython",
    "version": 3
   },
   "file_extension": ".py",
   "mimetype": "text/x-python",
   "name": "python",
   "nbconvert_exporter": "python",
   "pygments_lexer": "ipython3",
   "version": "3.10.12"
  }
 },
 "nbformat": 4,
 "nbformat_minor": 5
}
