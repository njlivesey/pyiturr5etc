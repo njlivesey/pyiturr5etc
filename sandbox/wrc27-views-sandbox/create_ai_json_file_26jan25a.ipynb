{
 "cells": [
  {
   "cell_type": "code",
   "execution_count": 1,
   "id": "7d0a9d66-05d8-41a5-9bd3-b9efd1fb1bbd",
   "metadata": {},
   "outputs": [],
   "source": [
    "# fmt: off\n",
    "%matplotlib inline\n",
    "%config InlineBackend.figure_format = \"retina\"\n",
    "%load_ext autoreload\n",
    "%load_ext jupyter_black\n",
    "import numpy as np\n",
    "import matplotlib\n",
    "import matplotlib.pyplot as plt\n",
    "import pickle\n",
    "from mls_scf_tools.mls_pint import ureg\n",
    "plt.style.use(\"mls_scf\")\n",
    "def vdir(obj):\n",
    "    return [x for x in dir(obj) if not x.startswith('__')]\n"
   ]
  },
  {
   "cell_type": "code",
   "execution_count": 2,
   "id": "aac78b31-6b89-473a-8e72-107e8502ce36",
   "metadata": {},
   "outputs": [],
   "source": [
    "import pandas as pd\n",
    "import json"
   ]
  },
  {
   "cell_type": "code",
   "execution_count": 3,
   "id": "a22fe7d0-867c-4be7-a61d-f15b27bd5d95",
   "metadata": {},
   "outputs": [],
   "source": [
    "df = pd.read_excel(\n",
    "    \"/users/livesey/corf/wrc-27-views-google-drive/Agenda-item-summary.xlsx\",\n",
    "    sheet_name=\"Agenda Items\",\n",
    "    dtype=str,\n",
    ").fillna(\"\")"
   ]
  },
  {
   "cell_type": "code",
   "execution_count": 4,
   "id": "32b090a6-c1a5-439b-9e19-a12b9eee9e7b",
   "metadata": {},
   "outputs": [],
   "source": [
    "def dataframe_to_dict_of_dicts(df, outer_key_column):\n",
    "    \"\"\"\n",
    "    Convert a DataFrame into a dictionary of dictionaries.\n",
    "\n",
    "    Parameters:\n",
    "        df (pd.DataFrame): Input DataFrame\n",
    "        outer_key_column (str): Column to use as the outer key\n",
    "\n",
    "    Returns:\n",
    "        dict: Nested dictionary (no length-one lists)\n",
    "    \"\"\"\n",
    "    result = {}\n",
    "    for key, sub_df in df.groupby(outer_key_column):\n",
    "        # Drop the outer key column and convert remaining columns to a dictionary\n",
    "        result[key] = sub_df.drop(columns=outer_key_column).iloc[0].to_dict()\n",
    "    return result"
   ]
  },
  {
   "cell_type": "code",
   "execution_count": 5,
   "id": "b600f329-7189-4b45-9abe-13ce95c415b0",
   "metadata": {},
   "outputs": [
    {
     "name": "stdout",
     "output_type": "stream",
     "text": [
      "Nested dictionary saved to 'agenda_items.json'.\n"
     ]
    }
   ],
   "source": [
    "# Convert DataFrame to dictionary of dictionaries\n",
    "nested_dict = dataframe_to_dict_of_dicts(df, \"Agenda Item\")\n",
    "\n",
    "# Save to a JSON file\n",
    "with open(\"agenda_items.json\", \"w\") as json_file:\n",
    "    json.dump(nested_dict, json_file, indent=4)\n",
    "\n",
    "print(f\"Nested dictionary saved to 'agenda_items.json'.\")"
   ]
  },
  {
   "cell_type": "code",
   "execution_count": 6,
   "id": "5db902cb-a48c-44ba-84cc-8f80012bb564",
   "metadata": {},
   "outputs": [
    {
     "name": "stdout",
     "output_type": "stream",
     "text": [
      "27_1.3: Consider studies relating to the use of the frequency band 51.4-52.4 GHz to enable use by gateway earth stations transmitting to non-geostationary-satellite orbit systems in the fixed- satellite service (Earth-to-space), in accordance with Resolution 130 (WRC-23);\n",
      "27_1.4: Consider a possible new primary allocation to the fixed-satellite service (space-to- Earth) in the frequency band 17.3-17.7 GHz and a possible new primary allocation to the broadcasting-satellite service (space-to-Earth) in the frequency band 17.3-17.8 GHz in Region 3, while ensuring the protection of existing primary allocations in the same and adjacent frequency bands, and to consider equivalent power flux-density limits to be applied in Regions 1 and 3 to non- geostationary-satellite systems in the fixed-satellite service (space-to-Earth) in the frequency band 17.3-17.7 GHz, in accordance with Resolution 726 (WRC-23)\n",
      "27_1.5: Consider regulatory measures, and implementability thereof, to limit the unauthorized operations of non-geostationary-satellite orbit earth stations in the fixed-satellite and mobile- satellite services and associated issues related to the service area of non-geostationary-satellite orbit satellite systems in the fixed-satellite and mobile-satellite services, in accordance with Resolution 14 (WRC-23)\n",
      "27_1.6: Consider technical and regulatory measures for fixed-satellite service satellite networks/systems in the frequency bands 37.5-42.5 GHz (space-to-Earth), 42.5-43.5 GHz (Earth-to- space), 47.2-50.2 GHz (Earth-to-space) and 50.4-51.4 GHz (Earth-to-space) for equitable access to these frequency bands, in accordance with Resolution 131 (WRC-23)\n"
     ]
    }
   ],
   "source": [
    "# Do some checking\n",
    "for ai, data in nested_dict.items():\n",
    "    text = data[\"Title\"]\n",
    "    if \"- \" in text:\n",
    "        print(f\"{ai}: {text}\")"
   ]
  },
  {
   "cell_type": "code",
   "execution_count": null,
   "id": "181d6ea3-4648-4394-9869-0e03af852d94",
   "metadata": {},
   "outputs": [],
   "source": []
  }
 ],
 "metadata": {
  "kernelspec": {
   "display_name": "Python 3 (ipykernel)",
   "language": "python",
   "name": "python3"
  },
  "language_info": {
   "codemirror_mode": {
    "name": "ipython",
    "version": 3
   },
   "file_extension": ".py",
   "mimetype": "text/x-python",
   "name": "python",
   "nbconvert_exporter": "python",
   "pygments_lexer": "ipython3",
   "version": "3.12.8"
  }
 },
 "nbformat": 4,
 "nbformat_minor": 5
}
