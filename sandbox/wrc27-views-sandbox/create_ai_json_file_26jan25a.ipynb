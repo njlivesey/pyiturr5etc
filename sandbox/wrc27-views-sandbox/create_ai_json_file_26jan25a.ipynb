{
    "cells": [
        {
            "cell_type": "code",
            "execution_count": null,
            "id": "0",
            "metadata": {},
            "outputs": [],
            "source": [
                "# fmt: off\n",
                "%matplotlib inline\n",
                "%config InlineBackend.figure_format = \"retina\"\n",
                "%load_ext autoreload\n",
                "%load_ext jupyter_black\n",
                "import numpy as np\n",
                "import matplotlib\n",
                "import matplotlib.pyplot as plt\n",
                "from mls_scf_tools.mls_pint import ureg\n",
                "plt.style.use(\"mls_scf\")\n",
                "def vdir(obj):\n",
                "    return [x for x in dir(obj) if not x.startswith('__')]\n"
            ]
        },
        {
            "cell_type": "code",
            "execution_count": null,
            "id": "1",
            "metadata": {},
            "outputs": [],
            "source": [
                "import pandas as pd\n",
                "import json"
            ]
        },
        {
            "cell_type": "code",
            "execution_count": null,
            "id": "2",
            "metadata": {},
            "outputs": [],
            "source": [
                "df = pd.read_excel(\n",
                "    \"/users/livesey/corf/wrc-27-views-google-drive/Agenda-item-summary.xlsx\",\n",
                "    sheet_name=\"Agenda Items\",\n",
                "    dtype=str,\n",
                ").fillna(\"\")"
            ]
        },
        {
            "cell_type": "code",
            "execution_count": null,
            "id": "3",
            "metadata": {},
            "outputs": [],
            "source": [
                "def dataframe_to_dict_of_dicts(df, outer_key_column):\n",
                "    \"\"\"\n",
                "    Convert a DataFrame into a dictionary of dictionaries.\n",
                "\n",
                "    Parameters:\n",
                "        df (pd.DataFrame): Input DataFrame\n",
                "        outer_key_column (str): Column to use as the outer key\n",
                "\n",
                "    Returns:\n",
                "        dict: Nested dictionary (no length-one lists)\n",
                "    \"\"\"\n",
                "    result = {}\n",
                "    for key, sub_df in df.groupby(outer_key_column):\n",
                "        # Drop the outer key column and convert remaining columns to a dictionary\n",
                "        result[key] = sub_df.drop(columns=outer_key_column).iloc[0].to_dict()\n",
                "    return result"
            ]
        },
        {
            "cell_type": "code",
            "execution_count": null,
            "id": "4",
            "metadata": {},
            "outputs": [],
            "source": [
                "# Convert DataFrame to dictionary of dictionaries\n",
                "nested_dict = dataframe_to_dict_of_dicts(df, \"Agenda Item\")\n",
                "\n",
                "# Save to a JSON file\n",
                "with open(\"agenda_items.json\", \"w\") as json_file:\n",
                "    json.dump(nested_dict, json_file, indent=4)\n",
                "\n",
                "print(f\"Nested dictionary saved to 'agenda_items.json'.\")"
            ]
        },
        {
            "cell_type": "code",
            "execution_count": null,
            "id": "5",
            "metadata": {},
            "outputs": [],
            "source": [
                "# Do some checking\n",
                "for ai, data in nested_dict.items():\n",
                "    text = data[\"Title\"]\n",
                "    if \"- \" in text:\n",
                "        print(f\"{ai}: {text}\")"
            ]
        },
        {
            "cell_type": "code",
            "execution_count": null,
            "id": "6",
            "metadata": {},
            "outputs": [],
            "source": []
        }
    ],
    "metadata": {
        "kernelspec": {
            "display_name": "Python 3 (ipykernel)",
            "language": "python",
            "name": "python3"
        },
        "language_info": {
            "codemirror_mode": {
                "name": "ipython",
                "version": 3
            },
            "file_extension": ".py",
            "mimetype": "text/x-python",
            "name": "python",
            "nbconvert_exporter": "python",
            "pygments_lexer": "ipython3",
            "version": "3.12.8"
        }
    },
    "nbformat": 4,
    "nbformat_minor": 5
}