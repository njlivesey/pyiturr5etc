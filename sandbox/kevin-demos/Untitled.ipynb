{
 "cells": [
  {
   "cell_type": "code",
   "execution_count": 1,
   "id": "64f99743-b13b-44ed-9524-5842bb37353d",
   "metadata": {},
   "outputs": [],
   "source": [
    "# fmt: off\n",
    "%matplotlib inline\n",
    "%config InlineBackend.figure_format = \"retina\"\n",
    "%load_ext autoreload\n",
    "%load_ext jupyter_black\n",
    "import numpy as np\n",
    "import matplotlib\n",
    "import matplotlib.pyplot as plt\n",
    "import pickle\n",
    "from pyiturr5etc import ureg\n",
    "plt.style.use(\"mls_scf\")\n",
    "def vdir(obj):\n",
    "    return [x for x in dir(obj) if not x.startswith('__')]"
   ]
  },
  {
   "cell_type": "code",
   "execution_count": 2,
   "id": "bc40ea86-0dd0-4700-afbc-ddcf47b99f37",
   "metadata": {},
   "outputs": [],
   "source": [
    "from pyiturr5etc import pyiturr5"
   ]
  },
  {
   "cell_type": "code",
   "execution_count": 3,
   "id": "4f52c51d-b2f8-4619-be35-813b3ac77333",
   "metadata": {},
   "outputs": [
    {
     "name": "stdout",
     "output_type": "stream",
     "text": [
      "Reading from pdf file: RR5-6, RR5-7, RR5-8, RR5-9, RR5-10, "
     ]
    },
    {
     "name": "stderr",
     "output_type": "stream",
     "text": [
      "/Users/livesey/corf/pyiturr5etc/src/pyiturr5etc/pyiturr5/parse_rr_pdf.py:362: UserWarning: Unable to parse table row, missing band\n",
      "  warnings.warn(\"Unable to parse table row, missing band\")\n"
     ]
    },
    {
     "name": "stdout",
     "output_type": "stream",
     "text": [
      "RR5-11, RR5-12, RR5-13, RR5-14, RR5-15, RR5-16, RR5-17, RR5-18, RR5-19, RR5-20, RR5-21, RR5-22, RR5-23, RR5-24, RR5-25, RR5-26, RR5-27, RR5-28, RR5-29, RR5-30, RR5-31, RR5-32, RR5-33, RR5-34, RR5-35, RR5-36, RR5-37, RR5-38, RR5-39, RR5-40, RR5-41, RR5-42, RR5-43, RR5-44, RR5-45, RR5-46, RR5-47, RR5-48, RR5-49, RR5-50, RR5-51, RR5-52, RR5-53, RR5-54, RR5-55, RR5-56, RR5-57, RR5-58, RR5-59, RR5-60, RR5-61, RR5-62, RR5-63, RR5-64, RR5-65, RR5-66, RR5-67, RR5-68, RR5-69, RR5-70, RR5-71, RR5-72, RR5-73, RR5-74, RR5-75, RR5-76, RR5-77, RR5-78, RR5-79, RR5-80, RR5-81, RR5-82, RR5-83, RR5-84, RR5-85, RR5-86, RR5-87, RR5-88, RR5-89, RR5-90, RR5-91, RR5-92, RR5-93, RR5-94, RR5-95, RR5-96, RR5-97, RR5-98, RR5-99, RR5-100, RR5-101, RR5-102, RR5-103, RR5-104, RR5-105, RR5-106, RR5-107, RR5-108, RR5-109, RR5-110, RR5-111, RR5-112, RR5-113, RR5-114, RR5-115, RR5-116, RR5-117, RR5-118, RR5-119, RR5-120, RR5-121, RR5-122, RR5-123, RR5-124, RR5-125, RR5-126, RR5-127, RR5-128, RR5-129, RR5-130, RR5-131, RR5-132, RR5-133, RR5-134, RR5-135, RR5-136, RR5-137, RR5-138, RR5-139, RR5-140, RR5-141, RR5-142, RR5-143, RR5-144, RR5-145, RR5-146, RR5-147, RR5-148, RR5-149, RR5-150, RR5-151, RR5-152, RR5-153, RR5-154, RR5-155, RR5-156, RR5-157, RR5-158, RR5-159, RR5-160, RR5-161, RR5-162, RR5-163, RR5-164, RR5-165, RR5-166, organizing, footnote-allocations, merging, finalizing, done.\n"
     ]
    }
   ],
   "source": [
    "tables = pyiturr5.parse_rr_file()"
   ]
  },
  {
   "cell_type": "code",
   "execution_count": 4,
   "id": "7ea9e8b7-3bce-4268-a32f-9217808d336b",
   "metadata": {},
   "outputs": [
    {
     "data": {
      "text/plain": [
       "['collections', 'footnote_definitions', 'itu', 'r1', 'r2', 'r3', 'source']"
      ]
     },
     "execution_count": 4,
     "metadata": {},
     "output_type": "execute_result"
    }
   ],
   "source": [
    "vdir(tables)"
   ]
  },
  {
   "cell_type": "code",
   "execution_count": 7,
   "id": "b65ca7b9-f581-413d-bb20-484868db3bdd",
   "metadata": {},
   "outputs": [
    {
     "data": {
      "text/plain": [
       "[<Band 100.0 GHz-102.0 GHz [ITU Region 1, ITU Region 2, ITU Region 3] ;EARTH EXPLORATION-SATELLITE (passive);RADIO ASTRONOMY;SPACE RESEARCH (passive);;5.340 5.341>,\n",
       " <Band 102.0 GHz-105.0 GHz [ITU Region 1, ITU Region 2, ITU Region 3] ;FIXED;MOBILE;RADIO ASTRONOMY;radio astronomy (by footnote) 5.149#;;5.149 5.341>]"
      ]
     },
     "execution_count": 7,
     "metadata": {},
     "output_type": "execute_result"
    }
   ],
   "source": [
    "tables.itu[100.0 * ureg.GHz : 105 * ureg.GHz]"
   ]
  },
  {
   "cell_type": "code",
   "execution_count": 13,
   "id": "a0c2a42f-f957-4ddf-85bc-1f07bc26c63a",
   "metadata": {},
   "outputs": [],
   "source": [
    "bands = tables.r2.get_bands(\n",
    "    10.0 * ureg.GHz, 100.0 * ureg.GHz, condition=lambda x: x.has_footnote(\"5.340\")\n",
    ")"
   ]
  },
  {
   "cell_type": "code",
   "execution_count": 14,
   "id": "bb983e64-088b-4c87-b422-c51eeb503ddf",
   "metadata": {},
   "outputs": [
    {
     "data": {
      "text/plain": [
       "[<Band 10.68 GHz-10.7 GHz [ITU Region 2] ;EARTH EXPLORATION-SATELLITE (passive);RADIO ASTRONOMY;SPACE RESEARCH (passive);;5.340 5.483>,\n",
       " <Band 15.35 GHz-15.4 GHz [ITU Region 2] ;EARTH EXPLORATION-SATELLITE (passive);RADIO ASTRONOMY;SPACE RESEARCH (passive);;5.340 5.511>,\n",
       " <Band 23.6 GHz-24.0 GHz [ITU Region 2] ;EARTH EXPLORATION-SATELLITE (passive);RADIO ASTRONOMY;SPACE RESEARCH (passive);;5.340>,\n",
       " <Band 31.3 GHz-31.5 GHz [ITU Region 2] ;EARTH EXPLORATION-SATELLITE (passive);RADIO ASTRONOMY;SPACE RESEARCH (passive);;5.340>,\n",
       " <Band 31.5 GHz-31.8 GHz [ITU Region 2] ;EARTH EXPLORATION-SATELLITE (passive);RADIO ASTRONOMY;SPACE RESEARCH (passive);;5.340>,\n",
       " <Band 48.94 GHz-49.04 GHz [ITU Region 2] ;RADIO ASTRONOMY 5.555#;radio astronomy (by footnote) 5.149#;;5.340>,\n",
       " <Band 50.2 GHz-50.4 GHz [ITU Region 2] ;EARTH EXPLORATION-SATELLITE (passive);SPACE RESEARCH (passive);;5.340>,\n",
       " <Band 52.6 GHz-54.25 GHz [ITU Region 2] ;EARTH EXPLORATION-SATELLITE (passive);SPACE RESEARCH (passive);radio astronomy (by footnote) 5.556# (On a nation-by-nation basis);;5.340 5.556>,\n",
       " <Band 86.0 GHz-92.0 GHz [ITU Region 2] ;EARTH EXPLORATION-SATELLITE (passive);RADIO ASTRONOMY;SPACE RESEARCH (passive);;5.340>]"
      ]
     },
     "execution_count": 14,
     "metadata": {},
     "output_type": "execute_result"
    }
   ],
   "source": [
    "bands"
   ]
  },
  {
   "cell_type": "code",
   "execution_count": null,
   "id": "5af9bb0d-254a-4d6c-b78d-7fe873ea2e0c",
   "metadata": {},
   "outputs": [],
   "source": []
  }
 ],
 "metadata": {
  "kernelspec": {
   "display_name": "Python 3 (ipykernel)",
   "language": "python",
   "name": "python3"
  },
  "language_info": {
   "codemirror_mode": {
    "name": "ipython",
    "version": 3
   },
   "file_extension": ".py",
   "mimetype": "text/x-python",
   "name": "python",
   "nbconvert_exporter": "python",
   "pygments_lexer": "ipython3",
   "version": "3.12.9"
  }
 },
 "nbformat": 4,
 "nbformat_minor": 5
}
