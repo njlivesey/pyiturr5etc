{
 "cells": [
  {
   "cell_type": "code",
   "execution_count": null,
   "id": "81f697e6-c4e7-4e67-aff6-c53349830007",
   "metadata": {
    "tags": []
   },
   "outputs": [],
   "source": [
    "# fmt: off\n",
    "%matplotlib inline\n",
    "%config InlineBackend.figure_format = \"retina\"\n",
    "%load_ext autoreload\n",
    "%load_ext jupyter_black\n",
    "import numpy as np\n",
    "import matplotlib\n",
    "import matplotlib.pyplot as plt\n",
    "import pickle\n",
    "from mls_scf_tools.mls_pint import ureg\n",
    "plt.style.use(\"mls_scf\")\n",
    "def vdir(obj):\n",
    "    return [x for x in dir(obj) if not x.startswith('__')]\n"
   ]
  },
  {
   "cell_type": "code",
   "execution_count": null,
   "id": "89d7966d-a5df-42f8-8cea-fdd2c4e7b7ff",
   "metadata": {
    "tags": []
   },
   "outputs": [],
   "source": [
    "from icecream import install\n",
    "\n",
    "install()"
   ]
  },
  {
   "cell_type": "code",
   "execution_count": null,
   "id": "3a135d87-6fe7-4ff1-b052-7e77b04bded0",
   "metadata": {
    "tags": []
   },
   "outputs": [],
   "source": [
    "import docx\n",
    "from IPython.core.display import HTML"
   ]
  },
  {
   "cell_type": "code",
   "execution_count": null,
   "id": "2ef64cba-1dab-4ec3-b977-88e7a59816c0",
   "metadata": {
    "tags": []
   },
   "outputs": [],
   "source": [
    "%autoreload 2\n",
    "import njl_corf.pyfcctab as pyfcctab"
   ]
  },
  {
   "cell_type": "code",
   "execution_count": null,
   "id": "aa9121d6-c9c5-4f4b-b5be-4439b00c90c4",
   "metadata": {
    "tags": []
   },
   "outputs": [],
   "source": [
    "# filename = \"/users/livesey/corf/data/fcctable-2020-08-18.docx\"\n",
    "filename = \"/users/livesey/corf/data/fcctable-2022-08-23.docx\"\n",
    "docx_data = docx.Document(filename)\n",
    "collections, version = pyfcctab.parse_all_tables(\n",
    "    docx_data,\n",
    "    filename,\n",
    "    table_range=range(64 - 1, 66 - 1),\n",
    "    dump_raw=False,\n",
    "    dump_ordered=False,\n",
    ")"
   ]
  },
  {
   "cell_type": "code",
   "execution_count": null,
   "id": "16a2d7bf-83c0-4ba8-9036-1a43267c5600",
   "metadata": {
    "tags": []
   },
   "outputs": [],
   "source": [
    "allocation_tables = pyfcctab.FCCTables(version=version, collections=collections)\n",
    "full = pyfcctab.BandCollection()\n",
    "for key, item in collections.items():\n",
    "    full = full.merge(item)\n",
    "bands = full.get_bands(0 * ureg.MHz, 300 * ureg.GHz)\n",
    "# bands = allocation_tables.nf.get_bands(0 * ureg.MHz, 300 * ureg.GHz)\n",
    "display(\n",
    "    HTML(\"\\n\".join(pyfcctab.htmltable(bands, tooltips=True, append_footnotes=True)))\n",
    ")"
   ]
  },
  {
   "cell_type": "code",
   "execution_count": null,
   "id": "744d42b4-c96e-4a04-896b-069ecf77949d",
   "metadata": {
    "tags": []
   },
   "outputs": [],
   "source": []
  },
  {
   "cell_type": "code",
   "execution_count": null,
   "id": "b93f49e9-a95c-45cb-aaa8-7d201078db94",
   "metadata": {},
   "outputs": [],
   "source": []
  }
 ],
 "metadata": {
  "kernelspec": {
   "display_name": "njl-base-3.10-24may23",
   "language": "python",
   "name": "njl-base-3.10-24may23"
  },
  "language_info": {
   "codemirror_mode": {
    "name": "ipython",
    "version": 3
   },
   "file_extension": ".py",
   "mimetype": "text/x-python",
   "name": "python",
   "nbconvert_exporter": "python",
   "pygments_lexer": "ipython3",
   "version": "3.10.12"
  }
 },
 "nbformat": 4,
 "nbformat_minor": 5
}
