{
 "cells": [
  {
   "cell_type": "code",
   "execution_count": null,
   "id": "413217b1-1bb9-4ced-a4a9-c6f030101995",
   "metadata": {
    "tags": []
   },
   "outputs": [],
   "source": [
    "# fmt: off\n",
    "%matplotlib inline\n",
    "%config InlineBackend.figure_format = \"retina\"\n",
    "%load_ext autoreload\n",
    "%load_ext jupyter_black\n",
    "import numpy as np\n",
    "import matplotlib\n",
    "import matplotlib.pyplot as plt\n",
    "import pickle\n",
    "from mls_scf_tools.mls_pint import ureg\n",
    "plt.style.use(\"mls_scf\")\n",
    "def vdir(obj):\n",
    "    return [x for x in dir(obj) if not x.startswith('__')]\n"
   ]
  },
  {
   "cell_type": "code",
   "execution_count": null,
   "id": "a0d079d8-7011-4a22-9d91-5b4b2735dbe3",
   "metadata": {
    "tags": []
   },
   "outputs": [],
   "source": [
    "import pdfplumber\n",
    "import copy"
   ]
  },
  {
   "cell_type": "code",
   "execution_count": null,
   "id": "6f16ace1-cddd-4da2-8b16-1464c2e578d2",
   "metadata": {
    "tags": []
   },
   "outputs": [],
   "source": [
    "%autoreload 2"
   ]
  },
  {
   "cell_type": "code",
   "execution_count": null,
   "id": "b7d47f13-dbed-4925-8be6-60b67f5a906c",
   "metadata": {
    "tags": []
   },
   "outputs": [],
   "source": [
    "pdf = pdfplumber.open(\n",
    "    \"/users/livesey/corf/wrc-27-views-google-drive/resources/WRC-23-Final-Acts.pdf\"\n",
    "    # \"/users/livesey/doc/itu/RadioRegulations-V1.pdf\"\n",
    ")"
   ]
  },
  {
   "cell_type": "code",
   "execution_count": null,
   "id": "2a9e3909-8ac5-4d17-bde7-2676885562e9",
   "metadata": {
    "jupyter": {
     "outputs_hidden": true
    },
    "tags": []
   },
   "outputs": [],
   "source": [
    "for i, page in enumerate(pdf.pages):\n",
    "    text = page.extract_text(x_tolerance=1.0)\n",
    "    lines = text.split(\"\\n\")\n",
    "    print(f\"Page {i+1}: {lines[0][:20]}\")"
   ]
  },
  {
   "cell_type": "code",
   "execution_count": null,
   "id": "e307b08e-d7e6-481b-9f62-da4c3427db8c",
   "metadata": {
    "tags": []
   },
   "outputs": [],
   "source": [
    "pdf.close()"
   ]
  },
  {
   "cell_type": "code",
   "execution_count": null,
   "id": "3f7ef3db-cbe2-4fdf-a91e-f2a907c2e284",
   "metadata": {
    "tags": []
   },
   "outputs": [],
   "source": [
    "text = page.extract_text(x_tolerance=1.0)\n",
    "tables = page.extract_tables()\n",
    "# table = tables[0]"
   ]
  },
  {
   "cell_type": "code",
   "execution_count": null,
   "id": "d24e9b72-6d3d-42ee-8741-87937090b257",
   "metadata": {
    "tags": []
   },
   "outputs": [],
   "source": [
    "for line in text.split(\"\\n\"):\n",
    "    print(line)"
   ]
  },
  {
   "cell_type": "code",
   "execution_count": null,
   "id": "b4b55bf1-d31f-40a0-93ec-88560f0d424a",
   "metadata": {
    "tags": []
   },
   "outputs": [],
   "source": [
    "for row in table:\n",
    "    print(\"-\" * 80)\n",
    "    print(row)"
   ]
  },
  {
   "cell_type": "code",
   "execution_count": null,
   "id": "509ac0a8-4249-4b15-962c-ba54f535f33e",
   "metadata": {},
   "outputs": [],
   "source": []
  }
 ],
 "metadata": {
  "kernelspec": {
   "display_name": "njl-base-3.10-24may23",
   "language": "python",
   "name": "njl-base-3.10-24may23"
  },
  "language_info": {
   "codemirror_mode": {
    "name": "ipython",
    "version": 3
   },
   "file_extension": ".py",
   "mimetype": "text/x-python",
   "name": "python",
   "nbconvert_exporter": "python",
   "pygments_lexer": "ipython3",
   "version": "3.10.12"
  }
 },
 "nbformat": 4,
 "nbformat_minor": 5
}
