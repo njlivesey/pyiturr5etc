{
 "cells": [
  {
   "cell_type": "code",
   "execution_count": null,
   "id": "eff77c21-409b-41fe-a3d5-85afa77fc8e1",
   "metadata": {},
   "outputs": [],
   "source": [
    "# fmt: off\n",
    "%matplotlib inline\n",
    "%config InlineBackend.figure_format = \"retina\"\n",
    "%load_ext autoreload\n",
    "%load_ext jupyter_black\n",
    "import numpy as np\n",
    "import matplotlib\n",
    "import matplotlib.pyplot as plt\n",
    "import pickle\n",
    "from mls_scf_tools.mls_pint import ureg\n",
    "plt.style.use(\"mls_scf\")\n",
    "def vdir(obj):\n",
    "    return [x for x in dir(obj) if not x.startswith('__')]\n",
    "# fmt: on"
   ]
  },
  {
   "cell_type": "code",
   "execution_count": null,
   "id": "67918b05-46fd-4087-bcb1-83ebabac84c5",
   "metadata": {
    "tags": []
   },
   "outputs": [],
   "source": [
    "from njl_corf import pyfcctab as pyfcctab\n",
    "from IPython.core.display import HTML"
   ]
  },
  {
   "cell_type": "code",
   "execution_count": null,
   "id": "bf6f0ae1-1c74-4a81-ad7e-6108d456f497",
   "metadata": {},
   "outputs": [],
   "source": [
    "allocation_tables = pyfcctab.read()"
   ]
  },
  {
   "cell_type": "code",
   "execution_count": null,
   "id": "570d6a15-1a20-411f-9530-82d1c3791b84",
   "metadata": {},
   "outputs": [],
   "source": [
    "# help(allocation_tables.all.get_bands)"
   ]
  },
  {
   "cell_type": "code",
   "execution_count": null,
   "id": "0d7d871f-3b37-43f5-8043-474b44a111d0",
   "metadata": {},
   "outputs": [],
   "source": [
    "# for band in allocation_tables.all:\n",
    "#     print(band, band.has_footnote(\"5.340\"))\n",
    "# vdir(allocation_tables)"
   ]
  },
  {
   "cell_type": "code",
   "execution_count": null,
   "id": "1bc6e946-d7d4-4547-bef6-09d24cfc2453",
   "metadata": {},
   "outputs": [],
   "source": []
  },
  {
   "cell_type": "code",
   "execution_count": null,
   "id": "a5e065ca-6895-4a4b-b483-e1485df5ea50",
   "metadata": {
    "tags": []
   },
   "outputs": [],
   "source": [
    "bands = allocation_tables.all.get_bands(\n",
    "    slice(230 * ureg.GHz, 250 * ureg.GHz),\n",
    "    condition=lambda x: x.has_footnote(\"5.340\") or True,\n",
    ")\n",
    "bands = allocation_tables.all.get_bands(slice(137.8 * ureg.kHz, 1800 * ureg.kHz))"
   ]
  },
  {
   "cell_type": "code",
   "execution_count": null,
   "id": "cc0aaee5-cc52-4af2-8d13-391b4bfcee88",
   "metadata": {
    "tags": []
   },
   "outputs": [],
   "source": [
    "display(\n",
    "    HTML(\"\\n\".join(pyfcctab.htmltable(bands, tooltips=True, append_footnotes=True)))\n",
    ")"
   ]
  },
  {
   "cell_type": "code",
   "execution_count": null,
   "id": "c2fc2669-d075-4467-9f78-ebe29cd8d772",
   "metadata": {},
   "outputs": [],
   "source": [
    "import pathlib\n",
    "\n",
    "p = pathlib.Path(pyfcctab.__file__)\n",
    "p.parent"
   ]
  },
  {
   "cell_type": "code",
   "execution_count": null,
   "id": "7267f140-e895-479f-9864-93977442d9e8",
   "metadata": {},
   "outputs": [],
   "source": []
  }
 ],
 "metadata": {
  "kernelspec": {
   "display_name": "njl-base-3.10-24may23",
   "language": "python",
   "name": "njl-base-3.10-24may23"
  },
  "language_info": {
   "codemirror_mode": {
    "name": "ipython",
    "version": 3
   },
   "file_extension": ".py",
   "mimetype": "text/x-python",
   "name": "python",
   "nbconvert_exporter": "python",
   "pygments_lexer": "ipython3",
   "version": "3.10.12"
  }
 },
 "nbformat": 4,
 "nbformat_minor": 5
}
