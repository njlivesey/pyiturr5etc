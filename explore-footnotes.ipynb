{
 "cells": [
  {
   "cell_type": "code",
   "execution_count": 43,
   "metadata": {},
   "outputs": [
    {
     "name": "stdout",
     "output_type": "stream",
     "text": [
      "The autoreload extension is already loaded. To reload it, use:\n",
      "  %reload_ext autoreload\n"
     ]
    }
   ],
   "source": [
    "import docx\n",
    "import astropy.units as units\n",
    "import numpy as np\n",
    "import re\n",
    "import pickle\n",
    "import matplotlib.pyplot as plt\n",
    "import fnmatch\n",
    "import re\n",
    "from IPython.display import display, HTML\n",
    "%load_ext autoreload"
   ]
  },
  {
   "cell_type": "code",
   "execution_count": 2,
   "metadata": {},
   "outputs": [
    {
     "data": {
      "text/plain": [
       "<astropy.visualization.units.quantity_support.<locals>.MplQuantityConverter at 0x7f8b3d7bc390>"
      ]
     },
     "execution_count": 2,
     "metadata": {},
     "output_type": "execute_result"
    }
   ],
   "source": [
    "%config InlineBackend.figure_format = 'retina'\n",
    "from astropy.visualization import quantity_support\n",
    "quantity_support() "
   ]
  },
  {
   "cell_type": "code",
   "execution_count": 3,
   "metadata": {},
   "outputs": [],
   "source": [
    "%autoreload 2\n",
    "import pyfcctab"
   ]
  },
  {
   "cell_type": "code",
   "execution_count": 4,
   "metadata": {},
   "outputs": [],
   "source": [
    "path = \"/users/livesey/corf/\"\n",
    "file = path + \"fcctable.docx\"\n",
    "source = docx.Document(file)"
   ]
  },
  {
   "cell_type": "code",
   "execution_count": 65,
   "metadata": {},
   "outputs": [],
   "source": [
    "# dir (docx.oxml.table)"
   ]
  },
  {
   "cell_type": "code",
   "execution_count": 69,
   "metadata": {},
   "outputs": [],
   "source": [
    "footnotes = pyfcctab.ingest_footnotes(source)"
   ]
  },
  {
   "cell_type": "code",
   "execution_count": 70,
   "metadata": {},
   "outputs": [
    {
     "data": {
      "text/html": [
       "In the bands 71-76 GHz and 81-86 GHz, stations in the fixed, mobile, and broadcasting services shall not cause harmful interference to, nor claim protection from, Federal stations in the fixed-satellite service at any of the following 28 military installations:  [TABLE]\n",
       " [Cell:] Military Installation [Cell:] State [Cell:] Nearby city [Cell:] Redstone Arsenal……………………………………………….............. Fort Huachuca………………………………………………………..… Yuma Proving Ground………………………………………................. Beale AFB…………………………………………………………….... Camp Parks Reserve Forces Training Area………………...……..…… China Lake Naval Air Weapons Station…………………………..…… Edwards AFB………………………………………………………..…. Fort Irwin……………………...……………………………………..… Marine Corps Air Ground Combat Center………………………...…... Buckley AFB……………………..……………………..…………..…. Schriever AFB…………………………………………………….....… Fort Gordon…………………………………………………................. Naval Satellite Operations Center………………………………...….... Naval Computer and Telecommunications Area Master Station, Pacific Fort Detrick………………………………………………………..…… Nellis AFB…………………………………………………………..…. Nevada Test Site……………………………………………………..… Tonapah Test Range Airfield…………………………………...…….... Cannon AFB……………………………………………….................... White Sands Missile Range……………………………………............. Dyess AFB…………………………………………………………..…. Fort Bliss……………………………………………………………..… Fort Sam Houston…………………………………………………….... Goodfellow AFB…………………………………………………..…… Kelly AFB……………………………….……………...…………..….. Utah Test and Training Range……………………………….……….... Fort Belvoir………………………………………………………..…… Naval Satellite Operations Center.……………………………...…..…. [Cell:] AL AZ AZ CA CA CA CA CA CA CO CO GA GU HI MD NV NV NV NM NM TX TX TX TX TX UT VA VA [Cell:] Huntsville Sierra Vista Yuma Marysville Dublin Ridgecrest Rosamond Barstow Twentynine Palms Aurora (Denver) Colorado Springs Augusta Finegayan (Guam) Wahiawa (Oahu Is.) Frederick Las Vegas Amargosa Valley Tonapah Clovis White Sands Abilene El Paso San Antonio San Angelo  San Antonio ….. Alexandria Chesapeake"
      ],
      "text/plain": [
       "<IPython.core.display.HTML object>"
      ]
     },
     "metadata": {},
     "output_type": "display_data"
    }
   ],
   "source": [
    "display(HTML(footnotes[\"US389\"]))"
   ]
  },
  {
   "cell_type": "code",
   "execution_count": 41,
   "metadata": {},
   "outputs": [],
   "source": [
    "for number, content in footnotes.items():\n",
    "    if fnmatch.fnmatchcase(content, \"Earth-Exploration\"):\n",
    "        print (f\"{number}: {content}\")"
   ]
  },
  {
   "cell_type": "code",
   "execution_count": null,
   "metadata": {},
   "outputs": [],
   "source": []
  }
 ],
 "metadata": {
  "kernelspec": {
   "display_name": "Python 3",
   "language": "python",
   "name": "python3"
  },
  "language_info": {
   "codemirror_mode": {
    "name": "ipython",
    "version": 3
   },
   "file_extension": ".py",
   "mimetype": "text/x-python",
   "name": "python",
   "nbconvert_exporter": "python",
   "pygments_lexer": "ipython3",
   "version": "3.7.6"
  }
 },
 "nbformat": 4,
 "nbformat_minor": 4
}
