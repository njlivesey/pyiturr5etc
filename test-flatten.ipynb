{
 "cells": [
  {
   "cell_type": "code",
   "execution_count": 1,
   "metadata": {},
   "outputs": [],
   "source": [
    "import docx\n",
    "import astropy.units as units\n",
    "import numpy as np\n",
    "import re\n",
    "import pickle\n",
    "import matplotlib.pyplot as plt\n",
    "from IPython.display import display, HTML\n",
    "%load_ext autoreload"
   ]
  },
  {
   "cell_type": "code",
   "execution_count": 2,
   "metadata": {},
   "outputs": [
    {
     "data": {
      "text/plain": [
       "<astropy.visualization.units.quantity_support.<locals>.MplQuantityConverter at 0x7fb2fffbaa10>"
      ]
     },
     "execution_count": 2,
     "metadata": {},
     "output_type": "execute_result"
    }
   ],
   "source": [
    "%config InlineBackend.figure_format = 'retina'\n",
    "from astropy.visualization import quantity_support\n",
    "quantity_support()"
   ]
  },
  {
   "cell_type": "code",
   "execution_count": 3,
   "metadata": {},
   "outputs": [],
   "source": [
    "%autoreload 2\n",
    "import pyfcctab"
   ]
  },
  {
   "cell_type": "code",
   "execution_count": 4,
   "metadata": {},
   "outputs": [
    {
     "name": "stdout",
     "output_type": "stream",
     "text": [
      "Reading tables: 0, 1, 2, 3, 4, 5, 6, 7, 8, 9, 10, 11, 12, 13, 14, 15, 16, 17, 18, 19, 20, 21, 22, 23, 24, 25, 26, 27, 28, 29, 30, 31, 32, 33, 34, 35, 36, 37, 38, 39, 40, 41, 42, 43, 44, 45, 46, 47, 48, 49, 50, 51, 52, 53, 54, 55, 56, 57, 58, 59, 60, 61, 62, 63, 64, done.\n",
      "Digesting: R1, R2, R3, F, NF, done.\n",
      "Injecting additions in: ITU-R1, ITU-R2, ITU-R3, F, NF, done.\n",
      "Merging: ITU, USA, all, done.\n",
      "Footnote definitions: reading, appending, done.\n"
     ]
    }
   ],
   "source": [
    "path = \"/users/livesey/corf/\"\n",
    "tables = pyfcctab.read(filename='/users/livesey/corf/fcctable.docx',\n",
    "                  skip_additionals=False)\n",
    "pyfcctab.save(tables)\n",
    "# tables = pyfcctab.load(path+\"fcctables.pickle\")"
   ]
  },
  {
   "cell_type": "code",
   "execution_count": 5,
   "metadata": {},
   "outputs": [],
   "source": [
    "# for b in tables.r1:\n",
    "#     print (b.jurisdictions, b.has_footnote(\"*#\"))"
   ]
  },
  {
   "cell_type": "code",
   "execution_count": 6,
   "metadata": {},
   "outputs": [],
   "source": [
    "r1 = tables.r1.flatten()"
   ]
  },
  {
   "cell_type": "code",
   "execution_count": 7,
   "metadata": {},
   "outputs": [],
   "source": [
    "bands = tables.r1[470*units.MHz:694*units.MHz]"
   ]
  },
  {
   "cell_type": "code",
   "execution_count": 8,
   "metadata": {},
   "outputs": [
    {
     "name": "stdout",
     "output_type": "stream",
     "text": [
      "--------\n",
      "470.0 MHz-694.0 MHz [ITU Region 1] \n",
      "BROADCASTING\n",
      "\n",
      "5.149 5.291A 5.294 5.296 5.300 5.304 5.306 5.311A 5.312\n",
      "--------\n",
      "606.0 MHz-614.0 MHz [ITU Region 1] \n",
      "RADIO ASTRONOMY 5.304# (African broadcasting area)\n",
      "\n",
      "\n",
      "--------\n",
      "608.0 MHz-614.0 MHz [ITU Region 1] \n",
      "Radio astronomy 5.307# (India)\n",
      "\n",
      "\n",
      "--------\n",
      "608.0 MHz-614.0 MHz [ITU Region 1] \n",
      "Radio astronomy 5.149#\n",
      "\n",
      "\n",
      "--------\n",
      "608.0 MHz-614.0 MHz [ITU Region 1] \n",
      "Radio astronomy 5.306# (Not Africa)\n",
      "\n",
      "\n"
     ]
    }
   ],
   "source": [
    "for b in bands:\n",
    "    print ('--------')\n",
    "    print (b)"
   ]
  },
  {
   "cell_type": "code",
   "execution_count": 9,
   "metadata": {},
   "outputs": [
    {
     "name": "stdout",
     "output_type": "stream",
     "text": [
      "---------\n",
      "470.0 MHz-606.0 MHz [ITU Region 1] \n",
      "BROADCASTING\n",
      "\n",
      "5.149 5.291A 5.294 5.296 5.300 5.304 5.306 5.311A 5.312\n",
      "---------\n",
      "606.0 MHz-608.0 MHz [ITU Region 1] \n",
      "BROADCASTING\n",
      "RADIO ASTRONOMY 5.304# (African broadcasting area)\n",
      "\n",
      "5.149 5.291A 5.294 5.296 5.300 5.304 5.306 5.311A 5.312\n",
      "---------\n",
      "608.0 MHz-614.0 MHz [ITU Region 1] \n",
      "BROADCASTING\n",
      "RADIO ASTRONOMY 5.304# (African broadcasting area)\n",
      "Radio astronomy 5.149#\n",
      "Radio astronomy 5.306# (Not Africa)\n",
      "Radio astronomy 5.307# (India)\n",
      "\n",
      "5.149 5.291A 5.294 5.296 5.300 5.304 5.306 5.311A 5.312\n",
      "---------\n",
      "614.0 MHz-694.0 MHz [ITU Region 1] \n",
      "BROADCASTING\n",
      "\n",
      "5.149 5.291A 5.294 5.296 5.300 5.304 5.306 5.311A 5.312\n"
     ]
    }
   ],
   "source": [
    "bands = r1[470*units.MHz:694*units.MHz]\n",
    "for b in bands:\n",
    "    print ('---------')\n",
    "    print (b)"
   ]
  },
  {
   "cell_type": "code",
   "execution_count": 10,
   "metadata": {},
   "outputs": [],
   "source": [
    "mods = []\n",
    "for b in tables.all:\n",
    "    for a in b.allocations:\n",
    "        mods += a.modifiers\n",
    "mods = list(set(mods))"
   ]
  },
  {
   "cell_type": "code",
   "execution_count": 11,
   "metadata": {},
   "outputs": [
    {
     "name": "stdout",
     "output_type": "stream",
     "text": [
      "['5 MHz', '400.1 MHz', 'ships only', '25 MHz', '10 MHz', 'satellite identification', 'AIS 3', 'AIS 2', 'active', 'telemetry', 'radiosonde', '20 kHz', 'Earth-to-space', '20 MHz', 'ground-based', 'line-of-sight only', 'medical telemetry and medical telecommand', 'AIS 1', 'distress and calling via DSC', 'space-to-space', 'no airborne transmissions', 'radiobeacons', 'space-to-space, comms.', 'passive', '2500 kHz', 'distress, urgency, safety and calling', 'distress, urgency, safety and calling via DSC', 'AIS 4', 'line-of-sight only including aeronautical telemetry, but excluding flight testing of manned aircraft', 'telemetry and telecommand', 'deep space', 'aeronautical telemetry', 'distress and calling', 'OR', 'R', '60 kHz', '15 MHz', 'space-to-Earth']\n"
     ]
    }
   ],
   "source": [
    "print (mods)"
   ]
  },
  {
   "cell_type": "code",
   "execution_count": 12,
   "metadata": {},
   "outputs": [
    {
     "name": "stdout",
     "output_type": "stream",
     "text": [
      "-------\n",
      "8025.0 MHz-8175.0 MHz [USA Federal] \n",
      "EARTH EXPLORATION-SATELLITE (space-to-Earth)\n",
      "FIXED\n",
      "FIXED-SATELLITE (Earth-to-space)\n",
      "Mobile-satellite (Earth-to-space) (no airborne transmissions)\n",
      "\n",
      "G117 US258\n",
      "-------\n",
      "8175.0 MHz-8215.0 MHz [USA Federal] \n",
      "EARTH EXPLORATION-SATELLITE (space-to-Earth)\n",
      "FIXED\n",
      "FIXED-SATELLITE (Earth-to-space)\n",
      "METEOROLOGICAL-SATELLITE (Earth-to-space)\n",
      "Mobile-satellite (Earth-to-space) (no airborne transmissions)\n",
      "\n",
      "G104 G117 US258\n",
      "-------\n",
      "8215.0 MHz-8400.0 MHz [USA Federal] \n",
      "EARTH EXPLORATION-SATELLITE (space-to-Earth)\n",
      "FIXED\n",
      "FIXED-SATELLITE (Earth-to-space)\n",
      "Mobile-satellite (Earth-to-space) (no airborne transmissions)\n",
      "\n",
      "G117 US258\n"
     ]
    }
   ],
   "source": [
    "for b in tables.all:\n",
    "    if b.has_allocation(\"*no airborne transmissions*\"):\n",
    "        print (\"-------\")\n",
    "        print (b)"
   ]
  },
  {
   "cell_type": "code",
   "execution_count": null,
   "metadata": {},
   "outputs": [],
   "source": []
  }
 ],
 "metadata": {
  "kernelspec": {
   "display_name": "Python 3",
   "language": "python",
   "name": "python3"
  },
  "language_info": {
   "codemirror_mode": {
    "name": "ipython",
    "version": 3
   },
   "file_extension": ".py",
   "mimetype": "text/x-python",
   "name": "python",
   "nbconvert_exporter": "python",
   "pygments_lexer": "ipython3",
   "version": "3.7.6"
  }
 },
 "nbformat": 4,
 "nbformat_minor": 4
}
