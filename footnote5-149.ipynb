{
 "cells": [
  {
   "cell_type": "code",
   "execution_count": 2,
   "metadata": {},
   "outputs": [],
   "source": [
    "import pyfcctab as fcc\n",
    "import copy"
   ]
  },
  {
   "cell_type": "code",
   "execution_count": 3,
   "metadata": {},
   "outputs": [
    {
     "name": "stdout",
     "output_type": "stream",
     "text": [
      "Reading tables: 0, 1, 2, 3, 4, 5, 6, 7, 8, 9, 10, 11, 12, 13, 14, 15, 16, 17, 18, 19, 20, 21, 22, 23, 24, 25, 26, 27, 28, 29, 30, 31, 32, 33, 34, 35, 36, 37, 38, 39, 40, 41, 42, 43, 44, 45, 46, 47, 48, 49, 50, 51, 52, 53, 54, 55, 56, 57, 58, 59, 60, 61, 62, 63, 64, done.\n",
      "Digesting: R1, R2, R3, F, NF, done.\n",
      "Injecting additions in: R1, R2, R3, F, NF, done.\n",
      "Merging: ITU, USA, done.\n"
     ]
    }
   ],
   "source": [
    "tables = fcc.read()"
   ]
  },
  {
   "cell_type": "code",
   "execution_count": 4,
   "metadata": {},
   "outputs": [
    {
     "name": "stdout",
     "output_type": "stream",
     "text": [
      "\n",
      "======= For 73.0 MHz-74.6 MHz [R1,R3]\n",
      "Radio astronomy 5.149#\n",
      "\n",
      "The original allocation:68.0 MHz-74.8 MHz [R1,R3]/FIXED/MOBILE EXCEPT AERONAUTICAL MOBILE/\n",
      "Does not inclue Radio Astronomy*.\n",
      "\n",
      "======= For 1330.0 MHz-1400.0 MHz [R1,R2,R3]\n",
      "Radio astronomy 5.149#\n",
      "\n",
      "The original allocation:1300.0 MHz-1350.0 MHz [R1,R2,R3]/RADIOLOCATION/AERONAUTICAL RADIONAVIGATION 5.337/RADIONAVIGATION-SATELLITE (Earth-to-space)/5.149 5.337A\n",
      "Does not inclue Radio Astronomy*.\n",
      "The original allocation:1370.0 MHz-1400.0 MHz [R1,R2,R3]/Earth exploration-satellite (passive) 5.339#/Space research (passive) 5.339#/\n",
      "Does not inclue Radio Astronomy*.\n",
      "\n",
      "======= For 1718.8 MHz-1722.2 MHz [R1,R2,R3]\n",
      "Radio astronomy 5.149#\n",
      "\n",
      "The original allocation:1710.0 MHz-1930.0 MHz [R1,R2,R3]/FIXED/MOBILE 5.384A 5.388A 5.388B/5.149 5.341 5.385 5.386 5.387 5.388 5.149 5.341 5.385 5.386 5.387 5.388 5.149 5.341 5.385 5.386 5.387 5.388\n",
      "Does not inclue Radio Astronomy*.\n",
      "\n",
      "======= For 3260.0 MHz-3267.0 MHz [R1,R2,R3]\n",
      "Radio astronomy 5.149#\n",
      "\n",
      "The original allocation:3100.0 MHz-3300.0 MHz [R1,R2,R3]/RADIOLOCATION/Earth exploration-satellite (active)/Space research (active)/5.149 5.428\n",
      "Does not inclue Radio Astronomy*.\n",
      "\n",
      "======= For 4950.0 MHz-4990.0 MHz [R1,R2,R3]\n",
      "Radio astronomy 5.149#\n",
      "\n",
      "The original allocation:4950.0 MHz-4990.0 MHz [R1,R2,R3]/Earth exploration-satellite (passive) 5.339#/Space research (passive) 5.339#/\n",
      "Does not inclue Radio Astronomy*.\n",
      "\n",
      "======= For 6650.0 MHz-6675.2 MHz [R1,R2,R3]\n",
      "Radio astronomy 5.149#\n",
      "\n",
      "The original allocation:5925.0 MHz-6700.0 MHz [R1,R2,R3]/FIXED 5.457/FIXED-SATELLITE (Earth-to-space) 5.457A 5.457B/MOBILE 5.457C/\n",
      "Does not inclue Radio Astronomy*.\n",
      "\n",
      "======= For 22.01 GHz-22.21 GHz [R1,R2,R3]\n",
      "Radio astronomy 5.149#\n",
      "\n",
      "The original allocation:22.0 GHz-22.21 GHz [R1,R2,R3]/FIXED/MOBILE EXCEPT AERONAUTICAL MOBILE/5.149\n",
      "Does not inclue Radio Astronomy*.\n",
      "\n",
      "======= For 22.81 GHz-22.86 GHz [R1,R2,R3]\n",
      "Radio astronomy 5.149#\n",
      "\n",
      "The original allocation:22.55 GHz-23.15 GHz [R1,R2,R3]/FIXED/INTER-SATELLITE 5.338A/MOBILE/SPACE RESEARCH (Earth-to-space) 5.532A/5.149\n",
      "Does not inclue Radio Astronomy*.\n",
      "\n",
      "======= For 23.07 GHz-23.12 GHz [R1,R2,R3]\n",
      "Radio astronomy 5.149#\n",
      "\n",
      "The original allocation:22.55 GHz-23.15 GHz [R1,R2,R3]/FIXED/INTER-SATELLITE 5.338A/MOBILE/SPACE RESEARCH (Earth-to-space) 5.532A/5.149\n",
      "Does not inclue Radio Astronomy*.\n",
      "\n",
      "======= For 31.2 GHz-31.3 GHz [R1,R2,R3]\n",
      "Radio astronomy 5.149#\n",
      "\n",
      "The original allocation:31.0 GHz-31.3 GHz [R1,R2,R3]/FIXED 5.338A 5.543A/MOBILE/Standard frequency and time signal-satellite (space-to-Earth)/Space research 5.544 5.545/5.149\n",
      "Does not inclue Radio Astronomy*.\n",
      "\n",
      "======= For 36.43 GHz-36.5 GHz [R1,R2,R3]\n",
      "Radio astronomy 5.149#\n",
      "\n",
      "The original allocation:36.0 GHz-37.0 GHz [R1,R2,R3]/EARTH EXPLORATION-SATELLITE (passive)/FIXED/MOBILE/SPACE RESEARCH (passive)/5.149 5.550A\n",
      "Does not inclue Radio Astronomy*.\n",
      "\n",
      "======= For 168.59 GHz-168.93 GHz [R1,R2,R3]\n",
      "Radio astronomy 5.149#\n",
      "\n",
      "The original allocation:167.0 GHz-174.5 GHz [R1,R2,R3]/FIXED/FIXED-SATELLITE (space-to-Earth)/INTER-SATELLITE/MOBILE 5.558/5.149 5.562D\n",
      "Does not inclue Radio Astronomy*.\n",
      "\n",
      "======= For 171.11 GHz-171.45 GHz [R1,R2,R3]\n",
      "Radio astronomy 5.149#\n",
      "\n",
      "The original allocation:167.0 GHz-174.5 GHz [R1,R2,R3]/FIXED/FIXED-SATELLITE (space-to-Earth)/INTER-SATELLITE/MOBILE 5.558/5.149 5.562D\n",
      "Does not inclue Radio Astronomy*.\n",
      "\n",
      "======= For 172.31 GHz-172.65 GHz [R1,R2,R3]\n",
      "Radio astronomy 5.149#\n",
      "\n",
      "The original allocation:167.0 GHz-174.5 GHz [R1,R2,R3]/FIXED/FIXED-SATELLITE (space-to-Earth)/INTER-SATELLITE/MOBILE 5.558/5.149 5.562D\n",
      "Does not inclue Radio Astronomy*.\n",
      "\n",
      "======= For 173.52 GHz-173.85 GHz [R1,R2,R3]\n",
      "Radio astronomy 5.149#\n",
      "\n",
      "The original allocation:167.0 GHz-174.5 GHz [R1,R2,R3]/FIXED/FIXED-SATELLITE (space-to-Earth)/INTER-SATELLITE/MOBILE 5.558/5.149 5.562D\n",
      "Does not inclue Radio Astronomy*.\n",
      "\n",
      "======= For 195.75 GHz-196.15 GHz [R1,R2,R3]\n",
      "Radio astronomy 5.149#\n",
      "\n",
      "The original allocation:191.8 GHz-200.0 GHz [R1,R2,R3]/FIXED/INTER-SATELLITE/MOBILE 5.558/MOBILE-SATELLITE/RADIONAVIGATION/RADIONAVIGATION-SATELLITE/5.149 5.341 5.554\n",
      "Does not inclue Radio Astronomy*.\n"
     ]
    }
   ],
   "source": [
    "service = \"Radio Astronomy*\"\n",
    "footnote = \"5.149#\"\n",
    "# service = \"Earth Exploration-Satellite*\"\n",
    "bands = [b \n",
    "         for b in tables.itu #[100.0*units.GHz:200.0*units.GHz] \n",
    "         if b.has_footnote(footnote) and b.has_allocation(service)]\n",
    "bands.sort()\n",
    "for b in bands:\n",
    "    bandOK = True\n",
    "    for j in b.jurisdictions:\n",
    "        originals = (tables.collections[j])[b.bounds[0]:b.bounds[1]]\n",
    "        for o in originals:\n",
    "            if o is b:\n",
    "                continue\n",
    "            if o.jurisdictions != b.jurisdictions:\n",
    "                continue\n",
    "            if o.has_allocation(service):\n",
    "                continue\n",
    "            if bandOK:\n",
    "                print (f\"\\n======= For {b}\")\n",
    "            bandOK = False\n",
    "            print (f\"The original allocation:{o.compact_str()}\\nDoes not inclue {service}.\")"
   ]
  },
  {
   "cell_type": "code",
   "execution_count": null,
   "metadata": {},
   "outputs": [],
   "source": []
  }
 ],
 "metadata": {
  "kernelspec": {
   "display_name": "Python 3",
   "language": "python",
   "name": "python3"
  },
  "language_info": {
   "codemirror_mode": {
    "name": "ipython",
    "version": 3
   },
   "file_extension": ".py",
   "mimetype": "text/x-python",
   "name": "python",
   "nbconvert_exporter": "python",
   "pygments_lexer": "ipython3",
   "version": "3.7.6"
  }
 },
 "nbformat": 4,
 "nbformat_minor": 4
}
