{
 "cells": [
  {
   "cell_type": "code",
   "execution_count": 1,
   "metadata": {},
   "outputs": [],
   "source": [
    "import docx\n",
    "import astropy.units as units\n",
    "import numpy as np\n",
    "import re\n",
    "import pickle\n",
    "import matplotlib.pyplot as plt\n",
    "from IPython.display import display, HTML\n",
    "%load_ext autoreload"
   ]
  },
  {
   "cell_type": "code",
   "execution_count": 2,
   "metadata": {},
   "outputs": [
    {
     "data": {
      "text/plain": [
       "<astropy.visualization.units.quantity_support.<locals>.MplQuantityConverter at 0x7fd576f57450>"
      ]
     },
     "execution_count": 2,
     "metadata": {},
     "output_type": "execute_result"
    }
   ],
   "source": [
    "%config InlineBackend.figure_format = 'retina'\n",
    "from astropy.visualization import quantity_support\n",
    "quantity_support() "
   ]
  },
  {
   "cell_type": "code",
   "execution_count": 3,
   "metadata": {},
   "outputs": [],
   "source": [
    "%autoreload 2\n",
    "import pyfcctab"
   ]
  },
  {
   "cell_type": "code",
   "execution_count": 4,
   "metadata": {},
   "outputs": [
    {
     "name": "stdout",
     "output_type": "stream",
     "text": [
      "Reading tables: 0, 1, 2, 3, 4, 5, 6, 7, 8, 9, 10, 11, 12, 13, 14, 15, 16, 17, 18, 19, 20, 21, 22, 23, 24, 25, 26, 27, 28, 29, 30, 31, 32, 33, 34, 35, 36, 37, 38, 39, 40, 41, 42, 43, 44, 45, 46, 47, 48, 49, 50, 51, 52, 53, 54, 55, 56, 57, 58, 59, 60, 61, 62, 63, 64, done.\n",
      "Digesting: R1, R2, R3, F, NF, done.\n",
      "Injecting additions in: R1, R2, R3, F, NF, done.\n",
      "Merging: ITU, USA, all, done.\n",
      "Footnote definitions: reading, appending, done.\n"
     ]
    }
   ],
   "source": [
    "path = \"/users/livesey/corf/\"\n",
    "tables = pyfcctab.read(filename='/users/livesey/corf/fcctable.docx',\n",
    "                  skip_additionals=False)\n",
    "pyfcctab.save(tables)\n",
    "# tables = pyfcctab.load(path+\"fcctables.pickle\")"
   ]
  },
  {
   "cell_type": "code",
   "execution_count": 177,
   "metadata": {},
   "outputs": [],
   "source": [
    "bands = tables.itu.get_bands(890.0*units.MHz, 960.0*units.MHz, adjacent=False)\n",
    "# bands = tables.itu.get_bands(174.0*units.MHz, 235.0*units.MHz, adjacent=False)\n",
    "bands = [b for b in bands if not b.has_footnote(\"*#\")]\n",
    "bands.sort()"
   ]
  },
  {
   "cell_type": "code",
   "execution_count": 178,
   "metadata": {},
   "outputs": [
    {
     "data": {
      "text/html": [
       "<link rel=\"stylesheet\" href=\"fcc.css\"><table id=\"fcc-table\"><tr><th id=\"fcc-th\">R1</th><th id=\"fcc-th\">R2</th><th id=\"fcc-th\">R3</th></tr>\n",
       "<tr><td id=\"fcc-td\"; colspan=\"1\"; rowspan=\"3\"><p><fcc><p id=\"fcc\"><b>890.0 MHz &ndash; 942.0 MHz</b> <br>FIXED<br>MOBILE EXCEPT AERONAUTICAL MOBILE <span id=\"fcc\"><span class=\"tooltip\">5.317A<span class=\"tooltiptext\"><b>5.317A:</b>&nbspThe parts of the frequency band 698-960 MHz in Region 2 and the frequency bands 694-790 MHz in Region 1 and 790-960 MHz in Regions 1 and 3 which are allocated to the mobile service on a primary basis are identified for use by administrations wishing to implement International Mobile Telecommunications (IMT) – see Resolutions 224 (Rev.WRC-15), 760 (WRC-15) and 749 (Rev.WRC15), where applicable.  This identification does not preclude the use of these frequency bands by any application of the services to which they are allocated and does not establish priority in the Radio Regulations.  (WRC−15)</span></span><br>BROADCASTING <span id=\"fcc\"><span class=\"tooltip\">5.322<span class=\"tooltiptext\"><b>5.322:</b>&nbspIn Region 1, in the band 862-960 MHz, stations of the broadcasting service shall be operated only in the African Broadcasting Area (see Nos. 5.10 to 5.13) excluding Algeria, Burundi, Egypt, Spain, Lesotho, Libya, Morocco, Malawi, Namibia, Nigeria, South Africa, Tanzania, Zimbabwe and Zambia, subject to agreement obtained under No. 9.21.  (WRC-12)</span></span><br>Radiolocation<br><br></p></fcc></p></td><td id=\"fcc-td\"; colspan=\"1\"; rowspan=\"1\"><p><fcc><p id=\"fcc\"><b>890.0 MHz &ndash; 902.0 MHz</b> <br>FIXED<br>MOBILE EXCEPT AERONAUTICAL MOBILE <span id=\"fcc\"><span class=\"tooltip\">5.317A<span class=\"tooltiptext\"><b>5.317A:</b>&nbspThe parts of the frequency band 698-960 MHz in Region 2 and the frequency bands 694-790 MHz in Region 1 and 790-960 MHz in Regions 1 and 3 which are allocated to the mobile service on a primary basis are identified for use by administrations wishing to implement International Mobile Telecommunications (IMT) – see Resolutions 224 (Rev.WRC-15), 760 (WRC-15) and 749 (Rev.WRC15), where applicable.  This identification does not preclude the use of these frequency bands by any application of the services to which they are allocated and does not establish priority in the Radio Regulations.  (WRC−15)</span></span><br>Radiolocation<br><br></p></fcc></p></td><td id=\"fcc-td\"; colspan=\"1\"; rowspan=\"3\"><p><fcc><p id=\"fcc\"><b>890.0 MHz &ndash; 942.0 MHz</b> <br>FIXED<br>MOBILE <span id=\"fcc\"><span class=\"tooltip\">5.317A<span class=\"tooltiptext\"><b>5.317A:</b>&nbspThe parts of the frequency band 698-960 MHz in Region 2 and the frequency bands 694-790 MHz in Region 1 and 790-960 MHz in Regions 1 and 3 which are allocated to the mobile service on a primary basis are identified for use by administrations wishing to implement International Mobile Telecommunications (IMT) – see Resolutions 224 (Rev.WRC-15), 760 (WRC-15) and 749 (Rev.WRC15), where applicable.  This identification does not preclude the use of these frequency bands by any application of the services to which they are allocated and does not establish priority in the Radio Regulations.  (WRC−15)</span></span><br>BROADCASTING<br>Radiolocation<br><br></p></fcc></p></td></tr>\n",
       "<tr><td id=\"fcc-td\"; colspan=\"1\"; rowspan=\"1\"><p><fcc><p id=\"fcc\"><b>902.0 MHz &ndash; 928.0 MHz</b> <br>FIXED<br>Amateur<br>Mobile except aeronautical mobile <span id=\"fcc\"><span class=\"tooltip\">5.325A<span class=\"tooltiptext\"><b>5.325A:</b>&nbspDifferent category of service:  in Argentina, Brazil, Costa Rica, Cuba, Dominican Republic, El Salvador, Ecuador, the French overseas departments and communities in Region 2, Guatemala, Mexico, Paraguay, Uruguay and Venezuela, the frequency band 902-928 MHz is allocated to the land mobile service on a primary basis.  In Colombia, the frequency band 902-905 MHz is allocated to the land mobile service on a primary basis.  (WRC-15)</span></span><br>Radiolocation<br><br><span id=\"fcc\"><span class=\"tooltip\">5.150<span class=\"tooltiptext\"><b>5.150:</b>&nbspThe following bands: 13 553-13 567 kHz (centre frequency 13 560 kHz), 26 957-27 283 kHz (centre frequency 27 120 kHz), 40.66-40.70 MHz (centre frequency 40.68 MHz), 902-928 MHz in Region 2 (centre frequency 915 MHz), 2400-2500 MHz (centre frequency 2450 MHz), 5725-5875 MHz (centre frequency 5800 MHz), and 24-24.25 GHz (centre frequency 24.125 GHz) are also designated for industrial, scientific and medical (ISM) applications.  Radiocommunication services operating within these bands must accept harmful interference which may be caused by these applications.  ISM equipment operating in these bands is subject to the provisions of No. 15.13.</span></span> <span id=\"fcc\"><span class=\"tooltip\">5.325<span class=\"tooltiptext\"><b>5.325:</b>&nbspDifferent category of service:  in the United States, the allocation of the band 890-942 MHz to the radiolocation service is on a primary basis (see No. 5.33), subject to agreement obtained under No. 9.21.</span></span> <span id=\"fcc\"><span class=\"tooltip\">5.326<span class=\"tooltiptext\"><b>5.326:</b>&nbspDifferent category of service:  in Chile, the band 903-905 MHz is allocated to the mobile, except aeronautical mobile, service on a primary basis, subject to agreement obtained under No. 9.21.</span></span></p></fcc></p></td></tr>\n",
       "<tr><td id=\"fcc-td\"; colspan=\"1\"; rowspan=\"1\"><p><fcc><p id=\"fcc\"><b>928.0 MHz &ndash; 942.0 MHz</b> <br>FIXED<br>MOBILE EXCEPT AERONAUTICAL MOBILE <span id=\"fcc\"><span class=\"tooltip\">5.317A<span class=\"tooltiptext\"><b>5.317A:</b>&nbspThe parts of the frequency band 698-960 MHz in Region 2 and the frequency bands 694-790 MHz in Region 1 and 790-960 MHz in Regions 1 and 3 which are allocated to the mobile service on a primary basis are identified for use by administrations wishing to implement International Mobile Telecommunications (IMT) – see Resolutions 224 (Rev.WRC-15), 760 (WRC-15) and 749 (Rev.WRC15), where applicable.  This identification does not preclude the use of these frequency bands by any application of the services to which they are allocated and does not establish priority in the Radio Regulations.  (WRC−15)</span></span><br>Radiolocation<br><br></p></fcc></p></td></tr>\n",
       "<tr><td id=\"fcc-td\"; colspan=\"1\"; rowspan=\"1\"><p><fcc><p id=\"fcc\"><b>942.0 MHz &ndash; 960.0 MHz</b> <br>FIXED<br>MOBILE EXCEPT AERONAUTICAL MOBILE <span id=\"fcc\"><span class=\"tooltip\">5.317A<span class=\"tooltiptext\"><b>5.317A:</b>&nbspThe parts of the frequency band 698-960 MHz in Region 2 and the frequency bands 694-790 MHz in Region 1 and 790-960 MHz in Regions 1 and 3 which are allocated to the mobile service on a primary basis are identified for use by administrations wishing to implement International Mobile Telecommunications (IMT) – see Resolutions 224 (Rev.WRC-15), 760 (WRC-15) and 749 (Rev.WRC15), where applicable.  This identification does not preclude the use of these frequency bands by any application of the services to which they are allocated and does not establish priority in the Radio Regulations.  (WRC−15)</span></span><br>BROADCASTING <span id=\"fcc\"><span class=\"tooltip\">5.322<span class=\"tooltiptext\"><b>5.322:</b>&nbspIn Region 1, in the band 862-960 MHz, stations of the broadcasting service shall be operated only in the African Broadcasting Area (see Nos. 5.10 to 5.13) excluding Algeria, Burundi, Egypt, Spain, Lesotho, Libya, Morocco, Malawi, Namibia, Nigeria, South Africa, Tanzania, Zimbabwe and Zambia, subject to agreement obtained under No. 9.21.  (WRC-12)</span></span><br><br><span id=\"fcc\"><span class=\"tooltip\">5.323<span class=\"tooltiptext\"><b>5.323:</b>&nbspAdditional allocation:  in Armenia, Azerbaijan, Belarus, the Russian Federation, Kazakhstan, Uzbekistan, Kyrgyzstan, Tajikistan, Turkmenistan and Ukraine, the band 862-960 MHz, in Bulgaria the bands 862-890.2 MHz and 900-935.2 MHz, in Poland the band 862-876 MHz until 31 December 2017, and in Romania the bands 862-880 MHz and 915-925 MHz, are also allocated to the aeronautical radionavigation service on a primary basis.  Such use is subject to agreement obtained under No. 9.21 with administrations concerned and limited to ground-based radiobeacons in operation on 27 October 1997 until the end of their lifetime.  (WRC-12)</span></span></p></fcc></p></td><td id=\"fcc-td\"; colspan=\"1\"; rowspan=\"1\"><p><fcc><p id=\"fcc\"><b>942.0 MHz &ndash; 960.0 MHz</b> <br>FIXED<br>MOBILE <span id=\"fcc\"><span class=\"tooltip\">5.317A<span class=\"tooltiptext\"><b>5.317A:</b>&nbspThe parts of the frequency band 698-960 MHz in Region 2 and the frequency bands 694-790 MHz in Region 1 and 790-960 MHz in Regions 1 and 3 which are allocated to the mobile service on a primary basis are identified for use by administrations wishing to implement International Mobile Telecommunications (IMT) – see Resolutions 224 (Rev.WRC-15), 760 (WRC-15) and 749 (Rev.WRC15), where applicable.  This identification does not preclude the use of these frequency bands by any application of the services to which they are allocated and does not establish priority in the Radio Regulations.  (WRC−15)</span></span><br><br></p></fcc></p></td><td id=\"fcc-td\"; colspan=\"1\"; rowspan=\"1\"><p><fcc><p id=\"fcc\"><b>942.0 MHz &ndash; 960.0 MHz</b> <br>FIXED<br>MOBILE <span id=\"fcc\"><span class=\"tooltip\">5.317A<span class=\"tooltiptext\"><b>5.317A:</b>&nbspThe parts of the frequency band 698-960 MHz in Region 2 and the frequency bands 694-790 MHz in Region 1 and 790-960 MHz in Regions 1 and 3 which are allocated to the mobile service on a primary basis are identified for use by administrations wishing to implement International Mobile Telecommunications (IMT) – see Resolutions 224 (Rev.WRC-15), 760 (WRC-15) and 749 (Rev.WRC15), where applicable.  This identification does not preclude the use of these frequency bands by any application of the services to which they are allocated and does not establish priority in the Radio Regulations.  (WRC−15)</span></span><br>BROADCASTING<br><br><span id=\"fcc\"><span class=\"tooltip\">5.320<span class=\"tooltiptext\"><b>5.320:</b>&nbspAdditional allocation:  in Region 3, the bands 806-890 MHz and 942-960 MHz are also allocated to the mobile-satellite, except aeronautical mobile-satellite (R), service on a primary basis, subject to agreement obtained under No. 9.21.  The use of this service is limited to operation within national boundaries.  In seeking such agreement, appropriate protection shall be afforded to services operating in accordance with the Table, to ensure that no harmful interference is caused to such services.</span></span></p></fcc></p></td></tr>\n",
       "</table>\n",
       "<p id=\"fcc\"><b>5.150:</b>&nbspThe following bands: 13 553-13 567 kHz (centre frequency 13 560 kHz), 26 957-27 283 kHz (centre frequency 27 120 kHz), 40.66-40.70 MHz (centre frequency 40.68 MHz), 902-928 MHz in Region 2 (centre frequency 915 MHz), 2400-2500 MHz (centre frequency 2450 MHz), 5725-5875 MHz (centre frequency 5800 MHz), and 24-24.25 GHz (centre frequency 24.125 GHz) are also designated for industrial, scientific and medical (ISM) applications.  Radiocommunication services operating within these bands must accept harmful interference which may be caused by these applications.  ISM equipment operating in these bands is subject to the provisions of No. 15.13.</span></p><p id=\"fcc\"><b>5.317A:</b>&nbspThe parts of the frequency band 698-960 MHz in Region 2 and the frequency bands 694-790 MHz in Region 1 and 790-960 MHz in Regions 1 and 3 which are allocated to the mobile service on a primary basis are identified for use by administrations wishing to implement International Mobile Telecommunications (IMT) – see Resolutions 224 (Rev.WRC-15), 760 (WRC-15) and 749 (Rev.WRC15), where applicable.  This identification does not preclude the use of these frequency bands by any application of the services to which they are allocated and does not establish priority in the Radio Regulations.  (WRC−15)</span></p><p id=\"fcc\"><b>5.320:</b>&nbspAdditional allocation:  in Region 3, the bands 806-890 MHz and 942-960 MHz are also allocated to the mobile-satellite, except aeronautical mobile-satellite (R), service on a primary basis, subject to agreement obtained under No. 9.21.  The use of this service is limited to operation within national boundaries.  In seeking such agreement, appropriate protection shall be afforded to services operating in accordance with the Table, to ensure that no harmful interference is caused to such services.</span></p><p id=\"fcc\"><b>5.322:</b>&nbspIn Region 1, in the band 862-960 MHz, stations of the broadcasting service shall be operated only in the African Broadcasting Area (see Nos. 5.10 to 5.13) excluding Algeria, Burundi, Egypt, Spain, Lesotho, Libya, Morocco, Malawi, Namibia, Nigeria, South Africa, Tanzania, Zimbabwe and Zambia, subject to agreement obtained under No. 9.21.  (WRC-12)</span></p><p id=\"fcc\"><b>5.323:</b>&nbspAdditional allocation:  in Armenia, Azerbaijan, Belarus, the Russian Federation, Kazakhstan, Uzbekistan, Kyrgyzstan, Tajikistan, Turkmenistan and Ukraine, the band 862-960 MHz, in Bulgaria the bands 862-890.2 MHz and 900-935.2 MHz, in Poland the band 862-876 MHz until 31 December 2017, and in Romania the bands 862-880 MHz and 915-925 MHz, are also allocated to the aeronautical radionavigation service on a primary basis.  Such use is subject to agreement obtained under No. 9.21 with administrations concerned and limited to ground-based radiobeacons in operation on 27 October 1997 until the end of their lifetime.  (WRC-12)</span></p><p id=\"fcc\"><b>5.325:</b>&nbspDifferent category of service:  in the United States, the allocation of the band 890-942 MHz to the radiolocation service is on a primary basis (see No. 5.33), subject to agreement obtained under No. 9.21.</span></p><p id=\"fcc\"><b>5.325A:</b>&nbspDifferent category of service:  in Argentina, Brazil, Costa Rica, Cuba, Dominican Republic, El Salvador, Ecuador, the French overseas departments and communities in Region 2, Guatemala, Mexico, Paraguay, Uruguay and Venezuela, the frequency band 902-928 MHz is allocated to the land mobile service on a primary basis.  In Colombia, the frequency band 902-905 MHz is allocated to the land mobile service on a primary basis.  (WRC-15)</span></p><p id=\"fcc\"><b>5.326:</b>&nbspDifferent category of service:  in Chile, the band 903-905 MHz is allocated to the mobile, except aeronautical mobile, service on a primary basis, subject to agreement obtained under No. 9.21.</span></p>"
      ],
      "text/plain": [
       "<IPython.core.display.HTML object>"
      ]
     },
     "metadata": {},
     "output_type": "display_data"
    }
   ],
   "source": [
    "text = pyfcctab.htmltable(bands, append_footnotes=True, tooltips=True)"
   ]
  },
  {
   "cell_type": "code",
   "execution_count": 168,
   "metadata": {},
   "outputs": [],
   "source": [
    "# print(text)"
   ]
  },
  {
   "cell_type": "code",
   "execution_count": null,
   "metadata": {},
   "outputs": [],
   "source": []
  }
 ],
 "metadata": {
  "kernelspec": {
   "display_name": "Python 3",
   "language": "python",
   "name": "python3"
  },
  "language_info": {
   "codemirror_mode": {
    "name": "ipython",
    "version": 3
   },
   "file_extension": ".py",
   "mimetype": "text/x-python",
   "name": "python",
   "nbconvert_exporter": "python",
   "pygments_lexer": "ipython3",
   "version": "3.7.6"
  }
 },
 "nbformat": 4,
 "nbformat_minor": 4
}
