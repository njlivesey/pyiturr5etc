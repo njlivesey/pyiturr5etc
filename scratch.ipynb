{
 "cells": [
  {
   "cell_type": "code",
   "execution_count": null,
   "metadata": {},
   "outputs": [],
   "source": [
    "import pyfcctab as fcc\n",
    "import astropy.units as units\n",
    "from IPython.core.display import HTML"
   ]
  },
  {
   "cell_type": "code",
   "execution_count": null,
   "metadata": {},
   "outputs": [],
   "source": [
    "# tables = fcc.read(skip_additionals=False)\n",
    "tables = fcc.load()"
   ]
  },
  {
   "cell_type": "code",
   "execution_count": null,
   "metadata": {},
   "outputs": [],
   "source": [
    "fRange = [ 37.0*units.GHz, 37.6*units.GHz ]\n",
    "allocations = tables.all.get_bands(*fRange, adjacent=True)\n",
    "display(HTML(\"\\n\".join(fcc.htmltable(allocations, tooltips=True))))"
   ]
  },
  {
   "cell_type": "code",
   "execution_count": null,
   "metadata": {},
   "outputs": [],
   "source": [
    "fRange = [3.1*units.GHz, 3.5*units.GHz]\n",
    "f2Range = [2*f for f in fRange]\n",
    "f3Range = [3*f for f in fRange]\n",
    "for range in [fRange]:\n",
    "    bands = tables.all.get_bands(*range, adjacent=False)\n",
    "    print (f\"For the band {range[0]}-{range[1]}\")\n",
    "    display(HTML(\"\\n\".join(fcc.htmltable(bands, append_footnotes=True, tooltips=True))))"
   ]
  },
  {
   "cell_type": "code",
   "execution_count": null,
   "metadata": {},
   "outputs": [],
   "source": [
    "# dummy=fcc.htmltable(tables.all, append_footnotes=True, filename='fcc-tables-full.html')"
   ]
  },
  {
   "cell_type": "code",
   "execution_count": null,
   "metadata": {},
   "outputs": [],
   "source": [
    "fcc.save(tables)"
   ]
  },
  {
   "cell_type": "code",
   "execution_count": null,
   "metadata": {},
   "outputs": [],
   "source": [
    "help(display)"
   ]
  },
  {
   "cell_type": "code",
   "execution_count": null,
   "metadata": {},
   "outputs": [],
   "source": []
  }
 ],
 "metadata": {
  "kernelspec": {
   "display_name": "Python 3",
   "language": "python",
   "name": "python3"
  },
  "language_info": {
   "codemirror_mode": {
    "name": "ipython",
    "version": 3
   },
   "file_extension": ".py",
   "mimetype": "text/x-python",
   "name": "python",
   "nbconvert_exporter": "python",
   "pygments_lexer": "ipython3",
   "version": "3.9.7"
  }
 },
 "nbformat": 4,
 "nbformat_minor": 4
}
