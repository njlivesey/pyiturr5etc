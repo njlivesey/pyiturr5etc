{
 "cells": [
  {
   "cell_type": "code",
   "execution_count": 5,
   "metadata": {},
   "outputs": [],
   "source": [
    "import pyfcctab as fcc\n",
    "import astropy.units as units"
   ]
  },
  {
   "cell_type": "code",
   "execution_count": 2,
   "metadata": {},
   "outputs": [],
   "source": [
    "tables = fcc.load()"
   ]
  },
  {
   "cell_type": "code",
   "execution_count": 4,
   "metadata": {},
   "outputs": [
    {
     "name": "stdout",
     "output_type": "stream",
     "text": [
      "15.4 GHz-15.43 GHz [R1,R2,R3]\n",
      "RADIOLOCATION 5.511E 5.511F\n",
      "AERONAUTICAL RADIONAVIGATION\n",
      "\n",
      "15.43 GHz-15.63 GHz [R1,R2,R3]\n",
      "FIXED-SATELLITE (Earth-to-space) 5.511A\n",
      "RADIOLOCATION 5.511E 5.511F\n",
      "AERONAUTICAL RADIONAVIGATION\n",
      "5.511C\n",
      "15.63 GHz-15.7 GHz [R1,R2,R3]\n",
      "RADIOLOCATION 5.511E 5.511F\n",
      "AERONAUTICAL RADIONAVIGATION\n",
      "\n"
     ]
    }
   ],
   "source": [
    "for b in tables.collections[\"ITU\"]:\n",
    "    if b.has_footnote(\"5.511F\"):\n",
    "        print(b)"
   ]
  },
  {
   "cell_type": "code",
   "execution_count": 10,
   "metadata": {},
   "outputs": [
    {
     "name": "stdout",
     "output_type": "stream",
     "text": [
      "15.35 GHz-15.4 GHz [R1]\n",
      "EARTH EXPLORATION-SATELLITE (passive)\n",
      "RADIO ASTRONOMY\n",
      "SPACE RESEARCH (passive)\n",
      "5.340 5.511\n"
     ]
    }
   ],
   "source": [
    "print (tables.find_bands(\"R1\",15.37*units.GHz)[0])"
   ]
  },
  {
   "cell_type": "code",
   "execution_count": null,
   "metadata": {},
   "outputs": [],
   "source": []
  }
 ],
 "metadata": {
  "kernelspec": {
   "display_name": "Python 3",
   "language": "python",
   "name": "python3"
  },
  "language_info": {
   "codemirror_mode": {
    "name": "ipython",
    "version": 3
   },
   "file_extension": ".py",
   "mimetype": "text/x-python",
   "name": "python",
   "nbconvert_exporter": "python",
   "pygments_lexer": "ipython3",
   "version": "3.7.6"
  }
 },
 "nbformat": 4,
 "nbformat_minor": 4
}
