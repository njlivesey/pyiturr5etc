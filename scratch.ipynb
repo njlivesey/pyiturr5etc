{
 "cells": [
  {
   "cell_type": "code",
   "execution_count": 1,
   "metadata": {},
   "outputs": [],
   "source": [
    "import pyfcctab as fcc\n",
    "import astropy.units as units"
   ]
  },
  {
   "cell_type": "code",
   "execution_count": 2,
   "metadata": {},
   "outputs": [],
   "source": [
    "tables = fcc.load()"
   ]
  },
  {
   "cell_type": "code",
   "execution_count": 3,
   "metadata": {},
   "outputs": [
    {
     "data": {
      "text/html": [
       "<link rel=\"stylesheet\" href=\"fcc.css\"><table id=\"fcc-table\"><tr><td id=\"fcc-td\"><p><fcc><p id=\"fcc\"><b>15.4 GHz &ndash; 15.43 GHz</b> <br>RADIOLOCATION <span id=\"fcc\"><span class=\"tooltip\">5.511E<span class=\"tooltiptext\"><b>5.511E:</b>&nbspIn the frequency band 15.4-15.7 GHz, stations operating in the radiolocation service shall not cause harmful interference to, or claim protection from, stations operating in the aeronautical radionavigation service.  (WRC12)</span></span></fcc> <span id=\"fcc\"><span class=\"tooltip\">5.511F<span class=\"tooltiptext\"><b>5.511F:</b>&nbspIn order to protect the radio astronomy service in the frequency band 15.35-15.4 GHz, radiolocation stations operating in the frequency band 15.415.7 GHz shall not exceed the power flux-density level of −156 dB(W/m2) in a 50 MHz bandwidth in the frequency band 15.35-15.4 GHz, at any radio astronomy observatory site for more than 2 per cent of the time.  (WRC12)</span></span></fcc><br>AERONAUTICAL RADIONAVIGATION<br><br></p></fcc></p></td></tr>\n",
       "<tr><td id=\"fcc-td\"><p><fcc><p id=\"fcc\"><b>15.43 GHz &ndash; 15.63 GHz</b> <br>FIXED-SATELLITE (Earth-to-space) <span id=\"fcc\"><span class=\"tooltip\">5.511A<span class=\"tooltiptext\"><b>5.511A:</b>&nbspUse of the frequency band 15.43-15.63 GHz by the fixed-satellite service (Earthtospace) is limited to feeder links of non-geostationary systems in the mobile-satellite service, subject to coordination under No. 9.11A.  (WRC-15)</span></span></fcc><br>RADIOLOCATION <span id=\"fcc\"><span class=\"tooltip\">5.511E<span class=\"tooltiptext\"><b>5.511E:</b>&nbspIn the frequency band 15.4-15.7 GHz, stations operating in the radiolocation service shall not cause harmful interference to, or claim protection from, stations operating in the aeronautical radionavigation service.  (WRC12)</span></span></fcc> <span id=\"fcc\"><span class=\"tooltip\">5.511F<span class=\"tooltiptext\"><b>5.511F:</b>&nbspIn order to protect the radio astronomy service in the frequency band 15.35-15.4 GHz, radiolocation stations operating in the frequency band 15.415.7 GHz shall not exceed the power flux-density level of −156 dB(W/m2) in a 50 MHz bandwidth in the frequency band 15.35-15.4 GHz, at any radio astronomy observatory site for more than 2 per cent of the time.  (WRC12)</span></span></fcc><br>AERONAUTICAL RADIONAVIGATION<br><br><span id=\"fcc\"><span class=\"tooltip\">5.511C<span class=\"tooltiptext\"><b>5.511C:</b>&nbspStations operating in the aeronautical radionavigation service shall limit the effective e.i.r.p. in accordance with Recommendation ITU-R S.1340-0.  The minimum coordination distance required to protect the aeronautical radionavigation stations (No. 4.10 applies) from harmful interference from feeder-link earth stations and the maximum e.i.r.p. transmitted towards the local horizontal plane by a feeder-link earth station shall be in accordance with Recommendation ITU-R S.1340-0.  (WRC-15)</span></span></fcc></p></fcc></p></td></tr>\n",
       "<tr><td id=\"fcc-td\"><p><fcc><p id=\"fcc\"><b>15.63 GHz &ndash; 15.7 GHz</b> <br>RADIOLOCATION <span id=\"fcc\"><span class=\"tooltip\">5.511E<span class=\"tooltiptext\"><b>5.511E:</b>&nbspIn the frequency band 15.4-15.7 GHz, stations operating in the radiolocation service shall not cause harmful interference to, or claim protection from, stations operating in the aeronautical radionavigation service.  (WRC12)</span></span></fcc> <span id=\"fcc\"><span class=\"tooltip\">5.511F<span class=\"tooltiptext\"><b>5.511F:</b>&nbspIn order to protect the radio astronomy service in the frequency band 15.35-15.4 GHz, radiolocation stations operating in the frequency band 15.415.7 GHz shall not exceed the power flux-density level of −156 dB(W/m2) in a 50 MHz bandwidth in the frequency band 15.35-15.4 GHz, at any radio astronomy observatory site for more than 2 per cent of the time.  (WRC12)</span></span></fcc><br>AERONAUTICAL RADIONAVIGATION<br><br></p></fcc></p></td></tr>\n",
       "</table><p id=\"fcc\"><b>5.511A:</b>&nbspUse of the frequency band 15.43-15.63 GHz by the fixed-satellite service (Earthtospace) is limited to feeder links of non-geostationary systems in the mobile-satellite service, subject to coordination under No. 9.11A.  (WRC-15)</span></fcc></p><p id=\"fcc\"><b>5.511C:</b>&nbspStations operating in the aeronautical radionavigation service shall limit the effective e.i.r.p. in accordance with Recommendation ITU-R S.1340-0.  The minimum coordination distance required to protect the aeronautical radionavigation stations (No. 4.10 applies) from harmful interference from feeder-link earth stations and the maximum e.i.r.p. transmitted towards the local horizontal plane by a feeder-link earth station shall be in accordance with Recommendation ITU-R S.1340-0.  (WRC-15)</span></fcc></p><p id=\"fcc\"><b>5.511E:</b>&nbspIn the frequency band 15.4-15.7 GHz, stations operating in the radiolocation service shall not cause harmful interference to, or claim protection from, stations operating in the aeronautical radionavigation service.  (WRC12)</span></fcc></p><p id=\"fcc\"><b>5.511F:</b>&nbspIn order to protect the radio astronomy service in the frequency band 15.35-15.4 GHz, radiolocation stations operating in the frequency band 15.415.7 GHz shall not exceed the power flux-density level of −156 dB(W/m2) in a 50 MHz bandwidth in the frequency band 15.35-15.4 GHz, at any radio astronomy observatory site for more than 2 per cent of the time.  (WRC12)</span></fcc></p>"
      ],
      "text/plain": [
       "<IPython.core.display.HTML object>"
      ]
     },
     "metadata": {},
     "output_type": "display_data"
    }
   ],
   "source": [
    "bands = []\n",
    "for b in tables.itu:\n",
    "    if b.has_footnote(\"5.511F\"):\n",
    "        bands.append(b)\n",
    "fcc.htmltable(bands, append_footnotes=True)"
   ]
  },
  {
   "cell_type": "code",
   "execution_count": null,
   "metadata": {},
   "outputs": [],
   "source": []
  }
 ],
 "metadata": {
  "kernelspec": {
   "display_name": "Python 3",
   "language": "python",
   "name": "python3"
  },
  "language_info": {
   "codemirror_mode": {
    "name": "ipython",
    "version": 3
   },
   "file_extension": ".py",
   "mimetype": "text/x-python",
   "name": "python",
   "nbconvert_exporter": "python",
   "pygments_lexer": "ipython3",
   "version": "3.7.6"
  }
 },
 "nbformat": 4,
 "nbformat_minor": 4
}
