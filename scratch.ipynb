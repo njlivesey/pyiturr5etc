{
 "cells": [
  {
   "cell_type": "code",
   "execution_count": 1,
   "metadata": {},
   "outputs": [],
   "source": [
    "import pyfcctab as fcc\n",
    "import astropy.units as units"
   ]
  },
  {
   "cell_type": "code",
   "execution_count": 2,
   "metadata": {},
   "outputs": [],
   "source": [
    "tables = fcc.load()"
   ]
  },
  {
   "cell_type": "code",
   "execution_count": 3,
   "metadata": {},
   "outputs": [
    {
     "name": "stdout",
     "output_type": "stream",
     "text": [
      "15.4 GHz-15.43 GHz [R1,R2,R3]\n",
      "RADIOLOCATION 5.511E 5.511F\n",
      "AERONAUTICAL RADIONAVIGATION\n",
      "\n",
      "15.43 GHz-15.63 GHz [R1,R2,R3]\n",
      "FIXED-SATELLITE (Earth-to-space) 5.511A\n",
      "RADIOLOCATION 5.511E 5.511F\n",
      "AERONAUTICAL RADIONAVIGATION\n",
      "5.511C\n",
      "15.63 GHz-15.7 GHz [R1,R2,R3]\n",
      "RADIOLOCATION 5.511E 5.511F\n",
      "AERONAUTICAL RADIONAVIGATION\n",
      "\n"
     ]
    }
   ],
   "source": [
    "for b in tables.collections[\"ITU\"]:\n",
    "    if b.has_footnote(\"5.511F\"):\n",
    "        print(b)"
   ]
  },
  {
   "cell_type": "code",
   "execution_count": 27,
   "metadata": {},
   "outputs": [
    {
     "name": "stdout",
     "output_type": "stream",
     "text": [
      "-----\n",
      "35.5 GHz-36.0 GHz [R1,R2,R3]\n",
      "METEOROLOGICAL AIDS\n",
      "\u001b[31mEARTH EXPLORATION-SATELLITE (active)\u001b[0m\n",
      "RADIOLOCATION\n",
      "SPACE RESEARCH (active)\n",
      "5.549 5.549A\n",
      "-----\n",
      "36.0 GHz-37.0 GHz [R1,R2,R3]\n",
      "\u001b[31mEARTH EXPLORATION-SATELLITE (passive)\u001b[0m\n",
      "FIXED\n",
      "MOBILE\n",
      "SPACE RESEARCH (passive)\n",
      "5.149 5.550A\n",
      "-----\n",
      "36.43 GHz-36.5 GHz [R1,R2,R3]\n",
      "\u001b[32mRadio astronomy 5.149#\u001b[0m\n",
      "\n",
      "-----\n",
      "37.0 GHz-37.5 GHz [R1,R2,R3]\n",
      "FIXED\n",
      "MOBILE EXCEPT AERONAUTICAL MOBILE\n",
      "SPACE RESEARCH (space-to-Earth)\n",
      "5.547\n"
     ]
    }
   ],
   "source": [
    "bands = tables.itu.get_bands(36*units.GHz, 37*units.GHz, adjacent=True)\n",
    "for b in bands:\n",
    "    print (\"-----\")\n",
    "    print (b.to_str(highlight_allocations=True))"
   ]
  },
  {
   "cell_type": "code",
   "execution_count": null,
   "metadata": {},
   "outputs": [],
   "source": []
  }
 ],
 "metadata": {
  "kernelspec": {
   "display_name": "Python 3",
   "language": "python",
   "name": "python3"
  },
  "language_info": {
   "codemirror_mode": {
    "name": "ipython",
    "version": 3
   },
   "file_extension": ".py",
   "mimetype": "text/x-python",
   "name": "python",
   "nbconvert_exporter": "python",
   "pygments_lexer": "ipython3",
   "version": "3.7.6"
  }
 },
 "nbformat": 4,
 "nbformat_minor": 4
}
