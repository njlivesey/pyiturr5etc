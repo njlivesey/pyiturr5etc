{
 "cells": [
  {
   "cell_type": "code",
   "execution_count": 1,
   "metadata": {},
   "outputs": [],
   "source": [
    "import docx\n",
    "import astropy.units as units\n",
    "import re\n",
    "%load_ext autoreload"
   ]
  },
  {
   "cell_type": "code",
   "execution_count": 2,
   "metadata": {},
   "outputs": [],
   "source": [
    "%autoreload 2\n",
    "import pyfcctab"
   ]
  },
  {
   "cell_type": "code",
   "execution_count": 3,
   "metadata": {},
   "outputs": [],
   "source": [
    "file = docx.Document('/users/livesey/corf/fcctable.docx')"
   ]
  },
  {
   "cell_type": "code",
   "execution_count": 19,
   "metadata": {},
   "outputs": [
    {
     "name": "stdout",
     "output_type": "stream",
     "text": [
      "Help on Table in module docx.table object:\n",
      "\n",
      "class Table(docx.shared.Parented)\n",
      " |  Table(tbl, parent)\n",
      " |  \n",
      " |  Proxy class for a WordprocessingML ``<w:tbl>`` element.\n",
      " |  \n",
      " |  Method resolution order:\n",
      " |      Table\n",
      " |      docx.shared.Parented\n",
      " |      builtins.object\n",
      " |  \n",
      " |  Methods defined here:\n",
      " |  \n",
      " |  __init__(self, tbl, parent)\n",
      " |      Initialize self.  See help(type(self)) for accurate signature.\n",
      " |  \n",
      " |  add_column(self, width)\n",
      " |      Return a |_Column| object of *width*, newly added rightmost to the\n",
      " |      table.\n",
      " |  \n",
      " |  add_row(self)\n",
      " |      Return a |_Row| instance, newly added bottom-most to the table.\n",
      " |  \n",
      " |  cell(self, row_idx, col_idx)\n",
      " |      Return |_Cell| instance correponding to table cell at *row_idx*,\n",
      " |      *col_idx* intersection, where (0, 0) is the top, left-most cell.\n",
      " |  \n",
      " |  column_cells(self, column_idx)\n",
      " |      Sequence of cells in the column at *column_idx* in this table.\n",
      " |  \n",
      " |  row_cells(self, row_idx)\n",
      " |      Sequence of cells in the row at *row_idx* in this table.\n",
      " |  \n",
      " |  ----------------------------------------------------------------------\n",
      " |  Data descriptors defined here:\n",
      " |  \n",
      " |  alignment\n",
      " |      Read/write. A member of :ref:`WdRowAlignment` or None, specifying the\n",
      " |      positioning of this table between the page margins. |None| if no\n",
      " |      setting is specified, causing the effective value to be inherited\n",
      " |      from the style hierarchy.\n",
      " |  \n",
      " |  autofit\n",
      " |      |True| if column widths can be automatically adjusted to improve the\n",
      " |      fit of cell contents. |False| if table layout is fixed. Column widths\n",
      " |      are adjusted in either case if total column width exceeds page width.\n",
      " |      Read/write boolean.\n",
      " |  \n",
      " |  columns\n",
      " |      |_Columns| instance representing the sequence of columns in this\n",
      " |      table.\n",
      " |  \n",
      " |  rows\n",
      " |      |_Rows| instance containing the sequence of rows in this table.\n",
      " |  \n",
      " |  style\n",
      " |      Read/write. A |_TableStyle| object representing the style applied to\n",
      " |      this table. The default table style for the document (often `Normal\n",
      " |      Table`) is returned if the table has no directly-applied style.\n",
      " |      Assigning |None| to this property removes any directly-applied table\n",
      " |      style causing it to inherit the default table style of the document.\n",
      " |      Note that the style name of a table style differs slightly from that\n",
      " |      displayed in the user interface; a hyphen, if it appears, must be\n",
      " |      removed. For example, `Light Shading - Accent 1` becomes `Light\n",
      " |      Shading Accent 1`.\n",
      " |  \n",
      " |  table\n",
      " |      Provide child objects with reference to the |Table| object they\n",
      " |      belong to, without them having to know their direct parent is\n",
      " |      a |Table| object. This is the terminus of a series of `parent._table`\n",
      " |      calls from an arbitrary child through its ancestors.\n",
      " |  \n",
      " |  table_direction\n",
      " |      A member of :ref:`WdTableDirection` indicating the direction in which\n",
      " |      the table cells are ordered, e.g. `WD_TABLE_DIRECTION.LTR`. |None|\n",
      " |      indicates the value is inherited from the style hierarchy.\n",
      " |  \n",
      " |  ----------------------------------------------------------------------\n",
      " |  Data descriptors inherited from docx.shared.Parented:\n",
      " |  \n",
      " |  __dict__\n",
      " |      dictionary for instance variables (if defined)\n",
      " |  \n",
      " |  __weakref__\n",
      " |      list of weak references to the object (if defined)\n",
      " |  \n",
      " |  part\n",
      " |      The package part containing this object\n",
      "\n"
     ]
    }
   ],
   "source": [
    "tables = file.tables\n",
    "t = tables[51]\n",
    "help(t)\n",
    "cell = t._cells[36]\n",
    "# for p in cell.paragraphs:\n",
    "#     print (p.text)\n",
    "bandA = pyfcctab.Band.parse(t._cells[36], units.GHz)\n",
    "bandB = pyfcctab.Band.parse(t._cells[37], units.GHz)"
   ]
  },
  {
   "cell_type": "code",
   "execution_count": 18,
   "metadata": {},
   "outputs": [
    {
     "name": "stdout",
     "output_type": "stream",
     "text": [
      "============================================================ Table 0\n",
      "Guessing this is a 15 row table with 9 columns\n",
      "First cell 36: ['8.3-9', 'METEOROLOGICAL AIDS  5.54A  5.54B  5.54C']\n",
      "Preceding cell 35: ['']\n",
      "============================================================ Table 1\n",
      "Guessing this is a 11 row table with 8 columns\n",
      "First cell 0: ['86-90', 'FIXED', 'MARITIME MOBILE  5.57', '\\nRADIONAVIGATION', '', '5.56']\n",
      "============================================================ Table 2\n",
      "Guessing this is a 19 row table with 6 columns\n",
      "First cell 18: ['137.8-148.5', 'FIXED', 'MARITIME MOBILE', '', '5.64  5.67']\n",
      "Preceding cell 17: ['FCC Rule Part(s)']\n",
      "============================================================ Table 3\n",
      "Guessing this is a 18 row table with 6 columns\n",
      "First cell 0: ['435-472', 'MARITIME MOBILE  5.79', 'Aeronautical radionavigation  5.77', '', '5.82']\n"
     ]
    },
    {
     "ename": "ValueError",
     "evalue": "Unable to work out number of column in table 4 with 109 cells",
     "output_type": "error",
     "traceback": [
      "\u001b[0;31m---------------------------------------------------------------------------\u001b[0m",
      "\u001b[0;31mValueError\u001b[0m                                Traceback (most recent call last)",
      "\u001b[0;32m<ipython-input-18-293b1fe1ab87>\u001b[0m in \u001b[0;36m<module>\u001b[0;34m\u001b[0m\n\u001b[0;32m----> 1\u001b[0;31m \u001b[0;32mfor\u001b[0m \u001b[0mcells\u001b[0m\u001b[0;34m,\u001b[0m \u001b[0munit\u001b[0m \u001b[0;32min\u001b[0m \u001b[0mpyfcctab\u001b[0m\u001b[0;34m.\u001b[0m\u001b[0mnextRow\u001b[0m\u001b[0;34m(\u001b[0m\u001b[0mfile\u001b[0m\u001b[0;34m)\u001b[0m\u001b[0;34m:\u001b[0m\u001b[0;34m\u001b[0m\u001b[0;34m\u001b[0m\u001b[0m\n\u001b[0m\u001b[1;32m      2\u001b[0m     \u001b[0;32mpass\u001b[0m\u001b[0;34m\u001b[0m\u001b[0;34m\u001b[0m\u001b[0m\n",
      "\u001b[0;32m~/python/pyfcctab/pyfcctab.py\u001b[0m in \u001b[0;36mnextRow\u001b[0;34m(fcc_file, n_tables, group_len)\u001b[0m\n\u001b[1;32m    239\u001b[0m                 \u001b[0;32mbreak\u001b[0m\u001b[0;34m\u001b[0m\u001b[0;34m\u001b[0m\u001b[0m\n\u001b[1;32m    240\u001b[0m         \u001b[0;32mif\u001b[0m \u001b[0mn_cells\u001b[0m \u001b[0;34m%\u001b[0m \u001b[0mn_columns\u001b[0m \u001b[0;34m!=\u001b[0m \u001b[0;36m0\u001b[0m\u001b[0;34m:\u001b[0m\u001b[0;34m\u001b[0m\u001b[0;34m\u001b[0m\u001b[0m\n\u001b[0;32m--> 241\u001b[0;31m             \u001b[0;32mraise\u001b[0m \u001b[0mValueError\u001b[0m\u001b[0;34m(\u001b[0m\u001b[0;34mf\"Unable to work out number of column in table {table_index} with {n_cells} cells\"\u001b[0m\u001b[0;34m)\u001b[0m\u001b[0;34m\u001b[0m\u001b[0;34m\u001b[0m\u001b[0m\n\u001b[0m\u001b[1;32m    242\u001b[0m \u001b[0;34m\u001b[0m\u001b[0m\n\u001b[1;32m    243\u001b[0m         \u001b[0mn_rows\u001b[0m \u001b[0;34m=\u001b[0m \u001b[0mn_cells\u001b[0m \u001b[0;34m//\u001b[0m \u001b[0mn_columns\u001b[0m\u001b[0;34m\u001b[0m\u001b[0;34m\u001b[0m\u001b[0m\n",
      "\u001b[0;31mValueError\u001b[0m: Unable to work out number of column in table 4 with 109 cells"
     ]
    }
   ],
   "source": [
    "for cells, unit in pyfcctab.nextRow(file):\n",
    "    pass"
   ]
  },
  {
   "cell_type": "code",
   "execution_count": 8,
   "metadata": {},
   "outputs": [
    {
     "name": "stdout",
     "output_type": "stream",
     "text": [
      "[6, 7, 8, 9]\n"
     ]
    }
   ],
   "source": [
    "print ([i for i in range(6,10)])"
   ]
  },
  {
   "cell_type": "code",
   "execution_count": null,
   "metadata": {},
   "outputs": [],
   "source": []
  }
 ],
 "metadata": {
  "kernelspec": {
   "display_name": "Python 3",
   "language": "python",
   "name": "python3"
  },
  "language_info": {
   "codemirror_mode": {
    "name": "ipython",
    "version": 3
   },
   "file_extension": ".py",
   "mimetype": "text/x-python",
   "name": "python",
   "nbconvert_exporter": "python",
   "pygments_lexer": "ipython3",
   "version": "3.7.6"
  }
 },
 "nbformat": 4,
 "nbformat_minor": 4
}
