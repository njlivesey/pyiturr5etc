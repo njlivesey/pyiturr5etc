{
 "cells": [
  {
   "cell_type": "code",
   "execution_count": 1,
   "metadata": {},
   "outputs": [],
   "source": [
    "import docx\n",
    "import astropy.units as units\n",
    "import re\n",
    "%load_ext autoreload"
   ]
  },
  {
   "cell_type": "code",
   "execution_count": 2,
   "metadata": {},
   "outputs": [],
   "source": [
    "%autoreload 2\n",
    "import pyfcctab"
   ]
  },
  {
   "cell_type": "code",
   "execution_count": 3,
   "metadata": {},
   "outputs": [],
   "source": [
    "fccfile = docx.Document('/users/livesey/corf/fcctable.docx')"
   ]
  },
  {
   "cell_type": "code",
   "execution_count": 4,
   "metadata": {},
   "outputs": [],
   "source": [
    "# footnotes = pyfcctab.harvest_footnotes(fccfile)"
   ]
  },
  {
   "cell_type": "code",
   "execution_count": 5,
   "metadata": {},
   "outputs": [],
   "source": [
    "# footnotes.sort()\n",
    "# for f in footnotes:\n",
    "#     print(f)"
   ]
  },
  {
   "cell_type": "code",
   "execution_count": 6,
   "metadata": {},
   "outputs": [],
   "source": [
    "# e = tables[4].rows[0].cells[0]._element\n",
    "# help(e)"
   ]
  },
  {
   "cell_type": "code",
   "execution_count": 7,
   "metadata": {},
   "outputs": [],
   "source": [
    "tables = fccfile.tables\n",
    "itu_collections, fcc_collections, unit, diagnostics = pyfcctab.parse_table(tables[0], units.kHz)\n",
    "# c = itu_collections[0]\n",
    "# for cc in c:\n",
    "#     print ('--------------------')\n",
    "#     print (cc)"
   ]
  },
  {
   "cell_type": "code",
   "execution_count": 8,
   "metadata": {},
   "outputs": [],
   "source": [
    "# cell = tables[0].rows[3].cells[4]\n",
    "# print (cell._tc.xml)"
   ]
  },
  {
   "cell_type": "code",
   "execution_count": 61,
   "metadata": {},
   "outputs": [],
   "source": [
    "itu, fcc = pyfcctab.parse_file(fccfile, dump_raw=False, dump_ordered=False)"
   ]
  },
  {
   "cell_type": "code",
   "execution_count": 66,
   "metadata": {},
   "outputs": [
    {
     "name": "stdout",
     "output_type": "stream",
     "text": [
      "440.0 MHz-450.0 MHz\n",
      "FIXED\n",
      "MOBILE EXCEPT AERONAUTICAL MOBILE\n",
      "Radiolocation\n",
      "\n",
      "5.269 5.270 5.271 5.284 5.285 5.286\n"
     ]
    }
   ],
   "source": [
    "print (itu[2][254])"
   ]
  },
  {
   "cell_type": "code",
   "execution_count": null,
   "metadata": {},
   "outputs": [],
   "source": []
  }
 ],
 "metadata": {
  "kernelspec": {
   "display_name": "Python 3",
   "language": "python",
   "name": "python3"
  },
  "language_info": {
   "codemirror_mode": {
    "name": "ipython",
    "version": 3
   },
   "file_extension": ".py",
   "mimetype": "text/x-python",
   "name": "python",
   "nbconvert_exporter": "python",
   "pygments_lexer": "ipython3",
   "version": "3.7.6"
  }
 },
 "nbformat": 4,
 "nbformat_minor": 4
}
