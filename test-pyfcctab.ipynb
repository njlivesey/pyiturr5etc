{
 "cells": [
  {
   "cell_type": "code",
   "execution_count": 1,
   "metadata": {},
   "outputs": [],
   "source": [
    "import docx\n",
    "import astropy.units as units\n",
    "import re\n",
    "%load_ext autoreload"
   ]
  },
  {
   "cell_type": "code",
   "execution_count": 2,
   "metadata": {},
   "outputs": [],
   "source": [
    "%autoreload 2\n",
    "import pyfcctab"
   ]
  },
  {
   "cell_type": "code",
   "execution_count": 3,
   "metadata": {},
   "outputs": [],
   "source": [
    "fccfile = docx.Document('/users/livesey/corf/fcctable.docx')"
   ]
  },
  {
   "cell_type": "code",
   "execution_count": 4,
   "metadata": {},
   "outputs": [],
   "source": [
    "# footnotes = pyfcctab.harvest_footnotes(fccfile)"
   ]
  },
  {
   "cell_type": "code",
   "execution_count": 5,
   "metadata": {},
   "outputs": [],
   "source": [
    "# footnotes.sort()\n",
    "# for f in footnotes:\n",
    "#     print(f)"
   ]
  },
  {
   "cell_type": "code",
   "execution_count": 6,
   "metadata": {},
   "outputs": [],
   "source": [
    "# e = tables[4].rows[0].cells[0]._element\n",
    "# help(e)"
   ]
  },
  {
   "cell_type": "code",
   "execution_count": 7,
   "metadata": {},
   "outputs": [
    {
     "ename": "ValueError",
     "evalue": "too many values to unpack (expected 2)",
     "output_type": "error",
     "traceback": [
      "\u001b[0;31m---------------------------------------------------------------------------\u001b[0m",
      "\u001b[0;31mValueError\u001b[0m                                Traceback (most recent call last)",
      "\u001b[0;32m<ipython-input-7-b0d5e052b7ca>\u001b[0m in \u001b[0;36m<module>\u001b[0;34m\u001b[0m\n\u001b[1;32m      1\u001b[0m \u001b[0mtables\u001b[0m \u001b[0;34m=\u001b[0m \u001b[0mfccfile\u001b[0m\u001b[0;34m.\u001b[0m\u001b[0mtables\u001b[0m\u001b[0;34m\u001b[0m\u001b[0;34m\u001b[0m\u001b[0m\n\u001b[0;32m----> 2\u001b[0;31m \u001b[0mitu_collections\u001b[0m\u001b[0;34m,\u001b[0m \u001b[0mfcc_collections\u001b[0m\u001b[0;34m,\u001b[0m \u001b[0munit\u001b[0m\u001b[0;34m,\u001b[0m \u001b[0;34m(\u001b[0m\u001b[0mpage\u001b[0m\u001b[0;34m,\u001b[0m \u001b[0mcode\u001b[0m\u001b[0;34m)\u001b[0m \u001b[0;34m=\u001b[0m \u001b[0mpyfcctab\u001b[0m\u001b[0;34m.\u001b[0m\u001b[0mparse_table\u001b[0m\u001b[0;34m(\u001b[0m\u001b[0mtables\u001b[0m\u001b[0;34m[\u001b[0m\u001b[0;36m0\u001b[0m\u001b[0;34m]\u001b[0m\u001b[0;34m,\u001b[0m \u001b[0munits\u001b[0m\u001b[0;34m.\u001b[0m\u001b[0mkHz\u001b[0m\u001b[0;34m)\u001b[0m\u001b[0;34m\u001b[0m\u001b[0;34m\u001b[0m\u001b[0m\n\u001b[0m\u001b[1;32m      3\u001b[0m \u001b[0mprint\u001b[0m \u001b[0;34m(\u001b[0m\u001b[0mpage\u001b[0m\u001b[0;34m,\u001b[0m \u001b[0mcode\u001b[0m\u001b[0;34m)\u001b[0m\u001b[0;34m\u001b[0m\u001b[0;34m\u001b[0m\u001b[0m\n\u001b[1;32m      4\u001b[0m \u001b[0;31m# c = itu_collections[0]\u001b[0m\u001b[0;34m\u001b[0m\u001b[0;34m\u001b[0m\u001b[0;34m\u001b[0m\u001b[0m\n\u001b[1;32m      5\u001b[0m \u001b[0;31m# for cc in c:\u001b[0m\u001b[0;34m\u001b[0m\u001b[0;34m\u001b[0m\u001b[0;34m\u001b[0m\u001b[0m\n",
      "\u001b[0;31mValueError\u001b[0m: too many values to unpack (expected 2)"
     ]
    }
   ],
   "source": [
    "tables = fccfile.tables\n",
    "itu_collections, fcc_collections, unit, diagnostics = pyfcctab.parse_table(tables[0], units.kHz)\n",
    "print (page, code)\n",
    "# c = itu_collections[0]\n",
    "# for cc in c:\n",
    "#     print ('--------------------')\n",
    "#     print (cc)"
   ]
  },
  {
   "cell_type": "code",
   "execution_count": 31,
   "metadata": {},
   "outputs": [
    {
     "ename": "NotImplementedError",
     "evalue": "OK, got here",
     "output_type": "error",
     "traceback": [
      "\u001b[0;31m---------------------------------------------------------------------------\u001b[0m",
      "\u001b[0;31mNotImplementedError\u001b[0m                       Traceback (most recent call last)",
      "\u001b[0;32m<ipython-input-31-cb7917a63489>\u001b[0m in \u001b[0;36m<module>\u001b[0;34m\u001b[0m\n\u001b[0;32m----> 1\u001b[0;31m \u001b[0mitu\u001b[0m\u001b[0;34m,\u001b[0m \u001b[0mfcc\u001b[0m \u001b[0;34m=\u001b[0m \u001b[0mpyfcctab\u001b[0m\u001b[0;34m.\u001b[0m\u001b[0mparse_file\u001b[0m\u001b[0;34m(\u001b[0m\u001b[0mfccfile\u001b[0m\u001b[0;34m,\u001b[0m \u001b[0;34m[\u001b[0m\u001b[0;36m0\u001b[0m\u001b[0;34m,\u001b[0m\u001b[0;36m4\u001b[0m\u001b[0;34m]\u001b[0m\u001b[0;34m,\u001b[0m \u001b[0mdump_raw\u001b[0m\u001b[0;34m=\u001b[0m\u001b[0;32mFalse\u001b[0m\u001b[0;34m,\u001b[0m \u001b[0mdump_ordered\u001b[0m\u001b[0;34m=\u001b[0m\u001b[0;32mFalse\u001b[0m\u001b[0;34m)\u001b[0m\u001b[0;34m\u001b[0m\u001b[0;34m\u001b[0m\u001b[0m\n\u001b[0m",
      "\u001b[0;32m~/python/pyfcctab/pyfcctab.py\u001b[0m in \u001b[0;36mparse_file\u001b[0;34m(fccfile, table_range, **kwargs)\u001b[0m\n\u001b[1;32m    614\u001b[0m         \u001b[0mtable\u001b[0m \u001b[0;34m=\u001b[0m \u001b[0mtables\u001b[0m\u001b[0;34m[\u001b[0m\u001b[0mit\u001b[0m\u001b[0;34m]\u001b[0m\u001b[0;34m\u001b[0m\u001b[0;34m\u001b[0m\u001b[0m\n\u001b[1;32m    615\u001b[0m         these_itu_entries, these_fcc_entries, unit, diagnostics = parse_table(\n\u001b[0;32m--> 616\u001b[0;31m             table, unit, **kwargs)\n\u001b[0m\u001b[1;32m    617\u001b[0m         \u001b[0;31m# If this table has got a header, then dispatch the previously\u001b[0m\u001b[0;34m\u001b[0m\u001b[0;34m\u001b[0m\u001b[0;34m\u001b[0m\u001b[0m\n\u001b[1;32m    618\u001b[0m         \u001b[0;31m# collected table entries.\u001b[0m\u001b[0;34m\u001b[0m\u001b[0;34m\u001b[0m\u001b[0;34m\u001b[0m\u001b[0m\n",
      "\u001b[0;32m~/python/pyfcctab/pyfcctab.py\u001b[0m in \u001b[0;36mparse_table\u001b[0;34m(table, unit, dump_raw, dump_ordered)\u001b[0m\n\u001b[1;32m    533\u001b[0m                     \u001b[0mentries\u001b[0m\u001b[0;34m.\u001b[0m\u001b[0mappend\u001b[0m\u001b[0;34m(\u001b[0m\u001b[0mboxes\u001b[0m\u001b[0;34m[\u001b[0m\u001b[0;36m0\u001b[0m\u001b[0;34m]\u001b[0m\u001b[0;34m)\u001b[0m\u001b[0;34m\u001b[0m\u001b[0;34m\u001b[0m\u001b[0m\n\u001b[1;32m    534\u001b[0m             \u001b[0;32melif\u001b[0m \u001b[0mn_unique\u001b[0m \u001b[0;34m==\u001b[0m \u001b[0;36m2\u001b[0m\u001b[0;34m:\u001b[0m\u001b[0;34m\u001b[0m\u001b[0;34m\u001b[0m\u001b[0m\n\u001b[0;32m--> 535\u001b[0;31m                 \u001b[0;32mraise\u001b[0m \u001b[0mNotImplementedError\u001b[0m\u001b[0;34m(\u001b[0m\u001b[0;34m\"OK, got here\"\u001b[0m\u001b[0;34m)\u001b[0m\u001b[0;34m\u001b[0m\u001b[0;34m\u001b[0m\u001b[0m\n\u001b[0m\u001b[1;32m    536\u001b[0m             \u001b[0;32melif\u001b[0m \u001b[0mn_unique\u001b[0m \u001b[0;34m==\u001b[0m \u001b[0;36m3\u001b[0m\u001b[0;34m:\u001b[0m\u001b[0;34m\u001b[0m\u001b[0;34m\u001b[0m\u001b[0m\n\u001b[1;32m    537\u001b[0m                 \u001b[0;31m# Similarly straightforward\u001b[0m\u001b[0;34m\u001b[0m\u001b[0;34m\u001b[0m\u001b[0;34m\u001b[0m\u001b[0m\n",
      "\u001b[0;31mNotImplementedError\u001b[0m: OK, got here"
     ]
    }
   ],
   "source": [
    "itu, fcc = pyfcctab.parse_file(fccfile, [0,4], dump_raw=False, dump_ordered=False)"
   ]
  },
  {
   "cell_type": "code",
   "execution_count": 30,
   "metadata": {},
   "outputs": [
    {
     "name": "stdout",
     "output_type": "stream",
     "text": [
      "--------------------\n",
      "0.0 kHz-8.3 kHz\n",
      "\n",
      "5.53 5.54\n",
      "--------------------\n",
      "8.3 kHz-9.0 kHz\n",
      "METEOROLOGICAL AIDS 5.54A 5.54B 5.54C\n",
      "\n",
      "\n",
      "--------------------\n",
      "9.0 kHz-11.3 kHz\n",
      "METEOROLOGICAL AIDS 5.54A\n",
      "RADIONAVIGATION \n",
      "\n",
      "\n",
      "--------------------\n",
      "11.3 kHz-14.0 kHz\n",
      "RADIONAVIGATION \n",
      "\n",
      "\n",
      "--------------------\n",
      "14.0 kHz-19.95 kHz\n",
      "FIXED \n",
      "MARITIME MOBILE 5.57\n",
      "\n",
      "5.55 5.56\n",
      "--------------------\n",
      "19.95 kHz-20.05 kHz\n",
      "STANDARD FREQUENCY AND TIME SIGNAL (20 kHz) \n",
      "\n",
      "\n",
      "--------------------\n",
      "20.05 kHz-70.0 kHz\n",
      "FIXED \n",
      "MARITIME MOBILE 5.57\n",
      "\n",
      "5.56 5.58\n",
      "--------------------\n",
      "70.0 kHz-90.0 kHz\n",
      "FIXED \n",
      "MARITIME MOBILE 5.57\n",
      "MARITIME RADIONAVIGATION 5.60\n",
      "Radiolocation \n",
      "\n",
      "5.61\n",
      "--------------------\n",
      "90.0 kHz-110.0 kHz\n",
      "RADIONAVIGATION 5.62\n",
      "Fixed \n",
      "\n",
      "5.64\n",
      "--------------------\n",
      "110.0 kHz-130.0 kHz\n",
      "FIXED \n",
      "MARITIME MOBILE \n",
      "MARITIME RADIONAVIGATION 5.60\n",
      "Radiolocation \n",
      "\n",
      "5.61 5.64\n",
      "--------------------\n",
      "130.0 kHz-135.7 kHz\n",
      "FIXED \n",
      "MARITIME MOBILE \n",
      "\n",
      "5.64\n",
      "--------------------\n",
      "135.7 kHz-137.8 kHz\n",
      "FIXED \n",
      "MARITIME MOBILE \n",
      "Amateur 5.67A\n",
      "\n",
      "5.64\n"
     ]
    }
   ],
   "source": [
    "for i in itu[1]:\n",
    "    print(\"--------------------\")\n",
    "    print (i)"
   ]
  },
  {
   "cell_type": "code",
   "execution_count": null,
   "metadata": {},
   "outputs": [],
   "source": []
  }
 ],
 "metadata": {
  "kernelspec": {
   "display_name": "Python 3",
   "language": "python",
   "name": "python3"
  },
  "language_info": {
   "codemirror_mode": {
    "name": "ipython",
    "version": 3
   },
   "file_extension": ".py",
   "mimetype": "text/x-python",
   "name": "python",
   "nbconvert_exporter": "python",
   "pygments_lexer": "ipython3",
   "version": "3.7.6"
  }
 },
 "nbformat": 4,
 "nbformat_minor": 4
}
