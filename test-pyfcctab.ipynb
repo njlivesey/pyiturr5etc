{
 "cells": [
  {
   "cell_type": "code",
   "execution_count": 1,
   "metadata": {},
   "outputs": [],
   "source": [
    "import docx\n",
    "import astropy.units as units\n",
    "import numpy as np\n",
    "import re\n",
    "import pickle\n",
    "import matplotlib.pyplot as plt\n",
    "%load_ext autoreload"
   ]
  },
  {
   "cell_type": "code",
   "execution_count": 2,
   "metadata": {},
   "outputs": [
    {
     "data": {
      "text/plain": [
       "<astropy.visualization.units.quantity_support.<locals>.MplQuantityConverter at 0x7f827d6a0e50>"
      ]
     },
     "execution_count": 2,
     "metadata": {},
     "output_type": "execute_result"
    }
   ],
   "source": [
    "%config InlineBackend.figure_format = 'retina'\n",
    "from astropy.visualization import quantity_support\n",
    "quantity_support() "
   ]
  },
  {
   "cell_type": "code",
   "execution_count": 3,
   "metadata": {},
   "outputs": [],
   "source": [
    "%autoreload 2\n",
    "import pyfcctab"
   ]
  },
  {
   "cell_type": "code",
   "execution_count": 4,
   "metadata": {},
   "outputs": [
    {
     "name": "stdout",
     "output_type": "stream",
     "text": [
      "Reading tables: 0, 1, 2, 3, 4, 5, 6, 7, 8, 9, 10, 11, 12, 13, 14, 15, 16, 17, 18, 19, 20, 21, 22, 23, 24, 25, 26, 27, 28, 29, 30, 31, 32, 33, 34, 35, 36, 37, 38, 39, 40, 41, 42, 43, 44, 45, 46, 47, 48, 49, 50, 51, 52, 53, 54, 55, 56, 57, 58, 59, 60, 61, 62, 63, 64, done.\n",
      "Digesting: R1, R2, R3, F, NF, done.\n",
      "Injecting additions in: R1, R2, R3, F, NF, done.\n",
      "Merging: ITU, USA, done.\n"
     ]
    }
   ],
   "source": [
    "path = \"/users/livesey/corf/\"\n",
    "tables = pyfcctab.read(filename='/users/livesey/Desktop/fcctable.docx',\n",
    "                  skip_additionals=False)\n",
    "pyfcctab.save(tables)\n",
    "# tables = pyfcctab.load(path+\"fcctables.pickle\")"
   ]
  },
  {
   "cell_type": "code",
   "execution_count": null,
   "metadata": {},
   "outputs": [],
   "source": [
    "bands = tables.r1.get_bands(22.4*units.GHz, adjacent=True)\n",
    "for b in bands:\n",
    "    print ('-------------')\n",
    "    print(b)"
   ]
  },
  {
   "cell_type": "code",
   "execution_count": null,
   "metadata": {},
   "outputs": [],
   "source": [
    "fig, axes=plt.subplots(figsize=(4.0,10.0))\n",
    "fMin = min(f.bounds[0] for f in bands)\n",
    "fMax = max(f.bounds[1] for f in bands)\n",
    "axes.set_ylim(fMin, fMax)\n",
    "for i, b in enumerate(bands):\n",
    "    y = b.bounds[0]\n",
    "    h = b.bounds[1]-b.bounds[0]\n",
    "    axes.text(0, y, str(b), bbox={\"edgecolor\":\"black\", \"height\":h})\n",
    "# help(axes.text)\n",
    "plt.show()"
   ]
  },
  {
   "cell_type": "code",
   "execution_count": null,
   "metadata": {},
   "outputs": [],
   "source": [
    "for b in tables.:\n",
    "    if b.has_footnote(\"5.149\") and not b.has_allocation(\"Radio astronomy*\"):\n",
    "        print (\"---------------\")\n",
    "        print (b)"
   ]
  },
  {
   "cell_type": "code",
   "execution_count": null,
   "metadata": {},
   "outputs": [],
   "source": [
    "for b in tables.find_bands(\"ITU\", 24.55*units.GHz):\n",
    "    print (b)"
   ]
  },
  {
   "cell_type": "code",
   "execution_count": null,
   "metadata": {},
   "outputs": [],
   "source": [
    "jurisdiction = \"R3\"\n",
    "merged_list=tables.collections[jurisdiction]\n",
    "merged = iter(merged_list)\n",
    "accumulator = None\n",
    "continue_iteration = True\n",
    "while continue_iteration: \n",
    "    try:\n",
    "        band = next(merged)\n",
    "        # print (band)\n",
    "        if band.has_allocation(\"Fixed*\", primary=None):\n",
    "            end_accumulation = False\n",
    "            if accumulator is None:\n",
    "                accumulator = band\n",
    "            else:\n",
    "                accumulator += band\n",
    "        else:\n",
    "            end_accumulation = True\n",
    "    except StopIteration:\n",
    "        end_accumulation = True\n",
    "        continue_iteration = False\n",
    "    except ValueError:\n",
    "        end_accumulation = True\n",
    "    if end_accumulation and accumulator is not None:\n",
    "        # OK, we've gotten a block of primary allocations to fixed\n",
    "        unaffected = True\n",
    "        relevant_list = tables.find_bands(jurisdiction, accumulator.bounds, adjacent=True)\n",
    "        # relevant_list = merged_list\n",
    "        for other_band in relevant_list:\n",
    "            relevant = other_band.overlaps(accumulator) or other_band.is_adjacent(accumulator)\n",
    "            relevant = relevant and (\n",
    "                other_band.has_allocation(\"Radio astronomy*\") or\n",
    "                other_band.has_allocation(\"Earth Exploration-Satellite*\"))\n",
    "            if relevant:\n",
    "                if unaffected:\n",
    "                    print ()\n",
    "                    print (f\"The fixed allocations in the bands covering {accumulator.range_str()}\" +\n",
    "                          f\" {accumulator.jurisdictions_str()} affect:\")\n",
    "                    #print (accumulator)\n",
    "                unaffected = False\n",
    "                print (\"  \" + other_band.compact_str(\n",
    "                    skip_footnotes=False, \n",
    "                    skip_rules=True,\n",
    "                    specific_allocations=[\"Earth exploration*\", \"Radio astronomy*\"]))\n",
    "        # if unaffected:\n",
    "        #     print (f\"============= No concern for the fixed allocations covering {accumulator.range_str()}\" +\n",
    "        #        f\" {accumulator.jurisdictions_str()}\")\n",
    "        accumulator = None"
   ]
  },
  {
   "cell_type": "code",
   "execution_count": null,
   "metadata": {},
   "outputs": [],
   "source": [
    "for fcc_band in tables.nf:\n",
    "    if fcc_band.has_footnote(\"US246\"):\n",
    "        print ()\n",
    "        print (f\"================================ US246 band {fcc_band.range_str()}\")\n",
    "        print (fcc_band)\n",
    "        safe = True\n",
    "        for itu_band in tables.itu:\n",
    "            if itu_band.overlaps(fcc_band) and not itu_band.has_footnote(\"5.340\"):\n",
    "                safe = False\n",
    "                print (f\"----- Overlapping ITU band {itu_band.range_str()}\")\n",
    "                print (itu_band)\n",
    "                print (\"Lacks footnote 5.340 protection\")            \n",
    "        if safe:\n",
    "            print(\"All overlapping ITU bands have 5.340 protection\")"
   ]
  },
  {
   "cell_type": "code",
   "execution_count": null,
   "metadata": {},
   "outputs": [],
   "source": [
    "c=itu[\"R1\"][0].deepcopy()\n",
    "c.footnotes.append(\"Hello\")\n",
    "print(c.footnotes)"
   ]
  },
  {
   "cell_type": "code",
   "execution_count": null,
   "metadata": {},
   "outputs": [],
   "source": [
    "x = units.Quantity(np.ndarray(shape=[10]), unit=units.Hz)"
   ]
  },
  {
   "cell_type": "code",
   "execution_count": null,
   "metadata": {},
   "outputs": [],
   "source": [
    "x = np.arange(10).reshape([5,2])\n",
    "i=np.array([0,2,3,1])\n",
    "print (x[i,1])"
   ]
  },
  {
   "cell_type": "code",
   "execution_count": null,
   "metadata": {},
   "outputs": [],
   "source": [
    "while True:\n",
    "    try:\n",
    "        a = 0\n",
    "        raise ValueError(\"Test\")\n",
    "    except ValueError:\n",
    "        break\n",
    "    finally:\n",
    "        print(\"OK\")\n"
   ]
  },
  {
   "cell_type": "code",
   "execution_count": null,
   "metadata": {},
   "outputs": [],
   "source": [
    "print(list(range(2,5)))"
   ]
  },
  {
   "cell_type": "code",
   "execution_count": null,
   "metadata": {},
   "outputs": [],
   "source": []
  }
 ],
 "metadata": {
  "kernelspec": {
   "display_name": "Python 3",
   "language": "python",
   "name": "python3"
  },
  "language_info": {
   "codemirror_mode": {
    "name": "ipython",
    "version": 3
   },
   "file_extension": ".py",
   "mimetype": "text/x-python",
   "name": "python",
   "nbconvert_exporter": "python",
   "pygments_lexer": "ipython3",
   "version": "3.7.6"
  }
 },
 "nbformat": 4,
 "nbformat_minor": 4
}
