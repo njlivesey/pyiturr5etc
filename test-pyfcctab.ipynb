{
 "cells": [
  {
   "cell_type": "code",
   "execution_count": 1,
   "metadata": {},
   "outputs": [],
   "source": [
    "import docx\n",
    "import astropy.units as units\n",
    "import re\n",
    "%load_ext autoreload"
   ]
  },
  {
   "cell_type": "code",
   "execution_count": 2,
   "metadata": {},
   "outputs": [],
   "source": [
    "%autoreload 2\n",
    "import pyfcctab"
   ]
  },
  {
   "cell_type": "code",
   "execution_count": 3,
   "metadata": {},
   "outputs": [],
   "source": [
    "fccfile = docx.Document('/users/livesey/corf/fcctable.docx')"
   ]
  },
  {
   "cell_type": "code",
   "execution_count": 4,
   "metadata": {},
   "outputs": [],
   "source": [
    "footnotes = pyfcctab.harvest_footnotes(fccfile)"
   ]
  },
  {
   "cell_type": "code",
   "execution_count": 5,
   "metadata": {},
   "outputs": [],
   "source": [
    "# footnotes.sort()\n",
    "# for f in footnotes:\n",
    "#     print(f)"
   ]
  },
  {
   "cell_type": "code",
   "execution_count": 6,
   "metadata": {},
   "outputs": [],
   "source": [
    "# e = tables[4].rows[0].cells[0]._element\n",
    "# help(e)"
   ]
  },
  {
   "cell_type": "code",
   "execution_count": 20,
   "metadata": {},
   "outputs": [
    {
     "name": "stdout",
     "output_type": "stream",
     "text": [
      "============================ Table 0\n",
      "============================ Table 1\n",
      "============================ Table 2\n",
      "============================ Table 3\n",
      "============================ Table 4\n",
      "============================ Table 5\n",
      "============================ Table 6\n",
      "============================ Table 7\n",
      "============================ Table 8\n",
      "============================ Table 9\n",
      "============================ Table 10\n",
      "============================ Table 11\n",
      "============================ Table 12\n",
      "============================ Table 13\n",
      "============================ Table 14\n",
      "============================ Table 15\n",
      "============================ Table 16\n",
      "============================ Table 17\n",
      "============================ Table 18\n",
      "============================ Table 19\n",
      "============================ Table 20\n",
      "============================ Table 21\n",
      "============================ Table 22\n",
      "============================ Table 23\n",
      "============================ Table 24\n",
      "============================ Table 25\n",
      "============================ Table 26\n",
      "============================ Table 27\n",
      "============================ Table 28\n",
      "============================ Table 29\n",
      "============================ Table 30\n",
      "============================ Table 31\n",
      "============================ Table 32\n",
      "============================ Table 33\n",
      "============================ Table 34\n",
      "============================ Table 35\n",
      "============================ Table 36\n",
      "============================ Table 37\n",
      "============================ Table 38\n",
      "============================ Table 39\n",
      "============================ Table 40\n",
      "============================ Table 41\n",
      "============================ Table 42\n",
      "============================ Table 43\n",
      "============================ Table 44\n",
      "============================ Table 45\n",
      "============================ Table 46\n",
      "============================ Table 47\n",
      "============================ Table 48\n",
      "============================ Table 49\n",
      "============================ Table 50\n",
      "============================ Table 51\n",
      "============================ Table 52\n",
      "============================ Table 53\n",
      "============================ Table 54\n",
      "============================ Table 55\n",
      "============================ Table 56\n",
      "============================ Table 57\n",
      "============================ Table 58\n",
      "============================ Table 59\n",
      "============================ Table 60\n",
      "============================ Table 61\n",
      "============================ Table 62\n",
      "============================ Table 63\n",
      "============================ Table 64\n"
     ]
    }
   ],
   "source": [
    "itu, fcc = pyfcctab.parse_file(fccfile, dump_raw=False, dump_ordered=False)"
   ]
  },
  {
   "cell_type": "code",
   "execution_count": 24,
   "metadata": {},
   "outputs": [
    {
     "name": "stdout",
     "output_type": "stream",
     "text": [
      "['', 'Private Land Mobile (90)']\n"
     ]
    }
   ],
   "source": [
    "print (fcc[1][9].fcc_rules)"
   ]
  },
  {
   "cell_type": "code",
   "execution_count": 19,
   "metadata": {},
   "outputs": [
    {
     "name": "stdout",
     "output_type": "stream",
     "text": [
      "---------------\n",
      "191.8 GHz-200.0 GHz\n",
      "FIXED\n",
      "INTER-SATELLITE\n",
      "MOBILE 5.558\n",
      "MOBILE-SATELLITE\n",
      "RADIONAVIGATION\n",
      "RADIONAVIGATION-SATELLITE\n",
      "\n",
      "5.341 5.554 US211 US342\n",
      "---------------\n",
      "200.0 GHz-209.0 GHz\n",
      "EARTH EXPLORATION-SATELLITE (passive)\n",
      "RADIO ASTRONOMY US74\n",
      "SPACE RESEARCH (passive)\n",
      "\n",
      "5.341 5.563A US246\n",
      "---------------\n",
      "209.0 GHz-217.0 GHz\n",
      "FIXED\n",
      "FIXED-SATELLITE (Earth-to-space)\n",
      "MOBILE\n",
      "RADIO ASTRONOMY\n",
      "\n",
      "5.341 US342\n",
      "---------------\n",
      "217.0 GHz-226.0 GHz\n",
      "FIXED\n",
      "FIXED-SATELLITE (Earth-to-space)\n",
      "MOBILE\n",
      "RADIO ASTRONOMY\n",
      "SPACE RESEARCH (passive) 5.562B\n",
      "\n",
      "5.341 US342\n",
      "---------------\n",
      "226.0 GHz-231.5 GHz\n",
      "EARTH EXPLORATION-SATELLITE (passive)\n",
      "RADIO ASTRONOMY\n",
      "SPACE RESEARCH (passive)\n",
      "\n",
      "US246\n",
      "---------------\n",
      "231.5 GHz-232.0 GHz\n",
      "FIXED\n",
      "MOBILE\n",
      "Radiolocation\n",
      "\n",
      "\n",
      "---------------\n",
      "232.0 GHz-235.0 GHz\n",
      "FIXED\n",
      "FIXED-SATELLITE (space-to-Earth)\n",
      "MOBILE\n",
      "Radiolocation\n",
      "\n",
      "\n",
      "---------------\n",
      "235.0 GHz-238.0 GHz\n",
      "EARTH EXPLORATION-SATELLITE (passive)\n",
      "FIXED-SATELLITE (space-to-Earth)\n",
      "SPACE RESEARCH (passive)\n",
      "\n",
      "5.563A 5.563B\n",
      "---------------\n",
      "238.0 GHz-240.0 GHz\n",
      "FIXED\n",
      "FIXED-SATELLITE (space-to-Earth)\n",
      "MOBILE\n",
      "RADIOLOCATION\n",
      "RADIONAVIGATION\n",
      "RADIONAVIGATION-SATELLITE\n",
      "\n",
      "\n",
      "---------------\n",
      "240.0 GHz-241.0 GHz\n",
      "FIXED\n",
      "MOBILE\n",
      "RADIOLOCATION\n",
      "\n",
      "\n",
      "---------------\n",
      "241.0 GHz-248.0 GHz\n",
      "RADIO ASTRONOMY\n",
      "RADIOLOCATION\n",
      "\n",
      "5.138 US342\n",
      "---------------\n",
      "248.0 GHz-250.0 GHz\n",
      "Radio astronomy\n",
      "\n",
      "US342\n",
      "---------------\n",
      "250.0 GHz-252.0 GHz\n",
      "EARTH EXPLORATION-SATELLITE (passive)\n",
      "RADIO ASTRONOMY US74\n",
      "SPACE RESEARCH (passive)\n",
      "\n",
      "5.563A US246\n",
      "---------------\n",
      "252.0 GHz-265.0 GHz\n",
      "FIXED\n",
      "MOBILE\n",
      "MOBILE-SATELLITE (Earth-to-space)\n",
      "RADIO ASTRONOMY\n",
      "RADIONAVIGATION\n",
      "RADIONAVIGATION-SATELLITE\n",
      "\n",
      "5.554 US211 US342\n",
      "---------------\n",
      "265.0 GHz-275.0 GHz\n",
      "FIXED\n",
      "FIXED-SATELLITE (Earth-to-space)\n",
      "MOBILE\n",
      "RADIO ASTRONOMY\n",
      "\n",
      "5.563A US342 275-3000 (Not allocated) US565\n"
     ]
    }
   ],
   "source": [
    "for band in fcc[0]:\n",
    "    print('---------------')\n",
    "    print(band)"
   ]
  },
  {
   "cell_type": "code",
   "execution_count": null,
   "metadata": {},
   "outputs": [],
   "source": []
  }
 ],
 "metadata": {
  "kernelspec": {
   "display_name": "Python 3",
   "language": "python",
   "name": "python3"
  },
  "language_info": {
   "codemirror_mode": {
    "name": "ipython",
    "version": 3
   },
   "file_extension": ".py",
   "mimetype": "text/x-python",
   "name": "python",
   "nbconvert_exporter": "python",
   "pygments_lexer": "ipython3",
   "version": "3.7.6"
  }
 },
 "nbformat": 4,
 "nbformat_minor": 4
}
