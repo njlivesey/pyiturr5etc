{
 "cells": [
  {
   "cell_type": "code",
   "execution_count": 1,
   "metadata": {},
   "outputs": [],
   "source": [
    "import docx\n",
    "import astropy.units as units\n",
    "import numpy as np\n",
    "import re\n",
    "%load_ext autoreload"
   ]
  },
  {
   "cell_type": "code",
   "execution_count": 2,
   "metadata": {},
   "outputs": [],
   "source": [
    "%autoreload 2\n",
    "import pyfcctab as fcc"
   ]
  },
  {
   "cell_type": "code",
   "execution_count": 3,
   "metadata": {},
   "outputs": [
    {
     "name": "stdout",
     "output_type": "stream",
     "text": [
      "============================ Table 0\n",
      "============================ Table 1\n",
      "============================ Table 2\n",
      "============================ Table 3\n",
      "============================ Table 4\n",
      "============================ Table 5\n",
      "============================ Table 6\n",
      "============================ Table 7\n",
      "============================ Table 8\n",
      "============================ Table 9\n",
      "============================ Table 10\n",
      "============================ Table 11\n",
      "============================ Table 12\n",
      "============================ Table 13\n",
      "============================ Table 14\n",
      "============================ Table 15\n",
      "============================ Table 16\n",
      "============================ Table 17\n",
      "============================ Table 18\n",
      "============================ Table 19\n",
      "============================ Table 20\n",
      "============================ Table 21\n",
      "============================ Table 22\n",
      "============================ Table 23\n",
      "============================ Table 24\n",
      "============================ Table 25\n",
      "============================ Table 26\n",
      "============================ Table 27\n",
      "============================ Table 28\n",
      "============================ Table 29\n",
      "============================ Table 30\n",
      "============================ Table 31\n",
      "============================ Table 32\n",
      "============================ Table 33\n",
      "============================ Table 34\n",
      "============================ Table 35\n",
      "============================ Table 36\n",
      "============================ Table 37\n",
      "============================ Table 38\n",
      "============================ Table 39\n",
      "============================ Table 40\n",
      "============================ Table 41\n",
      "============================ Table 42\n",
      "============================ Table 43\n",
      "============================ Table 44\n",
      "============================ Table 45\n",
      "============================ Table 46\n",
      "============================ Table 47\n",
      "============================ Table 48\n",
      "============================ Table 49\n",
      "============================ Table 50\n",
      "============================ Table 51\n",
      "============================ Table 52\n",
      "============================ Table 53\n",
      "============================ Table 54\n",
      "============================ Table 55\n",
      "============================ Table 56\n",
      "============================ Table 57\n",
      "============================ Table 58\n",
      "============================ Table 59\n",
      "============================ Table 60\n",
      "============================ Table 61\n",
      "============================ Table 62\n",
      "============================ Table 63\n",
      "============================ Table 64\n",
      "Digesting R1\n",
      "Digesting R2\n",
      "Digesting R3\n",
      "Digesting F\n",
      "Digesting NF\n",
      "for R1 allow_overlaps is False\n",
      "for R2 allow_overlaps is False\n",
      "for R3 allow_overlaps is False\n",
      "for F allow_overlaps is False\n",
      "for NF allow_overlaps is False\n",
      "for ITU allow_overlaps is True\n",
      "for USA allow_overlaps is True\n"
     ]
    }
   ],
   "source": [
    "tables = fcc.read(\"/users/livesey/corf/fcctable.docx\")"
   ]
  },
  {
   "cell_type": "code",
   "execution_count": 29,
   "metadata": {},
   "outputs": [
    {
     "name": "stdout",
     "output_type": "stream",
     "text": [
      "108.0 MHz-117.975 MHz/AERONAUTICAL RADIONAVIGATION//5.197A US93/[Aviation (87); Page 20]\n",
      "117.975 MHz-121.9375 MHz/AERONAUTICAL MOBILE (R)//5.111 5.200 US26 US28 US36/[Aviation (87)]\n",
      "121.9375 MHz-123.0875 MHz//US30 US31 US33 US80 US102 US213/[Aviation (87)]\n"
     ]
    }
   ],
   "source": [
    "bands = tables.find_bands(\"F\", 117.975*units.MHz, 121.9375*units.MHz, adjacent=False)\n",
    "for b in bands:\n",
    "    print (b.compact_str())"
   ]
  },
  {
   "cell_type": "code",
   "execution_count": 5,
   "metadata": {},
   "outputs": [
    {
     "ename": "TypeError",
     "evalue": "find_bands() missing 1 required positional argument: 'r1'",
     "output_type": "error",
     "traceback": [
      "\u001b[0;31m---------------------------------------------------------------------------\u001b[0m",
      "\u001b[0;31mTypeError\u001b[0m                                 Traceback (most recent call last)",
      "\u001b[0;32m<ipython-input-5-f02bfe32f78e>\u001b[0m in \u001b[0;36m<module>\u001b[0;34m\u001b[0m\n\u001b[1;32m     23\u001b[0m         \u001b[0;31m# OK, we've gotten a block of primary allocations to fixed\u001b[0m\u001b[0;34m\u001b[0m\u001b[0;34m\u001b[0m\u001b[0;34m\u001b[0m\u001b[0m\n\u001b[1;32m     24\u001b[0m         \u001b[0munaffected\u001b[0m \u001b[0;34m=\u001b[0m \u001b[0;32mTrue\u001b[0m\u001b[0;34m\u001b[0m\u001b[0;34m\u001b[0m\u001b[0m\n\u001b[0;32m---> 25\u001b[0;31m         \u001b[0mrelevant_list\u001b[0m \u001b[0;34m=\u001b[0m \u001b[0mtables\u001b[0m\u001b[0;34m.\u001b[0m\u001b[0mfind_bands\u001b[0m\u001b[0;34m(\u001b[0m\u001b[0;34m\"ITU\"\u001b[0m\u001b[0;34m,\u001b[0m \u001b[0maccumulator\u001b[0m\u001b[0;34m.\u001b[0m\u001b[0mbounds\u001b[0m\u001b[0;34m,\u001b[0m \u001b[0madjacent\u001b[0m\u001b[0;34m=\u001b[0m\u001b[0;32mTrue\u001b[0m\u001b[0;34m)\u001b[0m\u001b[0;34m\u001b[0m\u001b[0;34m\u001b[0m\u001b[0m\n\u001b[0m\u001b[1;32m     26\u001b[0m         \u001b[0mrelevant_list\u001b[0m \u001b[0;34m=\u001b[0m \u001b[0mmerged_list\u001b[0m\u001b[0;34m\u001b[0m\u001b[0;34m\u001b[0m\u001b[0m\n\u001b[1;32m     27\u001b[0m         \u001b[0;32mfor\u001b[0m \u001b[0mother_band\u001b[0m \u001b[0;32min\u001b[0m \u001b[0mrelevant_list\u001b[0m\u001b[0;34m:\u001b[0m\u001b[0;34m\u001b[0m\u001b[0;34m\u001b[0m\u001b[0m\n",
      "\u001b[0;31mTypeError\u001b[0m: find_bands() missing 1 required positional argument: 'r1'"
     ]
    }
   ],
   "source": [
    "merged_list=tables.collections[\"R1\"]\n",
    "merged = iter(merged_list)\n",
    "accumulator = None\n",
    "continue_iteration = True\n",
    "while continue_iteration: \n",
    "    try:\n",
    "        band = next(merged)\n",
    "        # print (band)\n",
    "        if band.has_allocation(\"Fixed\", primary=True):\n",
    "            end_accumulation = False\n",
    "            if accumulator is None:\n",
    "                accumulator = band\n",
    "            else:\n",
    "                accumulator += band\n",
    "        else:\n",
    "            end_accumulation = True\n",
    "    except StopIteration:\n",
    "        end_accumulation = True\n",
    "        continue_iteration = False\n",
    "    except ValueError:\n",
    "        end_accumulation = True\n",
    "    if end_accumulation and accumulator is not None:\n",
    "        # OK, we've gotten a block of primary allocations to fixed\n",
    "        unaffected = True\n",
    "        relevant_list = tables.find_bands(\"ITU\", accumulator.bounds, adjacent=True)\n",
    "        relevant_list = merged_list\n",
    "        for other_band in relevant_list:\n",
    "            relevant = other_band.overlaps(accumulator) or other_band.is_adjacent(accumulator)\n",
    "            relevant = relevant and (\n",
    "                other_band.has_allocation(\"Radioastronomy\") or\n",
    "                other_band.has_allocation(\"Earth Exploration-Satellite (passive)\"))\n",
    "            if relevant:\n",
    "                if unaffected:\n",
    "                    print (f\"=========================== For bands covering {accumulator.range}\")\n",
    "                    print (accumulator)\n",
    "                unaffected = False\n",
    "                print (f\"------------------- Consider:\")\n",
    "                print(other_band)\n",
    "        accumulator = None"
   ]
  },
  {
   "cell_type": "code",
   "execution_count": null,
   "metadata": {},
   "outputs": [],
   "source": [
    "for fcc_band in fcc[\"NF\"]:\n",
    "    if fcc_band.has_footnote(\"US246\"):\n",
    "        print ()\n",
    "        print (f\"================================ US246 band {fcc_band.range}\")\n",
    "        print (fcc_band)\n",
    "        safe = True\n",
    "        for itu_band in itu[\"R2\"]:\n",
    "            if itu_band.overlaps(fcc_band) and not itu_band.has_footnote(\"5.340\"):\n",
    "                safe = False\n",
    "                print (f\"----- Overlapping ITU band {itu_band.range}\")\n",
    "                print (itu_band)\n",
    "                print (\"Lacks footnote 5.340 protection\")            \n",
    "        if safe:\n",
    "            print(\"All overlapping ITU bands have 5.340 protection\")"
   ]
  },
  {
   "cell_type": "code",
   "execution_count": null,
   "metadata": {},
   "outputs": [],
   "source": [
    "c=itu[\"R1\"][0].deepcopy()\n",
    "c.footnotes.append(\"Hello\")\n",
    "print(c.footnotes)"
   ]
  },
  {
   "cell_type": "code",
   "execution_count": null,
   "metadata": {},
   "outputs": [],
   "source": [
    "x = units.Quantity(np.ndarray(shape=[10]), unit=units.Hz)"
   ]
  },
  {
   "cell_type": "code",
   "execution_count": null,
   "metadata": {},
   "outputs": [],
   "source": [
    "x = np.arange(10).reshape([5,2])\n",
    "i=np.array([0,2,3,1])\n",
    "print (x[i,1])"
   ]
  },
  {
   "cell_type": "code",
   "execution_count": null,
   "metadata": {},
   "outputs": [],
   "source": [
    "while True:\n",
    "    try:\n",
    "        a = 0\n",
    "        raise ValueError(\"Test\")\n",
    "    except ValueError:\n",
    "        break\n",
    "    finally:\n",
    "        print(\"OK\")\n"
   ]
  },
  {
   "cell_type": "code",
   "execution_count": null,
   "metadata": {},
   "outputs": [],
   "source": [
    "print(list(range(2,5)))"
   ]
  },
  {
   "cell_type": "code",
   "execution_count": null,
   "metadata": {},
   "outputs": [],
   "source": []
  }
 ],
 "metadata": {
  "kernelspec": {
   "display_name": "Python 3",
   "language": "python",
   "name": "python3"
  },
  "language_info": {
   "codemirror_mode": {
    "name": "ipython",
    "version": 3
   },
   "file_extension": ".py",
   "mimetype": "text/x-python",
   "name": "python",
   "nbconvert_exporter": "python",
   "pygments_lexer": "ipython3",
   "version": "3.7.6"
  }
 },
 "nbformat": 4,
 "nbformat_minor": 4
}
