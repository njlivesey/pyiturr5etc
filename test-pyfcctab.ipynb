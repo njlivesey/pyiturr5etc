{
 "cells": [
  {
   "cell_type": "code",
   "execution_count": 1,
   "metadata": {},
   "outputs": [],
   "source": [
    "import docx\n",
    "import astropy.units as units\n",
    "import numpy as np\n",
    "import re\n",
    "%load_ext autoreload"
   ]
  },
  {
   "cell_type": "code",
   "execution_count": 2,
   "metadata": {},
   "outputs": [
    {
     "ename": "AttributeError",
     "evalue": "can't assign to IndexedProperty",
     "output_type": "error",
     "traceback": [
      "\u001b[0;31m---------------------------------------------------------------------------\u001b[0m",
      "\u001b[0;31mAttributeError\u001b[0m                            Traceback (most recent call last)",
      "\u001b[0;32m<ipython-input-2-adc194742e3b>\u001b[0m in \u001b[0;36m<module>\u001b[0;34m\u001b[0m\n\u001b[1;32m      1\u001b[0m \u001b[0mget_ipython\u001b[0m\u001b[0;34m(\u001b[0m\u001b[0;34m)\u001b[0m\u001b[0;34m.\u001b[0m\u001b[0mrun_line_magic\u001b[0m\u001b[0;34m(\u001b[0m\u001b[0;34m'autoreload'\u001b[0m\u001b[0;34m,\u001b[0m \u001b[0;34m'2'\u001b[0m\u001b[0;34m)\u001b[0m\u001b[0;34m\u001b[0m\u001b[0;34m\u001b[0m\u001b[0m\n\u001b[0;32m----> 2\u001b[0;31m \u001b[0;32mimport\u001b[0m \u001b[0mpyfcctab\u001b[0m \u001b[0;32mas\u001b[0m \u001b[0mfcc\u001b[0m\u001b[0;34m\u001b[0m\u001b[0;34m\u001b[0m\u001b[0m\n\u001b[0m",
      "\u001b[0;32m~/python/pyfcctab/__init__.py\u001b[0m in \u001b[0;36m<module>\u001b[0;34m\u001b[0m\n\u001b[0;32m----> 1\u001b[0;31m \u001b[0;32mfrom\u001b[0m \u001b[0;34m.\u001b[0m\u001b[0muser\u001b[0m \u001b[0;32mimport\u001b[0m \u001b[0;34m*\u001b[0m\u001b[0;34m\u001b[0m\u001b[0;34m\u001b[0m\u001b[0m\n\u001b[0m",
      "\u001b[0;32m~/python/pyfcctab/user.py\u001b[0m in \u001b[0;36m<module>\u001b[0;34m\u001b[0m\n\u001b[1;32m      8\u001b[0m \u001b[0;34m\u001b[0m\u001b[0m\n\u001b[1;32m      9\u001b[0m \u001b[0;32mfrom\u001b[0m \u001b[0;34m.\u001b[0m\u001b[0mingest\u001b[0m \u001b[0;32mimport\u001b[0m \u001b[0mparse_all_tables\u001b[0m\u001b[0;34m,\u001b[0m \u001b[0mmerge_band_lists\u001b[0m\u001b[0;34m\u001b[0m\u001b[0;34m\u001b[0m\u001b[0m\n\u001b[0;32m---> 10\u001b[0;31m \u001b[0;32mfrom\u001b[0m \u001b[0;34m.\u001b[0m\u001b[0madditional_allocations\u001b[0m \u001b[0;32mimport\u001b[0m \u001b[0mall_additions\u001b[0m\u001b[0;34m\u001b[0m\u001b[0;34m\u001b[0m\u001b[0m\n\u001b[0m\u001b[1;32m     11\u001b[0m \u001b[0;34m\u001b[0m\u001b[0m\n\u001b[1;32m     12\u001b[0m \u001b[0;34m\u001b[0m\u001b[0m\n",
      "\u001b[0;32m~/python/pyfcctab/additional_allocations.py\u001b[0m in \u001b[0;36m<module>\u001b[0;34m\u001b[0m\n\u001b[1;32m    234\u001b[0m     footnote_5_479, footnote_5_543, footnote_5_555, footnote_5_556, footnote_5_562D ]\n\u001b[1;32m    235\u001b[0m \u001b[0;32mfor\u001b[0m \u001b[0mr\u001b[0m \u001b[0;32min\u001b[0m \u001b[0mroutines\u001b[0m\u001b[0;34m:\u001b[0m\u001b[0;34m\u001b[0m\u001b[0;34m\u001b[0m\u001b[0m\n\u001b[0;32m--> 236\u001b[0;31m     \u001b[0mall_additions\u001b[0m \u001b[0;34m+=\u001b[0m \u001b[0mr\u001b[0m\u001b[0;34m(\u001b[0m\u001b[0;34m)\u001b[0m\u001b[0;34m\u001b[0m\u001b[0;34m\u001b[0m\u001b[0m\n\u001b[0m\u001b[1;32m    237\u001b[0m \u001b[0;34m\u001b[0m\u001b[0m\n\u001b[1;32m    238\u001b[0m \u001b[0;34m\u001b[0m\u001b[0m\n",
      "\u001b[0;32m~/python/pyfcctab/additional_allocations.py\u001b[0m in \u001b[0;36mfootnote_5_149\u001b[0;34m()\u001b[0m\n\u001b[1;32m    221\u001b[0m         bands.append(\n\u001b[1;32m    222\u001b[0m             Band.parse([bounds,\"Radio astronomy 5.149#\"],\n\u001b[0;32m--> 223\u001b[0;31m                        unit=unit, jurisdictions=jurisdictions))\n\u001b[0m\u001b[1;32m    224\u001b[0m     \u001b[0;32mreturn\u001b[0m \u001b[0mbands\u001b[0m\u001b[0;34m\u001b[0m\u001b[0;34m\u001b[0m\u001b[0m\n\u001b[1;32m    225\u001b[0m \u001b[0;34m\u001b[0m\u001b[0m\n",
      "\u001b[0;32m~/python/pyfcctab/bands.py\u001b[0m in \u001b[0;36mparse\u001b[0;34m(cls, cell, fcc_rules, unit, jurisdictions, annotations)\u001b[0m\n\u001b[1;32m    347\u001b[0m         \u001b[0;31m# Now create a Band to hold the result\u001b[0m\u001b[0;34m\u001b[0m\u001b[0;34m\u001b[0m\u001b[0;34m\u001b[0m\u001b[0m\n\u001b[1;32m    348\u001b[0m         \u001b[0mresult\u001b[0m \u001b[0;34m=\u001b[0m \u001b[0mcls\u001b[0m\u001b[0;34m(\u001b[0m\u001b[0;34m)\u001b[0m\u001b[0;34m\u001b[0m\u001b[0;34m\u001b[0m\u001b[0m\n\u001b[0;32m--> 349\u001b[0;31m         \u001b[0mresult\u001b[0m\u001b[0;34m.\u001b[0m\u001b[0mbounds\u001b[0m \u001b[0;34m=\u001b[0m \u001b[0mbounds\u001b[0m\u001b[0;34m\u001b[0m\u001b[0;34m\u001b[0m\u001b[0m\n\u001b[0m\u001b[1;32m    350\u001b[0m         \u001b[0mresult\u001b[0m\u001b[0;34m.\u001b[0m\u001b[0mprimary_allocations\u001b[0m \u001b[0;34m=\u001b[0m \u001b[0mprimary_allocations\u001b[0m\u001b[0;34m\u001b[0m\u001b[0;34m\u001b[0m\u001b[0m\n\u001b[1;32m    351\u001b[0m         \u001b[0mresult\u001b[0m\u001b[0;34m.\u001b[0m\u001b[0msecondary_allocations\u001b[0m \u001b[0;34m=\u001b[0m \u001b[0msecondary_allocations\u001b[0m\u001b[0;34m\u001b[0m\u001b[0;34m\u001b[0m\u001b[0m\n",
      "\u001b[0;32m~/opt/anaconda3/lib/python3.7/site-packages/indexedproperty/__init__.py\u001b[0m in \u001b[0;36m__set__\u001b[0;34m(self, obj, value)\u001b[0m\n\u001b[1;32m    298\u001b[0m \u001b[0;34m\u001b[0m\u001b[0m\n\u001b[1;32m    299\u001b[0m     \u001b[0;32mdef\u001b[0m \u001b[0m__set__\u001b[0m\u001b[0;34m(\u001b[0m\u001b[0mself\u001b[0m\u001b[0;34m,\u001b[0m \u001b[0mobj\u001b[0m\u001b[0;34m,\u001b[0m \u001b[0mvalue\u001b[0m\u001b[0;34m)\u001b[0m\u001b[0;34m:\u001b[0m\u001b[0;34m\u001b[0m\u001b[0;34m\u001b[0m\u001b[0m\n\u001b[0;32m--> 300\u001b[0;31m         \u001b[0;32mraise\u001b[0m \u001b[0mAttributeError\u001b[0m\u001b[0;34m(\u001b[0m\u001b[0;34m\"can't assign to \"\u001b[0m \u001b[0;34m+\u001b[0m \u001b[0mtype\u001b[0m\u001b[0;34m(\u001b[0m\u001b[0mself\u001b[0m\u001b[0;34m)\u001b[0m\u001b[0;34m.\u001b[0m\u001b[0m__name__\u001b[0m\u001b[0;34m)\u001b[0m\u001b[0;34m\u001b[0m\u001b[0;34m\u001b[0m\u001b[0m\n\u001b[0m\u001b[1;32m    301\u001b[0m \u001b[0;34m\u001b[0m\u001b[0m\n\u001b[1;32m    302\u001b[0m     \u001b[0;32mdef\u001b[0m \u001b[0maddmethod\u001b[0m\u001b[0;34m(\u001b[0m\u001b[0mself\u001b[0m\u001b[0;34m,\u001b[0m \u001b[0mname\u001b[0m\u001b[0;34m,\u001b[0m \u001b[0mfn\u001b[0m\u001b[0;34m)\u001b[0m\u001b[0;34m:\u001b[0m\u001b[0;34m\u001b[0m\u001b[0;34m\u001b[0m\u001b[0m\n",
      "\u001b[0;31mAttributeError\u001b[0m: can't assign to IndexedProperty"
     ]
    }
   ],
   "source": [
    "%autoreload 2\n",
    "import pyfcctab as fcc"
   ]
  },
  {
   "cell_type": "code",
   "execution_count": null,
   "metadata": {},
   "outputs": [],
   "source": [
    "tables = fcc.read(\"/users/livesey/corf/fcctable.docx\", skip_additionals=True)"
   ]
  },
  {
   "cell_type": "code",
   "execution_count": null,
   "metadata": {},
   "outputs": [],
   "source": [
    "print(tables.collections.keys())\n",
    "bands = tables.find_bands(\"USA\", 117.975*units.MHz, 121.9375*units.MHz, adjacent=True)\n",
    "for b in bands:\n",
    "    print (b.compact_str())"
   ]
  },
  {
   "cell_type": "code",
   "execution_count": null,
   "metadata": {},
   "outputs": [],
   "source": [
    "from pyfcctab import all_additions\n",
    "for b in all_additions:\n",
    "    print(b.compact_str())"
   ]
  },
  {
   "cell_type": "code",
   "execution_count": null,
   "metadata": {},
   "outputs": [],
   "source": [
    "for b in tables.find_bands(\"ITU\", 13.25*units.GHz):\n",
    "    print (b.compact_str())"
   ]
  },
  {
   "cell_type": "code",
   "execution_count": null,
   "metadata": {},
   "outputs": [],
   "source": [
    "for b in tables.collections[\"R1\"]:\n",
    "    if b.has_footnote(\"5.149\") and not b.has_allocation(\"Radio astronomy*\"):\n",
    "        print (b.compact_str())"
   ]
  },
  {
   "cell_type": "code",
   "execution_count": null,
   "metadata": {},
   "outputs": [],
   "source": [
    "merged_list=tables.collections[\"ITU\"]\n",
    "merged = iter(merged_list)\n",
    "accumulator = None\n",
    "continue_iteration = True\n",
    "while continue_iteration: \n",
    "    try:\n",
    "        band = next(merged)\n",
    "        # print (band)\n",
    "        if band.has_allocation(\"Fixed*\", primary=True):\n",
    "            end_accumulation = False\n",
    "            if accumulator is None:\n",
    "                accumulator = band\n",
    "            else:\n",
    "                accumulator += band\n",
    "        else:\n",
    "            end_accumulation = True\n",
    "    except StopIteration:\n",
    "        end_accumulation = True\n",
    "        continue_iteration = False\n",
    "    except ValueError:\n",
    "        end_accumulation = True\n",
    "    if end_accumulation and accumulator is not None:\n",
    "        # OK, we've gotten a block of primary allocations to fixed\n",
    "        unaffected = True\n",
    "        relevant_list = tables.find_bands(\"ITU\", accumulator.bounds, adjacent=True)\n",
    "        # relevant_list = merged_list\n",
    "        for other_band in relevant_list:\n",
    "            relevant = other_band.overlaps(accumulator) or other_band.is_adjacent(accumulator)\n",
    "            relevant = relevant and (\n",
    "                other_band.has_allocation(\"Radio astronomy*\") or\n",
    "                other_band.has_allocation(\"Earth Exploration-Satellite*\"))\n",
    "            if relevant:\n",
    "                if unaffected:\n",
    "                    print ()\n",
    "                    print (f\"============= For bands covering {accumulator.range}\" +\n",
    "                          f\" {accumulator.jurisdictions_str()}\")\n",
    "                    #print (accumulator)\n",
    "                unaffected = False\n",
    "                print (f\"Consider: {other_band.compact_str()}\")\n",
    "                #print(other_band)\n",
    "        # if unaffected:\n",
    "        #     print (f\"============= No concern for bands covering {accumulator.range}\" +\n",
    "        #         f\" {accumulator.jurisdictions_str()}\")\n",
    "        accumulator = None"
   ]
  },
  {
   "cell_type": "code",
   "execution_count": null,
   "metadata": {},
   "outputs": [],
   "source": [
    "for fcc_band in fcc[\"NF\"]:\n",
    "    if fcc_band.has_footnote(\"US246\"):\n",
    "        print ()\n",
    "        print (f\"================================ US246 band {fcc_band.range}\")\n",
    "        print (fcc_band)\n",
    "        safe = True\n",
    "        for itu_band in itu[\"R2\"]:\n",
    "            if itu_band.overlaps(fcc_band) and not itu_band.has_footnote(\"5.340\"):\n",
    "                safe = False\n",
    "                print (f\"----- Overlapping ITU band {itu_band.range}\")\n",
    "                print (itu_band)\n",
    "                print (\"Lacks footnote 5.340 protection\")            \n",
    "        if safe:\n",
    "            print(\"All overlapping ITU bands have 5.340 protection\")"
   ]
  },
  {
   "cell_type": "code",
   "execution_count": null,
   "metadata": {},
   "outputs": [],
   "source": [
    "c=itu[\"R1\"][0].deepcopy()\n",
    "c.footnotes.append(\"Hello\")\n",
    "print(c.footnotes)"
   ]
  },
  {
   "cell_type": "code",
   "execution_count": null,
   "metadata": {},
   "outputs": [],
   "source": [
    "x = units.Quantity(np.ndarray(shape=[10]), unit=units.Hz)"
   ]
  },
  {
   "cell_type": "code",
   "execution_count": null,
   "metadata": {},
   "outputs": [],
   "source": [
    "x = np.arange(10).reshape([5,2])\n",
    "i=np.array([0,2,3,1])\n",
    "print (x[i,1])"
   ]
  },
  {
   "cell_type": "code",
   "execution_count": null,
   "metadata": {},
   "outputs": [],
   "source": [
    "while True:\n",
    "    try:\n",
    "        a = 0\n",
    "        raise ValueError(\"Test\")\n",
    "    except ValueError:\n",
    "        break\n",
    "    finally:\n",
    "        print(\"OK\")\n"
   ]
  },
  {
   "cell_type": "code",
   "execution_count": null,
   "metadata": {},
   "outputs": [],
   "source": [
    "print(list(range(2,5)))"
   ]
  },
  {
   "cell_type": "code",
   "execution_count": null,
   "metadata": {},
   "outputs": [],
   "source": []
  }
 ],
 "metadata": {
  "kernelspec": {
   "display_name": "Python 3",
   "language": "python",
   "name": "python3"
  },
  "language_info": {
   "codemirror_mode": {
    "name": "ipython",
    "version": 3
   },
   "file_extension": ".py",
   "mimetype": "text/x-python",
   "name": "python",
   "nbconvert_exporter": "python",
   "pygments_lexer": "ipython3",
   "version": "3.7.6"
  }
 },
 "nbformat": 4,
 "nbformat_minor": 4
}
