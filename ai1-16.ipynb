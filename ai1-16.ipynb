{
 "cells": [
  {
   "cell_type": "code",
   "execution_count": 1,
   "metadata": {},
   "outputs": [],
   "source": [
    "import pyfcctab as fcc\n",
    "import astropy.units as units\n",
    "from termcolor import colored"
   ]
  },
  {
   "cell_type": "code",
   "execution_count": 2,
   "metadata": {},
   "outputs": [],
   "source": [
    "tables = fcc.load()"
   ]
  },
  {
   "cell_type": "code",
   "execution_count": 5,
   "metadata": {},
   "outputs": [],
   "source": [
    "ai_ranges = [\n",
    "    [22.00*units.GHz, 22.21*units.GHz],\n",
    "    [15.4*units.GHz, 15.7*units.GHz],\n",
    "]"
   ]
  },
  {
   "cell_type": "code",
   "execution_count": 6,
   "metadata": {},
   "outputs": [
    {
     "name": "stdout",
     "output_type": "stream",
     "text": [
      "\u001b[1m================================ 22.0 GHz-22.21 GHz\u001b[0m\n",
      "----------- 21.4 GHz-22.0 GHz\n",
      "21.4 GHz-22.0 GHz [R1]\n",
      "FIXED\n",
      "MOBILE\n",
      "BROADCASTING-SATELLITE 5.208B\n",
      "5.530A 5.530B 5.530D\n",
      "----------- 21.4 GHz-22.0 GHz\n",
      "21.4 GHz-22.0 GHz [R2]\n",
      "FIXED\n",
      "MOBILE\n",
      "5.530A\n",
      "----------- 21.4 GHz-22.0 GHz\n",
      "21.4 GHz-22.0 GHz [R3]\n",
      "FIXED\n",
      "MOBILE\n",
      "BROADCASTING-SATELLITE 5.208B\n",
      "5.530A 5.530B 5.530D 5.531\n",
      "----------- 22.0 GHz-22.21 GHz\n",
      "22.0 GHz-22.21 GHz [R1,R2,R3]\n",
      "FIXED\n",
      "MOBILE EXCEPT AERONAUTICAL MOBILE\n",
      "5.149\n",
      "----------- 22.01 GHz-22.21 GHz\n",
      "22.01 GHz-22.21 GHz [R1,R2,R3]\n",
      "\u001b[32mRadio astronomy 5.149#\u001b[0m\n",
      "\n",
      "----------- 22.21 GHz-22.5 GHz\n",
      "22.21 GHz-22.5 GHz [R1,R2,R3]\n",
      "\u001b[32mRadio astronomy 5.149#\u001b[0m\n",
      "\n",
      "----------- 22.21 GHz-22.5 GHz\n",
      "22.21 GHz-22.5 GHz [R1,R2,R3]\n",
      "\u001b[31mEARTH EXPLORATION-SATELLITE (passive)\u001b[0m\n",
      "FIXED\n",
      "MOBILE EXCEPT AERONAUTICAL MOBILE\n",
      "\u001b[32mRADIO ASTRONOMY\u001b[0m\n",
      "SPACE RESEARCH (passive)\n",
      "5.149 5.532\n",
      "\u001b[1m================================ 15.4 GHz-15.7 GHz\u001b[0m\n",
      "----------- 15.35 GHz-15.4 GHz\n",
      "15.35 GHz-15.4 GHz [R1,R2,R3]\n",
      "\u001b[31mEARTH EXPLORATION-SATELLITE (passive)\u001b[0m\n",
      "\u001b[32mRADIO ASTRONOMY\u001b[0m\n",
      "SPACE RESEARCH (passive)\n",
      "5.340 5.511\n",
      "----------- 15.4 GHz-15.43 GHz\n",
      "15.4 GHz-15.43 GHz [R1,R2,R3]\n",
      "RADIOLOCATION 5.511E 5.511F\n",
      "AERONAUTICAL RADIONAVIGATION\n",
      "\n",
      "----------- 15.43 GHz-15.63 GHz\n",
      "15.43 GHz-15.63 GHz [R1,R2,R3]\n",
      "FIXED-SATELLITE (Earth-to-space) 5.511A\n",
      "RADIOLOCATION 5.511E 5.511F\n",
      "AERONAUTICAL RADIONAVIGATION\n",
      "5.511C\n",
      "----------- 15.63 GHz-15.7 GHz\n",
      "15.63 GHz-15.7 GHz [R1,R2,R3]\n",
      "RADIOLOCATION 5.511E 5.511F\n",
      "AERONAUTICAL RADIONAVIGATION\n",
      "\n",
      "----------- 15.7 GHz-16.6 GHz\n",
      "15.7 GHz-16.6 GHz [R1,R2,R3]\n",
      "RADIOLOCATION\n",
      "5.512 5.513\n"
     ]
    }
   ],
   "source": [
    "for ai in ai_ranges:\n",
    "    print (colored(f\"================================ {ai[0]}-{ai[1]}\", attrs=[\"bold\"]))\n",
    "    bands = tables.itu.get_bands(ai[0], ai[1], adjacent=True)\n",
    "    for b in bands:\n",
    "        print(f\"----------- {b.range_str()}\")\n",
    "        print(b.to_str(highlight_allocations=True))"
   ]
  },
  {
   "cell_type": "code",
   "execution_count": null,
   "metadata": {},
   "outputs": [],
   "source": []
  }
 ],
 "metadata": {
  "kernelspec": {
   "display_name": "Python 3",
   "language": "python",
   "name": "python3"
  },
  "language_info": {
   "codemirror_mode": {
    "name": "ipython",
    "version": 3
   },
   "file_extension": ".py",
   "mimetype": "text/x-python",
   "name": "python",
   "nbconvert_exporter": "python",
   "pygments_lexer": "ipython3",
   "version": "3.7.6"
  }
 },
 "nbformat": 4,
 "nbformat_minor": 4
}
