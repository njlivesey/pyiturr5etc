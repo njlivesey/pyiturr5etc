{
 "cells": [
  {
   "cell_type": "code",
   "execution_count": null,
   "metadata": {},
   "outputs": [],
   "source": [
    "import pyfcctab\n",
    "import copy\n",
    "import matplotlib.pyplot as plt\n",
    "import astropy.units as units"
   ]
  },
  {
   "cell_type": "code",
   "execution_count": null,
   "metadata": {},
   "outputs": [],
   "source": [
    "%config InlineBackend.figure_format = 'retina'\n",
    "# from astropy.visualization import quantity_support\n",
    "# quantity_support()"
   ]
  },
  {
   "cell_type": "code",
   "execution_count": null,
   "metadata": {},
   "outputs": [],
   "source": [
    "tables = pyfcctab.read()"
   ]
  },
  {
   "cell_type": "code",
   "execution_count": null,
   "metadata": {},
   "outputs": [],
   "source": [
    "fixed = tables.itu.stitch(\n",
    "    lambda band: band.has_allocation(\"Fixed*\", but_not=\"Fixed-Satellite*\", primary=True))\n",
    "fixed.metadata[\"label\"] = \"Fixed\"\n",
    "\n",
    "eess = tables.itu.stitch(\n",
    "    lambda band: band.has_allocation(\"Earth Exploration-Satellite (Passive)*\"))\n",
    "eess.metadata[\"label\"] = \"EESS (Passive)\"\n",
    "\n",
    "ras = tables.itu.stitch(\n",
    "    lambda band: band.has_allocation(\"Radio Astronomy*\"))\n",
    "ras.metadata[\"label\"] = \"RAS\"\n",
    "\n",
    "aep = tables.itu.stitch(\n",
    "    lambda band: band.has_footnote(\"5.340*\"))\n",
    "aep.metadata[\"label\"] = \"5.340\""
   ]
  },
  {
   "cell_type": "code",
   "execution_count": null,
   "metadata": {},
   "outputs": [],
   "source": [
    "# dummy=pyfcctab.htmltable(eess)"
   ]
  },
  {
   "cell_type": "code",
   "execution_count": null,
   "metadata": {},
   "outputs": [],
   "source": [
    "specific_allocations = [\"Earth Exploration-Satellite*\", \"Radio Astronomy*\"]\n",
    "for fixed_band in fixed:\n",
    "    overlapped_bands = []\n",
    "    adjacent_bands = []\n",
    "    for science_bands in [eess, ras]:\n",
    "        for science_band in science_bands:\n",
    "            if fixed_band.overlaps(science_band):\n",
    "                overlapped_bands.append(science_band)\n",
    "            if fixed_band.is_adjacent(science_band):\n",
    "                adjacent_bands.append(science_band)\n",
    "    if overlapped_bands or adjacent_bands:\n",
    "        print (f\"========================================\")\n",
    "        print (f\"Fixed from {fixed_band.range_str()}\")\n",
    "        for collection, prefix in [\n",
    "            [overlapped_bands, \"Overlaps\"],\n",
    "            [adjacent_bands, \"Is adjacent to\"]]:\n",
    "            for b in collection:\n",
    "                print (f\"{prefix} {b.compact_str(specific_allocations=specific_allocations, skip_annotations=True)}\")"
   ]
  },
  {
   "cell_type": "code",
   "execution_count": null,
   "metadata": {},
   "outputs": [],
   "source": [
    "# Fix the 5.340 at 48.2-50.2\n",
    "aep_patched = copy.deepcopy(aep)\n",
    "b = aep_patched[48.3*units.GHz][0]\n",
    "b.bounds = [ 48.94*units.GHz, 49.04*units.GHz ]\n",
    "extra = copy.deepcopy(b)\n",
    "extra.bounds = [50.2*units.GHz, 50.4*units.GHz]\n",
    "aep_patched.append(extra)\n",
    "print (aep_patched[48.3*units.GHz])"
   ]
  },
  {
   "cell_type": "code",
   "execution_count": null,
   "metadata": {},
   "outputs": [],
   "source": [
    "pyfcctab.plot_bands(fixed, eess, ras, aep_patched)\n",
    "plt.savefig(\"ai91c.pdf\")"
   ]
  },
  {
   "cell_type": "code",
   "execution_count": null,
   "metadata": {},
   "outputs": [],
   "source": [
    "for b in aep:\n",
    "    print ('==============')\n",
    "    print (b)"
   ]
  },
  {
   "cell_type": "code",
   "execution_count": null,
   "metadata": {},
   "outputs": [],
   "source": []
  }
 ],
 "metadata": {
  "kernelspec": {
   "display_name": "Python 3",
   "language": "python",
   "name": "python3"
  },
  "language_info": {
   "codemirror_mode": {
    "name": "ipython",
    "version": 3
   },
   "file_extension": ".py",
   "mimetype": "text/x-python",
   "name": "python",
   "nbconvert_exporter": "python",
   "pygments_lexer": "ipython3",
   "version": "3.9.5"
  }
 },
 "nbformat": 4,
 "nbformat_minor": 4
}
