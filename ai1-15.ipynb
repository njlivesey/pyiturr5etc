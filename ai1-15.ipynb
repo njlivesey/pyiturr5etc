{
 "cells": [
  {
   "cell_type": "code",
   "execution_count": 3,
   "metadata": {},
   "outputs": [],
   "source": [
    "import pyfcctab as fcc\n",
    "import astropy.units as units\n",
    "from termcolor import colored"
   ]
  },
  {
   "cell_type": "code",
   "execution_count": 4,
   "metadata": {},
   "outputs": [],
   "source": [
    "tables = fcc.load()"
   ]
  },
  {
   "cell_type": "code",
   "execution_count": 5,
   "metadata": {},
   "outputs": [],
   "source": [
    "ai_ranges = [\n",
    "    [12.75*units.GHz, 13.25*units.GHz] \n",
    "]"
   ]
  },
  {
   "cell_type": "code",
   "execution_count": 6,
   "metadata": {},
   "outputs": [
    {
     "name": "stdout",
     "output_type": "stream",
     "text": [
      "\u001b[1m================================ 12.75 GHz-13.25 GHz\u001b[0m\n",
      "----------- 12.5 GHz-12.75 GHz\n",
      "12.5 GHz-12.75 GHz [R1]\n",
      "FIXED-SATELLITE (space-to-Earth) 5.484A 5.484B (Earth-to-space)\n",
      "\n",
      "----------- 12.5 GHz-12.75 GHz\n",
      "12.5 GHz-12.75 GHz [R3]\n",
      "FIXED\n",
      "FIXED-SATELLITE (space-to-Earth) 5.484A 5.484B\n",
      "MOBILE EXCEPT AERONAUTICAL MOBILE\n",
      "BROADCASTING-SATELLITE 5.493\n",
      "\n",
      "----------- 12.7 GHz-12.75 GHz\n",
      "12.7 GHz-12.75 GHz [R2]\n",
      "FIXED\n",
      "FIXED-SATELLITE (Earth-to-space)\n",
      "MOBILE EXCEPT AERONAUTICAL MOBILE\n",
      "\n",
      "----------- 12.75 GHz-13.25 GHz\n",
      "12.75 GHz-13.25 GHz [R1,R2,R3]\n",
      "FIXED\n",
      "FIXED-SATELLITE (Earth-to-space) 5.441\n",
      "MOBILE\n",
      "Space research (deep space) (space-to-Earth)\n",
      "\n",
      "----------- 13.25 GHz-13.4 GHz\n",
      "13.25 GHz-13.4 GHz [R1,R2,R3]\n",
      "\u001b[31mEARTH EXPLORATION-SATELLITE (active)\u001b[0m\n",
      "AERONAUTICAL RADIONAVIGATION 5.497\n",
      "SPACE RESEARCH (active)\n",
      "5.498A 5.499\n"
     ]
    }
   ],
   "source": [
    "for ai in ai_ranges:\n",
    "    print (colored(f\"================================ {ai[0]}-{ai[1]}\", attrs=[\"bold\"]))\n",
    "    bands = tables.itu.get_bands(ai[0], ai[1], adjacent=True)\n",
    "    for b in bands:\n",
    "        print(f\"----------- {b.range_str()}\")\n",
    "        print(b.to_str(highlight_allocations=True))"
   ]
  },
  {
   "cell_type": "code",
   "execution_count": null,
   "metadata": {},
   "outputs": [],
   "source": []
  }
 ],
 "metadata": {
  "kernelspec": {
   "display_name": "Python 3",
   "language": "python",
   "name": "python3"
  },
  "language_info": {
   "codemirror_mode": {
    "name": "ipython",
    "version": 3
   },
   "file_extension": ".py",
   "mimetype": "text/x-python",
   "name": "python",
   "nbconvert_exporter": "python",
   "pygments_lexer": "ipython3",
   "version": "3.7.6"
  }
 },
 "nbformat": 4,
 "nbformat_minor": 4
}
