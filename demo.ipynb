{
 "cells": [
  {
   "cell_type": "code",
   "execution_count": 1,
   "metadata": {},
   "outputs": [],
   "source": [
    "import docx\n",
    "import astropy.units as units\n",
    "import numpy as np\n",
    "import re\n",
    "import pickle\n",
    "import matplotlib.pyplot as plt\n",
    "from IPython.display import display, HTML\n",
    "%load_ext autoreload"
   ]
  },
  {
   "cell_type": "code",
   "execution_count": 2,
   "metadata": {},
   "outputs": [
    {
     "data": {
      "text/plain": [
       "<astropy.visualization.units.quantity_support.<locals>.MplQuantityConverter at 0x7fd576f57450>"
      ]
     },
     "execution_count": 2,
     "metadata": {},
     "output_type": "execute_result"
    }
   ],
   "source": [
    "%config InlineBackend.figure_format = 'retina'\n",
    "from astropy.visualization import quantity_support\n",
    "quantity_support() "
   ]
  },
  {
   "cell_type": "code",
   "execution_count": 3,
   "metadata": {},
   "outputs": [],
   "source": [
    "%autoreload 2\n",
    "import pyfcctab"
   ]
  },
  {
   "cell_type": "code",
   "execution_count": 4,
   "metadata": {},
   "outputs": [
    {
     "name": "stdout",
     "output_type": "stream",
     "text": [
      "Reading tables: 0, 1, 2, 3, 4, 5, 6, 7, 8, 9, 10, 11, 12, 13, 14, 15, 16, 17, 18, 19, 20, 21, 22, 23, 24, 25, 26, 27, 28, 29, 30, 31, 32, 33, 34, 35, 36, 37, 38, 39, 40, 41, 42, 43, 44, 45, 46, 47, 48, 49, 50, 51, 52, 53, 54, 55, 56, 57, 58, 59, 60, 61, 62, 63, 64, done.\n",
      "Digesting: R1, R2, R3, F, NF, done.\n",
      "Injecting additions in: R1, R2, R3, F, NF, done.\n",
      "Merging: ITU, USA, all, done.\n",
      "Footnote definitions: reading, appending, done.\n"
     ]
    }
   ],
   "source": [
    "path = \"/users/livesey/corf/\"\n",
    "tables = pyfcctab.read(filename='/users/livesey/corf/fcctable.docx',\n",
    "                  skip_additionals=False)\n",
    "pyfcctab.save(tables)\n",
    "# tables = pyfcctab.load(path+\"fcctables.pickle\")"
   ]
  },
  {
   "cell_type": "code",
   "execution_count": 7,
   "metadata": {},
   "outputs": [],
   "source": [
    "bands = tables.itu.get_bands(80*units.GHz, 95*units.GHz, adjacent=True)\n",
    "bands = [b for b in bands if not b.has_footnote(\"*#\")]\n",
    "bands.sort()"
   ]
  },
  {
   "cell_type": "code",
   "execution_count": 8,
   "metadata": {},
   "outputs": [
    {
     "data": {
      "text/html": [
       "<link rel=\"stylesheet\" href=\"fcc.css\"><table id=\"fcc-table\"><tr><td id=\"fcc-td\"><p><fcc><p id=\"fcc\"><b>74.0 GHz &ndash; 76.0 GHz</b> <br>FIXED<br>FIXED-SATELLITE (space-to-Earth)<br>MOBILE<br>BROADCASTING<br>BROADCASTING-SATELLITE<br><span id=\"fcc-highlight\">Space research (space-to-Earth)</span><br><br><span id=\"fcc\"><span class=\"tooltip\">5.561<span class=\"tooltiptext\"><b>5.561:</b>&nbspIn the band 74-76 GHz, stations in the fixed, mobile and broadcasting services shall not cause harmful interference to stations of the fixed-satellite service or stations of the broadcasting-satellite service operating in accordance with the decisions of the appropriate frequency assignment planning conference for the broadcasting-satellite service.</span></span></p></fcc></p></td></tr>\n",
       "<tr><td id=\"fcc-td\"><p><fcc><p id=\"fcc\"><b>79.0 GHz &ndash; 81.0 GHz</b> <br><span id=\"fcc-highlight\">RADIO ASTRONOMY</span><br>RADIOLOCATION<br>Amateur<br>Amateur-satellite<br><span id=\"fcc-highlight\">Space research (space-to-Earth)</span><br><br><span id=\"fcc\"><span class=\"tooltip\">5.149<span class=\"tooltiptext\"><b>5.149:</b>&nbspIn making assignments to stations of other services to which the bands: [TABLE]\n",
       " [Cell:] 13 360-13 410 kHz, 25 550-25 670 kHz, 37.5-38.25 MHz, 73-74.6 MHz in Regions 1 and 3, 150.05-153 MHz in Region 1, 322-328.6 MHz, 406.1-410 MHz, 608-614 MHz in Regions 1 and 3, 1330-1400 MHz, 1610.6-1613.8 MHz, 1660-1670 MHz, 1718.8-1722.2 MHz, 2655-2690 MHz, 3260-3267 MHz, 3332-3339 MHz, 3345.8-3352.5 MHz, 4825-4835 MHz, 4950-4990 MHz, 4990-5000 MHz, 6650-6675.2 MHz, 10.6-10.68 GHz, 14.47-14.5 GHz, 22.01-22.21 GHz, 22.21-22.5 GHz, 22.81-22.86 GHz, [Cell:] 23.07-23.12 GHz, 31.2-31.3 GHz, 31.5-31.8 GHz in Regions 1 and 3, 36.43-36.5 GHz, 42.5-43.5 GHz, 48.94-49.04 GHz, 76-86 GHz, 92-94 GHz, 94.1-100 GHz, 102-109.5 GHz, 111.8-114.25 GHz, 128.33-128.59 GHz, 129.23-129.49 GHz, 130-134 GHz, 136-148.5 GHz, 151.5-158.5 GHz, 168.59-168.93 GHz, 171.11-171.45 GHz, 172.31-172.65 GHz, 173.52-173.85 GHz, 195.75-196.15 GHz, 209-226 GHz, 241-250 GHz, 252-275 GHz are allocated, administrations are urged to take all practicable steps to protect the radio astronomy service from harmful interference.  Emissions from spaceborne or airborne stations can be particularly serious sources of interference to the radio astronomy service (see Nos. 4.5 and 4.6 and Article 29).  (WRC-07)</span></span></p></fcc></p></td></tr>\n",
       "<tr><td id=\"fcc-td\"><p><fcc><p id=\"fcc\"><b>81.0 GHz &ndash; 84.0 GHz</b> <br>FIXED <span id=\"fcc\"><span class=\"tooltip\">5.338A<span class=\"tooltiptext\"><b>5.338A:</b>&nbspIn the frequency bands 1350-1400 MHz, 1427-1452 MHz, 22.55-23.55 GHz, 30-31.3 GHz, 49.7-50.2 GHz, 50.4-50.9 GHz, 51.4-52.6 GHz, 81-86 GHz and 92-94 GHz, Resolution 750 (Rev.WRC-15) applies.  (WRC-15)</span></span><br>FIXED-SATELLITE (Earth-to-space)<br>MOBILE<br>MOBILE-SATELLITE (Earth-to-space)<br><span id=\"fcc-highlight\">RADIO ASTRONOMY</span><br><span id=\"fcc-highlight\">Space research (space-to-Earth)</span><br><br><span id=\"fcc\"><span class=\"tooltip\">5.149<span class=\"tooltiptext\"><b>5.149:</b>&nbspIn making assignments to stations of other services to which the bands: [TABLE]\n",
       " [Cell:] 13 360-13 410 kHz, 25 550-25 670 kHz, 37.5-38.25 MHz, 73-74.6 MHz in Regions 1 and 3, 150.05-153 MHz in Region 1, 322-328.6 MHz, 406.1-410 MHz, 608-614 MHz in Regions 1 and 3, 1330-1400 MHz, 1610.6-1613.8 MHz, 1660-1670 MHz, 1718.8-1722.2 MHz, 2655-2690 MHz, 3260-3267 MHz, 3332-3339 MHz, 3345.8-3352.5 MHz, 4825-4835 MHz, 4950-4990 MHz, 4990-5000 MHz, 6650-6675.2 MHz, 10.6-10.68 GHz, 14.47-14.5 GHz, 22.01-22.21 GHz, 22.21-22.5 GHz, 22.81-22.86 GHz, [Cell:] 23.07-23.12 GHz, 31.2-31.3 GHz, 31.5-31.8 GHz in Regions 1 and 3, 36.43-36.5 GHz, 42.5-43.5 GHz, 48.94-49.04 GHz, 76-86 GHz, 92-94 GHz, 94.1-100 GHz, 102-109.5 GHz, 111.8-114.25 GHz, 128.33-128.59 GHz, 129.23-129.49 GHz, 130-134 GHz, 136-148.5 GHz, 151.5-158.5 GHz, 168.59-168.93 GHz, 171.11-171.45 GHz, 172.31-172.65 GHz, 173.52-173.85 GHz, 195.75-196.15 GHz, 209-226 GHz, 241-250 GHz, 252-275 GHz are allocated, administrations are urged to take all practicable steps to protect the radio astronomy service from harmful interference.  Emissions from spaceborne or airborne stations can be particularly serious sources of interference to the radio astronomy service (see Nos. 4.5 and 4.6 and Article 29).  (WRC-07)</span></span> <span id=\"fcc\"><span class=\"tooltip\">5.561A<span class=\"tooltiptext\"><b>5.561A:</b>&nbspThe 81-81.5 GHz band is also allocated to the amateur and amateur-satellite services on a secondary basis.</span></span></p></fcc></p></td></tr>\n",
       "<tr><td id=\"fcc-td\"><p><fcc><p id=\"fcc\"><b>84.0 GHz &ndash; 86.0 GHz</b> <br>FIXED <span id=\"fcc\"><span class=\"tooltip\">5.338A<span class=\"tooltiptext\"><b>5.338A:</b>&nbspIn the frequency bands 1350-1400 MHz, 1427-1452 MHz, 22.55-23.55 GHz, 30-31.3 GHz, 49.7-50.2 GHz, 50.4-50.9 GHz, 51.4-52.6 GHz, 81-86 GHz and 92-94 GHz, Resolution 750 (Rev.WRC-15) applies.  (WRC-15)</span></span><br>FIXED-SATELLITE (Earth-to-space) <span id=\"fcc\"><span class=\"tooltip\">5.561B<span class=\"tooltiptext\"><b>5.561B:</b>&nbspIn Japan, use of the band 84-86 GHz, by the fixed-satellite service (Earth-to-space) is limited to feeder links in the broadcasting-satellite service using the geostationary-satellite orbit.</span></span><br>MOBILE<br><span id=\"fcc-highlight\">RADIO ASTRONOMY</span><br><br><span id=\"fcc\"><span class=\"tooltip\">5.149<span class=\"tooltiptext\"><b>5.149:</b>&nbspIn making assignments to stations of other services to which the bands: [TABLE]\n",
       " [Cell:] 13 360-13 410 kHz, 25 550-25 670 kHz, 37.5-38.25 MHz, 73-74.6 MHz in Regions 1 and 3, 150.05-153 MHz in Region 1, 322-328.6 MHz, 406.1-410 MHz, 608-614 MHz in Regions 1 and 3, 1330-1400 MHz, 1610.6-1613.8 MHz, 1660-1670 MHz, 1718.8-1722.2 MHz, 2655-2690 MHz, 3260-3267 MHz, 3332-3339 MHz, 3345.8-3352.5 MHz, 4825-4835 MHz, 4950-4990 MHz, 4990-5000 MHz, 6650-6675.2 MHz, 10.6-10.68 GHz, 14.47-14.5 GHz, 22.01-22.21 GHz, 22.21-22.5 GHz, 22.81-22.86 GHz, [Cell:] 23.07-23.12 GHz, 31.2-31.3 GHz, 31.5-31.8 GHz in Regions 1 and 3, 36.43-36.5 GHz, 42.5-43.5 GHz, 48.94-49.04 GHz, 76-86 GHz, 92-94 GHz, 94.1-100 GHz, 102-109.5 GHz, 111.8-114.25 GHz, 128.33-128.59 GHz, 129.23-129.49 GHz, 130-134 GHz, 136-148.5 GHz, 151.5-158.5 GHz, 168.59-168.93 GHz, 171.11-171.45 GHz, 172.31-172.65 GHz, 173.52-173.85 GHz, 195.75-196.15 GHz, 209-226 GHz, 241-250 GHz, 252-275 GHz are allocated, administrations are urged to take all practicable steps to protect the radio astronomy service from harmful interference.  Emissions from spaceborne or airborne stations can be particularly serious sources of interference to the radio astronomy service (see Nos. 4.5 and 4.6 and Article 29).  (WRC-07)</span></span></p></fcc></p></td></tr>\n",
       "<tr><td id=\"fcc-td\"><p><fcc><p id=\"fcc\"><b>86.0 GHz &ndash; 92.0 GHz</b> <br><span id=\"fcc-highlight\">EARTH EXPLORATION-SATELLITE (passive)</span><br><span id=\"fcc-highlight\">RADIO ASTRONOMY</span><br><span id=\"fcc-highlight\">SPACE RESEARCH (passive)</span><br><br><span id=\"fcc\"><span class=\"tooltip\">5.340<span class=\"tooltiptext\"><b>5.340:</b>&nbspAll emissions are prohibited in the following bands: 1400-1427 MHz, 2690-2700 MHz, except those provided for by No. 5.422, 10.68-10.7 GHz, except those provided for by No. 5.483, 15.35-15.4 GHz, except those provided for by No. 5.511, 23.6-24 GHz, 31.3-31.5 GHz, 31.5-31.8 GHz, in Region 2, 48.94-49.04 GHz, from airborne stations 50.2-50.4 GHz2, 52.6-54.25 GHz, 86-92 GHz, 100-102 GHz, 109.5-111.8 GHz, 114.25-116 GHz, 148.5-151.5 GHz, 164-167 GHz, 182-185 GHz, 190-191.8 GHz, 200-209 GHz, 226-231.5 GHz, 250-252 GHz.</span></span></p></fcc></p></td></tr>\n",
       "<tr><td id=\"fcc-td\"><p><fcc><p id=\"fcc\"><b>92.0 GHz &ndash; 94.0 GHz</b> <br>FIXED <span id=\"fcc\"><span class=\"tooltip\">5.338A<span class=\"tooltiptext\"><b>5.338A:</b>&nbspIn the frequency bands 1350-1400 MHz, 1427-1452 MHz, 22.55-23.55 GHz, 30-31.3 GHz, 49.7-50.2 GHz, 50.4-50.9 GHz, 51.4-52.6 GHz, 81-86 GHz and 92-94 GHz, Resolution 750 (Rev.WRC-15) applies.  (WRC-15)</span></span><br>MOBILE<br><span id=\"fcc-highlight\">RADIO ASTRONOMY</span><br>RADIOLOCATION<br><br><span id=\"fcc\"><span class=\"tooltip\">5.149<span class=\"tooltiptext\"><b>5.149:</b>&nbspIn making assignments to stations of other services to which the bands: [TABLE]\n",
       " [Cell:] 13 360-13 410 kHz, 25 550-25 670 kHz, 37.5-38.25 MHz, 73-74.6 MHz in Regions 1 and 3, 150.05-153 MHz in Region 1, 322-328.6 MHz, 406.1-410 MHz, 608-614 MHz in Regions 1 and 3, 1330-1400 MHz, 1610.6-1613.8 MHz, 1660-1670 MHz, 1718.8-1722.2 MHz, 2655-2690 MHz, 3260-3267 MHz, 3332-3339 MHz, 3345.8-3352.5 MHz, 4825-4835 MHz, 4950-4990 MHz, 4990-5000 MHz, 6650-6675.2 MHz, 10.6-10.68 GHz, 14.47-14.5 GHz, 22.01-22.21 GHz, 22.21-22.5 GHz, 22.81-22.86 GHz, [Cell:] 23.07-23.12 GHz, 31.2-31.3 GHz, 31.5-31.8 GHz in Regions 1 and 3, 36.43-36.5 GHz, 42.5-43.5 GHz, 48.94-49.04 GHz, 76-86 GHz, 92-94 GHz, 94.1-100 GHz, 102-109.5 GHz, 111.8-114.25 GHz, 128.33-128.59 GHz, 129.23-129.49 GHz, 130-134 GHz, 136-148.5 GHz, 151.5-158.5 GHz, 168.59-168.93 GHz, 171.11-171.45 GHz, 172.31-172.65 GHz, 173.52-173.85 GHz, 195.75-196.15 GHz, 209-226 GHz, 241-250 GHz, 252-275 GHz are allocated, administrations are urged to take all practicable steps to protect the radio astronomy service from harmful interference.  Emissions from spaceborne or airborne stations can be particularly serious sources of interference to the radio astronomy service (see Nos. 4.5 and 4.6 and Article 29).  (WRC-07)</span></span></p></fcc></p></td></tr>\n",
       "<tr><td id=\"fcc-td\"><p><fcc><p id=\"fcc\"><b>94.0 GHz &ndash; 94.1 GHz</b> <br><span id=\"fcc-highlight\">EARTH EXPLORATION-SATELLITE (active)</span><br>RADIOLOCATION<br><span id=\"fcc-highlight\">SPACE RESEARCH (active)</span><br><span id=\"fcc-highlight\">Radio astronomy</span><br><br><span id=\"fcc\"><span class=\"tooltip\">5.562<span class=\"tooltiptext\"><b>5.562:</b>&nbspThe use of the band 94-94.1 GHz by the Earth exploration-satellite (active) and space research (active) services is limited to spaceborne cloud radars.</span></span> <span id=\"fcc\"><span class=\"tooltip\">5.562A<span class=\"tooltiptext\"><b>5.562A:</b>&nbspIn the bands 94-94.1 GHz and 130-134 GHz, transmissions from space stations of the Earth exploration-satellite service (active) that are directed into the main beam of a radio astronomy antenna have the potential to damage some radio astronomy receivers.  Space agencies operating the transmitters and the radio astronomy stations concerned should mutually plan their operations so as to avoid such occurrences to the maximum extent possible.</span></span></p></fcc></p></td></tr>\n",
       "<tr><td id=\"fcc-td\"><p><fcc><p id=\"fcc\"><b>94.1 GHz &ndash; 95.0 GHz</b> <br>FIXED<br>MOBILE<br><span id=\"fcc-highlight\">RADIO ASTRONOMY</span><br>RADIOLOCATION<br><br><span id=\"fcc\"><span class=\"tooltip\">5.149<span class=\"tooltiptext\"><b>5.149:</b>&nbspIn making assignments to stations of other services to which the bands: [TABLE]\n",
       " [Cell:] 13 360-13 410 kHz, 25 550-25 670 kHz, 37.5-38.25 MHz, 73-74.6 MHz in Regions 1 and 3, 150.05-153 MHz in Region 1, 322-328.6 MHz, 406.1-410 MHz, 608-614 MHz in Regions 1 and 3, 1330-1400 MHz, 1610.6-1613.8 MHz, 1660-1670 MHz, 1718.8-1722.2 MHz, 2655-2690 MHz, 3260-3267 MHz, 3332-3339 MHz, 3345.8-3352.5 MHz, 4825-4835 MHz, 4950-4990 MHz, 4990-5000 MHz, 6650-6675.2 MHz, 10.6-10.68 GHz, 14.47-14.5 GHz, 22.01-22.21 GHz, 22.21-22.5 GHz, 22.81-22.86 GHz, [Cell:] 23.07-23.12 GHz, 31.2-31.3 GHz, 31.5-31.8 GHz in Regions 1 and 3, 36.43-36.5 GHz, 42.5-43.5 GHz, 48.94-49.04 GHz, 76-86 GHz, 92-94 GHz, 94.1-100 GHz, 102-109.5 GHz, 111.8-114.25 GHz, 128.33-128.59 GHz, 129.23-129.49 GHz, 130-134 GHz, 136-148.5 GHz, 151.5-158.5 GHz, 168.59-168.93 GHz, 171.11-171.45 GHz, 172.31-172.65 GHz, 173.52-173.85 GHz, 195.75-196.15 GHz, 209-226 GHz, 241-250 GHz, 252-275 GHz are allocated, administrations are urged to take all practicable steps to protect the radio astronomy service from harmful interference.  Emissions from spaceborne or airborne stations can be particularly serious sources of interference to the radio astronomy service (see Nos. 4.5 and 4.6 and Article 29).  (WRC-07)</span></span></p></fcc></p></td></tr>\n",
       "<tr><td id=\"fcc-td\"><p><fcc><p id=\"fcc\"><b>100.0 GHz &ndash; 102.0 GHz</b> <br><span id=\"fcc-highlight\">EARTH EXPLORATION-SATELLITE (passive)</span><br><span id=\"fcc-highlight\">RADIO ASTRONOMY</span><br><span id=\"fcc-highlight\">SPACE RESEARCH (passive)</span><br><br><span id=\"fcc\"><span class=\"tooltip\">5.340<span class=\"tooltiptext\"><b>5.340:</b>&nbspAll emissions are prohibited in the following bands: 1400-1427 MHz, 2690-2700 MHz, except those provided for by No. 5.422, 10.68-10.7 GHz, except those provided for by No. 5.483, 15.35-15.4 GHz, except those provided for by No. 5.511, 23.6-24 GHz, 31.3-31.5 GHz, 31.5-31.8 GHz, in Region 2, 48.94-49.04 GHz, from airborne stations 50.2-50.4 GHz2, 52.6-54.25 GHz, 86-92 GHz, 100-102 GHz, 109.5-111.8 GHz, 114.25-116 GHz, 148.5-151.5 GHz, 164-167 GHz, 182-185 GHz, 190-191.8 GHz, 200-209 GHz, 226-231.5 GHz, 250-252 GHz.</span></span> <span id=\"fcc\"><span class=\"tooltip\">5.341<span class=\"tooltiptext\"><b>5.341:</b>&nbspIn the bands 1400-1727 MHz, 101-120 GHz and 197-220 GHz, passive research is being conducted by some countries in a programme for the search for intentional emissions of extraterrestrial origin.</span></span></p></fcc></p></td></tr>\n",
       "</table><p id=\"fcc\"><b>5.149:</b>&nbspIn making assignments to stations of other services to which the bands: [TABLE]\n",
       " [Cell:] 13 360-13 410 kHz, 25 550-25 670 kHz, 37.5-38.25 MHz, 73-74.6 MHz in Regions 1 and 3, 150.05-153 MHz in Region 1, 322-328.6 MHz, 406.1-410 MHz, 608-614 MHz in Regions 1 and 3, 1330-1400 MHz, 1610.6-1613.8 MHz, 1660-1670 MHz, 1718.8-1722.2 MHz, 2655-2690 MHz, 3260-3267 MHz, 3332-3339 MHz, 3345.8-3352.5 MHz, 4825-4835 MHz, 4950-4990 MHz, 4990-5000 MHz, 6650-6675.2 MHz, 10.6-10.68 GHz, 14.47-14.5 GHz, 22.01-22.21 GHz, 22.21-22.5 GHz, 22.81-22.86 GHz, [Cell:] 23.07-23.12 GHz, 31.2-31.3 GHz, 31.5-31.8 GHz in Regions 1 and 3, 36.43-36.5 GHz, 42.5-43.5 GHz, 48.94-49.04 GHz, 76-86 GHz, 92-94 GHz, 94.1-100 GHz, 102-109.5 GHz, 111.8-114.25 GHz, 128.33-128.59 GHz, 129.23-129.49 GHz, 130-134 GHz, 136-148.5 GHz, 151.5-158.5 GHz, 168.59-168.93 GHz, 171.11-171.45 GHz, 172.31-172.65 GHz, 173.52-173.85 GHz, 195.75-196.15 GHz, 209-226 GHz, 241-250 GHz, 252-275 GHz are allocated, administrations are urged to take all practicable steps to protect the radio astronomy service from harmful interference.  Emissions from spaceborne or airborne stations can be particularly serious sources of interference to the radio astronomy service (see Nos. 4.5 and 4.6 and Article 29).  (WRC-07)</span></p><p id=\"fcc\"><b>5.338A:</b>&nbspIn the frequency bands 1350-1400 MHz, 1427-1452 MHz, 22.55-23.55 GHz, 30-31.3 GHz, 49.7-50.2 GHz, 50.4-50.9 GHz, 51.4-52.6 GHz, 81-86 GHz and 92-94 GHz, Resolution 750 (Rev.WRC-15) applies.  (WRC-15)</span></p><p id=\"fcc\"><b>5.340:</b>&nbspAll emissions are prohibited in the following bands: 1400-1427 MHz, 2690-2700 MHz, except those provided for by No. 5.422, 10.68-10.7 GHz, except those provided for by No. 5.483, 15.35-15.4 GHz, except those provided for by No. 5.511, 23.6-24 GHz, 31.3-31.5 GHz, 31.5-31.8 GHz, in Region 2, 48.94-49.04 GHz, from airborne stations 50.2-50.4 GHz2, 52.6-54.25 GHz, 86-92 GHz, 100-102 GHz, 109.5-111.8 GHz, 114.25-116 GHz, 148.5-151.5 GHz, 164-167 GHz, 182-185 GHz, 190-191.8 GHz, 200-209 GHz, 226-231.5 GHz, 250-252 GHz.</span></p><p id=\"fcc\"><b>5.341:</b>&nbspIn the bands 1400-1727 MHz, 101-120 GHz and 197-220 GHz, passive research is being conducted by some countries in a programme for the search for intentional emissions of extraterrestrial origin.</span></p><p id=\"fcc\"><b>5.561:</b>&nbspIn the band 74-76 GHz, stations in the fixed, mobile and broadcasting services shall not cause harmful interference to stations of the fixed-satellite service or stations of the broadcasting-satellite service operating in accordance with the decisions of the appropriate frequency assignment planning conference for the broadcasting-satellite service.</span></p><p id=\"fcc\"><b>5.561A:</b>&nbspThe 81-81.5 GHz band is also allocated to the amateur and amateur-satellite services on a secondary basis.</span></p><p id=\"fcc\"><b>5.561B:</b>&nbspIn Japan, use of the band 84-86 GHz, by the fixed-satellite service (Earth-to-space) is limited to feeder links in the broadcasting-satellite service using the geostationary-satellite orbit.</span></p><p id=\"fcc\"><b>5.562:</b>&nbspThe use of the band 94-94.1 GHz by the Earth exploration-satellite (active) and space research (active) services is limited to spaceborne cloud radars.</span></p><p id=\"fcc\"><b>5.562A:</b>&nbspIn the bands 94-94.1 GHz and 130-134 GHz, transmissions from space stations of the Earth exploration-satellite service (active) that are directed into the main beam of a radio astronomy antenna have the potential to damage some radio astronomy receivers.  Space agencies operating the transmitters and the radio astronomy stations concerned should mutually plan their operations so as to avoid such occurrences to the maximum extent possible.</span></p>"
      ],
      "text/plain": [
       "<IPython.core.display.HTML object>"
      ]
     },
     "metadata": {},
     "output_type": "display_data"
    }
   ],
   "source": [
    "text = pyfcctab.htmlcolumn(bands, append_footnotes=True)"
   ]
  },
  {
   "cell_type": "code",
   "execution_count": null,
   "metadata": {},
   "outputs": [],
   "source": []
  }
 ],
 "metadata": {
  "kernelspec": {
   "display_name": "Python 3",
   "language": "python",
   "name": "python3"
  },
  "language_info": {
   "codemirror_mode": {
    "name": "ipython",
    "version": 3
   },
   "file_extension": ".py",
   "mimetype": "text/x-python",
   "name": "python",
   "nbconvert_exporter": "python",
   "pygments_lexer": "ipython3",
   "version": "3.7.6"
  }
 },
 "nbformat": 4,
 "nbformat_minor": 4
}
