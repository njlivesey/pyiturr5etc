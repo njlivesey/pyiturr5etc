{
 "cells": [
  {
   "cell_type": "code",
   "execution_count": 1,
   "metadata": {},
   "outputs": [],
   "source": [
    "import docx\n",
    "import astropy.units as units\n",
    "import numpy as np\n",
    "import re\n",
    "import pickle\n",
    "import matplotlib.pyplot as plt\n",
    "from IPython.display import display, HTML\n",
    "%load_ext autoreload"
   ]
  },
  {
   "cell_type": "code",
   "execution_count": 2,
   "metadata": {},
   "outputs": [
    {
     "data": {
      "text/plain": [
       "<astropy.visualization.units.quantity_support.<locals>.MplQuantityConverter at 0x7fe3e5ea4410>"
      ]
     },
     "execution_count": 2,
     "metadata": {},
     "output_type": "execute_result"
    }
   ],
   "source": [
    "%config InlineBackend.figure_format = 'retina'\n",
    "from astropy.visualization import quantity_support\n",
    "quantity_support() "
   ]
  },
  {
   "cell_type": "code",
   "execution_count": 3,
   "metadata": {},
   "outputs": [],
   "source": [
    "%autoreload 2\n",
    "import pyfcctab"
   ]
  },
  {
   "cell_type": "code",
   "execution_count": 4,
   "metadata": {},
   "outputs": [
    {
     "name": "stdout",
     "output_type": "stream",
     "text": [
      "Reading tables: 0, 1, 2, 3, 4, 5, 6, 7, 8, 9, 10, 11, 12, 13, 14, 15, 16, 17, 18, 19, 20, 21, 22, 23, 24, 25, 26, 27, 28, 29, 30, 31, 32, 33, 34, 35, 36, 37, 38, 39, 40, 41, 42, 43, 44, 45, 46, 47, 48, 49, 50, 51, 52, 53, 54, 55, 56, 57, 58, 59, 60, 61, 62, 63, 64, done.\n",
      "Digesting: R1, R2, R3, F, NF, done.\n",
      "Injecting additions in: R1, R2, R3, F, NF, done.\n",
      "Merging: ITU, USA, all, done.\n",
      "Footnote definitions: reading, appending, done.\n"
     ]
    }
   ],
   "source": [
    "path = \"/users/livesey/corf/\"\n",
    "tables = pyfcctab.read(filename='/users/livesey/corf/fcctable.docx',\n",
    "                  skip_additionals=False)\n",
    "pyfcctab.save(tables)\n",
    "# tables = pyfcctab.load(path+\"fcctables.pickle\")"
   ]
  },
  {
   "cell_type": "code",
   "execution_count": 22,
   "metadata": {},
   "outputs": [],
   "source": [
    "bands = tables.r2.get_bands(6650*units.MHz)\n",
    "# bands = [b for b in bands if not b.has_footnote(\"*#\")]\n",
    "bands.sort()"
   ]
  },
  {
   "cell_type": "code",
   "execution_count": 23,
   "metadata": {},
   "outputs": [
    {
     "data": {
      "text/html": [
       "<link rel=\"stylesheet\" href=\"fcc.css\"><table id=\"fcc-table\"><tr><td id=\"fcc-td\"><p><fcc><p id=\"fcc\"><b>5925.0 MHz &ndash; 6700.0 MHz</b> <br>FIXED <span id=\"fcc\"><span class=\"tooltip\">5.457<span class=\"tooltiptext\"><b>5.457:</b>&nbspIn Australia, Burkina Faso, Cote d'Ivoire, Mali and Nigeria, the allocation to the fixed service in the bands 6440-6520 MHz (HAPS-to-ground direction) and 6560-6640 MHz (ground-to-HAPS direction) may also be used by gateway links for high-altitude platform stations (HAPS) within the territory of these countries.  Such use is limited to operation in HAPS gateway links and shall not cause harmful interference to, and shall not claim protection from, existing services, and shall be in compliance with Resolution 150 (WRC12).  Existing services shall not be constrained in future development by HAPS gateway links.  The use of HAPS gateway links in these bands requires explicit agreement with other administrations whose territories are located within 1000 kilometres from the border of an administration intending to use the HAPS gateway links.  (WRC12)</span></span><br>FIXED-SATELLITE (Earth-to-space) <span id=\"fcc\"><span class=\"tooltip\">5.457A<span class=\"tooltiptext\"><b>5.457A:</b>&nbspIn the frequency bands 5925-6425 MHz and 14-14.5 GHz, earth stations located on board vessels may communicate with space stations of the fixed-satellite service.  Such use shall be in accordance with Resolution 902 (WRC03).  In the frequency band 5925-6425 MHz, earth stations located on board vessels and communicating with space stations of the fixed-satellite service may employ transmit antennas with minimum diameter of 1.2 m and operate without prior agreement of any administration if located at least 330 km away from the low-water mark as officially recognized by the coastal State.  All other provisions of Resolution 902 (WRC-03) shall apply.  (WRC-15)</span></span> <span id=\"fcc\"><span class=\"tooltip\">5.457B<span class=\"tooltiptext\"><b>5.457B:</b>&nbspIn the frequency bands 5925-6425 MHz and 14-14.5 GHz, earth stations located on board vessels may operate with the characteristics and under the conditions contained in Resolution 902 (WRC03) in Algeria, Saudi Arabia, Bahrain, Comoros, Djibouti, Egypt, United Arab Emirates, Jordan, Kuwait, Libya, Morocco, Mauritania, Oman, Qatar, the Syrian Arab Republic, Sudan, Tunisia and Yemen, in the maritime mobile-satellite service on a secondary basis.  Such use shall be in accordance with Resolution 902 (WRC03).  (WRC15)</span></span><br>MOBILE <span id=\"fcc\"><span class=\"tooltip\">5.457C<span class=\"tooltiptext\"><b>5.457C:</b>&nbspIn Region 2 (except Brazil, Cuba, French overseas departments and communities, Guatemala, Mexico, Paraguay, Uruguay and Venezuela), the frequency band 5925-6700 MHz may be used for aeronautical mobile telemetry for flight testing by aircraft stations (see No. 1.83).  Such use shall be in accordance with Resolution 416 (WRC07) and shall not cause harmful interference to, or claim protection from, the fixed-satellite and fixed services.  Any such use does not preclude the use of this frequency band by other mobile service applications or by other services to which this frequency band is allocated on a co-primary basis and does not establish priority in the Radio Regulations.  (WRC-15)</span></span><br><br></p></fcc></p></td></tr>\n",
       "<tr><td id=\"fcc-td\"><p><fcc><p id=\"fcc\"><b>6425.0 MHz &ndash; 7075.0 MHz</b> <br><span id=\"fcc-highlight\">Earth exploration-satellite (passive) <span id=\"fcc\"><span class=\"tooltip\">5.458#<span class=\"tooltiptext\"><b>5.458:</b>&nbspIn the band 6425-7075 MHz, passive microwave sensor measurements are carried out over the oceans.  In the band 7075-7250 MHz, passive microwave sensor measurements are carried out.  Administrations should bear in mind the needs of the Earth exploration-satellite (passive) and space research (passive) services in their future planning of the bands 6425-7075 MHz and 7075-7250 MHz.</span></span></span><br><br></p></fcc></p></td></tr>\n",
       "<tr><td id=\"fcc-td\"><p><fcc><p id=\"fcc\"><b>6650.0 MHz &ndash; 6675.2 MHz</b> <br><span id=\"fcc-highlight\">Radio astronomy <span id=\"fcc\"><span class=\"tooltip\">5.149#<span class=\"tooltiptext\"><b>5.149:</b>&nbspIn making assignments to stations of other services to which the bands: [TABLE]\n",
       " [Cell:] 13 360-13 410 kHz, 25 550-25 670 kHz, 37.5-38.25 MHz, 73-74.6 MHz in Regions 1 and 3, 150.05-153 MHz in Region 1, 322-328.6 MHz, 406.1-410 MHz, 608-614 MHz in Regions 1 and 3, 1330-1400 MHz, 1610.6-1613.8 MHz, 1660-1670 MHz, 1718.8-1722.2 MHz, 2655-2690 MHz, 3260-3267 MHz, 3332-3339 MHz, 3345.8-3352.5 MHz, 4825-4835 MHz, 4950-4990 MHz, 4990-5000 MHz, 6650-6675.2 MHz, 10.6-10.68 GHz, 14.47-14.5 GHz, 22.01-22.21 GHz, 22.21-22.5 GHz, 22.81-22.86 GHz, [Cell:] 23.07-23.12 GHz, 31.2-31.3 GHz, 31.5-31.8 GHz in Regions 1 and 3, 36.43-36.5 GHz, 42.5-43.5 GHz, 48.94-49.04 GHz, 76-86 GHz, 92-94 GHz, 94.1-100 GHz, 102-109.5 GHz, 111.8-114.25 GHz, 128.33-128.59 GHz, 129.23-129.49 GHz, 130-134 GHz, 136-148.5 GHz, 151.5-158.5 GHz, 168.59-168.93 GHz, 171.11-171.45 GHz, 172.31-172.65 GHz, 173.52-173.85 GHz, 195.75-196.15 GHz, 209-226 GHz, 241-250 GHz, 252-275 GHz are allocated, administrations are urged to take all practicable steps to protect the radio astronomy service from harmful interference.  Emissions from spaceborne or airborne stations can be particularly serious sources of interference to the radio astronomy service (see Nos. 4.5 and 4.6 and Article 29).  (WRC-07)</span></span></span><br><br></p></fcc></p></td></tr>\n",
       "</table><p id=\"fcc\"><b>5.149:</b>&nbspIn making assignments to stations of other services to which the bands: [TABLE]\n",
       " [Cell:] 13 360-13 410 kHz, 25 550-25 670 kHz, 37.5-38.25 MHz, 73-74.6 MHz in Regions 1 and 3, 150.05-153 MHz in Region 1, 322-328.6 MHz, 406.1-410 MHz, 608-614 MHz in Regions 1 and 3, 1330-1400 MHz, 1610.6-1613.8 MHz, 1660-1670 MHz, 1718.8-1722.2 MHz, 2655-2690 MHz, 3260-3267 MHz, 3332-3339 MHz, 3345.8-3352.5 MHz, 4825-4835 MHz, 4950-4990 MHz, 4990-5000 MHz, 6650-6675.2 MHz, 10.6-10.68 GHz, 14.47-14.5 GHz, 22.01-22.21 GHz, 22.21-22.5 GHz, 22.81-22.86 GHz, [Cell:] 23.07-23.12 GHz, 31.2-31.3 GHz, 31.5-31.8 GHz in Regions 1 and 3, 36.43-36.5 GHz, 42.5-43.5 GHz, 48.94-49.04 GHz, 76-86 GHz, 92-94 GHz, 94.1-100 GHz, 102-109.5 GHz, 111.8-114.25 GHz, 128.33-128.59 GHz, 129.23-129.49 GHz, 130-134 GHz, 136-148.5 GHz, 151.5-158.5 GHz, 168.59-168.93 GHz, 171.11-171.45 GHz, 172.31-172.65 GHz, 173.52-173.85 GHz, 195.75-196.15 GHz, 209-226 GHz, 241-250 GHz, 252-275 GHz are allocated, administrations are urged to take all practicable steps to protect the radio astronomy service from harmful interference.  Emissions from spaceborne or airborne stations can be particularly serious sources of interference to the radio astronomy service (see Nos. 4.5 and 4.6 and Article 29).  (WRC-07)</span></p><p id=\"fcc\"><b>5.457:</b>&nbspIn Australia, Burkina Faso, Cote d'Ivoire, Mali and Nigeria, the allocation to the fixed service in the bands 6440-6520 MHz (HAPS-to-ground direction) and 6560-6640 MHz (ground-to-HAPS direction) may also be used by gateway links for high-altitude platform stations (HAPS) within the territory of these countries.  Such use is limited to operation in HAPS gateway links and shall not cause harmful interference to, and shall not claim protection from, existing services, and shall be in compliance with Resolution 150 (WRC12).  Existing services shall not be constrained in future development by HAPS gateway links.  The use of HAPS gateway links in these bands requires explicit agreement with other administrations whose territories are located within 1000 kilometres from the border of an administration intending to use the HAPS gateway links.  (WRC12)</span></p><p id=\"fcc\"><b>5.457A:</b>&nbspIn the frequency bands 5925-6425 MHz and 14-14.5 GHz, earth stations located on board vessels may communicate with space stations of the fixed-satellite service.  Such use shall be in accordance with Resolution 902 (WRC03).  In the frequency band 5925-6425 MHz, earth stations located on board vessels and communicating with space stations of the fixed-satellite service may employ transmit antennas with minimum diameter of 1.2 m and operate without prior agreement of any administration if located at least 330 km away from the low-water mark as officially recognized by the coastal State.  All other provisions of Resolution 902 (WRC-03) shall apply.  (WRC-15)</span></p><p id=\"fcc\"><b>5.457B:</b>&nbspIn the frequency bands 5925-6425 MHz and 14-14.5 GHz, earth stations located on board vessels may operate with the characteristics and under the conditions contained in Resolution 902 (WRC03) in Algeria, Saudi Arabia, Bahrain, Comoros, Djibouti, Egypt, United Arab Emirates, Jordan, Kuwait, Libya, Morocco, Mauritania, Oman, Qatar, the Syrian Arab Republic, Sudan, Tunisia and Yemen, in the maritime mobile-satellite service on a secondary basis.  Such use shall be in accordance with Resolution 902 (WRC03).  (WRC15)</span></p><p id=\"fcc\"><b>5.457C:</b>&nbspIn Region 2 (except Brazil, Cuba, French overseas departments and communities, Guatemala, Mexico, Paraguay, Uruguay and Venezuela), the frequency band 5925-6700 MHz may be used for aeronautical mobile telemetry for flight testing by aircraft stations (see No. 1.83).  Such use shall be in accordance with Resolution 416 (WRC07) and shall not cause harmful interference to, or claim protection from, the fixed-satellite and fixed services.  Any such use does not preclude the use of this frequency band by other mobile service applications or by other services to which this frequency band is allocated on a co-primary basis and does not establish priority in the Radio Regulations.  (WRC-15)</span></p><p id=\"fcc\"><b>5.458:</b>&nbspIn the band 6425-7075 MHz, passive microwave sensor measurements are carried out over the oceans.  In the band 7075-7250 MHz, passive microwave sensor measurements are carried out.  Administrations should bear in mind the needs of the Earth exploration-satellite (passive) and space research (passive) services in their future planning of the bands 6425-7075 MHz and 7075-7250 MHz.</span></p>"
      ],
      "text/plain": [
       "<IPython.core.display.HTML object>"
      ]
     },
     "metadata": {},
     "output_type": "display_data"
    }
   ],
   "source": [
    "text = pyfcctab.htmlcolumn(bands, append_footnotes=True)"
   ]
  },
  {
   "cell_type": "code",
   "execution_count": null,
   "metadata": {},
   "outputs": [],
   "source": []
  }
 ],
 "metadata": {
  "kernelspec": {
   "display_name": "Python 3",
   "language": "python",
   "name": "python3"
  },
  "language_info": {
   "codemirror_mode": {
    "name": "ipython",
    "version": 3
   },
   "file_extension": ".py",
   "mimetype": "text/x-python",
   "name": "python",
   "nbconvert_exporter": "python",
   "pygments_lexer": "ipython3",
   "version": "3.7.6"
  }
 },
 "nbformat": 4,
 "nbformat_minor": 4
}
